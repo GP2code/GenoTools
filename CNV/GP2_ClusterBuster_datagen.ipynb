{
 "cells": [
  {
   "cell_type": "code",
   "execution_count": 69,
   "id": "979645d2-5f02-488f-8f58-a985591c7c6e",
   "metadata": {},
   "outputs": [],
   "source": [
    "import pandas as pd\n",
    "import os\n",
    "import shutil\n",
    "import numpy as np\n",
    "import glob\n",
    "import gzip\n",
    "\n",
    "from QC.utils import shell_do\n",
    "# from QC.imputation import impute_data_prep\n",
    "# import QC.config as config"
   ]
  },
  {
   "cell_type": "code",
   "execution_count": 2,
   "id": "e63a1822-71d2-4007-b36b-28408246d97b",
   "metadata": {},
   "outputs": [],
   "source": [
    "idat_path = '/data/CARD/PD/GP2/raw_genotypes/GP2_idats'\n",
    "gtc_path = '/data/CARD/PD/GP2/raw_genotypes/GP2_gtcs'\n",
    "\n",
    "vcf_path = '/data/CARD/PD/GP2/raw_genotypes/GP2_vcfs'\n",
    "\n",
    "ilmn_files_path = '/data/CARD/PD/GP2/ilmn_files'\n",
    "# A1 is hg19, A2 is hg38. csv needed for indel calls\n",
    "# bpm = f'{ilmn_files_path}/NeuroBooster_20042459_A1.bpm'\n",
    "bpm_csv = f'{ilmn_files_path}/NeuroBooster_20042459_A2.csv' \n",
    "bpm = f'{ilmn_files_path}/NeuroBooster_20042459_A2.bpm'\n",
    "egt = f'{ilmn_files_path}/NBSCluster_file_n1393_011921.egt'\n",
    "iaap = f'{ilmn_files_path}/iaap-cli/iaap-cli'\n",
    "\n",
    "key_dir = '/data/CARD/PD/GP2/key_files'\n",
    "clin_dir = '/data/CARD/PD/GP2/clinical'\n",
    "\n",
    "key_file = f'/data/CARD/PD/GP2/genotypes/GP2/round2/master_key_release2.csv'\n",
    "clin_file = f'{clin_dir}/GP2_clinical.csv'\n",
    "\n",
    "swarm_scripts_dir = f'/data/CARD/PD/GP2/swarm_scripts'\n",
    "\n",
    "\n",
    "GTCtoVCF = '../GTCtoVCF/gtc_to_vcf.py'\n",
    "ref_fasta = '/data/vitaled2/ref/GRCh38/GTCtoVCF_GRCh38_ref.fa'\n",
    "\n",
    "\n",
    "key = pd.read_csv(f'{key_file}')\n",
    "key.loc[:,'filename'] = key.loc[:,'SentrixBarcode_A'].astype(str) + '_' + key.loc[:,'SentrixPosition_A'].astype(str)\n",
    "\n",
    "# define chromosomes for later use\n",
    "chroms = [str(x) for x in range(1,23)] + ['X']\n",
    "\n",
    "grch38_fasta = '/data/vitaled2/ref/GRCh38/GCA_000001405.15_GRCh38_no_alt_analysis_set.fna'\n",
    "\n",
    "genes = pd.read_csv('/data/CARD/PD/GP2/ref_panel/glist-hg38', sep='\\s+', header=None, names=['chr','start','end','symbol'], dtype={'chr':str,'start':int,'end':int})\n",
    "genes.columns = ['CHR','START','STOP','NAME']\n",
    "genes[['NAME','CHR','START','STOP']].to_csv('/data/CARD/PD/GP2/ref_panel/glist_hg38_intervals.csv', index=False)\n",
    "# gene_list originally from plink glist\n",
    "gene_list = '/data/CARD/PD/GP2/ref_panel/glist_hg38_intervals.csv'\n",
    "\n",
    "\n"
   ]
  },
  {
   "cell_type": "code",
   "execution_count": 39,
   "id": "22397c0a-965e-4036-858f-1c022e9245d3",
   "metadata": {},
   "outputs": [],
   "source": [
    "# now split glist by chromosome\n",
    "for chrom in genes.CHR.unique():\n",
    "    out_glist = f'/data/CARD/PD/GP2/ref_panel/glist_hg38_chr{chrom}.csv'\n",
    "    genes[genes.CHR==chrom].to_csv(out_glist, index=False)"
   ]
  },
  {
   "cell_type": "code",
   "execution_count": null,
   "id": "a61370cf-1756-4885-a5eb-52357294dd3d",
   "metadata": {},
   "outputs": [],
   "source": []
  },
  {
   "cell_type": "code",
   "execution_count": null,
   "id": "d333f135-c91c-4edd-907e-8a13884bda82",
   "metadata": {},
   "outputs": [],
   "source": []
  },
  {
   "cell_type": "code",
   "execution_count": null,
   "id": "2e0267ce-1356-405b-aa1b-e46c707e62cc",
   "metadata": {},
   "outputs": [],
   "source": [
    "# some setup\n",
    "# get precompiled binaries\n",
    "#!cd /data/vitaled2/bin; wget https://software.broadinstitute.org/software/gtc2vcf/gtc2vcf_1.13-20211015.zip; unzip gtc2vcf_1.13-20211015.zip\n",
    "# set path to gtc2vcf plugin\n",
    "# !export BCFTOOLS_PLUGINS=\"/data/vitaled2/bin\"\n",
    "\n",
    "\n",
    "# download ref to create gtc\n",
    "# !wget https://ftp.ncbi.nlm.nih.gov/genomes/all/GCF/000/001/405/GCF_000001405.25_GRCh37.p13/GCF_000001405.25_GRCh37.p13_genomic.fna.gz -P ../ref\n",
    "# !gunzip ../ref/GCF_000001405.25_GRCh37.p13_genomic.fna.gz\n",
    "# !cp ../ref/GCF_000001405.25_GRCh37.p13_genomic.fna ../ref/GCF_000001405.25_GRCh37.p13_genomic.fa\n",
    "\n",
    "# get hg38 reference\n",
    "# !wget https://ftp.ncbi.nlm.nih.gov/genomes/all/GCF/000/001/405/GCF_000001405.26_GRCh38/GCF_000001405.26_GRCh38_genomic.fna.gz -P ../ref\n",
    "# !gunzip ../ref/GCF_000001405.26_GRCh38_genomic.fna.gz\n",
    "# !cp ../ref/GCF_000001405.26_GRCh38_genomic.fna ../ref/GCF_000001405.26_GRCh38_genomic.fa"
   ]
  },
  {
   "cell_type": "code",
   "execution_count": 5,
   "id": "02bcadc5-9add-4281-bb17-80edbb4fb20d",
   "metadata": {},
   "outputs": [],
   "source": [
    "with open(f'{swarm_scripts_dir}/idat_to_gtc.swarm', 'w') as f:\n",
    "    \n",
    "    for code in key.SentrixBarcode_A.unique():\n",
    "        os.makedirs(f'{gtc_path}/{code}', exist_ok=True)\n",
    "        idat_to_gtc_cmd = f'\\\n",
    "{iaap} gencall \\\n",
    "{bpm} \\\n",
    "{egt} \\\n",
    "{gtc_path}/{code} \\\n",
    "-f {idat_path}/{code} \\\n",
    "-g \\\n",
    "-t 8'\n",
    "        \n",
    "        f.write(f'{idat_to_gtc_cmd}\\n')\n",
    "f.close()"
   ]
  },
  {
   "cell_type": "code",
   "execution_count": 39,
   "id": "64a5a33d-87d6-4177-8d8b-52d5fed7bc39",
   "metadata": {},
   "outputs": [
    {
     "name": "stdout",
     "output_type": "stream",
     "text": [
      "32381997\n"
     ]
    }
   ],
   "source": [
    "!swarm -f {swarm_scripts_dir}/idat_to_gtc.swarm -g 15 -t 10 --time=10:00:00 --logdir {swarm_scripts_dir}/logs --gres=lscratch:20 --partition=norm --job-name idat_to_gtc"
   ]
  },
  {
   "cell_type": "code",
   "execution_count": 6,
   "id": "c7e6ad4f-6c75-437c-a39e-5c01b0c2942c",
   "metadata": {},
   "outputs": [],
   "source": [
    "with open(f'{swarm_scripts_dir}/gtc2vcf.swarm','w') as f:\n",
    "    for code in key.SentrixBarcode_A.unique():\n",
    "        gtc2vcf_cmd = f'\\\n",
    "export BCFTOOLS_PLUGINS=\"/data/vitaled2/bin\"; bcftools +gtc2vcf \\\n",
    "--no-version -Ob \\\n",
    "--bpm {bpm} \\\n",
    "--csv {bpm_csv} \\\n",
    "--egt {egt} \\\n",
    "--gtcs {gtc_path}/{code} \\\n",
    "--fasta-ref {grch38_fasta} \\\n",
    "--extra {vcf_path}/gp2_snps_{code}_metadata.tsv | \\\n",
    "bcftools norm --no-version -Oz -c w -f {grch38_fasta} > {vcf_path}/gp2_snps_{code}.vcf.gz'\n",
    "    \n",
    "        f.write(f'{gtc2vcf_cmd}\\n')\n",
    "f.close()\n"
   ]
  },
  {
   "cell_type": "code",
   "execution_count": 41,
   "id": "a2630d3d-dc59-4d19-acdc-316fcd6dd774",
   "metadata": {},
   "outputs": [
    {
     "name": "stdout",
     "output_type": "stream",
     "text": [
      "32384390\n"
     ]
    }
   ],
   "source": [
    "!swarm -f {swarm_scripts_dir}/gtc2vcf.swarm -g 64 -t 32 --time=10:00:00 --logdir {swarm_scripts_dir}/logs --gres=lscratch:20 --partition=norm --job-name gtc_to_vcf"
   ]
  },
  {
   "cell_type": "code",
   "execution_count": 7,
   "id": "a0a75980-e78b-4ba3-a688-791320779a27",
   "metadata": {},
   "outputs": [
    {
     "name": "stdout",
     "output_type": "stream",
     "text": [
      "mkdir: cannot create directory ‘/data/CARD/PD/GP2/raw_genotypes/GP2_vcfs/tmp’: File exists\n"
     ]
    }
   ],
   "source": [
    "# sort vcf\n",
    "!mkdir {vcf_path}/tmp\n",
    "with open(f'{swarm_scripts_dir}/bcftools_sort.swarm', 'w') as f:\n",
    "    for code in key.SentrixBarcode_A.unique():\n",
    "        sort_cmd = f'cd {vcf_path}; bcftools sort gp2_snps_{code}.vcf.gz -T ./tmp -Oz -o gp2_snps_sorted_{code}.vcf.gz'\n",
    "        f.write(f'{sort_cmd}\\n')\n",
    "f.close()"
   ]
  },
  {
   "cell_type": "code",
   "execution_count": 43,
   "id": "0d02c9ca-f89c-4a75-bd7c-a28cc9f01cc5",
   "metadata": {},
   "outputs": [
    {
     "name": "stdout",
     "output_type": "stream",
     "text": [
      "32476908\n"
     ]
    }
   ],
   "source": [
    "!swarm -f {swarm_scripts_dir}/bcftools_sort.swarm -g 32 -t 16 --time=10:00:00 --logdir {swarm_scripts_dir}/logs --gres=lscratch:20 --partition=norm --job-name vcf_sort"
   ]
  },
  {
   "cell_type": "code",
   "execution_count": 8,
   "id": "1c42ab64-feeb-4362-85c5-8acbd80d942e",
   "metadata": {},
   "outputs": [],
   "source": [
    "# split indels and snps in vcf\n",
    "with open(f'{swarm_scripts_dir}/vcftools_remove_indels.swarm', 'w') as f:\n",
    "    for code in key.SentrixBarcode_A.unique():\n",
    "        ext_snps_cmd = f'cd {vcf_path}; vcftools --gzvcf gp2_snps_sorted_{code}.vcf.gz --remove-indels --recode --recode-INFO-all --out gp2_snps_sorted_snps_only_{code}'\n",
    "        f.write(f'{ext_snps_cmd}\\n')\n",
    "f.close()"
   ]
  },
  {
   "cell_type": "code",
   "execution_count": 45,
   "id": "4884198b-d06f-4ba1-999a-1db6df99c54c",
   "metadata": {},
   "outputs": [
    {
     "name": "stdout",
     "output_type": "stream",
     "text": [
      "32481160\n"
     ]
    }
   ],
   "source": [
    "!swarm -f {swarm_scripts_dir}/vcftools_remove_indels.swarm -g 16 -t 16 --time=10:00:00 --logdir {swarm_scripts_dir}/logs --gres=lscratch:20 --partition=norm --job-name vcf_remove_indels"
   ]
  },
  {
   "cell_type": "code",
   "execution_count": 9,
   "id": "1add35b2-7ca7-45e0-be92-f326a3996af7",
   "metadata": {},
   "outputs": [],
   "source": [
    "# split indels and snps in vcf\n",
    "with open(f'{swarm_scripts_dir}/vcftools_keep_indels.swarm', 'w') as f:\n",
    "    for code in key.SentrixBarcode_A.unique():\n",
    "        keep_indels_cmd = f'cd {vcf_path}; vcftools --gzvcf gp2_snps_sorted_{code}.vcf.gz --keep-only-indels --recode --recode-INFO-all --out gp2_snps_sorted_indels_only_{code}'\n",
    "        f.write(f'{keep_indels_cmd}\\n')\n",
    "f.close()"
   ]
  },
  {
   "cell_type": "code",
   "execution_count": 47,
   "id": "8abc8bb9-0823-42c4-82ac-8207880b05c9",
   "metadata": {},
   "outputs": [
    {
     "name": "stdout",
     "output_type": "stream",
     "text": [
      "32481168\n"
     ]
    }
   ],
   "source": [
    "!swarm -f {swarm_scripts_dir}/vcftools_keep_indels.swarm -g 16 -t 16 --time=10:00:00 --logdir {swarm_scripts_dir}/logs --gres=lscratch:20 --partition=norm --job-name vcf_keep_indels"
   ]
  },
  {
   "cell_type": "code",
   "execution_count": 62,
   "id": "6f3ea83f-805f-433d-96e1-93e2c97cf6e8",
   "metadata": {},
   "outputs": [],
   "source": [
    "# get snp info from each vcf\n",
    "with open(f'{swarm_scripts_dir}/get_logr_baf.swarm', 'w') as f:\n",
    "    for code in key.SentrixBarcode_A.unique():\n",
    "        get_logr_baf = f'python3 process_vcf_snps.py --vcf {vcf_path}/gp2_snps_sorted_snps_only_{code}.recode.vcf --gene_ref /data/CARD/PD/GP2/ref_panel/glist-hg38 --out {vcf_path}/gp2_snp_metrics_{code}.txt'\n",
    "        f.write(f'{get_logr_baf}\\n')\n",
    "f.close()"
   ]
  },
  {
   "cell_type": "code",
   "execution_count": 63,
   "id": "ef64c2fc-963d-4b15-b22c-5ee294c9499f",
   "metadata": {},
   "outputs": [
    {
     "name": "stdout",
     "output_type": "stream",
     "text": [
      "32974379\n"
     ]
    }
   ],
   "source": [
    "!swarm -f {swarm_scripts_dir}/get_logr_baf.swarm -g 64 -t 32 --time=10:00:00 --logdir {swarm_scripts_dir}/logs --gres=lscratch:20 --partition=norm --job-name get_snp_metrics"
   ]
  },
  {
   "cell_type": "code",
   "execution_count": 37,
   "id": "2de1a8e8-f6f1-4a56-b2db-f2a2629bec60",
   "metadata": {
    "tags": []
   },
   "outputs": [],
   "source": [
    "# get snp info from each vcf\n",
    "with open(f'{swarm_scripts_dir}/clean_snp_metrics.swarm', 'w') as f:\n",
    "    for code in key.SentrixBarcode_A.unique():\n",
    "        clean_snp_metrics = f'python3 clean_snp_metrics.py --infile {vcf_path}/gp2_snp_metrics_{code}.txt --outpath {vcf_path}/gp2_snp_metrics'\n",
    "        f.write(f'{clean_snp_metrics}\\n')\n",
    "f.close()"
   ]
  },
  {
   "cell_type": "code",
   "execution_count": 38,
   "id": "eee5d511-cd80-464d-b5b2-d5b2a184ae8f",
   "metadata": {},
   "outputs": [
    {
     "name": "stdout",
     "output_type": "stream",
     "text": [
      "34805915\n"
     ]
    }
   ],
   "source": [
    "!swarm -f {swarm_scripts_dir}/clean_snp_metrics.swarm -g 16 -t 16 --time=10:00:00 --logdir {swarm_scripts_dir}/logs --gres=lscratch:20 --partition=norm --job-name clean_snp_metrics"
   ]
  },
  {
   "cell_type": "code",
   "execution_count": 36,
   "id": "165032c3-d5fc-4e7c-a020-46df92d44aa8",
   "metadata": {},
   "outputs": [
    {
     "name": "stdout",
     "output_type": "stream",
     "text": [
      "  File \"clean_snp_metrics.py\", line 11\n",
      "    infile = args.in\n",
      "                   ^\n",
      "SyntaxError: invalid syntax\n",
      "  File \"clean_snp_metrics.py\", line 11\n",
      "    infile = args.in\n",
      "                   ^\n",
      "SyntaxError: invalid syntax\n"
     ]
    }
   ],
   "source": [
    "!cat {swarm_scripts_dir}/logs/clean_snp_metrics_34805480_0.e"
   ]
  },
  {
   "cell_type": "code",
   "execution_count": 34,
   "id": "45dde7d6-b8eb-4421-a325-39732f2ff66b",
   "metadata": {
    "tags": []
   },
   "outputs": [],
   "source": [
    "# # split each file by chr and iid\n",
    "\n",
    "# infile = f'{vcf_path}/gp2_snp_metrics_204697840024.txt'\n",
    "# df = pd.read_csv(infile, sep='\\t')\n",
    "\n",
    "\n",
    "# cols = ['CHROM','POS','ID','REF','ALT','sampleid','BAF','LRR']\n",
    "\n",
    "# for iid in df.sampleid.unique():\n",
    "#     for chrom in df.CHROM.unique():\n",
    "        \n",
    "#         outfile = f'{vcf_path}/gp2_snp_metrics_{iid}_chr{chrom}.txt' \n",
    "#         out_df = df.loc[(df.CHROM==chrom) & (df.sampleid==iid)]\n",
    "#         out_df[['CHROM','ID','POS','BAF','LRR']].to_csv(outfile, sep='\\t', header=True, index=False)\n",
    "        "
   ]
  },
  {
   "cell_type": "code",
   "execution_count": 59,
   "id": "cbc9fcd7-2c4e-4df7-9ce6-e6431c129149",
   "metadata": {},
   "outputs": [],
   "source": [
    "metrics = pd.read_csv(f'{vcf_path}/gp2_snp_metrics_{code}.txt', sep='\\t', nrows=100, dtype={'CHROM':str,'POS':int})\n",
    "metrics.loc[:,'CHROM'] = metrics.loc[:,'CHROM'].str.replace('chr','')\n",
    "metrics.loc[:,'gene'] = np.nan"
   ]
  },
  {
   "cell_type": "code",
   "execution_count": 60,
   "id": "a757b3a5-ba12-4734-b3de-3c16498a5cdc",
   "metadata": {},
   "outputs": [],
   "source": [
    "# for i, gene in enumerate(gene_list.symbol):\n",
    "# #     print(gene_list.loc[i,:])\n",
    "#     chrom = gene_list.loc[i,'chr']\n",
    "#     start = gene_list.loc[i,'start'] - 100000\n",
    "#     end = gene_list.loc[i, 'end'] + 100000\n",
    "#     metrics.loc[((metrics.CHROM==chrom) & (metrics.POS>=start) & (metrics.POS<=end)),'gene'] = gene\n",
    "    \n"
   ]
  },
  {
   "cell_type": "markdown",
   "id": "7fbc9355-7be4-4312-adcb-91eeb93ef799",
   "metadata": {},
   "source": [
    "## Dev for CNV module in GenoTools"
   ]
  },
  {
   "cell_type": "code",
   "execution_count": 25,
   "id": "9360a1b5-448a-46db-ad74-6cf27f4b68bc",
   "metadata": {},
   "outputs": [],
   "source": [
    "import os\n",
    "import subprocess\n",
    "from QC.utils import shell_do\n",
    "\n",
    "def idat_snp_metrics(idat_path, bpm, bpm_csv, egt, ref_fasta, out_path, iaap=iaap):\n",
    "    '''\n",
    "    current structure of idat storage is such that a directory of each SentrixBarcode_A with all idats for that barcode in it\n",
    "    for ex.\n",
    "    1112223334\n",
    "        --> 1112223334_R01C01_Red.idat\n",
    "        --> 1112223334_R01C01_Grn.idat\n",
    "        --> 1112223334_R01C02_Red.idat\n",
    "        --> 1112223334_R01C02_Grn.idat\n",
    "        etc.\n",
    "        \n",
    "    '''\n",
    "    out_tmp = f'{out_path}/tmp'\n",
    "    os.makedirs(out_tmp, exist_ok=True)\n",
    "    barcode = idat_path.split('/')[-1].split('_')[0]\n",
    "    barcode_out_path = f'{out_path}/{barcode}'\n",
    "    os.makedirs(barcode_out_path, exist_ok=True)\n",
    "    \n",
    "    \n",
    "    idat_to_gtc_cmd = f'\\\n",
    "{iaap} gencall \\\n",
    "{bpm} \\\n",
    "{egt} \\\n",
    "{barcode_out_path} \\\n",
    "-f {idat_path} \\\n",
    "-g \\\n",
    "-t 8'\n",
    "\n",
    "    # export path to plugins temporarily for biowulf. will figure this out later\n",
    "    gtc2vcf_cmd = f'\\\n",
    "export BCFTOOLS_PLUGINS=\"/data/vitaled2/bin\"; \\\n",
    "bcftools +gtc2vcf \\\n",
    "--no-version -Ob \\\n",
    "--bpm {bpm} \\\n",
    "--csv {bpm_csv} \\\n",
    "--egt {egt} \\\n",
    "--gtcs {barcode_out_path} \\\n",
    "--fasta-ref {ref_fasta} | \\\n",
    "bcftools norm --no-version -Oz -c w -f {ref_fasta} > {barcode_out_path}/{barcode}.vcf.gz'\n",
    "    \n",
    "    # --extra {vcf_path}/gp2_snps_{code}_metadata.tsv | \\\n",
    "\n",
    "    # sort vcf\n",
    "    sort_cmd = f'\\\n",
    "bcftools \\\n",
    "sort {barcode_out_path}/{barcode}.vcf.gz \\\n",
    "-T {out_tmp}/ \\\n",
    "-Oz -o {barcode_out_path}/{barcode}_sorted.vcf.gz'\n",
    "# cd {barcode_out_path} && \\\n",
    "\n",
    "    # split indels and snps in vcf\n",
    "    ext_snps_cmd = f'\\\n",
    "vcftools --gzvcf \\\n",
    "{barcode_out_path}/{barcode}_sorted.vcf.gz \\\n",
    "--remove-indels \\\n",
    "--recode \\\n",
    "--recode-INFO-all \\\n",
    "--out {barcode_out_path}/{barcode}_sorted_snps'\n",
    "# cd {barcode_out_path} && \\\n",
    "\n",
    "\n",
    "    # split indels and snps in vcf\n",
    "#     keep_indels_cmd = f'\\\n",
    "# cd {barcode_out_path}; \\\n",
    "# vcftools --gzvcf \\\n",
    "# {barcode}_sorted.vcf.gz \\\n",
    "# --keep-only-indels \\\n",
    "# --recode \\\n",
    "# --recode-INFO-all \\\n",
    "# --out {code}_indels'\n",
    "\n",
    "    # get snp info from each vcf\n",
    "    get_logr_baf = f'\\\n",
    "python3 process_vcf_snps.py \\\n",
    "--vcf {barcode_out_path}/{barcode}_sorted_snps.recode.vcf \\\n",
    "--outfile {barcode_out_path}/snp_metrics_{barcode}.csv'\n",
    "\n",
    "\n",
    "    # get snp info from each vcf\n",
    "    clean_snp_metrics = f'\\\n",
    "python3 clean_snp_metrics.py \\\n",
    "--infile {barcode_out_path}/snp_metrics_{barcode}.csv \\\n",
    "--outfile {barcode_out_path}/snp_metrics'\n",
    "\n",
    "    cmds = [idat_to_gtc_cmd, gtc2vcf_cmd, sort_cmd, ext_snps_cmd, get_logr_baf, clean_snp_metrics]\n",
    "#     cmds = [get_logr_baf, clean_snp_metrics]\n",
    "#     cmds = [get_logr_baf]\n",
    "#     cmds = [clean_snp_metrics]\n",
    "    for cmd in cmds:\n",
    "        if cmd == gtc2vcf_cmd:\n",
    "            subprocess.call(cmd, shell=True)\n",
    "        else:\n",
    "            shell_do(cmd)\n",
    "            \n",
    " \n",
    "    # output snp metrics paths\n",
    "    chroms = [str(i) for i in range(1,23)] + ['X','Y']\n",
    "    samples = [s.split('/')[-1].replace('_Red.idat','') for s in glob.glob(f'{idat_path}/*_Red.idat')]\n",
    "    \n",
    "    outfiles = []\n",
    "    for sample in samples:\n",
    "        for chrom in chroms:\n",
    "            outfile = f'{barcode_out_path}/snp_metrics_{sample}_chr{chrom}.csv'\n",
    "            outfiles.append(outfile)\n",
    "            \n",
    "    return outfiles\n",
    "\n",
    "\n",
    "# for sample in samples:\n",
    "#     for chrom in chroms:\n",
    "\n",
    "#     call_cnvs_cmd = f'\\\n",
    "#     python3 cnv_gene_caller_alpha.py \\\n",
    "#     --infile {barcode_out_path}/snp_metrics_{sample}_chr{chrom}.csv \\\n",
    "#     --outfile {barcode_out_path}/{sample}_chr{chrom} \\\n",
    "#     --intervals {gene_list}'\n",
    "            \n",
    "#             print(call_cnvs_cmd)\n",
    "#             shell_do(call_cnvs_cmd)\n"
   ]
  },
  {
   "cell_type": "code",
   "execution_count": 20,
   "id": "d4088290-ec98-4f21-882d-288b4bcfd39a",
   "metadata": {
    "tags": []
   },
   "outputs": [],
   "source": [
    "# infile = f'{test_path}/snp_metrics_206046180074.csv'\n",
    "# outfile = f'{test_path}/snp_metrics'"
   ]
  },
  {
   "cell_type": "code",
   "execution_count": 70,
   "id": "a74ba7d8-5a82-46aa-8e9e-c901d3c89a07",
   "metadata": {},
   "outputs": [
    {
     "name": "stdout",
     "output_type": "stream",
     "text": [
      "206046180074_R01C01_Grn.idat  206046180074_R05C01_Grn.idat\n",
      "206046180074_R01C01_Red.idat  206046180074_R05C01_Red.idat\n",
      "206046180074_R02C01_Grn.idat  206046180074_R06C01_Grn.idat\n",
      "206046180074_R02C01_Red.idat  206046180074_R06C01_Red.idat\n",
      "206046180074_R03C01_Grn.idat  206046180074_R07C01_Grn.idat\n",
      "206046180074_R03C01_Red.idat  206046180074_R07C01_Red.idat\n",
      "206046180074_R04C01_Grn.idat  206046180074_R08C01_Grn.idat\n",
      "206046180074_R04C01_Red.idat  206046180074_R08C01_Red.idat\n"
     ]
    }
   ],
   "source": [
    "!ls {idat_path}"
   ]
  },
  {
   "cell_type": "code",
   "execution_count": 58,
   "id": "28205978-7be6-4460-8619-fa267e2aac0d",
   "metadata": {},
   "outputs": [],
   "source": [
    "idat_path = '/data/vitaled2/cnv_test/206046180074'\n",
    "test_out = '/data/vitaled2/cnv_test'\n",
    "# snp_metrics_files = idat_snp_metrics(idat_path, bpm, bpm_csv, egt, ref_fasta, test_out)\n",
    "\n",
    "with open(f'{swarm_scripts_dir}/call_cnvs.swarm', 'w') as f:\n",
    "    \n",
    "    for mfile in snp_metrics_files:\n",
    "        out_prefix = mfile.replace('.csv','').replace('snp_metrics_', '')\n",
    "#         chrom = out_prefix.split('_')[-1]\n",
    "#         gene_chrom_list = f'/data/CARD/PD/GP2/ref_panel/glist_hg38_{chrom}.csv'\n",
    "\n",
    "        call_cnvs_cmd = f'\\\n",
    "python3 cnv_gene_caller_alpha.py \\\n",
    "--infile {mfile} \\\n",
    "--outfile {out_prefix} \\\n",
    "--intervals {gene_list}'\n",
    "\n",
    "        f.write(f'{call_cnvs_cmd}\\n')\n",
    "f.close()"
   ]
  },
  {
   "cell_type": "code",
   "execution_count": 59,
   "id": "466c2d62-e7ac-40a2-93de-74101cea730d",
   "metadata": {},
   "outputs": [
    {
     "name": "stdout",
     "output_type": "stream",
     "text": [
      "35729936\n"
     ]
    }
   ],
   "source": [
    "!swarm -f {swarm_scripts_dir}/call_cnvs.swarm -g 16 -t 16 --time=10:00:00 --logdir {swarm_scripts_dir}/logs --gres=lscratch:20 --partition=norm"
   ]
  },
  {
   "cell_type": "code",
   "execution_count": 23,
   "id": "aae45f14-b13c-4f06-8117-4fea7d5da2b9",
   "metadata": {},
   "outputs": [],
   "source": [
    "# samples = [[s.split('/')[-1].replace('_Red.idat','') for s in glob.glob(f'{test_path}/*_Red.idat')][0]]\n",
    "# chroms = ['22']\n",
    "# barcode_out_path = f'{test_out}/206046180074'\n",
    "\n",
    "# vcf = '/data/vitaled2/cnv_test/206046180074/206046180074_sorted_snps.recode.vcf'\n",
    "# # gene_ref = args.gene_ref\n",
    "# out_path = f'/data/vitaled2/cnv_test/206046180074/snp_metrics_206046180074.csv'\n",
    "\n",
    "# def get_vcf_names(vcf_path):\n",
    "#     with open(vcf_path, \"r\") as ifile:\n",
    "#         for line in ifile:\n",
    "#             if line.startswith(\"#CHROM\"):\n",
    "#                 vcf_names = [x.strip('\\n') for x in line.split('\\t')]\n",
    "#                 break\n",
    "#     ifile.close()\n",
    "#     return vcf_names\n",
    "\n",
    "# # gene_list = pd.read_csv(gene_ref, sep='\\s+', header=None, names=['chr','start','end','symbol'], dtype={'chr':str,'start':int,'end':int})\n",
    "\n",
    "# out_colnames = ['CHROM','POS','ID','REF','ALT','sampleid','BAF','LRR']\n",
    "\n",
    "# variant_metrics_out_df = pd.DataFrame(columns=out_colnames)\n",
    "# variant_metrics_out_df.to_csv(out_path, sep='\\t', header=True, index=False)\n",
    "\n",
    "\n",
    "# names = get_vcf_names(vcf)        \n",
    "# vcf = pd.read_csv(vcf, comment='#', chunksize=10000, delim_whitespace=True, header=None, names=names, dtype={'#CHROM':str})\n",
    "# IIDs = [x for x in names if x not in ['#CHROM','POS','ID','REF','ALT','QUAL','FILTER','INFO','FORMAT']]\n",
    "\n",
    "# for chunk in vcf:\n",
    "\n",
    "#     chunk.rename(columns={'#CHROM':'CHROM'}, inplace=True)\n",
    "#     chunk_melt = chunk.melt(id_vars=['CHROM','POS','ID','REF','ALT','QUAL','FILTER','INFO'], value_vars=IIDs, value_name='metrics')\n",
    "#     chunk_melt[['GT','GQ','IGC','BAF','LRR','NORMX','NORMY','R','THETA','X','Y']] = chunk_melt.metrics.str.split(':', expand=True)\n",
    "#     chunk_melt.drop(columns=['QUAL','FILTER','INFO','GT','GQ','IGC','NORMX','NORMY','R','THETA','X','Y','metrics'], inplace=True)\n",
    "#     chunk_melt.rename(columns={'variable':'sampleid'}, inplace=True)\n",
    "#     chunk_melt.loc[:,'CHROM'] = chunk_melt['CHROM'].astype(str).str.replace('chr','')\n",
    "#     chunk_final = chunk_melt.loc[:,['CHROM','POS','ID','sampleid','REF','ALT','BAF','LRR']]\n",
    "#     chunk_final.columns = ['chromosome', 'position', 'snpID', 'Sample_ID', 'Allele1', 'Allele2', 'BAlleleFreq', 'LogRRatio']\n",
    "\n",
    "#     chunk_final.to_csv(out_path, header=False, index=False, mode='a')\n",
    "\n",
    "# for sample in samples:\n",
    "#         for chrom in chroms:\n",
    "            \n",
    "#             call_cnvs_cmd = f'\\\n",
    "# python3 cnv_gene_caller_alpha.py \\\n",
    "# --infile {barcode_out_path}/snp_metrics_{sample}_chr{chrom}.csv \\\n",
    "# --outfile {barcode_out_path}/cnvs_{sample}_chr{chrom}.csv \\\n",
    "# --intervals {gene_list}'\n",
    "            \n",
    "#             print(call_cnvs_cmd)\n",
    "#             !{call_cnvs_cmd}"
   ]
  },
  {
   "cell_type": "code",
   "execution_count": 6,
   "id": "bb52f15e-47db-4078-bfdb-d5a62634b89e",
   "metadata": {},
   "outputs": [],
   "source": [
    "!rm {test_out}/206046180074/snp_metrics_nan*"
   ]
  },
  {
   "cell_type": "code",
   "execution_count": 3,
   "id": "856affd9-9257-4109-8ce7-fbfac7173c13",
   "metadata": {},
   "outputs": [
    {
     "data": {
      "text/plain": [
       "array([ 2,  1, -9])"
      ]
     },
     "execution_count": 3,
     "metadata": {},
     "output_type": "execute_result"
    }
   ],
   "source": [
    "test = pd.read_csv('/data/CARD/PD/GP2/raw_genotypes/GP2_QC/round2/GP2_QC_round2_BCM_callrate_sex_ancestry_merge_ref_flip.fam', sep='\\s+', header=None, names=['fid','iid', 'pat','mat','sex','pheno'])\n",
    "test.pheno.unique()"
   ]
  },
  {
   "cell_type": "code",
   "execution_count": 14,
   "id": "6c98ef22-a558-424e-a7a2-f1ea831aeb26",
   "metadata": {},
   "outputs": [
    {
     "data": {
      "text/plain": [
       "['206046180074_R04C01',\n",
       " '206046180074_R02C01',\n",
       " '206046180074_R01C01',\n",
       " '206046180074_R05C01',\n",
       " '206046180074_R03C01',\n",
       " '206046180074_R08C01',\n",
       " '206046180074_R07C01',\n",
       " '206046180074_R06C01']"
      ]
     },
     "execution_count": 14,
     "metadata": {},
     "output_type": "execute_result"
    }
   ],
   "source": [
    "# !ls -lh /data/vitaled2/cnv_test/206046180074\n",
    "# !head /data/vitaled2/cnv_test/206046180074/snp_metrics_206046180074.txt\n",
    "# [chromosome,position,snpID,snpName,Sample_ID,Allele1,Allele2,BAlleleFreq,LogRRatio]\n",
    "[s.split('/')[-1].replace('_Red.idat','') for s in glob.glob('/data/vitaled2/cnv_test/206046180074/*_Red.idat')]"
   ]
  },
  {
   "cell_type": "code",
   "execution_count": 24,
   "id": "c40d3a61-3ffd-4adf-b2df-9e01e9565a20",
   "metadata": {},
   "outputs": [
    {
     "name": "stdout",
     "output_type": "stream",
     "text": [
      "19 58346805 58353499 A1BG\n",
      "19 58351969 58355183 A1BG-AS1\n",
      "10 50799408 50885675 A1CF\n",
      "12 9067707 9115962 A2M\n",
      "12 9065176 9068055 A2M-AS1\n",
      "12 8822553 8876785 A2ML1\n",
      "12 9228532 9234207 A2MP1\n",
      "1 33306765 33321098 A3GALT2\n",
      "22 42692120 42720870 A4GALT\n",
      "3 138123717 138132387 A4GNT\n"
     ]
    }
   ],
   "source": [
    "!head /data/CARD/PD/GP2/ref_panel/glist-hg38"
   ]
  },
  {
   "cell_type": "code",
   "execution_count": 29,
   "id": "c087c7d4-7aec-42b3-b397-b0cb836cf2be",
   "metadata": {},
   "outputs": [],
   "source": []
  },
  {
   "cell_type": "code",
   "execution_count": 30,
   "id": "1313d3a1-4bfd-415e-8e89-b1dd8064162f",
   "metadata": {},
   "outputs": [
    {
     "name": "stdout",
     "output_type": "stream",
     "text": [
      "NAME,CHR,START,STOP\n",
      "A1BG,19,58346805,58353499\n",
      "A1BG-AS1,19,58351969,58355183\n",
      "A1CF,10,50799408,50885675\n",
      "A2M,12,9067707,9115962\n",
      "A2M-AS1,12,9065176,9068055\n",
      "A2ML1,12,8822553,8876785\n",
      "A2MP1,12,9228532,9234207\n",
      "A3GALT2,1,33306765,33321098\n",
      "A4GALT,22,42692120,42720870\n"
     ]
    }
   ],
   "source": [
    "!head /data/CARD/PD/GP2/ref_panel/glist_hg38_intervals.csv"
   ]
  },
  {
   "cell_type": "code",
   "execution_count": 37,
   "id": "d01f60c7-41a2-4ad5-879e-761bac5144c3",
   "metadata": {},
   "outputs": [
    {
     "name": "stdout",
     "output_type": "stream",
     "text": [
      "206046180074_R01C01_Grn.idat\n",
      "206046180074_R01C01.gtc\n",
      "206046180074_R01C01_Red.idat\n",
      "206046180074_R02C01_Grn.idat\n",
      "206046180074_R02C01.gtc\n",
      "206046180074_R02C01_Red.idat\n",
      "206046180074_R03C01_Grn.idat\n",
      "206046180074_R03C01.gtc\n",
      "206046180074_R03C01_Red.idat\n",
      "206046180074_R04C01_Grn.idat\n",
      "206046180074_R04C01.gtc\n",
      "206046180074_R04C01_Red.idat\n",
      "206046180074_R05C01_Grn.idat\n",
      "206046180074_R05C01.gtc\n",
      "206046180074_R05C01_Red.idat\n",
      "206046180074_R06C01_Grn.idat\n",
      "206046180074_R06C01.gtc\n",
      "206046180074_R06C01_Red.idat\n",
      "206046180074_R07C01_Grn.idat\n",
      "206046180074_R07C01.gtc\n",
      "206046180074_R07C01_Red.idat\n",
      "206046180074_R08C01_Grn.idat\n",
      "206046180074_R08C01.gtc\n",
      "206046180074_R08C01_Red.idat\n",
      "206046180074_sorted_snps.recode.vcf\n",
      "206046180074_sorted.vcf.gz\n",
      "206046180074.vcf.gz\n",
      "snp_metrics_206046180074.csv\n",
      "snp_metrics_206046180074_R01C01_chr10.txt\n",
      "snp_metrics_206046180074_R01C01_chr11.txt\n",
      "snp_metrics_206046180074_R01C01_chr12.txt\n",
      "snp_metrics_206046180074_R01C01_chr13.txt\n",
      "snp_metrics_206046180074_R01C01_chr14.txt\n",
      "snp_metrics_206046180074_R01C01_chr15.txt\n",
      "snp_metrics_206046180074_R01C01_chr16.txt\n",
      "snp_metrics_206046180074_R01C01_chr17.txt\n",
      "snp_metrics_206046180074_R01C01_chr18.txt\n",
      "snp_metrics_206046180074_R01C01_chr19.txt\n",
      "snp_metrics_206046180074_R01C01_chr1.txt\n",
      "snp_metrics_206046180074_R01C01_chr20.txt\n",
      "snp_metrics_206046180074_R01C01_chr21.txt\n",
      "snp_metrics_206046180074_R01C01_chr22.txt\n",
      "snp_metrics_206046180074_R01C01_chr2.txt\n",
      "snp_metrics_206046180074_R01C01_chr3.txt\n",
      "snp_metrics_206046180074_R01C01_chr4.txt\n",
      "snp_metrics_206046180074_R01C01_chr5.txt\n",
      "snp_metrics_206046180074_R01C01_chr6.txt\n",
      "snp_metrics_206046180074_R01C01_chr7.txt\n",
      "snp_metrics_206046180074_R01C01_chr8.txt\n",
      "snp_metrics_206046180074_R01C01_chr9.txt\n",
      "snp_metrics_206046180074_R01C01_chrMT.txt\n",
      "snp_metrics_206046180074_R01C01_chrX.txt\n",
      "snp_metrics_206046180074_R01C01_chrY.txt\n",
      "snp_metrics_206046180074_R02C01_chr10.txt\n",
      "snp_metrics_206046180074_R02C01_chr11.txt\n",
      "snp_metrics_206046180074_R02C01_chr12.txt\n",
      "snp_metrics_206046180074_R02C01_chr13.txt\n",
      "snp_metrics_206046180074_R02C01_chr14.txt\n",
      "snp_metrics_206046180074_R02C01_chr15.txt\n",
      "snp_metrics_206046180074_R02C01_chr16.txt\n",
      "snp_metrics_206046180074_R02C01_chr17.txt\n",
      "snp_metrics_206046180074_R02C01_chr18.txt\n",
      "snp_metrics_206046180074_R02C01_chr19.txt\n",
      "snp_metrics_206046180074_R02C01_chr1.txt\n",
      "snp_metrics_206046180074_R02C01_chr20.txt\n",
      "snp_metrics_206046180074_R02C01_chr21.txt\n",
      "snp_metrics_206046180074_R02C01_chr22.txt\n",
      "snp_metrics_206046180074_R02C01_chr2.txt\n",
      "snp_metrics_206046180074_R02C01_chr3.txt\n",
      "snp_metrics_206046180074_R02C01_chr4.txt\n",
      "snp_metrics_206046180074_R02C01_chr5.txt\n",
      "snp_metrics_206046180074_R02C01_chr6.txt\n",
      "snp_metrics_206046180074_R02C01_chr7.txt\n",
      "snp_metrics_206046180074_R02C01_chr8.txt\n",
      "snp_metrics_206046180074_R02C01_chr9.txt\n",
      "snp_metrics_206046180074_R02C01_chrMT.txt\n",
      "snp_metrics_206046180074_R02C01_chrX.txt\n",
      "snp_metrics_206046180074_R02C01_chrY.txt\n",
      "snp_metrics_206046180074_R03C01_chr10.txt\n",
      "snp_metrics_206046180074_R03C01_chr11.txt\n",
      "snp_metrics_206046180074_R03C01_chr12.txt\n",
      "snp_metrics_206046180074_R03C01_chr13.txt\n",
      "snp_metrics_206046180074_R03C01_chr14.txt\n",
      "snp_metrics_206046180074_R03C01_chr15.txt\n",
      "snp_metrics_206046180074_R03C01_chr16.txt\n",
      "snp_metrics_206046180074_R03C01_chr17.txt\n",
      "snp_metrics_206046180074_R03C01_chr18.txt\n",
      "snp_metrics_206046180074_R03C01_chr19.txt\n",
      "snp_metrics_206046180074_R03C01_chr1.txt\n",
      "snp_metrics_206046180074_R03C01_chr20.txt\n",
      "snp_metrics_206046180074_R03C01_chr21.txt\n",
      "snp_metrics_206046180074_R03C01_chr22.txt\n",
      "snp_metrics_206046180074_R03C01_chr2.txt\n",
      "snp_metrics_206046180074_R03C01_chr3.txt\n",
      "snp_metrics_206046180074_R03C01_chr4.txt\n",
      "snp_metrics_206046180074_R03C01_chr5.txt\n",
      "snp_metrics_206046180074_R03C01_chr6.txt\n",
      "snp_metrics_206046180074_R03C01_chr7.txt\n",
      "snp_metrics_206046180074_R03C01_chr8.txt\n",
      "snp_metrics_206046180074_R03C01_chr9.txt\n",
      "snp_metrics_206046180074_R03C01_chrMT.txt\n",
      "snp_metrics_206046180074_R03C01_chrX.txt\n",
      "snp_metrics_206046180074_R03C01_chrY.txt\n",
      "snp_metrics_206046180074_R04C01_chr10.txt\n",
      "snp_metrics_206046180074_R04C01_chr11.txt\n",
      "snp_metrics_206046180074_R04C01_chr12.txt\n",
      "snp_metrics_206046180074_R04C01_chr13.txt\n",
      "snp_metrics_206046180074_R04C01_chr14.txt\n",
      "snp_metrics_206046180074_R04C01_chr15.txt\n",
      "snp_metrics_206046180074_R04C01_chr16.txt\n",
      "snp_metrics_206046180074_R04C01_chr17.txt\n",
      "snp_metrics_206046180074_R04C01_chr18.txt\n",
      "snp_metrics_206046180074_R04C01_chr19.txt\n",
      "snp_metrics_206046180074_R04C01_chr1.txt\n",
      "snp_metrics_206046180074_R04C01_chr20.txt\n",
      "snp_metrics_206046180074_R04C01_chr21.txt\n",
      "snp_metrics_206046180074_R04C01_chr22.txt\n",
      "snp_metrics_206046180074_R04C01_chr2.txt\n",
      "snp_metrics_206046180074_R04C01_chr3.txt\n",
      "snp_metrics_206046180074_R04C01_chr4.txt\n",
      "snp_metrics_206046180074_R04C01_chr5.txt\n",
      "snp_metrics_206046180074_R04C01_chr6.txt\n",
      "snp_metrics_206046180074_R04C01_chr7.txt\n",
      "snp_metrics_206046180074_R04C01_chr8.txt\n",
      "snp_metrics_206046180074_R04C01_chr9.txt\n",
      "snp_metrics_206046180074_R04C01_chrMT.txt\n",
      "snp_metrics_206046180074_R04C01_chrX.txt\n",
      "snp_metrics_206046180074_R04C01_chrY.txt\n",
      "snp_metrics_206046180074_R05C01_chr10.txt\n",
      "snp_metrics_206046180074_R05C01_chr11.txt\n",
      "snp_metrics_206046180074_R05C01_chr12.txt\n",
      "snp_metrics_206046180074_R05C01_chr13.txt\n",
      "snp_metrics_206046180074_R05C01_chr14.txt\n",
      "snp_metrics_206046180074_R05C01_chr15.txt\n",
      "snp_metrics_206046180074_R05C01_chr16.txt\n",
      "snp_metrics_206046180074_R05C01_chr17.txt\n",
      "snp_metrics_206046180074_R05C01_chr18.txt\n",
      "snp_metrics_206046180074_R05C01_chr19.txt\n",
      "snp_metrics_206046180074_R05C01_chr1.txt\n",
      "snp_metrics_206046180074_R05C01_chr20.txt\n",
      "snp_metrics_206046180074_R05C01_chr21.txt\n",
      "snp_metrics_206046180074_R05C01_chr22.txt\n",
      "snp_metrics_206046180074_R05C01_chr2.txt\n",
      "snp_metrics_206046180074_R05C01_chr3.txt\n",
      "snp_metrics_206046180074_R05C01_chr4.txt\n",
      "snp_metrics_206046180074_R05C01_chr5.txt\n",
      "snp_metrics_206046180074_R05C01_chr6.txt\n",
      "snp_metrics_206046180074_R05C01_chr7.txt\n",
      "snp_metrics_206046180074_R05C01_chr8.txt\n",
      "snp_metrics_206046180074_R05C01_chr9.txt\n",
      "snp_metrics_206046180074_R05C01_chrMT.txt\n",
      "snp_metrics_206046180074_R05C01_chrX.txt\n",
      "snp_metrics_206046180074_R05C01_chrY.txt\n",
      "snp_metrics_206046180074_R06C01_chr10.txt\n",
      "snp_metrics_206046180074_R06C01_chr11.txt\n",
      "snp_metrics_206046180074_R06C01_chr12.txt\n",
      "snp_metrics_206046180074_R06C01_chr13.txt\n",
      "snp_metrics_206046180074_R06C01_chr14.txt\n",
      "snp_metrics_206046180074_R06C01_chr15.txt\n",
      "snp_metrics_206046180074_R06C01_chr16.txt\n",
      "snp_metrics_206046180074_R06C01_chr17.txt\n",
      "snp_metrics_206046180074_R06C01_chr18.txt\n",
      "snp_metrics_206046180074_R06C01_chr19.txt\n",
      "snp_metrics_206046180074_R06C01_chr1.txt\n",
      "snp_metrics_206046180074_R06C01_chr20.txt\n",
      "snp_metrics_206046180074_R06C01_chr21.txt\n",
      "snp_metrics_206046180074_R06C01_chr22.txt\n",
      "snp_metrics_206046180074_R06C01_chr2.txt\n",
      "snp_metrics_206046180074_R06C01_chr3.txt\n",
      "snp_metrics_206046180074_R06C01_chr4.txt\n",
      "snp_metrics_206046180074_R06C01_chr5.txt\n",
      "snp_metrics_206046180074_R06C01_chr6.txt\n",
      "snp_metrics_206046180074_R06C01_chr7.txt\n",
      "snp_metrics_206046180074_R06C01_chr8.txt\n",
      "snp_metrics_206046180074_R06C01_chr9.txt\n",
      "snp_metrics_206046180074_R06C01_chrMT.txt\n",
      "snp_metrics_206046180074_R06C01_chrX.txt\n",
      "snp_metrics_206046180074_R06C01_chrY.txt\n",
      "snp_metrics_206046180074_R07C01_chr10.txt\n",
      "snp_metrics_206046180074_R07C01_chr11.txt\n",
      "snp_metrics_206046180074_R07C01_chr12.txt\n",
      "snp_metrics_206046180074_R07C01_chr13.txt\n",
      "snp_metrics_206046180074_R07C01_chr14.txt\n",
      "snp_metrics_206046180074_R07C01_chr15.txt\n",
      "snp_metrics_206046180074_R07C01_chr16.txt\n",
      "snp_metrics_206046180074_R07C01_chr17.txt\n",
      "snp_metrics_206046180074_R07C01_chr18.txt\n",
      "snp_metrics_206046180074_R07C01_chr19.txt\n",
      "snp_metrics_206046180074_R07C01_chr1.txt\n",
      "snp_metrics_206046180074_R07C01_chr20.txt\n",
      "snp_metrics_206046180074_R07C01_chr21.txt\n",
      "snp_metrics_206046180074_R07C01_chr22.txt\n",
      "snp_metrics_206046180074_R07C01_chr2.txt\n",
      "snp_metrics_206046180074_R07C01_chr3.txt\n",
      "snp_metrics_206046180074_R07C01_chr4.txt\n",
      "snp_metrics_206046180074_R07C01_chr5.txt\n",
      "snp_metrics_206046180074_R07C01_chr6.txt\n",
      "snp_metrics_206046180074_R07C01_chr7.txt\n",
      "snp_metrics_206046180074_R07C01_chr8.txt\n",
      "snp_metrics_206046180074_R07C01_chr9.txt\n",
      "snp_metrics_206046180074_R07C01_chrMT.txt\n",
      "snp_metrics_206046180074_R07C01_chrX.txt\n",
      "snp_metrics_206046180074_R07C01_chrY.txt\n",
      "snp_metrics_206046180074_R08C01_chr10.txt\n",
      "snp_metrics_206046180074_R08C01_chr11.txt\n",
      "snp_metrics_206046180074_R08C01_chr12.txt\n",
      "snp_metrics_206046180074_R08C01_chr13.txt\n",
      "snp_metrics_206046180074_R08C01_chr14.txt\n",
      "snp_metrics_206046180074_R08C01_chr15.txt\n",
      "snp_metrics_206046180074_R08C01_chr16.txt\n",
      "snp_metrics_206046180074_R08C01_chr17.txt\n",
      "snp_metrics_206046180074_R08C01_chr18.txt\n",
      "snp_metrics_206046180074_R08C01_chr19.txt\n",
      "snp_metrics_206046180074_R08C01_chr1.txt\n",
      "snp_metrics_206046180074_R08C01_chr20.txt\n",
      "snp_metrics_206046180074_R08C01_chr21.txt\n",
      "snp_metrics_206046180074_R08C01_chr22.txt\n",
      "snp_metrics_206046180074_R08C01_chr2.txt\n",
      "snp_metrics_206046180074_R08C01_chr3.txt\n",
      "snp_metrics_206046180074_R08C01_chr4.txt\n",
      "snp_metrics_206046180074_R08C01_chr5.txt\n",
      "snp_metrics_206046180074_R08C01_chr6.txt\n",
      "snp_metrics_206046180074_R08C01_chr7.txt\n",
      "snp_metrics_206046180074_R08C01_chr8.txt\n",
      "snp_metrics_206046180074_R08C01_chr9.txt\n",
      "snp_metrics_206046180074_R08C01_chrMT.txt\n",
      "snp_metrics_206046180074_R08C01_chrX.txt\n",
      "snp_metrics_206046180074_R08C01_chrY.txt\n",
      "snp_metrics_206046180074.txt\n"
     ]
    }
   ],
   "source": [
    "!ls {test_out}/206046180074"
   ]
  },
  {
   "cell_type": "code",
   "execution_count": null,
   "id": "bb81262a-9647-47a7-8dd3-dc4aea217a26",
   "metadata": {},
   "outputs": [],
   "source": []
  }
 ],
 "metadata": {
  "kernelspec": {
   "display_name": "python/3.7",
   "language": "python",
   "name": "py3.7"
  },
  "language_info": {
   "codemirror_mode": {
    "name": "ipython",
    "version": 3
   },
   "file_extension": ".py",
   "mimetype": "text/x-python",
   "name": "python",
   "nbconvert_exporter": "python",
   "pygments_lexer": "ipython3",
   "version": "3.7.12"
  }
 },
 "nbformat": 4,
 "nbformat_minor": 5
}
