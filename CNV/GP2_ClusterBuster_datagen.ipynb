{
 "cells": [
  {
   "cell_type": "code",
   "execution_count": 1,
   "id": "979645d2-5f02-488f-8f58-a985591c7c6e",
   "metadata": {},
   "outputs": [],
   "source": [
    "import pandas as pd\n",
    "import os\n",
    "import shutil\n",
    "import numpy as np\n",
    "import glob\n",
    "import gzip\n",
    "\n",
    "from QC.utils import shell_do\n",
    "# from QC.imputation import impute_data_prep\n",
    "# import QC.config as config"
   ]
  },
  {
   "cell_type": "code",
   "execution_count": 2,
   "id": "03415093-c76c-4606-b124-7f13f7efddfd",
   "metadata": {},
   "outputs": [],
   "source": [
    "# some setup\n",
    "# get precompiled binaries\n",
    "#!cd /data/vitaled2/bin; wget https://software.broadinstitute.org/software/gtc2vcf/gtc2vcf_1.13-20211015.zip; unzip gtc2vcf_1.13-20211015.zip\n",
    "# set path to gtc2vcf plugin\n",
    "# !export BCFTOOLS_PLUGINS=\"/data/vitaled2/bin\"\n",
    "\n",
    "\n",
    "# download ref to create gtc\n",
    "# !wget https://ftp.ncbi.nlm.nih.gov/genomes/all/GCF/000/001/405/GCF_000001405.25_GRCh37.p13/GCF_000001405.25_GRCh37.p13_genomic.fna.gz -P ../ref\n",
    "# !gunzip ../ref/GCF_000001405.25_GRCh37.p13_genomic.fna.gz\n",
    "# !cp ../ref/GCF_000001405.25_GRCh37.p13_genomic.fna ../ref/GCF_000001405.25_GRCh37.p13_genomic.fa\n",
    "\n",
    "# get hg38 reference\n",
    "# !wget https://ftp.ncbi.nlm.nih.gov/genomes/all/GCF/000/001/405/GCF_000001405.26_GRCh38/GCF_000001405.26_GRCh38_genomic.fna.gz -P ../ref\n",
    "# !gunzip ../ref/GCF_000001405.26_GRCh38_genomic.fna.gz\n",
    "# !cp ../ref/GCF_000001405.26_GRCh38_genomic.fna ../ref/GCF_000001405.26_GRCh38_genomic.fa"
   ]
  },
  {
   "cell_type": "code",
   "execution_count": 3,
   "id": "e63a1822-71d2-4007-b36b-28408246d97b",
   "metadata": {},
   "outputs": [],
   "source": [
    "idat_path = '/data/CARD/PD/GP2/raw_genotypes/GP2_idats'\n",
    "# gtc_path = '/data/CARD/PD/GP2/raw_genotypes/GP2_gtcs'\n",
    "cnv_path = '/data/CARD/PD/GP2/cnvs'\n",
    "# vcf_path = '/data/CARD/PD/GP2/raw_genotypes/GP2_vcfs'\n",
    "\n",
    "ilmn_files_path = '/data/CARD/PD/GP2/ilmn_files'\n",
    "# A1 is hg19, A2 is hg38. csv needed for indel calls\n",
    "# bpm = f'{ilmn_files_path}/NeuroBooster_20042459_A1.bpm'\n",
    "bpm_csv = f'{ilmn_files_path}/NeuroBooster_20042459_A2.csv' \n",
    "bpm = f'{ilmn_files_path}/NeuroBooster_20042459_A2.bpm'\n",
    "egt = f'{ilmn_files_path}/NBSCluster_file_n1393_011921.egt'\n",
    "iaap = f'{ilmn_files_path}/iaap-cli/iaap-cli'\n",
    "\n",
    "key_dir = '/data/CARD/PD/GP2/key_files'\n",
    "clin_dir = '/data/CARD/PD/GP2/clinical'\n",
    "\n",
    "key_file = f'/data/CARD/PD/GP2/clinical/key_merge/GP2_master_key_full.txt'\n",
    "clin_file = f'{clin_dir}/GP2_clinical.csv'\n",
    "\n",
    "swarm_scripts_dir = f'/data/CARD/PD/GP2/swarm_scripts'\n",
    "\n",
    "\n",
    "GTCtoVCF = '../GTCtoVCF/gtc_to_vcf.py'\n",
    "ref_fasta = '/data/vitaled2/ref/GRCh38/GTCtoVCF_GRCh38_ref.fa'\n",
    "\n",
    "\n",
    "key = pd.read_csv(f'{key_file}', sep='\\t')\n",
    "key.loc[:,'filename'] = key.loc[:,'SentrixBarcode_A'].astype(str) + '_' + key.loc[:,'SentrixPosition_A'].astype(str)\n",
    "\n",
    "# define chromosomes for later use\n",
    "chroms = [str(x) for x in range(1,23)] + ['X']\n",
    "\n",
    "grch38_fasta = '/data/vitaled2/ref/GRCh38/GCA_000001405.15_GRCh38_no_alt_analysis_set.fna'\n",
    "\n",
    "genes = pd.read_csv('/data/CARD/PD/GP2/ref_panel/glist-hg38', sep='\\s+', header=None, names=['chr','start','end','symbol'], dtype={'chr':str,'start':int,'end':int})\n",
    "genes.columns = ['CHR','START','STOP','NAME']\n",
    "genes[['NAME','CHR','START','STOP']].to_csv('/data/CARD/PD/GP2/ref_panel/glist_hg38_intervals.csv', index=False)\n",
    "# gene_list originally from plink glist\n",
    "gene_list = '/data/CARD/PD/GP2/ref_panel/glist_hg38_intervals.csv'\n",
    "\n"
   ]
  },
  {
   "cell_type": "markdown",
   "id": "080e5c0d-1342-4a2e-835b-577c2abe7144",
   "metadata": {},
   "source": [
    "# Call CNVs"
   ]
  },
  {
   "cell_type": "code",
   "execution_count": 4,
   "id": "ac8ceb36-3be4-42b8-b2f3-04f913d4f083",
   "metadata": {},
   "outputs": [],
   "source": [
    "# get snp metrics\n",
    "with open(f'{swarm_scripts_dir}/snp_metrics.swarm', 'w') as f:\n",
    "    for code in key.SentrixBarcode_A.unique():\n",
    "        idat_path_ = f'{idat_path}/{code}'\n",
    "        metrics_out = f'{idat_path}'\n",
    "        cmd = f'\\\n",
    "python /data/vitaled2/GenoTools/run_snp_metrics_pipeline.py \\\n",
    "--idat_path {idat_path_} \\\n",
    "--bpm {bpm} \\\n",
    "--bpm_csv {bpm_csv} \\\n",
    "--egt {egt} \\\n",
    "--ref_fasta {ref_fasta} \\\n",
    "--out_path {metrics_out} \\\n",
    "--iaap {iaap}'\n",
    "        f.write(f'{cmd}\\n')\n",
    "f.close()"
   ]
  },
  {
   "cell_type": "code",
   "execution_count": 5,
   "id": "bb040fd0-5f19-4109-bcc7-197f0774d61d",
   "metadata": {},
   "outputs": [
    {
     "name": "stdout",
     "output_type": "stream",
     "text": [
      "36928493\n"
     ]
    }
   ],
   "source": [
    "!swarm -f {swarm_scripts_dir}/snp_metrics.swarm -g 16 -t 16 --time=02:00:00 --logdir {swarm_scripts_dir}/logs --gres=lscratch:20 --partition=norm"
   ]
  },
  {
   "cell_type": "code",
   "execution_count": 85,
   "id": "a2d3a178-c205-49df-9246-11c53638b64c",
   "metadata": {},
   "outputs": [],
   "source": [
    "# rerun fails after permissions fix\n",
    "metric_fails = []\n",
    "for sample in key.IID.unique():\n",
    "    code = sample.split('_')[0]\n",
    "    for chrom in chroms:\n",
    "        mfile = f'{idat_path}/{code}/snp_metrics_{sample}_chr{chrom}.csv'\n",
    "        if not os.path.isfile(mfile):\n",
    "            metric_fails.append(code)\n",
    "        else:\n",
    "            pass\n",
    "metric_fails_list = list(set(metric_fails))\n",
    "            \n"
   ]
  },
  {
   "cell_type": "code",
   "execution_count": 74,
   "id": "c99d5104-cfc4-48a6-a62f-76ed704ce9a5",
   "metadata": {},
   "outputs": [],
   "source": [
    "with open(f'{swarm_scripts_dir}/snp_metrics2.swarm', 'w') as f:\n",
    "    for code in metric_fails_list:\n",
    "        idat_path_ = f'{idat_path}/{code}'\n",
    "        metrics_out = f'{idat_path}'\n",
    "        cmd = f'\\\n",
    "python /data/vitaled2/GenoTools/run_snp_metrics_pipeline.py \\\n",
    "--idat_path {idat_path_} \\\n",
    "--bpm {bpm} \\\n",
    "--bpm_csv {bpm_csv} \\\n",
    "--egt {egt} \\\n",
    "--ref_fasta {ref_fasta} \\\n",
    "--out_path {metrics_out} \\\n",
    "--iaap {iaap}'\n",
    "        f.write(f'{cmd}\\n')\n",
    "f.close()"
   ]
  },
  {
   "cell_type": "code",
   "execution_count": 75,
   "id": "ecdaec9d-f932-4516-a3f6-b07057f8eb1d",
   "metadata": {},
   "outputs": [
    {
     "name": "stdout",
     "output_type": "stream",
     "text": [
      "36975418\n"
     ]
    }
   ],
   "source": [
    "!swarm -f {swarm_scripts_dir}/snp_metrics2.swarm -g 16 -t 16 --time=02:00:00 --logdir {swarm_scripts_dir}/logs --gres=lscratch:20 --partition=norm"
   ]
  },
  {
   "cell_type": "code",
   "execution_count": 104,
   "id": "547f2fde-3d5e-4044-8ef6-f3546ccffdde",
   "metadata": {},
   "outputs": [],
   "source": [
    "chroms = [str(i) for i in range(1,23)]\n",
    "# samples = [s.split('/')[-1].replace('_Grn.idat','') for s in glob.glob(f'{idat_path}/*/*_Grn.idat')]\n",
    "\n",
    "# snp_metrics_list = []\n",
    "with open(f'{swarm_scripts_dir}/cnv.swarm', 'w') as f:\n",
    "    missing_metrics = []\n",
    "    for sample in key.IID.unique():\n",
    "        code = sample.split('_')[0]\n",
    "        for chrom in chroms:\n",
    "            mfile = f'{idat_path}/{code}/snp_metrics_{sample}_chr{chrom}.csv'\n",
    "            out_file = f'{idat_path}/{code}/CNV_{sample}_chr{chrom}.csv'\n",
    "            intervals = f'/data/CARD/PD/GP2/ref_panel/glist_hg38_chr{chrom}.csv'\n",
    "            cmd = f'\\\n",
    "python /data/vitaled2/GenoTools/run_cnv_pipeline.py \\\n",
    "--metrics {mfile} \\\n",
    "--out_path {out_file} \\\n",
    "--intervals {intervals} \\\n",
    "--min_variants 10 \\\n",
    "--kb_window 100'\n",
    "            \n",
    "            f.write(f'{cmd}\\n')\n",
    "f.close()\n",
    "\n",
    "\n",
    "\n"
   ]
  },
  {
   "cell_type": "code",
   "execution_count": 100,
   "id": "48c9e04c-3994-40de-b77f-381b6c097a06",
   "metadata": {},
   "outputs": [
    {
     "name": "stdout",
     "output_type": "stream",
     "text": [
      "36981682\n"
     ]
    }
   ],
   "source": [
    "!swarm -f {swarm_scripts_dir}/cnv.swarm --time=40:00 --logdir {swarm_scripts_dir}/logs --gres=lscratch:20 --partition=norm"
   ]
  },
  {
   "cell_type": "code",
   "execution_count": null,
   "id": "ed909ac3-00cb-4967-b619-0987640478e6",
   "metadata": {},
   "outputs": [],
   "source": []
  },
  {
   "cell_type": "code",
   "execution_count": null,
   "id": "3495943a-346d-4860-b7c6-e0370b53e97a",
   "metadata": {},
   "outputs": [],
   "source": [
    "# get individual ancestry samples\n",
    "# labels = ['AAC','AFR','AJ','EAS','EUR','FIN','SAS']\n",
    "# suffixes = ['bed','bim','fam']\n",
    "\n",
    "# for label in labels:\n",
    "#     for suffix in suffixes:\n",
    "#         !cp /data/CARD/PD/GP2/genotypes/GP2/round2/clean/GP2_round2_{label}.{suffix} {cnv_path}\n",
    "    \n",
    "# # now grab AMR and KZ\n",
    "# for suffix in suffixes:\n",
    "#     !cp /data/CARD/PD/GP2/genotypes/GP2/round2/temp/GP2_round2_AMR_KZ.{suffix} {cnv_path}\n",
    "#     !cp /data/CARD/PD/GP2/genotypes/GP2/round2/temp/GP2_round2_AMR.{suffix} {cnv_path}"
   ]
  },
  {
   "cell_type": "markdown",
   "id": "39eb9365-6401-4adf-9511-aba94d208c7a",
   "metadata": {},
   "source": [
    "## Create Dosage Matrices"
   ]
  },
  {
   "cell_type": "code",
   "execution_count": 105,
   "id": "89ea2985-e718-4ac2-bbf0-07e98925cae7",
   "metadata": {
    "tags": []
   },
   "outputs": [],
   "source": [
    "from CNV.cnv import create_cnv_dosage_matrices\n",
    "\n",
    "release2_cohorts = ['BCM','UMD','SYNAPS-KZ','MDGAP-QSBB','CORIELL']\n",
    "\n",
    "release2_key = key.loc[key.study.isin(release2_cohorts)]\n",
    "release2_key[['FID','GP2sampleID']].to_csv(f'{cnv_path}/release2.samples', sep='\\t', header=False, index=False)\n",
    "release2_key[['GP2sampleID','IID']].to_csv(f'{cnv_path}/release2_sample_id_key.csv')\n",
    "release2_covars = release2_key.loc[:,['FID', 'GP2sampleID','sex_for_qc', 'age', 'age_of_onset']]\n",
    "\n",
    "labels = ['AAC','AFR','AJ','EAS','EUR','FIN','SAS','AMR','AMR_KZ']\n",
    "\n",
    "with open(f'{swarm_scripts_dir}/cnv_dosages.swarm', 'w') as f:\n",
    "    for label in labels:\n",
    "        geno = f'{cnv_path}/GP2_round2_{label}'\n",
    "\n",
    "        cmd1 = f'\\\n",
    "    plink \\\n",
    "    --bfile {geno} \\\n",
    "    --keep {cnv_path}/release2.samples \\\n",
    "    --make-bed \\\n",
    "    --out {geno}_release2'\n",
    "\n",
    "        cmd2 = f'plink \\\n",
    "    --bfile {geno}_release2 \\\n",
    "    --pca \\\n",
    "    --out {geno}_release2'\n",
    "\n",
    "        cmds = [cmd1, cmd2]\n",
    "\n",
    "        for cmd in cmds:\n",
    "            shell_do(cmd)\n",
    "\n",
    "        pcs = pd.read_csv(f'{geno}_release2.eigenvec', sep='\\s+')\n",
    "        pc_num = pcs.iloc[:, 2:].shape[1]\n",
    "        pc_names = ['FID','GP2sampleID'] + [f'PC{i}' for i in range(1, pc_num+1)]\n",
    "        pcs.columns = pc_names\n",
    "\n",
    "        cov = pcs.merge(release2_covars, on=['FID','GP2sampleID'], how='left')\n",
    "        cov.age.fillna(cov.age.mean(), inplace=True)\n",
    "        cov.age_of_onset.fillna(cov.age_of_onset.mean(), inplace=True)\n",
    "        cov.sex_for_qc.fillna(cov.sex_for_qc.median(), inplace=True)\n",
    "        cov.rename(columns={'sex_for_qc':'sex'})\n",
    "        cov.to_csv(f'{geno}_release2.cov', sep='\\t', header=True, index=False)\n",
    "        \n",
    "        samples = cov.merge(release2_key[['GP2sampleID','IID']], on='GP2sampleID', how='left')\n",
    "        samples['IID'].to_csv(f'{geno}_release2_barcode.samples', header=False, index=False)\n",
    "        \n",
    "        for chrom in chroms:\n",
    "            dosage_cmd = f'\\\n",
    "python /data/vitaled2/GenoTools/run_cnv_dosage_pipeline.py \\\n",
    "--metrics_in {idat_path} \\\n",
    "--chrom {chrom} \\\n",
    "--samples {geno}_release2_barcode.samples \\\n",
    "--out_path {geno}'\n",
    "            f.write(f'{dosage_cmd}\\n')\n",
    "f.close()\n"
   ]
  },
  {
   "cell_type": "code",
   "execution_count": 49,
   "id": "8634e449-0778-4c2a-895b-0b6cc30a5614",
   "metadata": {},
   "outputs": [
    {
     "name": "stdout",
     "output_type": "stream",
     "text": [
      "37394518\n"
     ]
    }
   ],
   "source": [
    "!swarm -f {swarm_scripts_dir}/cnv_dosages.swarm --time=2:00:00 --logdir {swarm_scripts_dir}/logs --gres=lscratch:20 --partition=norm"
   ]
  },
  {
   "cell_type": "markdown",
   "id": "703b4e96-a6bc-4e57-b5e8-5eff9d46a4bc",
   "metadata": {},
   "source": [
    "## update to gp2 ids and grab phenotypes"
   ]
  },
  {
   "cell_type": "code",
   "execution_count": 107,
   "id": "99cb77b4-d7f7-46ea-98aa-af148a248075",
   "metadata": {},
   "outputs": [],
   "source": [
    "\n",
    "dosage_files = ['BAF','L2R_DUP','L2R_DEL']\n",
    "for label in labels:\n",
    "    for chrom in chroms:\n",
    "        for dose in dosage_files:\n",
    "            \n",
    "            dosagefile = f'{cnv_path}/GP2_round2_{label}_chr{chrom}_{dose}.csv'\n",
    "            dosagefile_out = f'{cnv_path}/GP2_round2_{label}_chr{chrom}_{dose}_gp2ids.csv'\n",
    "            pheno_out = f'{cnv_path}/GP2_round2_{label}_chr{chrom}_{dose}.pheno'\n",
    "            \n",
    "            dosage = pd.read_csv(dosagefile)\n",
    "            dosage_merge = dosage.merge(release2_key[['GP2sampleID','IID']], left_on='sampleid', right_on='IID')\n",
    "            dosage_out = dosage_merge.drop(columns=['sampleid','IID']).set_index('GP2sampleID').reset_index().rename(columns={'GP2sampleID':'sampleid'})\n",
    "            dosage_out.to_csv(dosagefile_out, sep='\\t', header=True, index=False)\n",
    "            \n",
    "            \n",
    "            dosage_pheno = dosage_out.merge(key.loc[:,['GP2sampleID','pheno']], left_on='sampleid', right_on='GP2sampleID', how='left')\n",
    "            dosage_pheno2 = dosage_pheno.drop(columns=[\"GP2sampleID\"])\n",
    "            dosage_pheno_out = dosage_pheno2.loc[dosage_pheno2.pheno != -9]\n",
    "            dosage_pheno_out.loc[:,'pheno'] = np.where(dosage_pheno_out.pheno == 1, 0, 1)\n",
    "            dosage_pheno_out[['sampleid','pheno']].to_csv(pheno_out, sep='\\t', header=True, index=False)\n",
    "            \n",
    "\n"
   ]
  },
  {
   "cell_type": "markdown",
   "id": "90f106a9-4534-4c89-99d9-368a4a66b666",
   "metadata": {},
   "source": [
    "## Run generate CNV-WAS summary stats"
   ]
  },
  {
   "cell_type": "code",
   "execution_count": 97,
   "id": "b3c71536-c3e2-44d2-ab2e-be081659c4dc",
   "metadata": {},
   "outputs": [],
   "source": []
  },
  {
   "cell_type": "code",
   "execution_count": null,
   "id": "2cf45035-3a68-477c-872f-618be6b87f12",
   "metadata": {},
   "outputs": [],
   "source": []
  },
  {
   "cell_type": "code",
   "execution_count": null,
   "id": "7b8306d8-32dd-4e63-b575-4ba703f7f8ca",
   "metadata": {},
   "outputs": [],
   "source": []
  },
  {
   "cell_type": "code",
   "execution_count": null,
   "id": "cc7318d2-f139-4798-a827-38254d80dfde",
   "metadata": {},
   "outputs": [],
   "source": []
  },
  {
   "cell_type": "code",
   "execution_count": 5,
   "id": "02bcadc5-9add-4281-bb17-80edbb4fb20d",
   "metadata": {},
   "outputs": [],
   "source": [
    "with open(f'{swarm_scripts_dir}/idat_to_gtc.swarm', 'w') as f:\n",
    "    \n",
    "    for code in key.SentrixBarcode_A.unique():\n",
    "        os.makedirs(f'{gtc_path}/{code}', exist_ok=True)\n",
    "        idat_to_gtc_cmd = f'\\\n",
    "{iaap} gencall \\\n",
    "{bpm} \\\n",
    "{egt} \\\n",
    "{gtc_path}/{code} \\\n",
    "-f {idat_path}/{code} \\\n",
    "-g \\\n",
    "-t 8'\n",
    "        \n",
    "        f.write(f'{idat_to_gtc_cmd}\\n')\n",
    "f.close()"
   ]
  },
  {
   "cell_type": "code",
   "execution_count": 39,
   "id": "64a5a33d-87d6-4177-8d8b-52d5fed7bc39",
   "metadata": {},
   "outputs": [
    {
     "name": "stdout",
     "output_type": "stream",
     "text": [
      "32381997\n"
     ]
    }
   ],
   "source": [
    "!swarm -f {swarm_scripts_dir}/idat_to_gtc.swarm -g 15 -t 10 --time=10:00:00 --logdir {swarm_scripts_dir}/logs --gres=lscratch:20 --partition=norm --job-name idat_to_gtc"
   ]
  },
  {
   "cell_type": "code",
   "execution_count": 6,
   "id": "c7e6ad4f-6c75-437c-a39e-5c01b0c2942c",
   "metadata": {},
   "outputs": [],
   "source": [
    "with open(f'{swarm_scripts_dir}/gtc2vcf.swarm','w') as f:\n",
    "    for code in key.SentrixBarcode_A.unique():\n",
    "        gtc2vcf_cmd = f'\\\n",
    "export BCFTOOLS_PLUGINS=\"/data/vitaled2/bin\"; bcftools +gtc2vcf \\\n",
    "--no-version -Ob \\\n",
    "--bpm {bpm} \\\n",
    "--csv {bpm_csv} \\\n",
    "--egt {egt} \\\n",
    "--gtcs {gtc_path}/{code} \\\n",
    "--fasta-ref {grch38_fasta} \\\n",
    "--extra {vcf_path}/gp2_snps_{code}_metadata.tsv | \\\n",
    "bcftools norm --no-version -Oz -c w -f {grch38_fasta} > {vcf_path}/gp2_snps_{code}.vcf.gz'\n",
    "    \n",
    "        f.write(f'{gtc2vcf_cmd}\\n')\n",
    "f.close()\n"
   ]
  },
  {
   "cell_type": "code",
   "execution_count": 41,
   "id": "a2630d3d-dc59-4d19-acdc-316fcd6dd774",
   "metadata": {},
   "outputs": [
    {
     "name": "stdout",
     "output_type": "stream",
     "text": [
      "32384390\n"
     ]
    }
   ],
   "source": [
    "!swarm -f {swarm_scripts_dir}/gtc2vcf.swarm -g 64 -t 32 --time=10:00:00 --logdir {swarm_scripts_dir}/logs --gres=lscratch:20 --partition=norm --job-name gtc_to_vcf"
   ]
  },
  {
   "cell_type": "code",
   "execution_count": 7,
   "id": "a0a75980-e78b-4ba3-a688-791320779a27",
   "metadata": {},
   "outputs": [
    {
     "name": "stdout",
     "output_type": "stream",
     "text": [
      "mkdir: cannot create directory ‘/data/CARD/PD/GP2/raw_genotypes/GP2_vcfs/tmp’: File exists\n"
     ]
    }
   ],
   "source": [
    "# sort vcf\n",
    "!mkdir {vcf_path}/tmp\n",
    "with open(f'{swarm_scripts_dir}/bcftools_sort.swarm', 'w') as f:\n",
    "    for code in key.SentrixBarcode_A.unique():\n",
    "        sort_cmd = f'cd {vcf_path}; bcftools sort gp2_snps_{code}.vcf.gz -T ./tmp -Oz -o gp2_snps_sorted_{code}.vcf.gz'\n",
    "        f.write(f'{sort_cmd}\\n')\n",
    "f.close()"
   ]
  },
  {
   "cell_type": "code",
   "execution_count": 43,
   "id": "0d02c9ca-f89c-4a75-bd7c-a28cc9f01cc5",
   "metadata": {},
   "outputs": [
    {
     "name": "stdout",
     "output_type": "stream",
     "text": [
      "32476908\n"
     ]
    }
   ],
   "source": [
    "!swarm -f {swarm_scripts_dir}/bcftools_sort.swarm -g 32 -t 16 --time=10:00:00 --logdir {swarm_scripts_dir}/logs --gres=lscratch:20 --partition=norm --job-name vcf_sort"
   ]
  },
  {
   "cell_type": "code",
   "execution_count": 8,
   "id": "1c42ab64-feeb-4362-85c5-8acbd80d942e",
   "metadata": {},
   "outputs": [],
   "source": [
    "# split indels and snps in vcf\n",
    "with open(f'{swarm_scripts_dir}/vcftools_remove_indels.swarm', 'w') as f:\n",
    "    for code in key.SentrixBarcode_A.unique():\n",
    "        ext_snps_cmd = f'cd {vcf_path}; vcftools --gzvcf gp2_snps_sorted_{code}.vcf.gz --remove-indels --recode --recode-INFO-all --out gp2_snps_sorted_snps_only_{code}'\n",
    "        f.write(f'{ext_snps_cmd}\\n')\n",
    "f.close()"
   ]
  },
  {
   "cell_type": "code",
   "execution_count": 45,
   "id": "4884198b-d06f-4ba1-999a-1db6df99c54c",
   "metadata": {},
   "outputs": [
    {
     "name": "stdout",
     "output_type": "stream",
     "text": [
      "32481160\n"
     ]
    }
   ],
   "source": [
    "!swarm -f {swarm_scripts_dir}/vcftools_remove_indels.swarm -g 16 -t 16 --time=10:00:00 --logdir {swarm_scripts_dir}/logs --gres=lscratch:20 --partition=norm --job-name vcf_remove_indels"
   ]
  },
  {
   "cell_type": "code",
   "execution_count": 9,
   "id": "1add35b2-7ca7-45e0-be92-f326a3996af7",
   "metadata": {},
   "outputs": [],
   "source": [
    "# split indels and snps in vcf\n",
    "with open(f'{swarm_scripts_dir}/vcftools_keep_indels.swarm', 'w') as f:\n",
    "    for code in key.SentrixBarcode_A.unique():\n",
    "        keep_indels_cmd = f'cd {vcf_path}; vcftools --gzvcf gp2_snps_sorted_{code}.vcf.gz --keep-only-indels --recode --recode-INFO-all --out gp2_snps_sorted_indels_only_{code}'\n",
    "        f.write(f'{keep_indels_cmd}\\n')\n",
    "f.close()"
   ]
  },
  {
   "cell_type": "code",
   "execution_count": 47,
   "id": "8abc8bb9-0823-42c4-82ac-8207880b05c9",
   "metadata": {},
   "outputs": [
    {
     "name": "stdout",
     "output_type": "stream",
     "text": [
      "32481168\n"
     ]
    }
   ],
   "source": [
    "!swarm -f {swarm_scripts_dir}/vcftools_keep_indels.swarm -g 16 -t 16 --time=10:00:00 --logdir {swarm_scripts_dir}/logs --gres=lscratch:20 --partition=norm --job-name vcf_keep_indels"
   ]
  },
  {
   "cell_type": "code",
   "execution_count": 62,
   "id": "6f3ea83f-805f-433d-96e1-93e2c97cf6e8",
   "metadata": {},
   "outputs": [],
   "source": [
    "# get snp info from each vcf\n",
    "with open(f'{swarm_scripts_dir}/get_logr_baf.swarm', 'w') as f:\n",
    "    for code in key.SentrixBarcode_A.unique():\n",
    "        get_logr_baf = f'python3 process_vcf_snps.py --vcf {vcf_path}/gp2_snps_sorted_snps_only_{code}.recode.vcf --gene_ref /data/CARD/PD/GP2/ref_panel/glist-hg38 --out {vcf_path}/gp2_snp_metrics_{code}.txt'\n",
    "        f.write(f'{get_logr_baf}\\n')\n",
    "f.close()"
   ]
  },
  {
   "cell_type": "code",
   "execution_count": 63,
   "id": "ef64c2fc-963d-4b15-b22c-5ee294c9499f",
   "metadata": {},
   "outputs": [
    {
     "name": "stdout",
     "output_type": "stream",
     "text": [
      "32974379\n"
     ]
    }
   ],
   "source": [
    "!swarm -f {swarm_scripts_dir}/get_logr_baf.swarm -g 64 -t 32 --time=10:00:00 --logdir {swarm_scripts_dir}/logs --gres=lscratch:20 --partition=norm --job-name get_snp_metrics"
   ]
  },
  {
   "cell_type": "code",
   "execution_count": 37,
   "id": "2de1a8e8-f6f1-4a56-b2db-f2a2629bec60",
   "metadata": {
    "tags": []
   },
   "outputs": [],
   "source": [
    "# get snp info from each vcf\n",
    "with open(f'{swarm_scripts_dir}/clean_snp_metrics.swarm', 'w') as f:\n",
    "    for code in key.SentrixBarcode_A.unique():\n",
    "        clean_snp_metrics = f'python3 clean_snp_metrics.py --infile {vcf_path}/gp2_snp_metrics_{code}.txt --outpath {vcf_path}/gp2_snp_metrics'\n",
    "        f.write(f'{clean_snp_metrics}\\n')\n",
    "f.close()"
   ]
  },
  {
   "cell_type": "code",
   "execution_count": 38,
   "id": "eee5d511-cd80-464d-b5b2-d5b2a184ae8f",
   "metadata": {},
   "outputs": [
    {
     "name": "stdout",
     "output_type": "stream",
     "text": [
      "34805915\n"
     ]
    }
   ],
   "source": [
    "!swarm -f {swarm_scripts_dir}/clean_snp_metrics.swarm -g 16 -t 16 --time=10:00:00 --logdir {swarm_scripts_dir}/logs --gres=lscratch:20 --partition=norm --job-name clean_snp_metrics"
   ]
  },
  {
   "cell_type": "code",
   "execution_count": 36,
   "id": "165032c3-d5fc-4e7c-a020-46df92d44aa8",
   "metadata": {},
   "outputs": [
    {
     "name": "stdout",
     "output_type": "stream",
     "text": [
      "  File \"clean_snp_metrics.py\", line 11\n",
      "    infile = args.in\n",
      "                   ^\n",
      "SyntaxError: invalid syntax\n",
      "  File \"clean_snp_metrics.py\", line 11\n",
      "    infile = args.in\n",
      "                   ^\n",
      "SyntaxError: invalid syntax\n"
     ]
    }
   ],
   "source": [
    "!cat {swarm_scripts_dir}/logs/clean_snp_metrics_34805480_0.e"
   ]
  },
  {
   "cell_type": "code",
   "execution_count": 34,
   "id": "45dde7d6-b8eb-4421-a325-39732f2ff66b",
   "metadata": {
    "tags": []
   },
   "outputs": [],
   "source": [
    "# # split each file by chr and iid\n",
    "\n",
    "# infile = f'{vcf_path}/gp2_snp_metrics_204697840024.txt'\n",
    "# df = pd.read_csv(infile, sep='\\t')\n",
    "\n",
    "\n",
    "# cols = ['CHROM','POS','ID','REF','ALT','sampleid','BAF','LRR']\n",
    "\n",
    "# for iid in df.sampleid.unique():\n",
    "#     for chrom in df.CHROM.unique():\n",
    "        \n",
    "#         outfile = f'{vcf_path}/gp2_snp_metrics_{iid}_chr{chrom}.txt' \n",
    "#         out_df = df.loc[(df.CHROM==chrom) & (df.sampleid==iid)]\n",
    "#         out_df[['CHROM','ID','POS','BAF','LRR']].to_csv(outfile, sep='\\t', header=True, index=False)\n",
    "        "
   ]
  },
  {
   "cell_type": "code",
   "execution_count": 59,
   "id": "cbc9fcd7-2c4e-4df7-9ce6-e6431c129149",
   "metadata": {},
   "outputs": [],
   "source": [
    "metrics = pd.read_csv(f'{vcf_path}/gp2_snp_metrics_{code}.txt', sep='\\t', nrows=100, dtype={'CHROM':str,'POS':int})\n",
    "metrics.loc[:,'CHROM'] = metrics.loc[:,'CHROM'].str.replace('chr','')\n",
    "metrics.loc[:,'gene'] = np.nan"
   ]
  },
  {
   "cell_type": "code",
   "execution_count": 60,
   "id": "a757b3a5-ba12-4734-b3de-3c16498a5cdc",
   "metadata": {},
   "outputs": [],
   "source": [
    "# for i, gene in enumerate(gene_list.symbol):\n",
    "# #     print(gene_list.loc[i,:])\n",
    "#     chrom = gene_list.loc[i,'chr']\n",
    "#     start = gene_list.loc[i,'start'] - 100000\n",
    "#     end = gene_list.loc[i, 'end'] + 100000\n",
    "#     metrics.loc[((metrics.CHROM==chrom) & (metrics.POS>=start) & (metrics.POS<=end)),'gene'] = gene\n",
    "    \n"
   ]
  },
  {
   "cell_type": "markdown",
   "id": "7fbc9355-7be4-4312-adcb-91eeb93ef799",
   "metadata": {},
   "source": [
    "## Dev for CNV module in GenoTools"
   ]
  },
  {
   "cell_type": "code",
   "execution_count": 25,
   "id": "9360a1b5-448a-46db-ad74-6cf27f4b68bc",
   "metadata": {},
   "outputs": [],
   "source": [
    "# import os\n",
    "# import subprocess\n",
    "# from QC.utils import shell_do\n",
    "\n",
    "# def idat_snp_metrics(idat_path, bpm, bpm_csv, egt, ref_fasta, out_path, iaap=iaap):\n",
    "#     '''\n",
    "#     current structure of idat storage is such that a directory of each SentrixBarcode_A with all idats for that barcode in it\n",
    "#     for ex.\n",
    "#     1112223334\n",
    "#         --> 1112223334_R01C01_Red.idat\n",
    "#         --> 1112223334_R01C01_Grn.idat\n",
    "#         --> 1112223334_R01C02_Red.idat\n",
    "#         --> 1112223334_R01C02_Grn.idat\n",
    "#         etc.\n",
    "        \n",
    "#     '''\n",
    "#     out_tmp = f'{out_path}/tmp'\n",
    "#     os.makedirs(out_tmp, exist_ok=True)\n",
    "#     barcode = idat_path.split('/')[-1].split('_')[0]\n",
    "#     barcode_out_path = f'{out_path}/{barcode}'\n",
    "#     os.makedirs(barcode_out_path, exist_ok=True)\n",
    "    \n",
    "    \n",
    "#     idat_to_gtc_cmd = f'\\\n",
    "# {iaap} gencall \\\n",
    "# {bpm} \\\n",
    "# {egt} \\\n",
    "# {barcode_out_path} \\\n",
    "# -f {idat_path} \\\n",
    "# -g \\\n",
    "# -t 8'\n",
    "\n",
    "#     # export path to plugins temporarily for biowulf. will figure this out later\n",
    "#     gtc2vcf_cmd = f'\\\n",
    "# export BCFTOOLS_PLUGINS=\"/data/vitaled2/bin\"; \\\n",
    "# bcftools +gtc2vcf \\\n",
    "# --no-version -Ob \\\n",
    "# --bpm {bpm} \\\n",
    "# --csv {bpm_csv} \\\n",
    "# --egt {egt} \\\n",
    "# --gtcs {barcode_out_path} \\\n",
    "# --fasta-ref {ref_fasta} | \\\n",
    "# bcftools norm --no-version -Oz -c w -f {ref_fasta} > {barcode_out_path}/{barcode}.vcf.gz'\n",
    "    \n",
    "#     # --extra {vcf_path}/gp2_snps_{code}_metadata.tsv | \\\n",
    "\n",
    "#     # sort vcf\n",
    "#     sort_cmd = f'\\\n",
    "# bcftools \\\n",
    "# sort {barcode_out_path}/{barcode}.vcf.gz \\\n",
    "# -T {out_tmp}/ \\\n",
    "# -Oz -o {barcode_out_path}/{barcode}_sorted.vcf.gz'\n",
    "# # cd {barcode_out_path} && \\\n",
    "\n",
    "#     # split indels and snps in vcf\n",
    "#     ext_snps_cmd = f'\\\n",
    "# vcftools --gzvcf \\\n",
    "# {barcode_out_path}/{barcode}_sorted.vcf.gz \\\n",
    "# --remove-indels \\\n",
    "# --recode \\\n",
    "# --recode-INFO-all \\\n",
    "# --out {barcode_out_path}/{barcode}_sorted_snps'\n",
    "# # cd {barcode_out_path} && \\\n",
    "\n",
    "\n",
    "#     # split indels and snps in vcf\n",
    "# #     keep_indels_cmd = f'\\\n",
    "# # cd {barcode_out_path}; \\\n",
    "# # vcftools --gzvcf \\\n",
    "# # {barcode}_sorted.vcf.gz \\\n",
    "# # --keep-only-indels \\\n",
    "# # --recode \\\n",
    "# # --recode-INFO-all \\\n",
    "# # --out {code}_indels'\n",
    "\n",
    "#     # get snp info from each vcf\n",
    "#     get_logr_baf = f'\\\n",
    "# python3 process_vcf_snps.py \\\n",
    "# --vcf {barcode_out_path}/{barcode}_sorted_snps.recode.vcf \\\n",
    "# --outfile {barcode_out_path}/snp_metrics_{barcode}.csv'\n",
    "\n",
    "\n",
    "#     # get snp info from each vcf\n",
    "#     clean_snp_metrics = f'\\\n",
    "# python3 clean_snp_metrics.py \\\n",
    "# --infile {barcode_out_path}/snp_metrics_{barcode}.csv \\\n",
    "# --outfile {barcode_out_path}/snp_metrics'\n",
    "\n",
    "#     cmds = [idat_to_gtc_cmd, gtc2vcf_cmd, sort_cmd, ext_snps_cmd, get_logr_baf, clean_snp_metrics]\n",
    "# #     cmds = [get_logr_baf, clean_snp_metrics]\n",
    "# #     cmds = [get_logr_baf]\n",
    "# #     cmds = [clean_snp_metrics]\n",
    "#     for cmd in cmds:\n",
    "#         if cmd == gtc2vcf_cmd:\n",
    "#             subprocess.call(cmd, shell=True)\n",
    "#         else:\n",
    "#             shell_do(cmd)\n",
    "            \n",
    " \n",
    "#     # output snp metrics paths\n",
    "#     chroms = [str(i) for i in range(1,23)] + ['X','Y']\n",
    "#     samples = [s.split('/')[-1].replace('_Red.idat','') for s in glob.glob(f'{idat_path}/*_Red.idat')]\n",
    "    \n",
    "#     outfiles = []\n",
    "#     for sample in samples:\n",
    "#         for chrom in chroms:\n",
    "#             outfile = f'{barcode_out_path}/snp_metrics_{sample}_chr{chrom}.csv'\n",
    "#             outfiles.append(outfile)\n",
    "            \n",
    "#     return outfiles\n",
    "\n",
    "\n",
    "# for sample in samples:\n",
    "#     for chrom in chroms:\n",
    "\n",
    "#     call_cnvs_cmd = f'\\\n",
    "#     python3 cnv_gene_caller_alpha.py \\\n",
    "#     --infile {barcode_out_path}/snp_metrics_{sample}_chr{chrom}.csv \\\n",
    "#     --outfile {barcode_out_path}/{sample}_chr{chrom} \\\n",
    "#     --intervals {gene_list}'\n",
    "            \n",
    "#             print(call_cnvs_cmd)\n",
    "#             shell_do(call_cnvs_cmd)\n"
   ]
  },
  {
   "cell_type": "code",
   "execution_count": 20,
   "id": "d4088290-ec98-4f21-882d-288b4bcfd39a",
   "metadata": {
    "tags": []
   },
   "outputs": [],
   "source": [
    "# infile = f'{test_path}/snp_metrics_206046180074.csv'\n",
    "# outfile = f'{test_path}/snp_metrics'"
   ]
  },
  {
   "cell_type": "code",
   "execution_count": 70,
   "id": "a74ba7d8-5a82-46aa-8e9e-c901d3c89a07",
   "metadata": {},
   "outputs": [
    {
     "name": "stdout",
     "output_type": "stream",
     "text": [
      "206046180074_R01C01_Grn.idat  206046180074_R05C01_Grn.idat\n",
      "206046180074_R01C01_Red.idat  206046180074_R05C01_Red.idat\n",
      "206046180074_R02C01_Grn.idat  206046180074_R06C01_Grn.idat\n",
      "206046180074_R02C01_Red.idat  206046180074_R06C01_Red.idat\n",
      "206046180074_R03C01_Grn.idat  206046180074_R07C01_Grn.idat\n",
      "206046180074_R03C01_Red.idat  206046180074_R07C01_Red.idat\n",
      "206046180074_R04C01_Grn.idat  206046180074_R08C01_Grn.idat\n",
      "206046180074_R04C01_Red.idat  206046180074_R08C01_Red.idat\n"
     ]
    }
   ],
   "source": [
    "!ls {idat_path}"
   ]
  },
  {
   "cell_type": "code",
   "execution_count": 58,
   "id": "28205978-7be6-4460-8619-fa267e2aac0d",
   "metadata": {},
   "outputs": [],
   "source": [
    "idat_path = '/data/vitaled2/cnv_test/206046180074'\n",
    "test_out = '/data/vitaled2/cnv_test'\n",
    "# snp_metrics_files = idat_snp_metrics(idat_path, bpm, bpm_csv, egt, ref_fasta, test_out)\n",
    "\n",
    "with open(f'{swarm_scripts_dir}/call_cnvs.swarm', 'w') as f:\n",
    "    \n",
    "    for mfile in snp_metrics_files:\n",
    "        out_prefix = mfile.replace('.csv','').replace('snp_metrics_', '')\n",
    "#         chrom = out_prefix.split('_')[-1]\n",
    "#         gene_chrom_list = f'/data/CARD/PD/GP2/ref_panel/glist_hg38_{chrom}.csv'\n",
    "\n",
    "        call_cnvs_cmd = f'\\\n",
    "python3 cnv_gene_caller_alpha.py \\\n",
    "--infile {mfile} \\\n",
    "--outfile {out_prefix} \\\n",
    "--intervals {gene_list}'\n",
    "\n",
    "        f.write(f'{call_cnvs_cmd}\\n')\n",
    "f.close()"
   ]
  },
  {
   "cell_type": "code",
   "execution_count": 59,
   "id": "466c2d62-e7ac-40a2-93de-74101cea730d",
   "metadata": {},
   "outputs": [
    {
     "name": "stdout",
     "output_type": "stream",
     "text": [
      "35729936\n"
     ]
    }
   ],
   "source": [
    "!swarm -f {swarm_scripts_dir}/call_cnvs.swarm -g 16 -t 16 --time=10:00:00 --logdir {swarm_scripts_dir}/logs --gres=lscratch:20 --partition=norm"
   ]
  },
  {
   "cell_type": "code",
   "execution_count": 3,
   "id": "aae45f14-b13c-4f06-8117-4fea7d5da2b9",
   "metadata": {},
   "outputs": [],
   "source": []
  },
  {
   "cell_type": "code",
   "execution_count": 4,
   "id": "bb52f15e-47db-4078-bfdb-d5a62634b89e",
   "metadata": {},
   "outputs": [],
   "source": []
  },
  {
   "cell_type": "code",
   "execution_count": null,
   "id": "856affd9-9257-4109-8ce7-fbfac7173c13",
   "metadata": {},
   "outputs": [],
   "source": []
  },
  {
   "cell_type": "code",
   "execution_count": null,
   "id": "6c98ef22-a558-424e-a7a2-f1ea831aeb26",
   "metadata": {},
   "outputs": [],
   "source": []
  },
  {
   "cell_type": "code",
   "execution_count": null,
   "id": "c087c7d4-7aec-42b3-b397-b0cb836cf2be",
   "metadata": {},
   "outputs": [],
   "source": []
  },
  {
   "cell_type": "code",
   "execution_count": null,
   "id": "1313d3a1-4bfd-415e-8e89-b1dd8064162f",
   "metadata": {},
   "outputs": [],
   "source": []
  },
  {
   "cell_type": "code",
   "execution_count": null,
   "id": "d01f60c7-41a2-4ad5-879e-761bac5144c3",
   "metadata": {},
   "outputs": [],
   "source": []
  },
  {
   "cell_type": "code",
   "execution_count": null,
   "id": "bb81262a-9647-47a7-8dd3-dc4aea217a26",
   "metadata": {},
   "outputs": [],
   "source": []
  }
 ],
 "metadata": {
  "kernelspec": {
   "display_name": "python/3.8",
   "language": "python",
   "name": "py3.8"
  },
  "language_info": {
   "codemirror_mode": {
    "name": "ipython",
    "version": 3
   },
   "file_extension": ".py",
   "mimetype": "text/x-python",
   "name": "python",
   "nbconvert_exporter": "python",
   "pygments_lexer": "ipython3",
   "version": "3.8.12"
  }
 },
 "nbformat": 4,
 "nbformat_minor": 5
}
