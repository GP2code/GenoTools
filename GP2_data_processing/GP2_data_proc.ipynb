{
 "cells": [
  {
   "cell_type": "code",
   "execution_count": 1,
   "id": "705f4cb2-cc3c-40f3-ae09-6a4d0ea7c272",
   "metadata": {},
   "outputs": [],
   "source": [
    "import pandas as pd\n",
    "import os\n",
    "import shutil\n",
    "import numpy as np\n",
    "import glob\n",
    "\n",
    "from QC.utils import shell_do\n",
    "from QC.imputation import impute_data_prep\n",
    "import QC.config as config"
   ]
  },
  {
   "cell_type": "code",
   "execution_count": 2,
   "id": "dd94de9c-f89b-4d7f-bfe1-38c94d080f37",
   "metadata": {},
   "outputs": [],
   "source": [
    "idat_path = '/data/CARD/PD/GP2/raw_genotypes/GP2_idats'\n",
    "raw_plink_path = '/data/CARD/PD/GP2/raw_genotypes/GP2_plink'\n",
    "gp2_qc_path = '/data/CARD/PD/GP2/raw_genotypes/GP2_QC'\n",
    "\n",
    "# now set up path for round1 QC\n",
    "geno_path = f'{gp2_qc_path}/round1/GP2_QC_round1'\n",
    "\n",
    "ilmn_files_path = '/data/CARD/PD/GP2/ilmn_files'\n",
    "bpm = f'{ilmn_files_path}/NeuroBooster_20042459_A1.bpm'\n",
    "egt = f'{ilmn_files_path}/NBSCluster_file_n1393_011921.egt'\n",
    "iaap = f'{ilmn_files_path}/iaap-cli/iaap-cli'\n",
    "\n",
    "key_dir = '/data/CARD/PD/GP2/key_files'\n",
    "clin_dir = '/data/CARD/PD/GP2/clinical'\n",
    "key_file = f'{key_dir}/master_key.csv'\n",
    "clin_file = f'{clin_dir}/GP2_clinical.csv'\n",
    "\n",
    "swarm_scripts_dir = f'/data/CARD/PD/GP2/swarm_scripts'\n",
    "# swarm_dir = f'/data/CARD/PD/GP2/swarm_scripts/swarm'"
   ]
  },
  {
   "cell_type": "markdown",
   "id": "b336825e-a9aa-476c-8b82-3e6fb81bc679",
   "metadata": {},
   "source": [
    "# Create Plink style phenotypes and update ids"
   ]
  },
  {
   "cell_type": "code",
   "execution_count": 14,
   "id": "14797d6b-13b5-4488-8f84-9a65f24e9023",
   "metadata": {},
   "outputs": [],
   "source": [
    "pheno = pd.read_csv(clin_file)\n",
    "key = pd.read_csv(key_file)\n",
    "\n",
    "\n",
    "pheno['Original_clinicalID'] = pheno['Original_clinicalID'].astype(str)\n",
    "key['Sample_ID'] = key['Sample_ID'].astype(str)\n",
    "key['filename'] = key['SentrixBarcode_A'].astype(str) + '_' + key['SentrixPosition_A']\n",
    "pheno_out = key.merge(pheno, how='inner', left_on='Sample_ID', right_on='Original_clinicalID')\n",
    "pheno_out['IID'] = pheno_out.SentrixBarcode_A.astype(str) + '_' + pheno_out.SentrixPosition_A.astype(str)\n",
    "pheno_out['FID'] = 0\n",
    "pheno_out['FID_new'] = 0\n",
    "# pheno_out['pheno'] = 0\n",
    "\n",
    "\n",
    "# update codes to plink format\n",
    "pheno_out.loc[pheno_out.Phenotype == 'PD', 'pheno'] = 2\n",
    "pheno_out.loc[pheno_out.Phenotype == 'Control', 'pheno'] = 1\n",
    "pheno_out.loc[pheno_out.Phenotype == 'Not Reported', 'pheno'] = 0\n",
    "\n",
    "pheno_out.loc[pheno_out.Sex == 'Male', 'sex'] = 1\n",
    "pheno_out.loc[pheno_out.Sex == 'Female', 'sex'] = 2\n",
    "pheno_out.loc[pheno_out.Sex == 'Not Reported', 'sex'] = 0\n",
    "\n",
    "pheno_out.loc[:,'pheno'] = pheno_out.loc[:,'pheno'].astype(int).astype(str)\n",
    "pheno_out.loc[:,'sex'] = pheno_out.loc[:,'sex'].astype(int).astype(str)\n",
    "\n",
    "\n",
    "pheno_out[['FID','IID', 'FID_new', 'GP2SampleID']].to_csv(f'{clin_dir}/update_ids.txt', sep='\\t', header=False, index=False)\n",
    "pheno_out[['FID_new', 'GP2SampleID', 'pheno']].to_csv(f'{clin_dir}/update_pheno.txt', sep='\\t', header=False, index=False)\n",
    "pheno_out[['FID_new', 'GP2SampleID', 'sex']].to_csv(f'{clin_dir}/update_sex.txt', sep='\\t', header=False, index=False)\n"
   ]
  },
  {
   "cell_type": "code",
   "execution_count": 4,
   "id": "95fbc782-d311-454e-8539-8a132136ecc6",
   "metadata": {},
   "outputs": [
    {
     "data": {
      "text/plain": [
       "1    3054\n",
       "2    2259\n",
       "0       3\n",
       "Name: sex, dtype: int64"
      ]
     },
     "execution_count": 4,
     "metadata": {},
     "output_type": "execute_result"
    }
   ],
   "source": [
    "pheno_out.sex.value_counts()"
   ]
  },
  {
   "cell_type": "markdown",
   "id": "171a6659-5c73-494b-8c4c-a47373d8c512",
   "metadata": {},
   "source": [
    "# Convert idats to ped "
   ]
  },
  {
   "cell_type": "code",
   "execution_count": 27,
   "id": "dd4c6452-9f06-45e2-a664-a30e7943e639",
   "metadata": {},
   "outputs": [],
   "source": [
    "with open(f'{swarm_scripts_dir}/idat_to_ped.swarm', 'w') as f:\n",
    "    \n",
    "    for code in key.SentrixBarcode_A.unique():\n",
    "        \n",
    "        idat_to_ped_cmd = f'\\\n",
    "{iaap} gencall \\\n",
    "{bpm} \\\n",
    "{egt} \\\n",
    "{raw_plink_path}/ \\\n",
    "-f {idat_path}/{code} \\\n",
    "-p \\\n",
    "-t 8'\n",
    "        \n",
    "        f.write(f'{idat_to_ped_cmd}\\n')\n",
    "f.close()"
   ]
  },
  {
   "cell_type": "code",
   "execution_count": 29,
   "id": "bf877918-80f4-4286-af3f-4d38c2cbedf9",
   "metadata": {},
   "outputs": [
    {
     "name": "stdout",
     "output_type": "stream",
     "text": [
      "20940619\n"
     ]
    }
   ],
   "source": [
    "!swarm -f {swarm_scripts_dir}/idat_to_ped.swarm -g 32 -t 16 --time=10:00:00 --logdir {swarm_scripts_dir}/logs --gres=lscratch:20 --partition=norm"
   ]
  },
  {
   "cell_type": "code",
   "execution_count": 32,
   "id": "126c8f02-4652-42ea-8e08-5d02ca62998c",
   "metadata": {},
   "outputs": [
    {
     "name": "stdout",
     "output_type": "stream",
     "text": [
      "/data/CARD/PD/GP2/raw_genotypes/GP2_plink/205275450156_R02C01.ped does not exist!\n",
      "/data/CARD/PD/GP2/raw_genotypes/GP2_plink/205275450156_R02C01.map creation cancelled\n"
     ]
    }
   ],
   "source": [
    "# copy map file to match name of each ped\n",
    "map_file = f'{raw_plink_path}/NeuroBooster_20042459_A1.map'\n",
    "for filename in key.filename:\n",
    "    ped = f'{raw_plink_path}/{filename}.ped'\n",
    "    out_map = f'{raw_plink_path}/{filename}.map'\n",
    "    if os.path.isfile(ped):\n",
    "        shutil.copyfile(src=map_file, dst=out_map)\n",
    "    else:\n",
    "        print(f'{ped} does not exist!')\n",
    "        print(f'{out_map} creation cancelled')"
   ]
  },
  {
   "cell_type": "code",
   "execution_count": 33,
   "id": "09932095-b9e3-48e5-8717-6b39856ddb0c",
   "metadata": {},
   "outputs": [],
   "source": [
    "with open(f'{swarm_scripts_dir}/make_bed.swarm', 'w') as f:\n",
    "    for filename in key.filename:\n",
    "        ped = f'{raw_plink_path}/{filename}'\n",
    "        make_bed_cmd = f'\\\n",
    "plink \\\n",
    "--file {ped} \\\n",
    "--make-bed \\\n",
    "--out {raw_plink_path}/{filename}'\n",
    "\n",
    "        f.write(f'{make_bed_cmd}\\n')\n",
    "f.close()"
   ]
  },
  {
   "cell_type": "code",
   "execution_count": 34,
   "id": "eac8fcac-5399-4205-bac0-8680f9f369e0",
   "metadata": {},
   "outputs": [
    {
     "name": "stdout",
     "output_type": "stream",
     "text": [
      "20951177\n"
     ]
    }
   ],
   "source": [
    "!swarm -f {swarm_scripts_dir}/make_bed.swarm -g 64 -t 32 --time=10:00:00 --logdir swarm --gres=lscratch:20 --partition=norm"
   ]
  },
  {
   "cell_type": "code",
   "execution_count": 10,
   "id": "54be75aa-88d9-4e9d-b747-3c23a6ac8da1",
   "metadata": {},
   "outputs": [
    {
     "name": "stdout",
     "output_type": "stream",
     "text": [
      "/data/CARD/PD/GP2/raw_genotypes/GP2_plink/205275450156_R02C01 does not exist!!!\n"
     ]
    }
   ],
   "source": [
    "# write plink merge command\n",
    "with open(f\"{raw_plink_path}/merge_bed.list\", 'w') as f:\n",
    "    for filename in key.filename:\n",
    "        bed = f'{raw_plink_path}/{filename}'\n",
    "        if os.path.isfile(f'{bed}.bed'):\n",
    "            f.write(f'{bed}\\n')\n",
    "        else:\n",
    "            print(f'{bed} does not exist!!!')\n",
    "f.close()\n",
    "\n",
    "with open(f\"{swarm_scripts_dir}/merge.swarm\", 'w') as f:\n",
    "\n",
    "    plink_merge_cmd = f'\\\n",
    "plink \\\n",
    "--merge-list {raw_plink_path}/merge_bed.list \\\n",
    "--update-ids {clin_dir}/update_ids.txt \\\n",
    "--make-bed \\\n",
    "--out {raw_plink_path}/GP2_merge'\n",
    "    f.write(f\"{plink_merge_cmd}\")\n",
    "f.close()"
   ]
  },
  {
   "cell_type": "code",
   "execution_count": 53,
   "id": "5a92207e-b205-4a96-b042-346e5f8ad832",
   "metadata": {},
   "outputs": [
    {
     "name": "stdout",
     "output_type": "stream",
     "text": [
      "20969678\n"
     ]
    }
   ],
   "source": [
    "!swarm -f {swarm_scripts_dir}/merge.swarm -g 64 -t 32 --time=10:00:00 --logdir swarm --gres=lscratch:20 --partition=norm"
   ]
  },
  {
   "cell_type": "code",
   "execution_count": 18,
   "id": "24ceb36c-4390-4cf6-8dca-92102666d5a8",
   "metadata": {},
   "outputs": [
    {
     "name": "stdout",
     "output_type": "stream",
     "text": [
      "PLINK v1.90b4.4 64-bit (21 May 2017)           www.cog-genomics.org/plink/1.9/\n",
      "(C) 2005-2017 Shaun Purcell, Christopher Chang   GNU General Public License v3\n",
      "Logging to /data/CARD/PD/GP2/raw_genotypes/GP2_QC/round1/GP2_QC_round1.log.\n",
      "Options in effect:\n",
      "  --bfile /data/CARD/PD/GP2/raw_genotypes/GP2_plink/GP2_merge\n",
      "  --make-bed\n",
      "  --out /data/CARD/PD/GP2/raw_genotypes/GP2_QC/round1/GP2_QC_round1\n",
      "  --pheno /data/CARD/PD/GP2/clinical/update_pheno.txt\n",
      "  --update-sex /data/CARD/PD/GP2/clinical/update_sex.txt\n",
      "\n",
      "1547809 MB RAM detected; reserving 773904 MB for main workspace.\n",
      "2004347 variants loaded from .bim file.\n",
      "5320 people (2988 males, 2180 females, 152 ambiguous) loaded from .fam.\n",
      "Ambiguous sex IDs written to\n",
      "/data/CARD/PD/GP2/raw_genotypes/GP2_QC/round1/GP2_QC_round1.nosex .\n",
      "5312 phenotype values present after --pheno.\n",
      "--update-sex: 5315 people updated, 1 ID not present.\n",
      "Warning: Ignoring phenotypes of missing-sex samples.  If you don't want those\n",
      "phenotypes to be ignored, use the --allow-no-sex flag.\n",
      "Using 1 thread (no multithreaded calculations invoked).\n",
      "Before main variant filters, 5320 founders and 0 nonfounders present.\n",
      "Calculating allele frequencies... 10111213141516171819202122232425262728293031323334353637383940414243444546474849505152535455565758596061626364656667686970717273747576777879808182838485868788899091929394959697989 done.\n",
      "Warning: 361052 het. haploid genotypes present (see\n",
      "/data/CARD/PD/GP2/raw_genotypes/GP2_QC/round1/GP2_QC_round1.hh ); many commands\n",
      "treat these as missing.\n",
      "Warning: Nonmissing nonmale Y chromosome genotype(s) present; many commands\n",
      "treat these as missing.\n",
      "Total genotyping rate is 0.987454.\n",
      "2004347 variants and 5320 people pass filters and QC.\n",
      "Among remaining phenotypes, 3718 are cases and 1594 are controls.  (8\n",
      "phenotypes are missing.)\n",
      "--make-bed to /data/CARD/PD/GP2/raw_genotypes/GP2_QC/round1/GP2_QC_round1.bed +\n",
      "/data/CARD/PD/GP2/raw_genotypes/GP2_QC/round1/GP2_QC_round1.bim +\n",
      "/data/CARD/PD/GP2/raw_genotypes/GP2_QC/round1/GP2_QC_round1.fam ... 101112131415161718192021222324252627282930313233343536373839404142434445464748495051525354555657585960616263646566676869707172737475767778798081828384858687888990919293949596979899done.\n"
     ]
    }
   ],
   "source": [
    "!plink --bfile {raw_plink_path}/GP2_merge --pheno {clin_dir}/update_pheno.txt --update-sex {clin_dir}/update_sex.txt --make-bed --out {geno_path}"
   ]
  },
  {
   "cell_type": "code",
   "execution_count": 3,
   "id": "1c7cdfff-662d-4138-9834-35c61f2c581c",
   "metadata": {},
   "outputs": [
    {
     "name": "stdout",
     "output_type": "stream",
     "text": [
      "python3 ../run_qc_pipeline.py --geno /data/CARD/PD/GP2/raw_genotypes/GP2_QC/round1/GP2_QC_round1 --ref /data/LNG/vitaled2/1kgenomes/1kg_ashkj_ref_panel_gp2_pruned --ref_labels /data/LNG/vitaled2/1kgenomes/ref_panel_ancestry.txt --out /data/CARD/PD/GP2/genotypes/GP2/round1/clean/GP2_round1\n"
     ]
    }
   ],
   "source": [
    "# run QC pipeline\n",
    "geno_path = f'{gp2_qc_path}/round1/GP2_QC_round1'\n",
    "out_dir = f'/data/CARD/PD/GP2/genotypes/GP2/round1/clean'\n",
    "out_path = f'{out_dir}/GP2_round1'\n",
    "os.makedirs(f'{out_dir}', exist_ok=True)\n",
    "ref_dir_path = '/data/LNG/vitaled2/1kgenomes'\n",
    "ref_panel = f'{ref_dir_path}/1kg_ashkj_ref_panel_gp2_pruned'\n",
    "ref_labels = f'{ref_dir_path}/ref_panel_ancestry.txt'\n",
    "\n",
    "\n",
    "with open(f'{swarm_scripts_dir}/run_qc_pipeline.swarm','w') as f:\n",
    "    run_pipeline = f'python3 ../run_qc_pipeline.py --geno {geno_path} --ref {ref_panel} --ref_labels {ref_labels} --out {out_path}'\n",
    "    f.write(f'{run_pipeline}\\n')\n",
    "f.close()\n",
    "!cat {swarm_scripts_dir}/run_qc_pipeline.swarm"
   ]
  },
  {
   "cell_type": "code",
   "execution_count": 6,
   "id": "44c4c75b-bc8d-4c5b-aade-c9873f691f98",
   "metadata": {},
   "outputs": [
    {
     "name": "stdout",
     "output_type": "stream",
     "text": [
      "21866792\n"
     ]
    }
   ],
   "source": [
    "!swarm -f {swarm_scripts_dir}/run_qc_pipeline.swarm -g 64 -t 32 --time=10:00:00 --logdir swarm --gres=lscratch:20 --partition=norm"
   ]
  },
  {
   "cell_type": "code",
   "execution_count": 6,
   "id": "875c14f4-b8be-475f-8e60-67413985c2b7",
   "metadata": {},
   "outputs": [],
   "source": [
    "QC_metrics_path = f'{out_path}.QC.metrics.h5'\n",
    "\n",
    "metrics_df = pd.read_hdf(QC_metrics_path, key='QC')\n",
    "pruned_samples = pd.read_hdf(QC_metrics_path, key='pruned_samples')\n",
    "ancestry_counts_df = pd.read_hdf(QC_metrics_path, key='ancestry_counts')\n",
    "pred_ancestry_labels = pd.read_hdf(QC_metrics_path, key='ancestry_labels')\n",
    "conf_mat_df = pd.read_hdf(QC_metrics_path, key='confusion_matrix', index=True)\n",
    "ref_pcs = pd.read_hdf(QC_metrics_path, key='ref_pcs')\n",
    "projected_pcs = pd.read_hdf(QC_metrics_path, key='projected_pcs')\n",
    "total_umap = pd.read_hdf(QC_metrics_path, key='total_umap')\n",
    "ref_umap = pd.read_hdf(QC_metrics_path, key='ref_umap')\n",
    "new_samples_umap = pd.read_hdf(QC_metrics_path, key='new_samples_umap')"
   ]
  },
  {
   "cell_type": "code",
   "execution_count": 17,
   "id": "230685a9-dfda-4eba-b8ac-138d13453dd6",
   "metadata": {},
   "outputs": [],
   "source": [
    "# pruned_samples[pruned_samples.step=='callrate_prune']\n",
    "pruned_samples_pheno = pruned_samples.merge(pheno, left_on='IID', right_on='GP2SampleID', how='left')"
   ]
  },
  {
   "cell_type": "code",
   "execution_count": 23,
   "id": "5386167d-0dcb-424f-97f8-64a134ff7321",
   "metadata": {},
   "outputs": [
    {
     "name": "stdout",
     "output_type": "stream",
     "text": [
      "BCM\n",
      "callrate_prune    16\n",
      "sex_prune         12\n",
      "related_prune      5\n",
      "Name: step, dtype: int64\n",
      "\n",
      "UMD\n",
      "callrate_prune    20\n",
      "sex_prune         16\n",
      "related_prune      8\n",
      "Name: step, dtype: int64\n",
      "\n",
      "CORIELL\n",
      "callrate_prune    230\n",
      "related_prune      91\n",
      "sex_prune          30\n",
      "Name: step, dtype: int64\n",
      "\n"
     ]
    }
   ],
   "source": [
    "for cohort in pruned_samples_pheno.Cohort_name.unique():\n",
    "    print(cohort)\n",
    "    print(pruned_samples_pheno[pruned_samples_pheno.Cohort_name == cohort].step.value_counts())\n",
    "    print()"
   ]
  },
  {
   "cell_type": "code",
   "execution_count": 27,
   "id": "92a7869f-9f77-4783-9c85-5f8276a729a3",
   "metadata": {},
   "outputs": [],
   "source": [
    "pred_ancestry_labels_pheno = pred_ancestry_labels.merge(pheno, left_on='IID', right_on='GP2SampleID', how='left')"
   ]
  },
  {
   "cell_type": "code",
   "execution_count": 29,
   "id": "4e74d8ff-5e4c-476e-bd67-d6bef3cab6f5",
   "metadata": {},
   "outputs": [
    {
     "name": "stdout",
     "output_type": "stream",
     "text": [
      "BCM\n",
      "EUR    625\n",
      "AMR     80\n",
      "AJ      28\n",
      "AAC     24\n",
      "SAS     17\n",
      "EAS      7\n",
      "Name: label, dtype: int64\n",
      "\n",
      "UMD\n",
      "EUR    355\n",
      "AJ      55\n",
      "AAC     14\n",
      "AMR      9\n",
      "SAS      6\n",
      "EAS      4\n",
      "Name: label, dtype: int64\n",
      "\n",
      "CORIELL\n",
      "EUR    3015\n",
      "AJ      438\n",
      "AMR     127\n",
      "AAC     123\n",
      "EAS      37\n",
      "SAS      24\n",
      "FIN       3\n",
      "Name: label, dtype: int64\n",
      "\n",
      "nan\n",
      "Series([], Name: label, dtype: int64)\n",
      "\n"
     ]
    }
   ],
   "source": [
    "for cohort in pred_ancestry_labels_pheno.Cohort_name.unique():\n",
    "    print(cohort)\n",
    "    print(pred_ancestry_labels_pheno[pred_ancestry_labels_pheno.Cohort_name == cohort].label.value_counts())\n",
    "    print()"
   ]
  },
  {
   "cell_type": "code",
   "execution_count": 9,
   "id": "0a453542-38e1-47f3-bba0-24c976b94c12",
   "metadata": {},
   "outputs": [],
   "source": [
    "# param grid for debugging\n",
    "param_grid = {\n",
    "        \"umap__n_neighbors\": [5],\n",
    "        \"umap__n_components\": [15],\n",
    "        \"umap__a\":[1.0],\n",
    "        \"umap__b\": [0.5],\n",
    "        \"svc__C\": [0.1],\n",
    "    }\n"
   ]
  },
  {
   "cell_type": "code",
   "execution_count": 10,
   "id": "dacfe238-6590-4a54-a3ca-f44915ca0732",
   "metadata": {
    "collapsed": true,
    "jupyter": {
     "outputs_hidden": true
    },
    "tags": []
   },
   "outputs": [
    {
     "name": "stderr",
     "output_type": "stream",
     "text": [
      "Executing: plink --bfile /data/CARD/PD/GP2/raw_genotypes/GP2_QC/round1/GP2_QC_round1 --missing --out /data/CARD/PD/GP2/raw_genotypes/GP2_QC/round1/GP2_QC_round1_missing\n"
     ]
    },
    {
     "name": "stdout",
     "output_type": "stream",
     "text": [
      "Average Missing Call Rate (lmiss): 0.012545972144127636\n",
      "Average Missing Genotyping Rate (imiss): 0.01253674154135344\n",
      "\n",
      "RUNNING: callrate_prune\n",
      "\n"
     ]
    },
    {
     "name": "stderr",
     "output_type": "stream",
     "text": [
      "Executing: plink --bfile /data/CARD/PD/GP2/raw_genotypes/GP2_QC/round1/GP2_QC_round1 --mind 0.02 --make-bed --out /data/CARD/PD/GP2/raw_genotypes/GP2_QC/round1/GP2_QC_round1_callrate\n"
     ]
    },
    {
     "name": "stdout",
     "output_type": "stream",
     "text": [
      "\n",
      "RUNNING: sex_prune\n",
      "\n"
     ]
    },
    {
     "name": "stderr",
     "output_type": "stream",
     "text": [
      "Executing: plink --bfile /data/CARD/PD/GP2/raw_genotypes/GP2_QC/round1/GP2_QC_round1_callrate --check-sex 0.25 0.75 --maf 0.05 --out /data/CARD/PD/GP2/raw_genotypes/GP2_QC/round1/GP2_QC_round1_callrate_sex_tmp1\n",
      "Executing: plink --bfile /data/CARD/PD/GP2/raw_genotypes/GP2_QC/round1/GP2_QC_round1_callrate --chr 23 --from-bp 2699520 --to-bp 154931043 --maf 0.05 --geno 0.05 --hwe 1E-5 --check-sex 0.25 0.75 --out /data/CARD/PD/GP2/raw_genotypes/GP2_QC/round1/GP2_QC_round1_callrate_sex_tmp2\n",
      "Executing: plink --bfile /data/CARD/PD/GP2/raw_genotypes/GP2_QC/round1/GP2_QC_round1_callrate --remove /data/CARD/PD/GP2/raw_genotypes/GP2_QC/round1/GP2_QC_round1_callrate_sex.outliers --make-bed --out /data/CARD/PD/GP2/raw_genotypes/GP2_QC/round1/GP2_QC_round1_callrate_sex\n"
     ]
    },
    {
     "name": "stdout",
     "output_type": "stream",
     "text": [
      "\n",
      "RUNNING: predict_ancestry\n",
      "\n",
      "\n",
      "RUNNING: calculate_pcs\n",
      "\n"
     ]
    },
    {
     "name": "stderr",
     "output_type": "stream",
     "text": [
      "Executing: plink --bfile /data/LNG/vitaled2/1kgenomes/1kg_ashkj_ref_panel_gp2_pruned --extract /data/CARD/PD/GP2/raw_genotypes/GP2_QC/round1/ref_common_snps.common_snps --make-bed --out /data/CARD/PD/GP2/raw_genotypes/GP2_QC/round1/ref_common_snps\n",
      "Executing: flashpca --bfile /data/CARD/PD/GP2/raw_genotypes/GP2_QC/round1/ref_common_snps -d 50 --outpc /data/CARD/PD/GP2/raw_genotypes/GP2_QC/round1/ref_common_snps.pcs --outvec /data/CARD/PD/GP2/raw_genotypes/GP2_QC/round1/ref_common_snps.vec --outval /data/CARD/PD/GP2/raw_genotypes/GP2_QC/round1/ref_common_snps.val --outpve /data/CARD/PD/GP2/raw_genotypes/GP2_QC/round1/ref_common_snps.pve --outload /data/CARD/PD/GP2/raw_genotypes/GP2_QC/round1/ref_common_snps.loadings --outmeansd /data/CARD/PD/GP2/raw_genotypes/GP2_QC/round1/ref_common_snps.meansd\n"
     ]
    },
    {
     "name": "stdout",
     "output_type": "stream",
     "text": [
      "\n",
      "\n",
      "Labeled Reference Ancestry Counts:\n",
      "AFR    504\n",
      "EAS    504\n",
      "SAS    489\n",
      "AJ     471\n",
      "EUR    404\n",
      "AMR    347\n",
      "AAC    157\n",
      "FIN     99\n",
      "Name: label, dtype: int64\n",
      "\n",
      "\n"
     ]
    },
    {
     "name": "stderr",
     "output_type": "stream",
     "text": [
      "Executing: plink --bfile /data/CARD/PD/GP2/raw_genotypes/GP2_QC/round1/GP2_QC_round1_callrate_sex --extract /data/CARD/PD/GP2/raw_genotypes/GP2_QC/round1/ref_common_snps.common_snps --reference-allele /data/CARD/PD/GP2/raw_genotypes/GP2_QC/round1/ref_common_snps.ref_allele --make-bed --out /data/CARD/PD/GP2/raw_genotypes/GP2_QC/round1/pcs_common_snps\n"
     ]
    },
    {
     "name": "stdout",
     "output_type": "stream",
     "text": [
      "/data/CARD/PD/GP2/raw_genotypes/GP2_QC/round1/pcs_common_snps /data/CARD/PD/GP2/raw_genotypes/GP2_QC/round1/ref_common_snps.meansd /data/CARD/PD/GP2/raw_genotypes/GP2_QC/round1/ref_common_snps.loadings /data/CARD/PD/GP2/raw_genotypes/GP2_QC/round1/pcs_common_snps.projections\n"
     ]
    },
    {
     "name": "stderr",
     "output_type": "stream",
     "text": [
      "Executing: flashpca --bfile /data/CARD/PD/GP2/raw_genotypes/GP2_QC/round1/pcs_common_snps --project --inmeansd /data/CARD/PD/GP2/raw_genotypes/GP2_QC/round1/ref_common_snps.meansd --inload /data/CARD/PD/GP2/raw_genotypes/GP2_QC/round1/ref_common_snps.loadings --outproj /data/CARD/PD/GP2/raw_genotypes/GP2_QC/round1/pcs_common_snps.projections -v\n"
     ]
    },
    {
     "name": "stdout",
     "output_type": "stream",
     "text": [
      "\n",
      "RUNNING: munge_pca_loadings\n",
      "\n",
      "\n",
      "RUNNING: train_umap_classifier\n",
      "\n",
      "Training Balanced Accuracy: 0.9445725167468225\n",
      "Best Parameters: {'svc__C': 0.1, 'umap__a': 1.0, 'umap__b': 0.5, 'umap__n_components': 15, 'umap__n_neighbors': 5}\n",
      "Balanced Accuracy on Test Set: 0.9747899159663865\n",
      "\n",
      "predicted:\n",
      " EUR    3988\n",
      "AJ      492\n",
      "AMR     248\n",
      "AAC     164\n",
      "EAS      48\n",
      "SAS      47\n",
      "FIN       9\n",
      "Name: label, dtype: int64\n",
      "\n"
     ]
    },
    {
     "name": "stderr",
     "output_type": "stream",
     "text": [
      "Executing: plink --bfile /data/CARD/PD/GP2/raw_genotypes/GP2_QC/round1/GP2_QC_round1_callrate_sex --keep /data/CARD/PD/GP2/raw_genotypes/GP2_QC/round1/GP2_QC_round1_callrate_sex_ancestry_EUR.samples --make-bed --out /data/CARD/PD/GP2/raw_genotypes/GP2_QC/round1/GP2_QC_round1_callrate_sex_ancestry_EUR\n",
      "Executing: plink --bfile /data/CARD/PD/GP2/raw_genotypes/GP2_QC/round1/GP2_QC_round1_callrate_sex --keep /data/CARD/PD/GP2/raw_genotypes/GP2_QC/round1/GP2_QC_round1_callrate_sex_ancestry_AMR.samples --make-bed --out /data/CARD/PD/GP2/raw_genotypes/GP2_QC/round1/GP2_QC_round1_callrate_sex_ancestry_AMR\n",
      "Executing: plink --bfile /data/CARD/PD/GP2/raw_genotypes/GP2_QC/round1/GP2_QC_round1_callrate_sex --keep /data/CARD/PD/GP2/raw_genotypes/GP2_QC/round1/GP2_QC_round1_callrate_sex_ancestry_SAS.samples --make-bed --out /data/CARD/PD/GP2/raw_genotypes/GP2_QC/round1/GP2_QC_round1_callrate_sex_ancestry_SAS\n",
      "Executing: plink --bfile /data/CARD/PD/GP2/raw_genotypes/GP2_QC/round1/GP2_QC_round1_callrate_sex --keep /data/CARD/PD/GP2/raw_genotypes/GP2_QC/round1/GP2_QC_round1_callrate_sex_ancestry_AJ.samples --make-bed --out /data/CARD/PD/GP2/raw_genotypes/GP2_QC/round1/GP2_QC_round1_callrate_sex_ancestry_AJ\n",
      "Executing: plink --bfile /data/CARD/PD/GP2/raw_genotypes/GP2_QC/round1/GP2_QC_round1_callrate_sex --keep /data/CARD/PD/GP2/raw_genotypes/GP2_QC/round1/GP2_QC_round1_callrate_sex_ancestry_AAC.samples --make-bed --out /data/CARD/PD/GP2/raw_genotypes/GP2_QC/round1/GP2_QC_round1_callrate_sex_ancestry_AAC\n",
      "Executing: plink --bfile /data/CARD/PD/GP2/raw_genotypes/GP2_QC/round1/GP2_QC_round1_callrate_sex --keep /data/CARD/PD/GP2/raw_genotypes/GP2_QC/round1/GP2_QC_round1_callrate_sex_ancestry_EAS.samples --make-bed --out /data/CARD/PD/GP2/raw_genotypes/GP2_QC/round1/GP2_QC_round1_callrate_sex_ancestry_EAS\n",
      "Executing: plink --bfile /data/CARD/PD/GP2/raw_genotypes/GP2_QC/round1/GP2_QC_round1_callrate_sex --keep /data/CARD/PD/GP2/raw_genotypes/GP2_QC/round1/GP2_QC_round1_callrate_sex_ancestry_FIN.samples --make-bed --out /data/CARD/PD/GP2/raw_genotypes/GP2_QC/round1/GP2_QC_round1_callrate_sex_ancestry_FIN\n"
     ]
    },
    {
     "name": "stdout",
     "output_type": "stream",
     "text": [
      "\n",
      "RUNNING: related_prune\n",
      "\n"
     ]
    },
    {
     "name": "stderr",
     "output_type": "stream",
     "text": [
      "Executing: gcta --bfile /data/CARD/PD/GP2/raw_genotypes/GP2_QC/round1/GP2_QC_round1_callrate_sex_ancestry_EUR --autosome --maf 0.05 --make-grm --out /data/CARD/PD/GP2/raw_genotypes/GP2_QC/round1/GP2_QC_round1_callrate_sex_ancestry_EUR_related_total_grm_tmp\n",
      "Executing: gcta --grm /data/CARD/PD/GP2/raw_genotypes/GP2_QC/round1/GP2_QC_round1_callrate_sex_ancestry_EUR_related_total_grm_tmp --grm-cutoff 0.125 --make-grm --out /data/CARD/PD/GP2/raw_genotypes/GP2_QC/round1/GP2_QC_round1_callrate_sex_ancestry_EUR_related_unrelated_grm_tmp\n",
      "Executing: plink --bfile /data/CARD/PD/GP2/raw_genotypes/GP2_QC/round1/GP2_QC_round1_callrate_sex_ancestry_EUR --keep /data/CARD/PD/GP2/raw_genotypes/GP2_QC/round1/GP2_QC_round1_callrate_sex_ancestry_EUR_related_unrelated_grm_tmp.grm.id --make-bed --out /data/CARD/PD/GP2/raw_genotypes/GP2_QC/round1/GP2_QC_round1_callrate_sex_ancestry_EUR_related\n",
      "Executing: gcta --grm /data/CARD/PD/GP2/raw_genotypes/GP2_QC/round1/GP2_QC_round1_callrate_sex_ancestry_EUR_related_total_grm_tmp --grm-cutoff 0.95 --make-grm --out /data/CARD/PD/GP2/raw_genotypes/GP2_QC/round1/GP2_QC_round1_callrate_sex_ancestry_EUR_related_duplicated_grm_tmp\n"
     ]
    },
    {
     "name": "stdout",
     "output_type": "stream",
     "text": [
      "\n",
      "RUNNING: het_prune\n",
      "\n"
     ]
    },
    {
     "name": "stderr",
     "output_type": "stream",
     "text": [
      "Executing: plink --bfile /data/CARD/PD/GP2/raw_genotypes/GP2_QC/round1/GP2_QC_round1_callrate_sex_ancestry_EUR_related --geno 0.01 --maf 0.05 --indep-pairwise 50 5 0.5 --out /data/CARD/PD/GP2/raw_genotypes/GP2_QC/round1/GP2_QC_round1_callrate_sex_ancestry_EUR_related_het_tmp\n",
      "Executing: plink --bfile /data/CARD/PD/GP2/raw_genotypes/GP2_QC/round1/GP2_QC_round1_callrate_sex_ancestry_EUR_related --extract /data/CARD/PD/GP2/raw_genotypes/GP2_QC/round1/GP2_QC_round1_callrate_sex_ancestry_EUR_related_het_tmp.prune.in --make-bed --out /data/CARD/PD/GP2/raw_genotypes/GP2_QC/round1/GP2_QC_round1_callrate_sex_ancestry_EUR_related_het_tmp2\n",
      "Executing: plink --bfile /data/CARD/PD/GP2/raw_genotypes/GP2_QC/round1/GP2_QC_round1_callrate_sex_ancestry_EUR_related_het_tmp2 --het --out /data/CARD/PD/GP2/raw_genotypes/GP2_QC/round1/GP2_QC_round1_callrate_sex_ancestry_EUR_related_het_tmp3\n",
      "Executing: plink --bfile /data/CARD/PD/GP2/raw_genotypes/GP2_QC/round1/GP2_QC_round1_callrate_sex_ancestry_EUR_related --remove /data/CARD/PD/GP2/raw_genotypes/GP2_QC/round1/GP2_QC_round1_callrate_sex_ancestry_EUR_related_het.outliers --make-bed --out /data/CARD/PD/GP2/raw_genotypes/GP2_QC/round1/GP2_QC_round1_callrate_sex_ancestry_EUR_related_het\n"
     ]
    },
    {
     "name": "stdout",
     "output_type": "stream",
     "text": [
      "\n",
      "RUNNING: variant_prune\n",
      "\n"
     ]
    },
    {
     "name": "stderr",
     "output_type": "stream",
     "text": [
      "Executing: plink --bfile /data/CARD/PD/GP2/raw_genotypes/GP2_QC/round1/GP2_QC_round1_callrate_sex_ancestry_EUR_related_het --geno 0.05 --make-bed --out /data/CARD/PD/GP2/raw_genotypes/GP2_QC/round1/GP2_QC_round1_callrate_sex_ancestry_EUR_related_het_variant_geno_tmp1\n",
      "Executing: plink --bfile /data/CARD/PD/GP2/raw_genotypes/GP2_QC/round1/GP2_QC_round1_callrate_sex_ancestry_EUR_related_het_variant_geno_tmp1 --test-missing --out /data/CARD/PD/GP2/raw_genotypes/GP2_QC/round1/GP2_QC_round1_callrate_sex_ancestry_EUR_related_het_variant_mis_tmp1\n",
      "Executing: plink --bfile /data/CARD/PD/GP2/raw_genotypes/GP2_QC/round1/GP2_QC_round1_callrate_sex_ancestry_EUR_related_het_variant_geno_tmp1 --exclude /data/CARD/PD/GP2/raw_genotypes/GP2_QC/round1/GP2_QC_round1_callrate_sex_ancestry_EUR_related_het_variant_mis_tmp1.exclude --make-bed --out /data/CARD/PD/GP2/raw_genotypes/GP2_QC/round1/GP2_QC_round1_callrate_sex_ancestry_EUR_related_het_variant_mis_tmp2\n",
      "Executing: plink --bfile /data/CARD/PD/GP2/raw_genotypes/GP2_QC/round1/GP2_QC_round1_callrate_sex_ancestry_EUR_related_het_variant_mis_tmp2 --test-mishap --out /data/CARD/PD/GP2/raw_genotypes/GP2_QC/round1/GP2_QC_round1_callrate_sex_ancestry_EUR_related_het_variant_hap_tmp1\n",
      "Executing: plink --bfile /data/CARD/PD/GP2/raw_genotypes/GP2_QC/round1/GP2_QC_round1_callrate_sex_ancestry_EUR_related_het_variant_mis_tmp2 --exclude /data/CARD/PD/GP2/raw_genotypes/GP2_QC/round1/GP2_QC_round1_callrate_sex_ancestry_EUR_related_het_variant_hap_tmp1.exclude --make-bed --out /data/CARD/PD/GP2/raw_genotypes/GP2_QC/round1/GP2_QC_round1_callrate_sex_ancestry_EUR_related_het_variant_hap_tmp2\n",
      "Executing: plink --bfile /data/CARD/PD/GP2/raw_genotypes/GP2_QC/round1/GP2_QC_round1_callrate_sex_ancestry_EUR_related_het_variant_hap_tmp2 --filter-controls --hwe 1E-4 --write-snplist --out /data/CARD/PD/GP2/raw_genotypes/GP2_QC/round1/GP2_QC_round1_callrate_sex_ancestry_EUR_related_het_variant_hwe_tmp1\n",
      "Executing: plink --bfile /data/CARD/PD/GP2/raw_genotypes/GP2_QC/round1/GP2_QC_round1_callrate_sex_ancestry_EUR_related_het_variant_hap_tmp2 --extract /data/CARD/PD/GP2/raw_genotypes/GP2_QC/round1/GP2_QC_round1_callrate_sex_ancestry_EUR_related_het_variant_hwe_tmp1.snplist --make-bed --out /data/CARD/PD/GP2/raw_genotypes/GP2_QC/round1/GP2_QC_round1_callrate_sex_ancestry_EUR_related_het_variant\n"
     ]
    },
    {
     "name": "stdout",
     "output_type": "stream",
     "text": [
      "\n",
      "RUNNING: related_prune\n",
      "\n"
     ]
    },
    {
     "name": "stderr",
     "output_type": "stream",
     "text": [
      "Executing: gcta --bfile /data/CARD/PD/GP2/raw_genotypes/GP2_QC/round1/GP2_QC_round1_callrate_sex_ancestry_AMR --autosome --maf 0.05 --make-grm --out /data/CARD/PD/GP2/raw_genotypes/GP2_QC/round1/GP2_QC_round1_callrate_sex_ancestry_AMR_related_total_grm_tmp\n",
      "Executing: gcta --grm /data/CARD/PD/GP2/raw_genotypes/GP2_QC/round1/GP2_QC_round1_callrate_sex_ancestry_AMR_related_total_grm_tmp --grm-cutoff 0.125 --make-grm --out /data/CARD/PD/GP2/raw_genotypes/GP2_QC/round1/GP2_QC_round1_callrate_sex_ancestry_AMR_related_unrelated_grm_tmp\n",
      "Executing: plink --bfile /data/CARD/PD/GP2/raw_genotypes/GP2_QC/round1/GP2_QC_round1_callrate_sex_ancestry_AMR --keep /data/CARD/PD/GP2/raw_genotypes/GP2_QC/round1/GP2_QC_round1_callrate_sex_ancestry_AMR_related_unrelated_grm_tmp.grm.id --make-bed --out /data/CARD/PD/GP2/raw_genotypes/GP2_QC/round1/GP2_QC_round1_callrate_sex_ancestry_AMR_related\n",
      "Executing: gcta --grm /data/CARD/PD/GP2/raw_genotypes/GP2_QC/round1/GP2_QC_round1_callrate_sex_ancestry_AMR_related_total_grm_tmp --grm-cutoff 0.95 --make-grm --out /data/CARD/PD/GP2/raw_genotypes/GP2_QC/round1/GP2_QC_round1_callrate_sex_ancestry_AMR_related_duplicated_grm_tmp\n",
      "Executing: plink --bfile /data/CARD/PD/GP2/raw_genotypes/GP2_QC/round1/GP2_QC_round1_callrate_sex_ancestry_AMR_related --geno 0.01 --maf 0.05 --indep-pairwise 50 5 0.5 --out /data/CARD/PD/GP2/raw_genotypes/GP2_QC/round1/GP2_QC_round1_callrate_sex_ancestry_AMR_related_het_tmp\n"
     ]
    },
    {
     "name": "stdout",
     "output_type": "stream",
     "text": [
      "\n",
      "RUNNING: het_prune\n",
      "\n"
     ]
    },
    {
     "name": "stderr",
     "output_type": "stream",
     "text": [
      "Executing: plink --bfile /data/CARD/PD/GP2/raw_genotypes/GP2_QC/round1/GP2_QC_round1_callrate_sex_ancestry_AMR_related --extract /data/CARD/PD/GP2/raw_genotypes/GP2_QC/round1/GP2_QC_round1_callrate_sex_ancestry_AMR_related_het_tmp.prune.in --make-bed --out /data/CARD/PD/GP2/raw_genotypes/GP2_QC/round1/GP2_QC_round1_callrate_sex_ancestry_AMR_related_het_tmp2\n",
      "Executing: plink --bfile /data/CARD/PD/GP2/raw_genotypes/GP2_QC/round1/GP2_QC_round1_callrate_sex_ancestry_AMR_related_het_tmp2 --het --out /data/CARD/PD/GP2/raw_genotypes/GP2_QC/round1/GP2_QC_round1_callrate_sex_ancestry_AMR_related_het_tmp3\n",
      "Executing: plink --bfile /data/CARD/PD/GP2/raw_genotypes/GP2_QC/round1/GP2_QC_round1_callrate_sex_ancestry_AMR_related --remove /data/CARD/PD/GP2/raw_genotypes/GP2_QC/round1/GP2_QC_round1_callrate_sex_ancestry_AMR_related_het.outliers --make-bed --out /data/CARD/PD/GP2/raw_genotypes/GP2_QC/round1/GP2_QC_round1_callrate_sex_ancestry_AMR_related_het\n"
     ]
    },
    {
     "name": "stdout",
     "output_type": "stream",
     "text": [
      "\n",
      "RUNNING: variant_prune\n",
      "\n"
     ]
    },
    {
     "name": "stderr",
     "output_type": "stream",
     "text": [
      "Executing: plink --bfile /data/CARD/PD/GP2/raw_genotypes/GP2_QC/round1/GP2_QC_round1_callrate_sex_ancestry_AMR_related_het --geno 0.05 --make-bed --out /data/CARD/PD/GP2/raw_genotypes/GP2_QC/round1/GP2_QC_round1_callrate_sex_ancestry_AMR_related_het_variant_geno_tmp1\n",
      "Executing: plink --bfile /data/CARD/PD/GP2/raw_genotypes/GP2_QC/round1/GP2_QC_round1_callrate_sex_ancestry_AMR_related_het_variant_geno_tmp1 --test-missing --out /data/CARD/PD/GP2/raw_genotypes/GP2_QC/round1/GP2_QC_round1_callrate_sex_ancestry_AMR_related_het_variant_mis_tmp1\n",
      "Executing: plink --bfile /data/CARD/PD/GP2/raw_genotypes/GP2_QC/round1/GP2_QC_round1_callrate_sex_ancestry_AMR_related_het_variant_geno_tmp1 --exclude /data/CARD/PD/GP2/raw_genotypes/GP2_QC/round1/GP2_QC_round1_callrate_sex_ancestry_AMR_related_het_variant_mis_tmp1.exclude --make-bed --out /data/CARD/PD/GP2/raw_genotypes/GP2_QC/round1/GP2_QC_round1_callrate_sex_ancestry_AMR_related_het_variant_mis_tmp2\n",
      "Executing: plink --bfile /data/CARD/PD/GP2/raw_genotypes/GP2_QC/round1/GP2_QC_round1_callrate_sex_ancestry_AMR_related_het_variant_mis_tmp2 --test-mishap --out /data/CARD/PD/GP2/raw_genotypes/GP2_QC/round1/GP2_QC_round1_callrate_sex_ancestry_AMR_related_het_variant_hap_tmp1\n",
      "Executing: plink --bfile /data/CARD/PD/GP2/raw_genotypes/GP2_QC/round1/GP2_QC_round1_callrate_sex_ancestry_AMR_related_het_variant_mis_tmp2 --exclude /data/CARD/PD/GP2/raw_genotypes/GP2_QC/round1/GP2_QC_round1_callrate_sex_ancestry_AMR_related_het_variant_hap_tmp1.exclude --make-bed --out /data/CARD/PD/GP2/raw_genotypes/GP2_QC/round1/GP2_QC_round1_callrate_sex_ancestry_AMR_related_het_variant_hap_tmp2\n",
      "Executing: plink --bfile /data/CARD/PD/GP2/raw_genotypes/GP2_QC/round1/GP2_QC_round1_callrate_sex_ancestry_AMR_related_het_variant_hap_tmp2 --filter-controls --hwe 1E-4 --write-snplist --out /data/CARD/PD/GP2/raw_genotypes/GP2_QC/round1/GP2_QC_round1_callrate_sex_ancestry_AMR_related_het_variant_hwe_tmp1\n",
      "Executing: plink --bfile /data/CARD/PD/GP2/raw_genotypes/GP2_QC/round1/GP2_QC_round1_callrate_sex_ancestry_AMR_related_het_variant_hap_tmp2 --extract /data/CARD/PD/GP2/raw_genotypes/GP2_QC/round1/GP2_QC_round1_callrate_sex_ancestry_AMR_related_het_variant_hwe_tmp1.snplist --make-bed --out /data/CARD/PD/GP2/raw_genotypes/GP2_QC/round1/GP2_QC_round1_callrate_sex_ancestry_AMR_related_het_variant\n"
     ]
    },
    {
     "name": "stdout",
     "output_type": "stream",
     "text": [
      "\n",
      "RUNNING: related_prune\n",
      "\n"
     ]
    },
    {
     "name": "stderr",
     "output_type": "stream",
     "text": [
      "Executing: gcta --bfile /data/CARD/PD/GP2/raw_genotypes/GP2_QC/round1/GP2_QC_round1_callrate_sex_ancestry_SAS --autosome --maf 0.05 --make-grm --out /data/CARD/PD/GP2/raw_genotypes/GP2_QC/round1/GP2_QC_round1_callrate_sex_ancestry_SAS_related_total_grm_tmp\n",
      "Executing: gcta --grm /data/CARD/PD/GP2/raw_genotypes/GP2_QC/round1/GP2_QC_round1_callrate_sex_ancestry_SAS_related_total_grm_tmp --grm-cutoff 0.125 --make-grm --out /data/CARD/PD/GP2/raw_genotypes/GP2_QC/round1/GP2_QC_round1_callrate_sex_ancestry_SAS_related_unrelated_grm_tmp\n",
      "Executing: plink --bfile /data/CARD/PD/GP2/raw_genotypes/GP2_QC/round1/GP2_QC_round1_callrate_sex_ancestry_SAS --keep /data/CARD/PD/GP2/raw_genotypes/GP2_QC/round1/GP2_QC_round1_callrate_sex_ancestry_SAS_related_unrelated_grm_tmp.grm.id --make-bed --out /data/CARD/PD/GP2/raw_genotypes/GP2_QC/round1/GP2_QC_round1_callrate_sex_ancestry_SAS_related\n",
      "Executing: gcta --grm /data/CARD/PD/GP2/raw_genotypes/GP2_QC/round1/GP2_QC_round1_callrate_sex_ancestry_SAS_related_total_grm_tmp --grm-cutoff 0.95 --make-grm --out /data/CARD/PD/GP2/raw_genotypes/GP2_QC/round1/GP2_QC_round1_callrate_sex_ancestry_SAS_related_duplicated_grm_tmp\n",
      "Executing: plink --bfile /data/CARD/PD/GP2/raw_genotypes/GP2_QC/round1/GP2_QC_round1_callrate_sex_ancestry_SAS_related --geno 0.01 --maf 0.05 --indep-pairwise 50 5 0.5 --out /data/CARD/PD/GP2/raw_genotypes/GP2_QC/round1/GP2_QC_round1_callrate_sex_ancestry_SAS_related_het_tmp\n"
     ]
    },
    {
     "name": "stdout",
     "output_type": "stream",
     "text": [
      "\n",
      "RUNNING: het_prune\n",
      "\n"
     ]
    },
    {
     "name": "stderr",
     "output_type": "stream",
     "text": [
      "Executing: plink --bfile /data/CARD/PD/GP2/raw_genotypes/GP2_QC/round1/GP2_QC_round1_callrate_sex_ancestry_SAS_related --extract /data/CARD/PD/GP2/raw_genotypes/GP2_QC/round1/GP2_QC_round1_callrate_sex_ancestry_SAS_related_het_tmp.prune.in --make-bed --out /data/CARD/PD/GP2/raw_genotypes/GP2_QC/round1/GP2_QC_round1_callrate_sex_ancestry_SAS_related_het_tmp2\n",
      "Executing: plink --bfile /data/CARD/PD/GP2/raw_genotypes/GP2_QC/round1/GP2_QC_round1_callrate_sex_ancestry_SAS_related_het_tmp2 --het --out /data/CARD/PD/GP2/raw_genotypes/GP2_QC/round1/GP2_QC_round1_callrate_sex_ancestry_SAS_related_het_tmp3\n",
      "Executing: plink --bfile /data/CARD/PD/GP2/raw_genotypes/GP2_QC/round1/GP2_QC_round1_callrate_sex_ancestry_SAS_related --remove /data/CARD/PD/GP2/raw_genotypes/GP2_QC/round1/GP2_QC_round1_callrate_sex_ancestry_SAS_related_het.outliers --make-bed --out /data/CARD/PD/GP2/raw_genotypes/GP2_QC/round1/GP2_QC_round1_callrate_sex_ancestry_SAS_related_het\n"
     ]
    },
    {
     "name": "stdout",
     "output_type": "stream",
     "text": [
      "\n",
      "RUNNING: variant_prune\n",
      "\n"
     ]
    },
    {
     "name": "stderr",
     "output_type": "stream",
     "text": [
      "Executing: plink --bfile /data/CARD/PD/GP2/raw_genotypes/GP2_QC/round1/GP2_QC_round1_callrate_sex_ancestry_SAS_related_het --geno 0.05 --make-bed --out /data/CARD/PD/GP2/raw_genotypes/GP2_QC/round1/GP2_QC_round1_callrate_sex_ancestry_SAS_related_het_variant_geno_tmp1\n",
      "Executing: plink --bfile /data/CARD/PD/GP2/raw_genotypes/GP2_QC/round1/GP2_QC_round1_callrate_sex_ancestry_SAS_related_het_variant_geno_tmp1 --test-missing --out /data/CARD/PD/GP2/raw_genotypes/GP2_QC/round1/GP2_QC_round1_callrate_sex_ancestry_SAS_related_het_variant_mis_tmp1\n",
      "Executing: plink --bfile /data/CARD/PD/GP2/raw_genotypes/GP2_QC/round1/GP2_QC_round1_callrate_sex_ancestry_SAS_related_het_variant_geno_tmp1 --exclude /data/CARD/PD/GP2/raw_genotypes/GP2_QC/round1/GP2_QC_round1_callrate_sex_ancestry_SAS_related_het_variant_mis_tmp1.exclude --make-bed --out /data/CARD/PD/GP2/raw_genotypes/GP2_QC/round1/GP2_QC_round1_callrate_sex_ancestry_SAS_related_het_variant_mis_tmp2\n",
      "Executing: plink --bfile /data/CARD/PD/GP2/raw_genotypes/GP2_QC/round1/GP2_QC_round1_callrate_sex_ancestry_SAS_related_het_variant_mis_tmp2 --test-mishap --out /data/CARD/PD/GP2/raw_genotypes/GP2_QC/round1/GP2_QC_round1_callrate_sex_ancestry_SAS_related_het_variant_hap_tmp1\n",
      "Executing: plink --bfile /data/CARD/PD/GP2/raw_genotypes/GP2_QC/round1/GP2_QC_round1_callrate_sex_ancestry_SAS_related_het_variant_mis_tmp2 --exclude /data/CARD/PD/GP2/raw_genotypes/GP2_QC/round1/GP2_QC_round1_callrate_sex_ancestry_SAS_related_het_variant_hap_tmp1.exclude --make-bed --out /data/CARD/PD/GP2/raw_genotypes/GP2_QC/round1/GP2_QC_round1_callrate_sex_ancestry_SAS_related_het_variant_hap_tmp2\n",
      "Executing: plink --bfile /data/CARD/PD/GP2/raw_genotypes/GP2_QC/round1/GP2_QC_round1_callrate_sex_ancestry_SAS_related_het_variant_hap_tmp2 --filter-controls --hwe 1E-4 --write-snplist --out /data/CARD/PD/GP2/raw_genotypes/GP2_QC/round1/GP2_QC_round1_callrate_sex_ancestry_SAS_related_het_variant_hwe_tmp1\n",
      "Executing: plink --bfile /data/CARD/PD/GP2/raw_genotypes/GP2_QC/round1/GP2_QC_round1_callrate_sex_ancestry_SAS_related_het_variant_hap_tmp2 --extract /data/CARD/PD/GP2/raw_genotypes/GP2_QC/round1/GP2_QC_round1_callrate_sex_ancestry_SAS_related_het_variant_hwe_tmp1.snplist --make-bed --out /data/CARD/PD/GP2/raw_genotypes/GP2_QC/round1/GP2_QC_round1_callrate_sex_ancestry_SAS_related_het_variant\n"
     ]
    },
    {
     "name": "stdout",
     "output_type": "stream",
     "text": [
      "\n",
      "RUNNING: related_prune\n",
      "\n"
     ]
    },
    {
     "name": "stderr",
     "output_type": "stream",
     "text": [
      "Executing: gcta --bfile /data/CARD/PD/GP2/raw_genotypes/GP2_QC/round1/GP2_QC_round1_callrate_sex_ancestry_AJ --autosome --maf 0.05 --make-grm --out /data/CARD/PD/GP2/raw_genotypes/GP2_QC/round1/GP2_QC_round1_callrate_sex_ancestry_AJ_related_total_grm_tmp\n",
      "Executing: gcta --grm /data/CARD/PD/GP2/raw_genotypes/GP2_QC/round1/GP2_QC_round1_callrate_sex_ancestry_AJ_related_total_grm_tmp --grm-cutoff 0.125 --make-grm --out /data/CARD/PD/GP2/raw_genotypes/GP2_QC/round1/GP2_QC_round1_callrate_sex_ancestry_AJ_related_unrelated_grm_tmp\n",
      "Executing: plink --bfile /data/CARD/PD/GP2/raw_genotypes/GP2_QC/round1/GP2_QC_round1_callrate_sex_ancestry_AJ --keep /data/CARD/PD/GP2/raw_genotypes/GP2_QC/round1/GP2_QC_round1_callrate_sex_ancestry_AJ_related_unrelated_grm_tmp.grm.id --make-bed --out /data/CARD/PD/GP2/raw_genotypes/GP2_QC/round1/GP2_QC_round1_callrate_sex_ancestry_AJ_related\n",
      "Executing: gcta --grm /data/CARD/PD/GP2/raw_genotypes/GP2_QC/round1/GP2_QC_round1_callrate_sex_ancestry_AJ_related_total_grm_tmp --grm-cutoff 0.95 --make-grm --out /data/CARD/PD/GP2/raw_genotypes/GP2_QC/round1/GP2_QC_round1_callrate_sex_ancestry_AJ_related_duplicated_grm_tmp\n",
      "Executing: plink --bfile /data/CARD/PD/GP2/raw_genotypes/GP2_QC/round1/GP2_QC_round1_callrate_sex_ancestry_AJ_related --geno 0.01 --maf 0.05 --indep-pairwise 50 5 0.5 --out /data/CARD/PD/GP2/raw_genotypes/GP2_QC/round1/GP2_QC_round1_callrate_sex_ancestry_AJ_related_het_tmp\n"
     ]
    },
    {
     "name": "stdout",
     "output_type": "stream",
     "text": [
      "\n",
      "RUNNING: het_prune\n",
      "\n"
     ]
    },
    {
     "name": "stderr",
     "output_type": "stream",
     "text": [
      "Executing: plink --bfile /data/CARD/PD/GP2/raw_genotypes/GP2_QC/round1/GP2_QC_round1_callrate_sex_ancestry_AJ_related --extract /data/CARD/PD/GP2/raw_genotypes/GP2_QC/round1/GP2_QC_round1_callrate_sex_ancestry_AJ_related_het_tmp.prune.in --make-bed --out /data/CARD/PD/GP2/raw_genotypes/GP2_QC/round1/GP2_QC_round1_callrate_sex_ancestry_AJ_related_het_tmp2\n",
      "Executing: plink --bfile /data/CARD/PD/GP2/raw_genotypes/GP2_QC/round1/GP2_QC_round1_callrate_sex_ancestry_AJ_related_het_tmp2 --het --out /data/CARD/PD/GP2/raw_genotypes/GP2_QC/round1/GP2_QC_round1_callrate_sex_ancestry_AJ_related_het_tmp3\n",
      "Executing: plink --bfile /data/CARD/PD/GP2/raw_genotypes/GP2_QC/round1/GP2_QC_round1_callrate_sex_ancestry_AJ_related --remove /data/CARD/PD/GP2/raw_genotypes/GP2_QC/round1/GP2_QC_round1_callrate_sex_ancestry_AJ_related_het.outliers --make-bed --out /data/CARD/PD/GP2/raw_genotypes/GP2_QC/round1/GP2_QC_round1_callrate_sex_ancestry_AJ_related_het\n"
     ]
    },
    {
     "name": "stdout",
     "output_type": "stream",
     "text": [
      "\n",
      "RUNNING: variant_prune\n",
      "\n"
     ]
    },
    {
     "name": "stderr",
     "output_type": "stream",
     "text": [
      "Executing: plink --bfile /data/CARD/PD/GP2/raw_genotypes/GP2_QC/round1/GP2_QC_round1_callrate_sex_ancestry_AJ_related_het --geno 0.05 --make-bed --out /data/CARD/PD/GP2/raw_genotypes/GP2_QC/round1/GP2_QC_round1_callrate_sex_ancestry_AJ_related_het_variant_geno_tmp1\n",
      "Executing: plink --bfile /data/CARD/PD/GP2/raw_genotypes/GP2_QC/round1/GP2_QC_round1_callrate_sex_ancestry_AJ_related_het_variant_geno_tmp1 --test-missing --out /data/CARD/PD/GP2/raw_genotypes/GP2_QC/round1/GP2_QC_round1_callrate_sex_ancestry_AJ_related_het_variant_mis_tmp1\n",
      "Executing: plink --bfile /data/CARD/PD/GP2/raw_genotypes/GP2_QC/round1/GP2_QC_round1_callrate_sex_ancestry_AJ_related_het_variant_geno_tmp1 --exclude /data/CARD/PD/GP2/raw_genotypes/GP2_QC/round1/GP2_QC_round1_callrate_sex_ancestry_AJ_related_het_variant_mis_tmp1.exclude --make-bed --out /data/CARD/PD/GP2/raw_genotypes/GP2_QC/round1/GP2_QC_round1_callrate_sex_ancestry_AJ_related_het_variant_mis_tmp2\n",
      "Executing: plink --bfile /data/CARD/PD/GP2/raw_genotypes/GP2_QC/round1/GP2_QC_round1_callrate_sex_ancestry_AJ_related_het_variant_mis_tmp2 --test-mishap --out /data/CARD/PD/GP2/raw_genotypes/GP2_QC/round1/GP2_QC_round1_callrate_sex_ancestry_AJ_related_het_variant_hap_tmp1\n",
      "Executing: plink --bfile /data/CARD/PD/GP2/raw_genotypes/GP2_QC/round1/GP2_QC_round1_callrate_sex_ancestry_AJ_related_het_variant_mis_tmp2 --exclude /data/CARD/PD/GP2/raw_genotypes/GP2_QC/round1/GP2_QC_round1_callrate_sex_ancestry_AJ_related_het_variant_hap_tmp1.exclude --make-bed --out /data/CARD/PD/GP2/raw_genotypes/GP2_QC/round1/GP2_QC_round1_callrate_sex_ancestry_AJ_related_het_variant_hap_tmp2\n",
      "Executing: plink --bfile /data/CARD/PD/GP2/raw_genotypes/GP2_QC/round1/GP2_QC_round1_callrate_sex_ancestry_AJ_related_het_variant_hap_tmp2 --filter-controls --hwe 1E-4 --write-snplist --out /data/CARD/PD/GP2/raw_genotypes/GP2_QC/round1/GP2_QC_round1_callrate_sex_ancestry_AJ_related_het_variant_hwe_tmp1\n",
      "Executing: plink --bfile /data/CARD/PD/GP2/raw_genotypes/GP2_QC/round1/GP2_QC_round1_callrate_sex_ancestry_AJ_related_het_variant_hap_tmp2 --extract /data/CARD/PD/GP2/raw_genotypes/GP2_QC/round1/GP2_QC_round1_callrate_sex_ancestry_AJ_related_het_variant_hwe_tmp1.snplist --make-bed --out /data/CARD/PD/GP2/raw_genotypes/GP2_QC/round1/GP2_QC_round1_callrate_sex_ancestry_AJ_related_het_variant\n"
     ]
    },
    {
     "name": "stdout",
     "output_type": "stream",
     "text": [
      "\n",
      "RUNNING: related_prune\n",
      "\n"
     ]
    },
    {
     "name": "stderr",
     "output_type": "stream",
     "text": [
      "Executing: gcta --bfile /data/CARD/PD/GP2/raw_genotypes/GP2_QC/round1/GP2_QC_round1_callrate_sex_ancestry_AAC --autosome --maf 0.05 --make-grm --out /data/CARD/PD/GP2/raw_genotypes/GP2_QC/round1/GP2_QC_round1_callrate_sex_ancestry_AAC_related_total_grm_tmp\n",
      "Executing: gcta --grm /data/CARD/PD/GP2/raw_genotypes/GP2_QC/round1/GP2_QC_round1_callrate_sex_ancestry_AAC_related_total_grm_tmp --grm-cutoff 0.125 --make-grm --out /data/CARD/PD/GP2/raw_genotypes/GP2_QC/round1/GP2_QC_round1_callrate_sex_ancestry_AAC_related_unrelated_grm_tmp\n",
      "Executing: plink --bfile /data/CARD/PD/GP2/raw_genotypes/GP2_QC/round1/GP2_QC_round1_callrate_sex_ancestry_AAC --keep /data/CARD/PD/GP2/raw_genotypes/GP2_QC/round1/GP2_QC_round1_callrate_sex_ancestry_AAC_related_unrelated_grm_tmp.grm.id --make-bed --out /data/CARD/PD/GP2/raw_genotypes/GP2_QC/round1/GP2_QC_round1_callrate_sex_ancestry_AAC_related\n",
      "Executing: gcta --grm /data/CARD/PD/GP2/raw_genotypes/GP2_QC/round1/GP2_QC_round1_callrate_sex_ancestry_AAC_related_total_grm_tmp --grm-cutoff 0.95 --make-grm --out /data/CARD/PD/GP2/raw_genotypes/GP2_QC/round1/GP2_QC_round1_callrate_sex_ancestry_AAC_related_duplicated_grm_tmp\n",
      "Executing: plink --bfile /data/CARD/PD/GP2/raw_genotypes/GP2_QC/round1/GP2_QC_round1_callrate_sex_ancestry_AAC_related --geno 0.01 --maf 0.05 --indep-pairwise 50 5 0.5 --out /data/CARD/PD/GP2/raw_genotypes/GP2_QC/round1/GP2_QC_round1_callrate_sex_ancestry_AAC_related_het_tmp\n"
     ]
    },
    {
     "name": "stdout",
     "output_type": "stream",
     "text": [
      "\n",
      "RUNNING: het_prune\n",
      "\n"
     ]
    },
    {
     "name": "stderr",
     "output_type": "stream",
     "text": [
      "Executing: plink --bfile /data/CARD/PD/GP2/raw_genotypes/GP2_QC/round1/GP2_QC_round1_callrate_sex_ancestry_AAC_related --extract /data/CARD/PD/GP2/raw_genotypes/GP2_QC/round1/GP2_QC_round1_callrate_sex_ancestry_AAC_related_het_tmp.prune.in --make-bed --out /data/CARD/PD/GP2/raw_genotypes/GP2_QC/round1/GP2_QC_round1_callrate_sex_ancestry_AAC_related_het_tmp2\n",
      "Executing: plink --bfile /data/CARD/PD/GP2/raw_genotypes/GP2_QC/round1/GP2_QC_round1_callrate_sex_ancestry_AAC_related_het_tmp2 --het --out /data/CARD/PD/GP2/raw_genotypes/GP2_QC/round1/GP2_QC_round1_callrate_sex_ancestry_AAC_related_het_tmp3\n",
      "Executing: plink --bfile /data/CARD/PD/GP2/raw_genotypes/GP2_QC/round1/GP2_QC_round1_callrate_sex_ancestry_AAC_related --remove /data/CARD/PD/GP2/raw_genotypes/GP2_QC/round1/GP2_QC_round1_callrate_sex_ancestry_AAC_related_het.outliers --make-bed --out /data/CARD/PD/GP2/raw_genotypes/GP2_QC/round1/GP2_QC_round1_callrate_sex_ancestry_AAC_related_het\n"
     ]
    },
    {
     "name": "stdout",
     "output_type": "stream",
     "text": [
      "\n",
      "RUNNING: variant_prune\n",
      "\n"
     ]
    },
    {
     "name": "stderr",
     "output_type": "stream",
     "text": [
      "Executing: plink --bfile /data/CARD/PD/GP2/raw_genotypes/GP2_QC/round1/GP2_QC_round1_callrate_sex_ancestry_AAC_related_het --geno 0.05 --make-bed --out /data/CARD/PD/GP2/raw_genotypes/GP2_QC/round1/GP2_QC_round1_callrate_sex_ancestry_AAC_related_het_variant_geno_tmp1\n",
      "Executing: plink --bfile /data/CARD/PD/GP2/raw_genotypes/GP2_QC/round1/GP2_QC_round1_callrate_sex_ancestry_AAC_related_het_variant_geno_tmp1 --test-missing --out /data/CARD/PD/GP2/raw_genotypes/GP2_QC/round1/GP2_QC_round1_callrate_sex_ancestry_AAC_related_het_variant_mis_tmp1\n",
      "Executing: plink --bfile /data/CARD/PD/GP2/raw_genotypes/GP2_QC/round1/GP2_QC_round1_callrate_sex_ancestry_AAC_related_het_variant_geno_tmp1 --exclude /data/CARD/PD/GP2/raw_genotypes/GP2_QC/round1/GP2_QC_round1_callrate_sex_ancestry_AAC_related_het_variant_mis_tmp1.exclude --make-bed --out /data/CARD/PD/GP2/raw_genotypes/GP2_QC/round1/GP2_QC_round1_callrate_sex_ancestry_AAC_related_het_variant_mis_tmp2\n",
      "Executing: plink --bfile /data/CARD/PD/GP2/raw_genotypes/GP2_QC/round1/GP2_QC_round1_callrate_sex_ancestry_AAC_related_het_variant_mis_tmp2 --test-mishap --out /data/CARD/PD/GP2/raw_genotypes/GP2_QC/round1/GP2_QC_round1_callrate_sex_ancestry_AAC_related_het_variant_hap_tmp1\n",
      "Executing: plink --bfile /data/CARD/PD/GP2/raw_genotypes/GP2_QC/round1/GP2_QC_round1_callrate_sex_ancestry_AAC_related_het_variant_mis_tmp2 --exclude /data/CARD/PD/GP2/raw_genotypes/GP2_QC/round1/GP2_QC_round1_callrate_sex_ancestry_AAC_related_het_variant_hap_tmp1.exclude --make-bed --out /data/CARD/PD/GP2/raw_genotypes/GP2_QC/round1/GP2_QC_round1_callrate_sex_ancestry_AAC_related_het_variant_hap_tmp2\n",
      "Executing: plink --bfile /data/CARD/PD/GP2/raw_genotypes/GP2_QC/round1/GP2_QC_round1_callrate_sex_ancestry_AAC_related_het_variant_hap_tmp2 --filter-controls --hwe 1E-4 --write-snplist --out /data/CARD/PD/GP2/raw_genotypes/GP2_QC/round1/GP2_QC_round1_callrate_sex_ancestry_AAC_related_het_variant_hwe_tmp1\n",
      "Executing: plink --bfile /data/CARD/PD/GP2/raw_genotypes/GP2_QC/round1/GP2_QC_round1_callrate_sex_ancestry_AAC_related_het_variant_hap_tmp2 --extract /data/CARD/PD/GP2/raw_genotypes/GP2_QC/round1/GP2_QC_round1_callrate_sex_ancestry_AAC_related_het_variant_hwe_tmp1.snplist --make-bed --out /data/CARD/PD/GP2/raw_genotypes/GP2_QC/round1/GP2_QC_round1_callrate_sex_ancestry_AAC_related_het_variant\n"
     ]
    },
    {
     "name": "stdout",
     "output_type": "stream",
     "text": [
      "\n",
      "RUNNING: related_prune\n",
      "\n"
     ]
    },
    {
     "name": "stderr",
     "output_type": "stream",
     "text": [
      "Executing: gcta --bfile /data/CARD/PD/GP2/raw_genotypes/GP2_QC/round1/GP2_QC_round1_callrate_sex_ancestry_EAS --autosome --maf 0.05 --make-grm --out /data/CARD/PD/GP2/raw_genotypes/GP2_QC/round1/GP2_QC_round1_callrate_sex_ancestry_EAS_related_total_grm_tmp\n",
      "Executing: gcta --grm /data/CARD/PD/GP2/raw_genotypes/GP2_QC/round1/GP2_QC_round1_callrate_sex_ancestry_EAS_related_total_grm_tmp --grm-cutoff 0.125 --make-grm --out /data/CARD/PD/GP2/raw_genotypes/GP2_QC/round1/GP2_QC_round1_callrate_sex_ancestry_EAS_related_unrelated_grm_tmp\n",
      "Executing: plink --bfile /data/CARD/PD/GP2/raw_genotypes/GP2_QC/round1/GP2_QC_round1_callrate_sex_ancestry_EAS --keep /data/CARD/PD/GP2/raw_genotypes/GP2_QC/round1/GP2_QC_round1_callrate_sex_ancestry_EAS_related_unrelated_grm_tmp.grm.id --make-bed --out /data/CARD/PD/GP2/raw_genotypes/GP2_QC/round1/GP2_QC_round1_callrate_sex_ancestry_EAS_related\n",
      "Executing: gcta --grm /data/CARD/PD/GP2/raw_genotypes/GP2_QC/round1/GP2_QC_round1_callrate_sex_ancestry_EAS_related_total_grm_tmp --grm-cutoff 0.95 --make-grm --out /data/CARD/PD/GP2/raw_genotypes/GP2_QC/round1/GP2_QC_round1_callrate_sex_ancestry_EAS_related_duplicated_grm_tmp\n",
      "Executing: plink --bfile /data/CARD/PD/GP2/raw_genotypes/GP2_QC/round1/GP2_QC_round1_callrate_sex_ancestry_EAS_related --geno 0.01 --maf 0.05 --indep-pairwise 50 5 0.5 --out /data/CARD/PD/GP2/raw_genotypes/GP2_QC/round1/GP2_QC_round1_callrate_sex_ancestry_EAS_related_het_tmp\n"
     ]
    },
    {
     "name": "stdout",
     "output_type": "stream",
     "text": [
      "\n",
      "RUNNING: het_prune\n",
      "\n"
     ]
    },
    {
     "name": "stderr",
     "output_type": "stream",
     "text": [
      "Executing: plink --bfile /data/CARD/PD/GP2/raw_genotypes/GP2_QC/round1/GP2_QC_round1_callrate_sex_ancestry_EAS_related --extract /data/CARD/PD/GP2/raw_genotypes/GP2_QC/round1/GP2_QC_round1_callrate_sex_ancestry_EAS_related_het_tmp.prune.in --make-bed --out /data/CARD/PD/GP2/raw_genotypes/GP2_QC/round1/GP2_QC_round1_callrate_sex_ancestry_EAS_related_het_tmp2\n",
      "Executing: plink --bfile /data/CARD/PD/GP2/raw_genotypes/GP2_QC/round1/GP2_QC_round1_callrate_sex_ancestry_EAS_related_het_tmp2 --het --out /data/CARD/PD/GP2/raw_genotypes/GP2_QC/round1/GP2_QC_round1_callrate_sex_ancestry_EAS_related_het_tmp3\n",
      "Executing: plink --bfile /data/CARD/PD/GP2/raw_genotypes/GP2_QC/round1/GP2_QC_round1_callrate_sex_ancestry_EAS_related --remove /data/CARD/PD/GP2/raw_genotypes/GP2_QC/round1/GP2_QC_round1_callrate_sex_ancestry_EAS_related_het.outliers --make-bed --out /data/CARD/PD/GP2/raw_genotypes/GP2_QC/round1/GP2_QC_round1_callrate_sex_ancestry_EAS_related_het\n"
     ]
    },
    {
     "name": "stdout",
     "output_type": "stream",
     "text": [
      "\n",
      "RUNNING: variant_prune\n",
      "\n"
     ]
    },
    {
     "name": "stderr",
     "output_type": "stream",
     "text": [
      "Executing: plink --bfile /data/CARD/PD/GP2/raw_genotypes/GP2_QC/round1/GP2_QC_round1_callrate_sex_ancestry_EAS_related_het --geno 0.05 --make-bed --out /data/CARD/PD/GP2/raw_genotypes/GP2_QC/round1/GP2_QC_round1_callrate_sex_ancestry_EAS_related_het_variant_geno_tmp1\n",
      "Executing: plink --bfile /data/CARD/PD/GP2/raw_genotypes/GP2_QC/round1/GP2_QC_round1_callrate_sex_ancestry_EAS_related_het_variant_geno_tmp1 --test-missing --out /data/CARD/PD/GP2/raw_genotypes/GP2_QC/round1/GP2_QC_round1_callrate_sex_ancestry_EAS_related_het_variant_mis_tmp1\n",
      "Executing: plink --bfile /data/CARD/PD/GP2/raw_genotypes/GP2_QC/round1/GP2_QC_round1_callrate_sex_ancestry_EAS_related_het_variant_geno_tmp1 --exclude /data/CARD/PD/GP2/raw_genotypes/GP2_QC/round1/GP2_QC_round1_callrate_sex_ancestry_EAS_related_het_variant_mis_tmp1.exclude --make-bed --out /data/CARD/PD/GP2/raw_genotypes/GP2_QC/round1/GP2_QC_round1_callrate_sex_ancestry_EAS_related_het_variant_mis_tmp2\n",
      "Executing: plink --bfile /data/CARD/PD/GP2/raw_genotypes/GP2_QC/round1/GP2_QC_round1_callrate_sex_ancestry_EAS_related_het_variant_mis_tmp2 --test-mishap --out /data/CARD/PD/GP2/raw_genotypes/GP2_QC/round1/GP2_QC_round1_callrate_sex_ancestry_EAS_related_het_variant_hap_tmp1\n",
      "Executing: plink --bfile /data/CARD/PD/GP2/raw_genotypes/GP2_QC/round1/GP2_QC_round1_callrate_sex_ancestry_EAS_related_het_variant_mis_tmp2 --exclude /data/CARD/PD/GP2/raw_genotypes/GP2_QC/round1/GP2_QC_round1_callrate_sex_ancestry_EAS_related_het_variant_hap_tmp1.exclude --make-bed --out /data/CARD/PD/GP2/raw_genotypes/GP2_QC/round1/GP2_QC_round1_callrate_sex_ancestry_EAS_related_het_variant_hap_tmp2\n",
      "Executing: plink --bfile /data/CARD/PD/GP2/raw_genotypes/GP2_QC/round1/GP2_QC_round1_callrate_sex_ancestry_EAS_related_het_variant_hap_tmp2 --filter-controls --hwe 1E-4 --write-snplist --out /data/CARD/PD/GP2/raw_genotypes/GP2_QC/round1/GP2_QC_round1_callrate_sex_ancestry_EAS_related_het_variant_hwe_tmp1\n",
      "Executing: plink --bfile /data/CARD/PD/GP2/raw_genotypes/GP2_QC/round1/GP2_QC_round1_callrate_sex_ancestry_EAS_related_het_variant_hap_tmp2 --extract /data/CARD/PD/GP2/raw_genotypes/GP2_QC/round1/GP2_QC_round1_callrate_sex_ancestry_EAS_related_het_variant_hwe_tmp1.snplist --make-bed --out /data/CARD/PD/GP2/raw_genotypes/GP2_QC/round1/GP2_QC_round1_callrate_sex_ancestry_EAS_related_het_variant\n"
     ]
    },
    {
     "name": "stdout",
     "output_type": "stream",
     "text": [
      "\n",
      "RUNNING: related_prune\n",
      "\n"
     ]
    },
    {
     "name": "stderr",
     "output_type": "stream",
     "text": [
      "Executing: gcta --bfile /data/CARD/PD/GP2/raw_genotypes/GP2_QC/round1/GP2_QC_round1_callrate_sex_ancestry_FIN --autosome --maf 0.05 --make-grm --out /data/CARD/PD/GP2/raw_genotypes/GP2_QC/round1/GP2_QC_round1_callrate_sex_ancestry_FIN_related_total_grm_tmp\n",
      "Executing: gcta --grm /data/CARD/PD/GP2/raw_genotypes/GP2_QC/round1/GP2_QC_round1_callrate_sex_ancestry_FIN_related_total_grm_tmp --grm-cutoff 0.125 --make-grm --out /data/CARD/PD/GP2/raw_genotypes/GP2_QC/round1/GP2_QC_round1_callrate_sex_ancestry_FIN_related_unrelated_grm_tmp\n",
      "Executing: plink --bfile /data/CARD/PD/GP2/raw_genotypes/GP2_QC/round1/GP2_QC_round1_callrate_sex_ancestry_FIN --keep /data/CARD/PD/GP2/raw_genotypes/GP2_QC/round1/GP2_QC_round1_callrate_sex_ancestry_FIN_related_unrelated_grm_tmp.grm.id --make-bed --out /data/CARD/PD/GP2/raw_genotypes/GP2_QC/round1/GP2_QC_round1_callrate_sex_ancestry_FIN_related\n",
      "Executing: gcta --grm /data/CARD/PD/GP2/raw_genotypes/GP2_QC/round1/GP2_QC_round1_callrate_sex_ancestry_FIN_related_total_grm_tmp --grm-cutoff 0.95 --make-grm --out /data/CARD/PD/GP2/raw_genotypes/GP2_QC/round1/GP2_QC_round1_callrate_sex_ancestry_FIN_related_duplicated_grm_tmp\n",
      "Executing: plink --bfile /data/CARD/PD/GP2/raw_genotypes/GP2_QC/round1/GP2_QC_round1_callrate_sex_ancestry_FIN_related --geno 0.01 --maf 0.05 --indep-pairwise 50 5 0.5 --out /data/CARD/PD/GP2/raw_genotypes/GP2_QC/round1/GP2_QC_round1_callrate_sex_ancestry_FIN_related_het_tmp\n"
     ]
    },
    {
     "name": "stdout",
     "output_type": "stream",
     "text": [
      "\n",
      "RUNNING: het_prune\n",
      "\n"
     ]
    },
    {
     "name": "stderr",
     "output_type": "stream",
     "text": [
      "Executing: plink --bfile /data/CARD/PD/GP2/raw_genotypes/GP2_QC/round1/GP2_QC_round1_callrate_sex_ancestry_FIN_related --extract /data/CARD/PD/GP2/raw_genotypes/GP2_QC/round1/GP2_QC_round1_callrate_sex_ancestry_FIN_related_het_tmp.prune.in --make-bed --out /data/CARD/PD/GP2/raw_genotypes/GP2_QC/round1/GP2_QC_round1_callrate_sex_ancestry_FIN_related_het_tmp2\n",
      "Executing: plink --bfile /data/CARD/PD/GP2/raw_genotypes/GP2_QC/round1/GP2_QC_round1_callrate_sex_ancestry_FIN_related_het_tmp2 --het --out /data/CARD/PD/GP2/raw_genotypes/GP2_QC/round1/GP2_QC_round1_callrate_sex_ancestry_FIN_related_het_tmp3\n",
      "Executing: plink --bfile /data/CARD/PD/GP2/raw_genotypes/GP2_QC/round1/GP2_QC_round1_callrate_sex_ancestry_FIN_related --remove /data/CARD/PD/GP2/raw_genotypes/GP2_QC/round1/GP2_QC_round1_callrate_sex_ancestry_FIN_related_het.outliers --make-bed --out /data/CARD/PD/GP2/raw_genotypes/GP2_QC/round1/GP2_QC_round1_callrate_sex_ancestry_FIN_related_het\n"
     ]
    },
    {
     "name": "stdout",
     "output_type": "stream",
     "text": [
      "\n",
      "RUNNING: variant_prune\n",
      "\n"
     ]
    },
    {
     "name": "stderr",
     "output_type": "stream",
     "text": [
      "Executing: plink --bfile /data/CARD/PD/GP2/raw_genotypes/GP2_QC/round1/GP2_QC_round1_callrate_sex_ancestry_FIN_related_het --geno 0.05 --make-bed --out /data/CARD/PD/GP2/raw_genotypes/GP2_QC/round1/GP2_QC_round1_callrate_sex_ancestry_FIN_related_het_variant_geno_tmp1\n",
      "Executing: plink --bfile /data/CARD/PD/GP2/raw_genotypes/GP2_QC/round1/GP2_QC_round1_callrate_sex_ancestry_FIN_related_het_variant_geno_tmp1 --test-missing --out /data/CARD/PD/GP2/raw_genotypes/GP2_QC/round1/GP2_QC_round1_callrate_sex_ancestry_FIN_related_het_variant_mis_tmp1\n",
      "Executing: plink --bfile /data/CARD/PD/GP2/raw_genotypes/GP2_QC/round1/GP2_QC_round1_callrate_sex_ancestry_FIN_related_het_variant_geno_tmp1 --exclude /data/CARD/PD/GP2/raw_genotypes/GP2_QC/round1/GP2_QC_round1_callrate_sex_ancestry_FIN_related_het_variant_mis_tmp1.exclude --make-bed --out /data/CARD/PD/GP2/raw_genotypes/GP2_QC/round1/GP2_QC_round1_callrate_sex_ancestry_FIN_related_het_variant_mis_tmp2\n",
      "Executing: plink --bfile /data/CARD/PD/GP2/raw_genotypes/GP2_QC/round1/GP2_QC_round1_callrate_sex_ancestry_FIN_related_het_variant_mis_tmp2 --test-mishap --out /data/CARD/PD/GP2/raw_genotypes/GP2_QC/round1/GP2_QC_round1_callrate_sex_ancestry_FIN_related_het_variant_hap_tmp1\n",
      "Executing: plink --bfile /data/CARD/PD/GP2/raw_genotypes/GP2_QC/round1/GP2_QC_round1_callrate_sex_ancestry_FIN_related_het_variant_mis_tmp2 --exclude /data/CARD/PD/GP2/raw_genotypes/GP2_QC/round1/GP2_QC_round1_callrate_sex_ancestry_FIN_related_het_variant_hap_tmp1.exclude --make-bed --out /data/CARD/PD/GP2/raw_genotypes/GP2_QC/round1/GP2_QC_round1_callrate_sex_ancestry_FIN_related_het_variant_hap_tmp2\n",
      "Executing: plink --bfile /data/CARD/PD/GP2/raw_genotypes/GP2_QC/round1/GP2_QC_round1_callrate_sex_ancestry_FIN_related_het_variant_hap_tmp2 --filter-controls --hwe 1E-4 --write-snplist --out /data/CARD/PD/GP2/raw_genotypes/GP2_QC/round1/GP2_QC_round1_callrate_sex_ancestry_FIN_related_het_variant_hwe_tmp1\n",
      "Executing: plink --bfile /data/CARD/PD/GP2/raw_genotypes/GP2_QC/round1/GP2_QC_round1_callrate_sex_ancestry_FIN_related_het_variant_hap_tmp2 --extract /data/CARD/PD/GP2/raw_genotypes/GP2_QC/round1/GP2_QC_round1_callrate_sex_ancestry_FIN_related_het_variant_hwe_tmp1.snplist --make-bed --out /data/CARD/PD/GP2/raw_genotypes/GP2_QC/round1/GP2_QC_round1_callrate_sex_ancestry_FIN_related_het_variant\n"
     ]
    }
   ],
   "source": [
    "import pandas as pd\n",
    "import argparse\n",
    "import shutil\n",
    "import os\n",
    "\n",
    "# local imports\n",
    "from QC.qc import callrate_prune, het_prune, sex_prune, related_prune, variant_prune, avg_miss_rates\n",
    "from Ancestry.ancestry import run_ancestry, split_cohort_ancestry\n",
    "from QC.utils import shell_do\n",
    "\n",
    "\n",
    "# debug qc issue\n",
    "# sample-level pruning and metrics\n",
    "missing_path = f'{geno_path}_missing'\n",
    "avg_miss = avg_miss_rates(geno_path, missing_path)\n",
    "# avg_miss\n",
    "\n",
    "callrate_out = f'{geno_path}_callrate'\n",
    "callrate = callrate_prune(geno_path, callrate_out)\n",
    "\n",
    "sex_out = f'{callrate_out}_sex'\n",
    "sex = sex_prune(callrate_out, sex_out)\n",
    "\n",
    "\n",
    "# run ancestry methods\n",
    "ancestry_out = f'{sex_out}_ancestry'\n",
    "ancestry = run_ancestry(geno_path=sex_out, out_path=ancestry_out, ref_panel=ref_panel, ref_labels=ref_labels, train_param_grid=param_grid)\n",
    "\n",
    "# get ancestry counts to add to output .h5 later\n",
    "ancestry_counts_df = pd.DataFrame(ancestry['metrics']['predicted_counts']).reset_index()\n",
    "ancestry_counts_df.columns = ['label', 'count']\n",
    "\n",
    "\n",
    "# split cohort into individual ancestry groups\n",
    "pred_labels_path = ancestry['output']['predicted_labels']['labels_outpath']\n",
    "cohort_split = split_cohort_ancestry(geno_path=sex_out, labels_path=pred_labels_path, out_path=ancestry_out)\n",
    "\n",
    "# ancestry-specific pruning steps\n",
    "het_dict = dict()\n",
    "related_dict = dict()\n",
    "variant_dict = dict()\n",
    "\n",
    "for geno, label in zip(cohort_split['paths'], cohort_split['labels']):\n",
    "\n",
    "    # related\n",
    "    related_out = f'{geno}_related'\n",
    "    related = related_prune(geno, related_out)\n",
    "    related_dict[label] = related\n",
    "    \n",
    "    # het\n",
    "    het_out = f'{related_out}_het'\n",
    "    het = het_prune(related_out, het_out)\n",
    "    het_dict[label] = het\n",
    "    \n",
    "    # variant\n",
    "    variant_out = f'{het_out}_variant'\n",
    "    if het['pass']:\n",
    "        variant = variant_prune(het_out, variant_out)\n",
    "        variant_dict[label] = variant\n",
    "    else:\n",
    "        variant = variant_prune(related_out, variant_out)\n",
    "        variant_dict[label] = variant\n",
    "\n",
    "# move output to out_path\n",
    "for label, data in variant_dict.items():\n",
    "    if data['pass']:\n",
    "        for suffix in ['bed','bim','fam','hh','log']:\n",
    "            plink_file = f\"{data['output']['plink_out']}.{suffix}\"\n",
    "            plink_outfile = f'{out_path}_{label}.{suffix}'\n",
    "            shutil.copyfile(src=plink_file, dst=plink_outfile)\n",
    "\n"
   ]
  },
  {
   "cell_type": "code",
   "execution_count": 24,
   "id": "9152f450-571a-41b7-9bf4-82119b2e9c43",
   "metadata": {},
   "outputs": [
    {
     "name": "stderr",
     "output_type": "stream",
     "text": [
      "/home/vitaled2/.local/lib/python3.7/site-packages/pandas/io/pytables.py:280: PerformanceWarning: \n",
      "your performance may suffer as PyTables will pickle object types that it cannot\n",
      "map directly to c-types [inferred_type->mixed-integer,key->axis0] [items->None]\n",
      "\n",
      "  f(store)\n",
      "/home/vitaled2/.local/lib/python3.7/site-packages/pandas/io/pytables.py:280: PerformanceWarning: \n",
      "your performance may suffer as PyTables will pickle object types that it cannot\n",
      "map directly to c-types [inferred_type->integer,key->block0_items] [items->None]\n",
      "\n",
      "  f(store)\n"
     ]
    }
   ],
   "source": [
    "\n",
    "        \n",
    "\n",
    "# build report- eventually make this an individual method\n",
    "steps = [callrate, sex]\n",
    "steps2 = [het_dict, related_dict, variant_dict]\n",
    "metrics_df = pd.DataFrame()\n",
    "pruned_samples_df = pd.DataFrame()\n",
    "\n",
    "for item in steps:\n",
    "    \n",
    "    step = item['step']\n",
    "    pf = item['pass']\n",
    "    level = 'sample'\n",
    "    ancestry_label = 'all'\n",
    "    \n",
    "    for metric, value in item['metrics'].items():\n",
    "        tmp_metrics_df = pd.DataFrame({'step':[step], 'pruned_count':[value], 'metric':[metric], 'ancestry':[ancestry_label], 'level':[level], 'pass': [pf]})\n",
    "        metrics_df = metrics_df.append(tmp_metrics_df)\n",
    "    \n",
    "    samplefile = item['output']['pruned_samples']\n",
    "    if os.path.isfile(samplefile):\n",
    "        pruned = pd.read_csv(samplefile, sep='\\t')\n",
    "        if pruned.shape[0] > 0:\n",
    "            pruned.loc[:,'step'] = step\n",
    "            pruned_samples_df = pruned_samples_df.append(pruned[['FID','IID','step']])\n",
    "        \n",
    "for item in steps2:\n",
    "    for ancestry_label, metrics in item.items():\n",
    "        \n",
    "        step = metrics['step']\n",
    "        pf = metrics['pass']\n",
    "        \n",
    "        if step in ['het_prune','related_prune']:\n",
    "            level = 'sample'\n",
    "\n",
    "            samplefile = metrics['output']['pruned_samples']\n",
    "            if os.path.isfile(samplefile):\n",
    "                pruned = pd.read_csv(samplefile, sep='\\t')\n",
    "                if pruned.shape[0] > 0:\n",
    "                    pruned.loc[:,'step'] = step\n",
    "                    pruned_samples_df = pruned_samples_df.append(pruned[['FID','IID','step']])\n",
    "            \n",
    "        else:\n",
    "            level = 'variant'\n",
    "\n",
    "        for metric, value in metrics['metrics'].items():\n",
    "            tmp_metrics_df = pd.DataFrame({'step':[step], 'pruned_count':[value], 'metric':[metric], 'ancestry':[ancestry_label], 'level':[level], 'pass': [pf]})\n",
    "            metrics_df = metrics_df.append(tmp_metrics_df)\n",
    "\n",
    "metrics_df.reset_index(drop=True, inplace=True)\n",
    "\n",
    "\n",
    "# build output hdf\n",
    "metrics_outfile = f'{out_path}.QC.metrics.h5'\n",
    "\n",
    "le = ancestry['data']['label_encoder']\n",
    "confusion_matrix = ancestry['data']['confusion_matrix']\n",
    "conf_mat_df = pd.DataFrame(confusion_matrix)\n",
    "conf_mat_df.columns = le.inverse_transform([i for i in range(8)])\n",
    "conf_mat_df.index = le.inverse_transform([i for i in range(8)])\n",
    "\n",
    "ref_pcs = ancestry['data']['ref_pcs']\n",
    "projected_pcs = ancestry['data']['projected_pcs']\n",
    "total_umap = ancestry['data']['total_umap']\n",
    "ref_umap = ancestry['data']['ref_umap']\n",
    "new_samples_umap = ancestry['data']['new_samples_umap']\n",
    "pred_ancestry_labels = ancestry['data']['predict_data']['ids']\n",
    "\n",
    "metrics_df.to_hdf(metrics_outfile, key='QC', mode='w')\n",
    "pruned_samples_df.to_hdf(metrics_outfile, key='pruned_samples')\n",
    "ancestry_counts_df.to_hdf(metrics_outfile, key='ancestry_counts')\n",
    "pred_ancestry_labels.to_hdf(metrics_outfile, key='ancestry_labels')\n",
    "conf_mat_df.to_hdf(metrics_outfile, key='confusion_matrix', index=True)\n",
    "ref_pcs.to_hdf(metrics_outfile, key='ref_pcs')\n",
    "projected_pcs.to_hdf(metrics_outfile, key='projected_pcs')\n",
    "total_umap.to_hdf(metrics_outfile, key='total_umap')\n",
    "ref_umap.to_hdf(metrics_outfile, key='ref_umap')\n",
    "new_samples_umap.to_hdf(metrics_outfile, key='new_samples_umap')"
   ]
  },
  {
   "cell_type": "code",
   "execution_count": 27,
   "id": "91373078-af83-40ef-89e9-7ccbbec8f64f",
   "metadata": {},
   "outputs": [
    {
     "data": {
      "text/html": [
       "<div>\n",
       "<style scoped>\n",
       "    .dataframe tbody tr th:only-of-type {\n",
       "        vertical-align: middle;\n",
       "    }\n",
       "\n",
       "    .dataframe tbody tr th {\n",
       "        vertical-align: top;\n",
       "    }\n",
       "\n",
       "    .dataframe thead th {\n",
       "        text-align: right;\n",
       "    }\n",
       "</style>\n",
       "<table border=\"1\" class=\"dataframe\">\n",
       "  <thead>\n",
       "    <tr style=\"text-align: right;\">\n",
       "      <th></th>\n",
       "      <th>step</th>\n",
       "      <th>pruned_count</th>\n",
       "      <th>metric</th>\n",
       "      <th>ancestry</th>\n",
       "      <th>level</th>\n",
       "      <th>pass</th>\n",
       "    </tr>\n",
       "  </thead>\n",
       "  <tbody>\n",
       "    <tr>\n",
       "      <th>0</th>\n",
       "      <td>callrate_prune</td>\n",
       "      <td>267</td>\n",
       "      <td>outlier_count</td>\n",
       "      <td>all</td>\n",
       "      <td>sample</td>\n",
       "      <td>True</td>\n",
       "    </tr>\n",
       "    <tr>\n",
       "      <th>1</th>\n",
       "      <td>sex_prune</td>\n",
       "      <td>58</td>\n",
       "      <td>outlier_count</td>\n",
       "      <td>all</td>\n",
       "      <td>sample</td>\n",
       "      <td>True</td>\n",
       "    </tr>\n",
       "    <tr>\n",
       "      <th>2</th>\n",
       "      <td>het_prune</td>\n",
       "      <td>0</td>\n",
       "      <td>outlier_count</td>\n",
       "      <td>EUR</td>\n",
       "      <td>sample</td>\n",
       "      <td>True</td>\n",
       "    </tr>\n",
       "    <tr>\n",
       "      <th>3</th>\n",
       "      <td>het_prune</td>\n",
       "      <td>0</td>\n",
       "      <td>outlier_count</td>\n",
       "      <td>AMR</td>\n",
       "      <td>sample</td>\n",
       "      <td>True</td>\n",
       "    </tr>\n",
       "    <tr>\n",
       "      <th>4</th>\n",
       "      <td>het_prune</td>\n",
       "      <td>0</td>\n",
       "      <td>outlier_count</td>\n",
       "      <td>SAS</td>\n",
       "      <td>sample</td>\n",
       "      <td>True</td>\n",
       "    </tr>\n",
       "    <tr>\n",
       "      <th>5</th>\n",
       "      <td>het_prune</td>\n",
       "      <td>0</td>\n",
       "      <td>outlier_count</td>\n",
       "      <td>AJ</td>\n",
       "      <td>sample</td>\n",
       "      <td>True</td>\n",
       "    </tr>\n",
       "    <tr>\n",
       "      <th>6</th>\n",
       "      <td>het_prune</td>\n",
       "      <td>0</td>\n",
       "      <td>outlier_count</td>\n",
       "      <td>AAC</td>\n",
       "      <td>sample</td>\n",
       "      <td>True</td>\n",
       "    </tr>\n",
       "    <tr>\n",
       "      <th>7</th>\n",
       "      <td>het_prune</td>\n",
       "      <td>0</td>\n",
       "      <td>outlier_count</td>\n",
       "      <td>EAS</td>\n",
       "      <td>sample</td>\n",
       "      <td>True</td>\n",
       "    </tr>\n",
       "    <tr>\n",
       "      <th>8</th>\n",
       "      <td>het_prune</td>\n",
       "      <td>0</td>\n",
       "      <td>outlier_count</td>\n",
       "      <td>FIN</td>\n",
       "      <td>sample</td>\n",
       "      <td>True</td>\n",
       "    </tr>\n",
       "    <tr>\n",
       "      <th>9</th>\n",
       "      <td>related_prune</td>\n",
       "      <td>76</td>\n",
       "      <td>related_count</td>\n",
       "      <td>EUR</td>\n",
       "      <td>sample</td>\n",
       "      <td>True</td>\n",
       "    </tr>\n",
       "    <tr>\n",
       "      <th>10</th>\n",
       "      <td>related_prune</td>\n",
       "      <td>11</td>\n",
       "      <td>duplicated_count</td>\n",
       "      <td>EUR</td>\n",
       "      <td>sample</td>\n",
       "      <td>True</td>\n",
       "    </tr>\n",
       "    <tr>\n",
       "      <th>11</th>\n",
       "      <td>related_prune</td>\n",
       "      <td>5</td>\n",
       "      <td>related_count</td>\n",
       "      <td>AMR</td>\n",
       "      <td>sample</td>\n",
       "      <td>True</td>\n",
       "    </tr>\n",
       "    <tr>\n",
       "      <th>12</th>\n",
       "      <td>related_prune</td>\n",
       "      <td>1</td>\n",
       "      <td>duplicated_count</td>\n",
       "      <td>AMR</td>\n",
       "      <td>sample</td>\n",
       "      <td>True</td>\n",
       "    </tr>\n",
       "    <tr>\n",
       "      <th>13</th>\n",
       "      <td>related_prune</td>\n",
       "      <td>2</td>\n",
       "      <td>related_count</td>\n",
       "      <td>SAS</td>\n",
       "      <td>sample</td>\n",
       "      <td>True</td>\n",
       "    </tr>\n",
       "    <tr>\n",
       "      <th>14</th>\n",
       "      <td>related_prune</td>\n",
       "      <td>0</td>\n",
       "      <td>duplicated_count</td>\n",
       "      <td>SAS</td>\n",
       "      <td>sample</td>\n",
       "      <td>True</td>\n",
       "    </tr>\n",
       "    <tr>\n",
       "      <th>15</th>\n",
       "      <td>related_prune</td>\n",
       "      <td>4</td>\n",
       "      <td>related_count</td>\n",
       "      <td>AJ</td>\n",
       "      <td>sample</td>\n",
       "      <td>True</td>\n",
       "    </tr>\n",
       "    <tr>\n",
       "      <th>16</th>\n",
       "      <td>related_prune</td>\n",
       "      <td>0</td>\n",
       "      <td>duplicated_count</td>\n",
       "      <td>AJ</td>\n",
       "      <td>sample</td>\n",
       "      <td>True</td>\n",
       "    </tr>\n",
       "    <tr>\n",
       "      <th>17</th>\n",
       "      <td>related_prune</td>\n",
       "      <td>3</td>\n",
       "      <td>related_count</td>\n",
       "      <td>AAC</td>\n",
       "      <td>sample</td>\n",
       "      <td>True</td>\n",
       "    </tr>\n",
       "    <tr>\n",
       "      <th>18</th>\n",
       "      <td>related_prune</td>\n",
       "      <td>0</td>\n",
       "      <td>duplicated_count</td>\n",
       "      <td>AAC</td>\n",
       "      <td>sample</td>\n",
       "      <td>True</td>\n",
       "    </tr>\n",
       "    <tr>\n",
       "      <th>19</th>\n",
       "      <td>related_prune</td>\n",
       "      <td>0</td>\n",
       "      <td>related_count</td>\n",
       "      <td>EAS</td>\n",
       "      <td>sample</td>\n",
       "      <td>True</td>\n",
       "    </tr>\n",
       "    <tr>\n",
       "      <th>20</th>\n",
       "      <td>related_prune</td>\n",
       "      <td>0</td>\n",
       "      <td>duplicated_count</td>\n",
       "      <td>EAS</td>\n",
       "      <td>sample</td>\n",
       "      <td>True</td>\n",
       "    </tr>\n",
       "    <tr>\n",
       "      <th>21</th>\n",
       "      <td>related_prune</td>\n",
       "      <td>0</td>\n",
       "      <td>related_count</td>\n",
       "      <td>FIN</td>\n",
       "      <td>sample</td>\n",
       "      <td>True</td>\n",
       "    </tr>\n",
       "    <tr>\n",
       "      <th>22</th>\n",
       "      <td>related_prune</td>\n",
       "      <td>0</td>\n",
       "      <td>duplicated_count</td>\n",
       "      <td>FIN</td>\n",
       "      <td>sample</td>\n",
       "      <td>True</td>\n",
       "    </tr>\n",
       "    <tr>\n",
       "      <th>23</th>\n",
       "      <td>variant_prune</td>\n",
       "      <td>43065</td>\n",
       "      <td>geno_removed_count</td>\n",
       "      <td>EUR</td>\n",
       "      <td>variant</td>\n",
       "      <td>True</td>\n",
       "    </tr>\n",
       "    <tr>\n",
       "      <th>24</th>\n",
       "      <td>variant_prune</td>\n",
       "      <td>36</td>\n",
       "      <td>mis_removed_count</td>\n",
       "      <td>EUR</td>\n",
       "      <td>variant</td>\n",
       "      <td>True</td>\n",
       "    </tr>\n",
       "    <tr>\n",
       "      <th>25</th>\n",
       "      <td>variant_prune</td>\n",
       "      <td>57177</td>\n",
       "      <td>haplotype_removed_count</td>\n",
       "      <td>EUR</td>\n",
       "      <td>variant</td>\n",
       "      <td>True</td>\n",
       "    </tr>\n",
       "    <tr>\n",
       "      <th>26</th>\n",
       "      <td>variant_prune</td>\n",
       "      <td>1925</td>\n",
       "      <td>hwe_removed_count</td>\n",
       "      <td>EUR</td>\n",
       "      <td>variant</td>\n",
       "      <td>True</td>\n",
       "    </tr>\n",
       "    <tr>\n",
       "      <th>27</th>\n",
       "      <td>variant_prune</td>\n",
       "      <td>102203</td>\n",
       "      <td>total_removed_count</td>\n",
       "      <td>EUR</td>\n",
       "      <td>variant</td>\n",
       "      <td>True</td>\n",
       "    </tr>\n",
       "    <tr>\n",
       "      <th>28</th>\n",
       "      <td>variant_prune</td>\n",
       "      <td>36735</td>\n",
       "      <td>geno_removed_count</td>\n",
       "      <td>AMR</td>\n",
       "      <td>variant</td>\n",
       "      <td>True</td>\n",
       "    </tr>\n",
       "    <tr>\n",
       "      <th>29</th>\n",
       "      <td>variant_prune</td>\n",
       "      <td>1</td>\n",
       "      <td>mis_removed_count</td>\n",
       "      <td>AMR</td>\n",
       "      <td>variant</td>\n",
       "      <td>True</td>\n",
       "    </tr>\n",
       "    <tr>\n",
       "      <th>30</th>\n",
       "      <td>variant_prune</td>\n",
       "      <td>3098</td>\n",
       "      <td>haplotype_removed_count</td>\n",
       "      <td>AMR</td>\n",
       "      <td>variant</td>\n",
       "      <td>True</td>\n",
       "    </tr>\n",
       "    <tr>\n",
       "      <th>31</th>\n",
       "      <td>variant_prune</td>\n",
       "      <td>90</td>\n",
       "      <td>hwe_removed_count</td>\n",
       "      <td>AMR</td>\n",
       "      <td>variant</td>\n",
       "      <td>True</td>\n",
       "    </tr>\n",
       "    <tr>\n",
       "      <th>32</th>\n",
       "      <td>variant_prune</td>\n",
       "      <td>39924</td>\n",
       "      <td>total_removed_count</td>\n",
       "      <td>AMR</td>\n",
       "      <td>variant</td>\n",
       "      <td>True</td>\n",
       "    </tr>\n",
       "    <tr>\n",
       "      <th>33</th>\n",
       "      <td>variant_prune</td>\n",
       "      <td>34211</td>\n",
       "      <td>geno_removed_count</td>\n",
       "      <td>SAS</td>\n",
       "      <td>variant</td>\n",
       "      <td>True</td>\n",
       "    </tr>\n",
       "    <tr>\n",
       "      <th>34</th>\n",
       "      <td>variant_prune</td>\n",
       "      <td>0</td>\n",
       "      <td>mis_removed_count</td>\n",
       "      <td>SAS</td>\n",
       "      <td>variant</td>\n",
       "      <td>True</td>\n",
       "    </tr>\n",
       "    <tr>\n",
       "      <th>35</th>\n",
       "      <td>variant_prune</td>\n",
       "      <td>0</td>\n",
       "      <td>haplotype_removed_count</td>\n",
       "      <td>SAS</td>\n",
       "      <td>variant</td>\n",
       "      <td>True</td>\n",
       "    </tr>\n",
       "    <tr>\n",
       "      <th>36</th>\n",
       "      <td>variant_prune</td>\n",
       "      <td>0</td>\n",
       "      <td>hwe_removed_count</td>\n",
       "      <td>SAS</td>\n",
       "      <td>variant</td>\n",
       "      <td>True</td>\n",
       "    </tr>\n",
       "    <tr>\n",
       "      <th>37</th>\n",
       "      <td>variant_prune</td>\n",
       "      <td>34211</td>\n",
       "      <td>total_removed_count</td>\n",
       "      <td>SAS</td>\n",
       "      <td>variant</td>\n",
       "      <td>True</td>\n",
       "    </tr>\n",
       "    <tr>\n",
       "      <th>38</th>\n",
       "      <td>variant_prune</td>\n",
       "      <td>47097</td>\n",
       "      <td>geno_removed_count</td>\n",
       "      <td>AJ</td>\n",
       "      <td>variant</td>\n",
       "      <td>True</td>\n",
       "    </tr>\n",
       "    <tr>\n",
       "      <th>39</th>\n",
       "      <td>variant_prune</td>\n",
       "      <td>5</td>\n",
       "      <td>mis_removed_count</td>\n",
       "      <td>AJ</td>\n",
       "      <td>variant</td>\n",
       "      <td>True</td>\n",
       "    </tr>\n",
       "    <tr>\n",
       "      <th>40</th>\n",
       "      <td>variant_prune</td>\n",
       "      <td>9189</td>\n",
       "      <td>haplotype_removed_count</td>\n",
       "      <td>AJ</td>\n",
       "      <td>variant</td>\n",
       "      <td>True</td>\n",
       "    </tr>\n",
       "    <tr>\n",
       "      <th>41</th>\n",
       "      <td>variant_prune</td>\n",
       "      <td>191</td>\n",
       "      <td>hwe_removed_count</td>\n",
       "      <td>AJ</td>\n",
       "      <td>variant</td>\n",
       "      <td>True</td>\n",
       "    </tr>\n",
       "    <tr>\n",
       "      <th>42</th>\n",
       "      <td>variant_prune</td>\n",
       "      <td>56482</td>\n",
       "      <td>total_removed_count</td>\n",
       "      <td>AJ</td>\n",
       "      <td>variant</td>\n",
       "      <td>True</td>\n",
       "    </tr>\n",
       "    <tr>\n",
       "      <th>43</th>\n",
       "      <td>variant_prune</td>\n",
       "      <td>42882</td>\n",
       "      <td>geno_removed_count</td>\n",
       "      <td>AAC</td>\n",
       "      <td>variant</td>\n",
       "      <td>True</td>\n",
       "    </tr>\n",
       "    <tr>\n",
       "      <th>44</th>\n",
       "      <td>variant_prune</td>\n",
       "      <td>0</td>\n",
       "      <td>mis_removed_count</td>\n",
       "      <td>AAC</td>\n",
       "      <td>variant</td>\n",
       "      <td>True</td>\n",
       "    </tr>\n",
       "    <tr>\n",
       "      <th>45</th>\n",
       "      <td>variant_prune</td>\n",
       "      <td>2007</td>\n",
       "      <td>haplotype_removed_count</td>\n",
       "      <td>AAC</td>\n",
       "      <td>variant</td>\n",
       "      <td>True</td>\n",
       "    </tr>\n",
       "    <tr>\n",
       "      <th>46</th>\n",
       "      <td>variant_prune</td>\n",
       "      <td>143</td>\n",
       "      <td>hwe_removed_count</td>\n",
       "      <td>AAC</td>\n",
       "      <td>variant</td>\n",
       "      <td>True</td>\n",
       "    </tr>\n",
       "    <tr>\n",
       "      <th>47</th>\n",
       "      <td>variant_prune</td>\n",
       "      <td>45032</td>\n",
       "      <td>total_removed_count</td>\n",
       "      <td>AAC</td>\n",
       "      <td>variant</td>\n",
       "      <td>True</td>\n",
       "    </tr>\n",
       "    <tr>\n",
       "      <th>48</th>\n",
       "      <td>variant_prune</td>\n",
       "      <td>50191</td>\n",
       "      <td>geno_removed_count</td>\n",
       "      <td>EAS</td>\n",
       "      <td>variant</td>\n",
       "      <td>True</td>\n",
       "    </tr>\n",
       "    <tr>\n",
       "      <th>49</th>\n",
       "      <td>variant_prune</td>\n",
       "      <td>0</td>\n",
       "      <td>mis_removed_count</td>\n",
       "      <td>EAS</td>\n",
       "      <td>variant</td>\n",
       "      <td>True</td>\n",
       "    </tr>\n",
       "    <tr>\n",
       "      <th>50</th>\n",
       "      <td>variant_prune</td>\n",
       "      <td>0</td>\n",
       "      <td>haplotype_removed_count</td>\n",
       "      <td>EAS</td>\n",
       "      <td>variant</td>\n",
       "      <td>True</td>\n",
       "    </tr>\n",
       "    <tr>\n",
       "      <th>51</th>\n",
       "      <td>variant_prune</td>\n",
       "      <td>0</td>\n",
       "      <td>hwe_removed_count</td>\n",
       "      <td>EAS</td>\n",
       "      <td>variant</td>\n",
       "      <td>True</td>\n",
       "    </tr>\n",
       "    <tr>\n",
       "      <th>52</th>\n",
       "      <td>variant_prune</td>\n",
       "      <td>50191</td>\n",
       "      <td>total_removed_count</td>\n",
       "      <td>EAS</td>\n",
       "      <td>variant</td>\n",
       "      <td>True</td>\n",
       "    </tr>\n",
       "    <tr>\n",
       "      <th>53</th>\n",
       "      <td>variant_prune</td>\n",
       "      <td>73131</td>\n",
       "      <td>geno_removed_count</td>\n",
       "      <td>FIN</td>\n",
       "      <td>variant</td>\n",
       "      <td>True</td>\n",
       "    </tr>\n",
       "    <tr>\n",
       "      <th>54</th>\n",
       "      <td>variant_prune</td>\n",
       "      <td>0</td>\n",
       "      <td>mis_removed_count</td>\n",
       "      <td>FIN</td>\n",
       "      <td>variant</td>\n",
       "      <td>True</td>\n",
       "    </tr>\n",
       "    <tr>\n",
       "      <th>55</th>\n",
       "      <td>variant_prune</td>\n",
       "      <td>0</td>\n",
       "      <td>haplotype_removed_count</td>\n",
       "      <td>FIN</td>\n",
       "      <td>variant</td>\n",
       "      <td>True</td>\n",
       "    </tr>\n",
       "    <tr>\n",
       "      <th>56</th>\n",
       "      <td>variant_prune</td>\n",
       "      <td>0</td>\n",
       "      <td>hwe_removed_count</td>\n",
       "      <td>FIN</td>\n",
       "      <td>variant</td>\n",
       "      <td>True</td>\n",
       "    </tr>\n",
       "    <tr>\n",
       "      <th>57</th>\n",
       "      <td>variant_prune</td>\n",
       "      <td>73131</td>\n",
       "      <td>total_removed_count</td>\n",
       "      <td>FIN</td>\n",
       "      <td>variant</td>\n",
       "      <td>True</td>\n",
       "    </tr>\n",
       "  </tbody>\n",
       "</table>\n",
       "</div>"
      ],
      "text/plain": [
       "              step  pruned_count                   metric ancestry    level  \\\n",
       "0   callrate_prune           267            outlier_count      all   sample   \n",
       "1        sex_prune            58            outlier_count      all   sample   \n",
       "2        het_prune             0            outlier_count      EUR   sample   \n",
       "3        het_prune             0            outlier_count      AMR   sample   \n",
       "4        het_prune             0            outlier_count      SAS   sample   \n",
       "5        het_prune             0            outlier_count       AJ   sample   \n",
       "6        het_prune             0            outlier_count      AAC   sample   \n",
       "7        het_prune             0            outlier_count      EAS   sample   \n",
       "8        het_prune             0            outlier_count      FIN   sample   \n",
       "9    related_prune            76            related_count      EUR   sample   \n",
       "10   related_prune            11         duplicated_count      EUR   sample   \n",
       "11   related_prune             5            related_count      AMR   sample   \n",
       "12   related_prune             1         duplicated_count      AMR   sample   \n",
       "13   related_prune             2            related_count      SAS   sample   \n",
       "14   related_prune             0         duplicated_count      SAS   sample   \n",
       "15   related_prune             4            related_count       AJ   sample   \n",
       "16   related_prune             0         duplicated_count       AJ   sample   \n",
       "17   related_prune             3            related_count      AAC   sample   \n",
       "18   related_prune             0         duplicated_count      AAC   sample   \n",
       "19   related_prune             0            related_count      EAS   sample   \n",
       "20   related_prune             0         duplicated_count      EAS   sample   \n",
       "21   related_prune             0            related_count      FIN   sample   \n",
       "22   related_prune             0         duplicated_count      FIN   sample   \n",
       "23   variant_prune         43065       geno_removed_count      EUR  variant   \n",
       "24   variant_prune            36        mis_removed_count      EUR  variant   \n",
       "25   variant_prune         57177  haplotype_removed_count      EUR  variant   \n",
       "26   variant_prune          1925        hwe_removed_count      EUR  variant   \n",
       "27   variant_prune        102203      total_removed_count      EUR  variant   \n",
       "28   variant_prune         36735       geno_removed_count      AMR  variant   \n",
       "29   variant_prune             1        mis_removed_count      AMR  variant   \n",
       "30   variant_prune          3098  haplotype_removed_count      AMR  variant   \n",
       "31   variant_prune            90        hwe_removed_count      AMR  variant   \n",
       "32   variant_prune         39924      total_removed_count      AMR  variant   \n",
       "33   variant_prune         34211       geno_removed_count      SAS  variant   \n",
       "34   variant_prune             0        mis_removed_count      SAS  variant   \n",
       "35   variant_prune             0  haplotype_removed_count      SAS  variant   \n",
       "36   variant_prune             0        hwe_removed_count      SAS  variant   \n",
       "37   variant_prune         34211      total_removed_count      SAS  variant   \n",
       "38   variant_prune         47097       geno_removed_count       AJ  variant   \n",
       "39   variant_prune             5        mis_removed_count       AJ  variant   \n",
       "40   variant_prune          9189  haplotype_removed_count       AJ  variant   \n",
       "41   variant_prune           191        hwe_removed_count       AJ  variant   \n",
       "42   variant_prune         56482      total_removed_count       AJ  variant   \n",
       "43   variant_prune         42882       geno_removed_count      AAC  variant   \n",
       "44   variant_prune             0        mis_removed_count      AAC  variant   \n",
       "45   variant_prune          2007  haplotype_removed_count      AAC  variant   \n",
       "46   variant_prune           143        hwe_removed_count      AAC  variant   \n",
       "47   variant_prune         45032      total_removed_count      AAC  variant   \n",
       "48   variant_prune         50191       geno_removed_count      EAS  variant   \n",
       "49   variant_prune             0        mis_removed_count      EAS  variant   \n",
       "50   variant_prune             0  haplotype_removed_count      EAS  variant   \n",
       "51   variant_prune             0        hwe_removed_count      EAS  variant   \n",
       "52   variant_prune         50191      total_removed_count      EAS  variant   \n",
       "53   variant_prune         73131       geno_removed_count      FIN  variant   \n",
       "54   variant_prune             0        mis_removed_count      FIN  variant   \n",
       "55   variant_prune             0  haplotype_removed_count      FIN  variant   \n",
       "56   variant_prune             0        hwe_removed_count      FIN  variant   \n",
       "57   variant_prune         73131      total_removed_count      FIN  variant   \n",
       "\n",
       "    pass  \n",
       "0   True  \n",
       "1   True  \n",
       "2   True  \n",
       "3   True  \n",
       "4   True  \n",
       "5   True  \n",
       "6   True  \n",
       "7   True  \n",
       "8   True  \n",
       "9   True  \n",
       "10  True  \n",
       "11  True  \n",
       "12  True  \n",
       "13  True  \n",
       "14  True  \n",
       "15  True  \n",
       "16  True  \n",
       "17  True  \n",
       "18  True  \n",
       "19  True  \n",
       "20  True  \n",
       "21  True  \n",
       "22  True  \n",
       "23  True  \n",
       "24  True  \n",
       "25  True  \n",
       "26  True  \n",
       "27  True  \n",
       "28  True  \n",
       "29  True  \n",
       "30  True  \n",
       "31  True  \n",
       "32  True  \n",
       "33  True  \n",
       "34  True  \n",
       "35  True  \n",
       "36  True  \n",
       "37  True  \n",
       "38  True  \n",
       "39  True  \n",
       "40  True  \n",
       "41  True  \n",
       "42  True  \n",
       "43  True  \n",
       "44  True  \n",
       "45  True  \n",
       "46  True  \n",
       "47  True  \n",
       "48  True  \n",
       "49  True  \n",
       "50  True  \n",
       "51  True  \n",
       "52  True  \n",
       "53  True  \n",
       "54  True  \n",
       "55  True  \n",
       "56  True  \n",
       "57  True  "
      ]
     },
     "execution_count": 27,
     "metadata": {},
     "output_type": "execute_result"
    }
   ],
   "source": []
  },
  {
   "cell_type": "code",
   "execution_count": null,
   "id": "902f7f8a-4ae1-476f-97c6-c2a0237cf883",
   "metadata": {},
   "outputs": [],
   "source": []
  },
  {
   "cell_type": "code",
   "execution_count": null,
   "id": "3cd96b86-2dad-4abc-ae8c-0b7392147643",
   "metadata": {},
   "outputs": [],
   "source": []
  },
  {
   "cell_type": "code",
   "execution_count": null,
   "id": "9ae1a026-9329-4688-8b0a-255970335e0a",
   "metadata": {},
   "outputs": [],
   "source": []
  },
  {
   "cell_type": "code",
   "execution_count": null,
   "id": "e4953f6a-e8dc-4be6-9583-dcb1cfc8bb10",
   "metadata": {},
   "outputs": [],
   "source": []
  },
  {
   "cell_type": "code",
   "execution_count": 7,
   "id": "b9c77795-f422-4dc2-9680-e0fb751fa6dd",
   "metadata": {},
   "outputs": [
    {
     "ename": "FileNotFoundError",
     "evalue": "File /data/CARD/PD/GP2/genotypes/GP2/round1/clean/GP2_round1.QC.metrics.h5 does not exist",
     "output_type": "error",
     "traceback": [
      "\u001b[0;31m---------------------------------------------------------------------------\u001b[0m",
      "\u001b[0;31mFileNotFoundError\u001b[0m                         Traceback (most recent call last)",
      "\u001b[0;32m<ipython-input-7-9541b0b17a16>\u001b[0m in \u001b[0;36m<module>\u001b[0;34m\u001b[0m\n\u001b[1;32m      1\u001b[0m \u001b[0mQC_metrics_path\u001b[0m \u001b[0;34m=\u001b[0m \u001b[0;34mf'{out_path}.QC.metrics.h5'\u001b[0m\u001b[0;34m\u001b[0m\u001b[0;34m\u001b[0m\u001b[0m\n\u001b[1;32m      2\u001b[0m \u001b[0;34m\u001b[0m\u001b[0m\n\u001b[0;32m----> 3\u001b[0;31m \u001b[0mmetrics_df\u001b[0m \u001b[0;34m=\u001b[0m \u001b[0mpd\u001b[0m\u001b[0;34m.\u001b[0m\u001b[0mread_hdf\u001b[0m\u001b[0;34m(\u001b[0m\u001b[0mQC_metrics_path\u001b[0m\u001b[0;34m,\u001b[0m \u001b[0mkey\u001b[0m\u001b[0;34m=\u001b[0m\u001b[0;34m'QC'\u001b[0m\u001b[0;34m)\u001b[0m\u001b[0;34m\u001b[0m\u001b[0;34m\u001b[0m\u001b[0m\n\u001b[0m\u001b[1;32m      4\u001b[0m \u001b[0mancestry_counts_df\u001b[0m \u001b[0;34m=\u001b[0m \u001b[0mpd\u001b[0m\u001b[0;34m.\u001b[0m\u001b[0mread_hdf\u001b[0m\u001b[0;34m(\u001b[0m\u001b[0mQC_metrics_path\u001b[0m\u001b[0;34m,\u001b[0m \u001b[0mkey\u001b[0m\u001b[0;34m=\u001b[0m\u001b[0;34m'ancestry_counts'\u001b[0m\u001b[0;34m)\u001b[0m\u001b[0;34m\u001b[0m\u001b[0;34m\u001b[0m\u001b[0m\n\u001b[1;32m      5\u001b[0m \u001b[0mpred_ancestry_labels\u001b[0m \u001b[0;34m=\u001b[0m \u001b[0mpd\u001b[0m\u001b[0;34m.\u001b[0m\u001b[0mread_hdf\u001b[0m\u001b[0;34m(\u001b[0m\u001b[0mQC_metrics_path\u001b[0m\u001b[0;34m,\u001b[0m \u001b[0mkey\u001b[0m\u001b[0;34m=\u001b[0m\u001b[0;34m'ancestry_labels'\u001b[0m\u001b[0;34m)\u001b[0m\u001b[0;34m\u001b[0m\u001b[0;34m\u001b[0m\u001b[0m\n",
      "\u001b[0;32m~/.local/lib/python3.7/site-packages/pandas/io/pytables.py\u001b[0m in \u001b[0;36mread_hdf\u001b[0;34m(path_or_buf, key, mode, errors, where, start, stop, columns, iterator, chunksize, **kwargs)\u001b[0m\n\u001b[1;32m    395\u001b[0m \u001b[0;34m\u001b[0m\u001b[0m\n\u001b[1;32m    396\u001b[0m         \u001b[0;32mif\u001b[0m \u001b[0;32mnot\u001b[0m \u001b[0mexists\u001b[0m\u001b[0;34m:\u001b[0m\u001b[0;34m\u001b[0m\u001b[0;34m\u001b[0m\u001b[0m\n\u001b[0;32m--> 397\u001b[0;31m             \u001b[0;32mraise\u001b[0m \u001b[0mFileNotFoundError\u001b[0m\u001b[0;34m(\u001b[0m\u001b[0;34mf\"File {path_or_buf} does not exist\"\u001b[0m\u001b[0;34m)\u001b[0m\u001b[0;34m\u001b[0m\u001b[0;34m\u001b[0m\u001b[0m\n\u001b[0m\u001b[1;32m    398\u001b[0m \u001b[0;34m\u001b[0m\u001b[0m\n\u001b[1;32m    399\u001b[0m         \u001b[0mstore\u001b[0m \u001b[0;34m=\u001b[0m \u001b[0mHDFStore\u001b[0m\u001b[0;34m(\u001b[0m\u001b[0mpath_or_buf\u001b[0m\u001b[0;34m,\u001b[0m \u001b[0mmode\u001b[0m\u001b[0;34m=\u001b[0m\u001b[0mmode\u001b[0m\u001b[0;34m,\u001b[0m \u001b[0merrors\u001b[0m\u001b[0;34m=\u001b[0m\u001b[0merrors\u001b[0m\u001b[0;34m,\u001b[0m \u001b[0;34m**\u001b[0m\u001b[0mkwargs\u001b[0m\u001b[0;34m)\u001b[0m\u001b[0;34m\u001b[0m\u001b[0;34m\u001b[0m\u001b[0m\n",
      "\u001b[0;31mFileNotFoundError\u001b[0m: File /data/CARD/PD/GP2/genotypes/GP2/round1/clean/GP2_round1.QC.metrics.h5 does not exist"
     ]
    }
   ],
   "source": [
    "QC_metrics_path = f'{out_path}.QC.metrics.h5'\n",
    "\n",
    "metrics_df = pd.read_hdf(QC_metrics_path, key='QC')\n",
    "ancestry_counts_df = pd.read_hdf(QC_metrics_path, key='ancestry_counts')\n",
    "pred_ancestry_labels = pd.read_hdf(QC_metrics_path, key='ancestry_labels')\n",
    "conf_mat_df = pd.read_hdf(QC_metrics_path, key='confusion_matrix', index=True)\n",
    "ref_pcs = pd.read_hdf(QC_metrics_path, key='ref_pcs')\n",
    "projected_pcs = pd.read_hdf(QC_metrics_path, key='projected_pcs')\n",
    "total_umap = pd.read_hdf(QC_metrics_path, key='total_umap')\n",
    "ref_umap = pd.read_hdf(QC_metrics_path, key='ref_umap')\n",
    "new_samples_umap = pd.read_hdf(QC_metrics_path, key='new_samples_umap')"
   ]
  },
  {
   "cell_type": "code",
   "execution_count": 8,
   "id": "38be816a-d693-49c9-8a46-4fa87fe045ee",
   "metadata": {},
   "outputs": [
    {
     "name": "stdout",
     "output_type": "stream",
     "text": [
      "GP2_round1_AAC.bed  GP2_round1_AJ.hh\tGP2_round1_EAS.bim  GP2_round1_EUR.log\n",
      "GP2_round1_AAC.bim  GP2_round1_AJ.log\tGP2_round1_EAS.fam  GP2_round1_SAS.bed\n",
      "GP2_round1_AAC.fam  GP2_round1_AMR.bed\tGP2_round1_EAS.hh   GP2_round1_SAS.bim\n",
      "GP2_round1_AAC.hh   GP2_round1_AMR.bim\tGP2_round1_EAS.log  GP2_round1_SAS.fam\n",
      "GP2_round1_AAC.log  GP2_round1_AMR.fam\tGP2_round1_EUR.bed  GP2_round1_SAS.hh\n",
      "GP2_round1_AJ.bed   GP2_round1_AMR.hh\tGP2_round1_EUR.bim  GP2_round1_SAS.log\n",
      "GP2_round1_AJ.bim   GP2_round1_AMR.log\tGP2_round1_EUR.fam\n",
      "GP2_round1_AJ.fam   GP2_round1_EAS.bed\tGP2_round1_EUR.hh\n"
     ]
    }
   ],
   "source": [
    "!ls /data/CARD/PD/GP2/genotypes/GP2/round1/clean/"
   ]
  },
  {
   "cell_type": "code",
   "execution_count": 11,
   "id": "b2fafc71-e50e-4420-921c-8e64367f0c56",
   "metadata": {
    "tags": []
   },
   "outputs": [
    {
     "name": "stdout",
     "output_type": "stream",
     "text": [
      "umap_linearsvc_ancestry_model.pkl\n"
     ]
    }
   ],
   "source": [
    "!ls {gp2_qc_path}/round1/models"
   ]
  },
  {
   "cell_type": "code",
   "execution_count": null,
   "id": "8e0a0a88-ba2e-499f-b3e8-4c9871214aad",
   "metadata": {},
   "outputs": [],
   "source": []
  }
 ],
 "metadata": {
  "kernelspec": {
   "display_name": "python/3.7",
   "language": "python",
   "name": "py3.7"
  },
  "language_info": {
   "codemirror_mode": {
    "name": "ipython",
    "version": 3
   },
   "file_extension": ".py",
   "mimetype": "text/x-python",
   "name": "python",
   "nbconvert_exporter": "python",
   "pygments_lexer": "ipython3",
   "version": "3.7.5"
  }
 },
 "nbformat": 4,
 "nbformat_minor": 5
}
