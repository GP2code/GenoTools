{
 "cells": [
  {
   "cell_type": "code",
   "execution_count": 1,
   "id": "705f4cb2-cc3c-40f3-ae09-6a4d0ea7c272",
   "metadata": {},
   "outputs": [],
   "source": [
    "import pandas as pd\n",
    "import os\n",
    "import shutil\n",
    "import numpy as np\n",
    "import glob\n",
    "\n",
    "from QC.utils import shell_do\n",
    "from QC.imputation import impute_data_prep\n",
    "import QC.config as config"
   ]
  },
  {
   "cell_type": "code",
   "execution_count": 2,
   "id": "dd94de9c-f89b-4d7f-bfe1-38c94d080f37",
   "metadata": {},
   "outputs": [],
   "source": [
    "idat_path = '/data/CARD/PD/GP2/raw_genotypes/GP2_idats'\n",
    "raw_plink_path = '/data/CARD/PD/GP2/raw_genotypes/GP2_plink'\n",
    "gp2_qc_path = '/data/CARD/PD/GP2/raw_genotypes/GP2_QC'\n",
    "\n",
    "# now set up path for round1 QC\n",
    "geno_path = f'{gp2_qc_path}/round1/GP2_QC_round1'\n",
    "\n",
    "ilmn_files_path = '/data/CARD/PD/GP2/ilmn_files'\n",
    "bpm = f'{ilmn_files_path}/NeuroBooster_20042459_A1.bpm'\n",
    "egt = f'{ilmn_files_path}/NBSCluster_file_n1393_011921.egt'\n",
    "iaap = f'{ilmn_files_path}/iaap-cli/iaap-cli'\n",
    "\n",
    "key_dir = '/data/CARD/PD/GP2/key_files'\n",
    "clin_dir = '/data/CARD/PD/GP2/clinical'\n",
    "key_file = f'{key_dir}/master_key.csv'\n",
    "clin_file = f'{clin_dir}/GP2_clinical.csv'\n",
    "\n",
    "swarm_scripts_dir = f'/data/CARD/PD/GP2/swarm_scripts'\n",
    "# swarm_dir = f'/data/CARD/PD/GP2/swarm_scripts/swarm'"
   ]
  },
  {
   "cell_type": "markdown",
   "id": "b336825e-a9aa-476c-8b82-3e6fb81bc679",
   "metadata": {},
   "source": [
    "# Create Plink style phenotypes and update ids"
   ]
  },
  {
   "cell_type": "code",
   "execution_count": 9,
   "id": "14797d6b-13b5-4488-8f84-9a65f24e9023",
   "metadata": {},
   "outputs": [],
   "source": [
    "pheno = pd.read_csv(clin_file)\n",
    "key = pd.read_csv(key_file)\n",
    "\n",
    "\n",
    "pheno['Original_clinicalID'] = pheno['Original_clinicalID'].astype(str)\n",
    "key['Sample_ID'] = key['Sample_ID'].astype(str)\n",
    "key['filename'] = key['SentrixBarcode_A'].astype(str) + '_' + key['SentrixPosition_A']\n",
    "pheno_out = key.merge(pheno, how='inner', left_on='Sample_ID', right_on='Original_clinicalID')\n",
    "pheno_out['IID'] = pheno_out.SentrixBarcode_A.astype(str) + '_' + pheno_out.SentrixPosition_A.astype(str)\n",
    "pheno_out['FID'] = 0\n",
    "pheno_out['FID_new'] = 0\n",
    "# pheno_out['pheno'] = 0\n",
    "\n",
    "\n",
    "# update codes to plink format\n",
    "pheno_out.loc[pheno_out.Phenotype == 'PD', 'pheno'] = 2\n",
    "pheno_out.loc[pheno_out.Phenotype == 'Control', 'pheno'] = 1\n",
    "pheno_out.loc[pheno_out.Phenotype == 'Not Reported', 'pheno'] = 0\n",
    "\n",
    "pheno_out.loc[pheno_out.Sex == 'Male', 'sex'] = 1\n",
    "pheno_out.loc[pheno_out.Sex == 'Female', 'sex'] = 2\n",
    "pheno_out.loc[pheno_out.Sex == 'Not Reported', 'sex'] = 0\n",
    "\n",
    "pheno_out.loc[:,'pheno'] = pheno_out.loc[:,'pheno'].astype(int).astype(str)\n",
    "pheno_out.loc[:,'sex'] = pheno_out.loc[:,'sex'].astype(int).astype(str)\n",
    "\n",
    "\n",
    "pheno_out[['FID','IID', 'FID_new', 'GP2SampleID']].to_csv(f'{clin_dir}/update_ids.txt', sep='\\t', header=False, index=False)\n",
    "pheno_out[['FID_new', 'GP2SampleID', 'pheno']].to_csv(f'{clin_dir}/update_pheno.txt', sep='\\t', header=False, index=False)\n",
    "pheno_out[['FID_new', 'GP2SampleID', 'sex']].to_csv(f'{clin_dir}/update_sex.txt', sep='\\t', header=False, index=False)\n"
   ]
  },
  {
   "cell_type": "code",
   "execution_count": 17,
   "id": "95fbc782-d311-454e-8539-8a132136ecc6",
   "metadata": {},
   "outputs": [
    {
     "data": {
      "text/plain": [
       "1    3054\n",
       "2    2259\n",
       "0       3\n",
       "Name: sex, dtype: int64"
      ]
     },
     "execution_count": 17,
     "metadata": {},
     "output_type": "execute_result"
    }
   ],
   "source": [
    "pheno_out.sex.value_counts()"
   ]
  },
  {
   "cell_type": "markdown",
   "id": "171a6659-5c73-494b-8c4c-a47373d8c512",
   "metadata": {},
   "source": [
    "# Convert idats to ped "
   ]
  },
  {
   "cell_type": "code",
   "execution_count": 27,
   "id": "dd4c6452-9f06-45e2-a664-a30e7943e639",
   "metadata": {},
   "outputs": [],
   "source": [
    "with open(f'{swarm_scripts_dir}/idat_to_ped.swarm', 'w') as f:\n",
    "    \n",
    "    for code in key.SentrixBarcode_A.unique():\n",
    "        \n",
    "        idat_to_ped_cmd = f'\\\n",
    "{iaap} gencall \\\n",
    "{bpm} \\\n",
    "{egt} \\\n",
    "{raw_plink_path}/ \\\n",
    "-f {idat_path}/{code} \\\n",
    "-p \\\n",
    "-t 8'\n",
    "        \n",
    "        f.write(f'{idat_to_ped_cmd}\\n')\n",
    "f.close()"
   ]
  },
  {
   "cell_type": "code",
   "execution_count": 29,
   "id": "bf877918-80f4-4286-af3f-4d38c2cbedf9",
   "metadata": {},
   "outputs": [
    {
     "name": "stdout",
     "output_type": "stream",
     "text": [
      "20940619\n"
     ]
    }
   ],
   "source": [
    "!swarm -f {swarm_scripts_dir}/idat_to_ped.swarm -g 32 -t 16 --time=10:00:00 --logdir {swarm_scripts_dir}/logs --gres=lscratch:20 --partition=norm"
   ]
  },
  {
   "cell_type": "code",
   "execution_count": 32,
   "id": "126c8f02-4652-42ea-8e08-5d02ca62998c",
   "metadata": {},
   "outputs": [
    {
     "name": "stdout",
     "output_type": "stream",
     "text": [
      "/data/CARD/PD/GP2/raw_genotypes/GP2_plink/205275450156_R02C01.ped does not exist!\n",
      "/data/CARD/PD/GP2/raw_genotypes/GP2_plink/205275450156_R02C01.map creation cancelled\n"
     ]
    }
   ],
   "source": [
    "# copy map file to match name of each ped\n",
    "map_file = f'{raw_plink_path}/NeuroBooster_20042459_A1.map'\n",
    "for filename in key.filename:\n",
    "    ped = f'{raw_plink_path}/{filename}.ped'\n",
    "    out_map = f'{raw_plink_path}/{filename}.map'\n",
    "    if os.path.isfile(ped):\n",
    "        shutil.copyfile(src=map_file, dst=out_map)\n",
    "    else:\n",
    "        print(f'{ped} does not exist!')\n",
    "        print(f'{out_map} creation cancelled')"
   ]
  },
  {
   "cell_type": "code",
   "execution_count": 33,
   "id": "09932095-b9e3-48e5-8717-6b39856ddb0c",
   "metadata": {},
   "outputs": [],
   "source": [
    "with open(f'{swarm_scripts_dir}/make_bed.swarm', 'w') as f:\n",
    "    for filename in key.filename:\n",
    "        ped = f'{raw_plink_path}/{filename}'\n",
    "        make_bed_cmd = f'\\\n",
    "plink \\\n",
    "--file {ped} \\\n",
    "--make-bed \\\n",
    "--out {raw_plink_path}/{filename}'\n",
    "\n",
    "        f.write(f'{make_bed_cmd}\\n')\n",
    "f.close()"
   ]
  },
  {
   "cell_type": "code",
   "execution_count": 34,
   "id": "eac8fcac-5399-4205-bac0-8680f9f369e0",
   "metadata": {},
   "outputs": [
    {
     "name": "stdout",
     "output_type": "stream",
     "text": [
      "20951177\n"
     ]
    }
   ],
   "source": [
    "!swarm -f {swarm_scripts_dir}/make_bed.swarm -g 64 -t 32 --time=10:00:00 --logdir swarm --gres=lscratch:20 --partition=norm"
   ]
  },
  {
   "cell_type": "code",
   "execution_count": 10,
   "id": "54be75aa-88d9-4e9d-b747-3c23a6ac8da1",
   "metadata": {},
   "outputs": [
    {
     "name": "stdout",
     "output_type": "stream",
     "text": [
      "/data/CARD/PD/GP2/raw_genotypes/GP2_plink/205275450156_R02C01 does not exist!!!\n"
     ]
    }
   ],
   "source": [
    "# write plink merge command\n",
    "with open(f\"{raw_plink_path}/merge_bed.list\", 'w') as f:\n",
    "    for filename in key.filename:\n",
    "        bed = f'{raw_plink_path}/{filename}'\n",
    "        if os.path.isfile(f'{bed}.bed'):\n",
    "            f.write(f'{bed}\\n')\n",
    "        else:\n",
    "            print(f'{bed} does not exist!!!')\n",
    "f.close()\n",
    "\n",
    "with open(f\"{swarm_scripts_dir}/merge.swarm\", 'w') as f:\n",
    "\n",
    "    plink_merge_cmd = f'\\\n",
    "plink \\\n",
    "--merge-list {raw_plink_path}/merge_bed.list \\\n",
    "--update-ids {clin_dir}/update_ids.txt \\\n",
    "--make-bed \\\n",
    "--out {raw_plink_path}/GP2_merge'\n",
    "    f.write(f\"{plink_merge_cmd}\")\n",
    "f.close()"
   ]
  },
  {
   "cell_type": "code",
   "execution_count": 53,
   "id": "5a92207e-b205-4a96-b042-346e5f8ad832",
   "metadata": {},
   "outputs": [
    {
     "name": "stdout",
     "output_type": "stream",
     "text": [
      "20969678\n"
     ]
    }
   ],
   "source": [
    "!swarm -f {swarm_scripts_dir}/merge.swarm -g 64 -t 32 --time=10:00:00 --logdir swarm --gres=lscratch:20 --partition=norm"
   ]
  },
  {
   "cell_type": "code",
   "execution_count": 18,
   "id": "24ceb36c-4390-4cf6-8dca-92102666d5a8",
   "metadata": {},
   "outputs": [
    {
     "name": "stdout",
     "output_type": "stream",
     "text": [
      "PLINK v1.90b4.4 64-bit (21 May 2017)           www.cog-genomics.org/plink/1.9/\n",
      "(C) 2005-2017 Shaun Purcell, Christopher Chang   GNU General Public License v3\n",
      "Logging to /data/CARD/PD/GP2/raw_genotypes/GP2_QC/round1/GP2_QC_round1.log.\n",
      "Options in effect:\n",
      "  --bfile /data/CARD/PD/GP2/raw_genotypes/GP2_plink/GP2_merge\n",
      "  --make-bed\n",
      "  --out /data/CARD/PD/GP2/raw_genotypes/GP2_QC/round1/GP2_QC_round1\n",
      "  --pheno /data/CARD/PD/GP2/clinical/update_pheno.txt\n",
      "  --update-sex /data/CARD/PD/GP2/clinical/update_sex.txt\n",
      "\n",
      "1547809 MB RAM detected; reserving 773904 MB for main workspace.\n",
      "2004347 variants loaded from .bim file.\n",
      "5320 people (2988 males, 2180 females, 152 ambiguous) loaded from .fam.\n",
      "Ambiguous sex IDs written to\n",
      "/data/CARD/PD/GP2/raw_genotypes/GP2_QC/round1/GP2_QC_round1.nosex .\n",
      "5312 phenotype values present after --pheno.\n",
      "--update-sex: 5315 people updated, 1 ID not present.\n",
      "Warning: Ignoring phenotypes of missing-sex samples.  If you don't want those\n",
      "phenotypes to be ignored, use the --allow-no-sex flag.\n",
      "Using 1 thread (no multithreaded calculations invoked).\n",
      "Before main variant filters, 5320 founders and 0 nonfounders present.\n",
      "Calculating allele frequencies... 10111213141516171819202122232425262728293031323334353637383940414243444546474849505152535455565758596061626364656667686970717273747576777879808182838485868788899091929394959697989 done.\n",
      "Warning: 361052 het. haploid genotypes present (see\n",
      "/data/CARD/PD/GP2/raw_genotypes/GP2_QC/round1/GP2_QC_round1.hh ); many commands\n",
      "treat these as missing.\n",
      "Warning: Nonmissing nonmale Y chromosome genotype(s) present; many commands\n",
      "treat these as missing.\n",
      "Total genotyping rate is 0.987454.\n",
      "2004347 variants and 5320 people pass filters and QC.\n",
      "Among remaining phenotypes, 3718 are cases and 1594 are controls.  (8\n",
      "phenotypes are missing.)\n",
      "--make-bed to /data/CARD/PD/GP2/raw_genotypes/GP2_QC/round1/GP2_QC_round1.bed +\n",
      "/data/CARD/PD/GP2/raw_genotypes/GP2_QC/round1/GP2_QC_round1.bim +\n",
      "/data/CARD/PD/GP2/raw_genotypes/GP2_QC/round1/GP2_QC_round1.fam ... 101112131415161718192021222324252627282930313233343536373839404142434445464748495051525354555657585960616263646566676869707172737475767778798081828384858687888990919293949596979899done.\n"
     ]
    }
   ],
   "source": [
    "!plink --bfile {raw_plink_path}/GP2_merge --pheno {clin_dir}/update_pheno.txt --update-sex {clin_dir}/update_sex.txt --make-bed --out {geno_path}"
   ]
  },
  {
   "cell_type": "code",
   "execution_count": 1,
   "id": "1c7cdfff-662d-4138-9834-35c61f2c581c",
   "metadata": {},
   "outputs": [],
   "source": [
    "# missing clinical information\n",
    "# key[~key.filename.isin(pheno_out.filename)]"
   ]
  },
  {
   "cell_type": "code",
   "execution_count": null,
   "id": "44c4c75b-bc8d-4c5b-aade-c9873f691f98",
   "metadata": {},
   "outputs": [],
   "source": []
  },
  {
   "cell_type": "code",
   "execution_count": 50,
   "id": "b9c77795-f422-4dc2-9680-e0fb751fa6dd",
   "metadata": {},
   "outputs": [
    {
     "name": "stdout",
     "output_type": "stream",
     "text": [
      "5320\n"
     ]
    }
   ],
   "source": [
    "!cat {raw_plink_path}/merge_bed.list | wc -l"
   ]
  },
  {
   "cell_type": "code",
   "execution_count": null,
   "id": "38be816a-d693-49c9-8a46-4fa87fe045ee",
   "metadata": {},
   "outputs": [],
   "source": []
  }
 ],
 "metadata": {
  "kernelspec": {
   "display_name": "python/3.7",
   "language": "python",
   "name": "py3.7"
  },
  "language_info": {
   "codemirror_mode": {
    "name": "ipython",
    "version": 3
   },
   "file_extension": ".py",
   "mimetype": "text/x-python",
   "name": "python",
   "nbconvert_exporter": "python",
   "pygments_lexer": "ipython3",
   "version": "3.7.5"
  }
 },
 "nbformat": 4,
 "nbformat_minor": 5
}
