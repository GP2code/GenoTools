{
 "metadata": {
  "language_info": {
   "codemirror_mode": {
    "name": "ipython",
    "version": 3
   },
   "file_extension": ".py",
   "mimetype": "text/x-python",
   "name": "python",
   "nbconvert_exporter": "python",
   "pygments_lexer": "ipython3",
   "version": 3
  },
  "orig_nbformat": 2
 },
 "nbformat": 4,
 "nbformat_minor": 2,
 "cells": [
  {
   "cell_type": "code",
   "execution_count": null,
   "metadata": {},
   "outputs": [],
   "source": [
    "import pandas as pd\n",
    "import os\n",
    "import shutil"
   ]
  },
  {
   "cell_type": "code",
   "execution_count": null,
   "metadata": {},
   "outputs": [],
   "source": [
    "basedir = '/data/CARD/PD/GP2/raw_genotypes'\n",
    "out_genotypes = '/data/CARD/PD/GP2/genotypes'\n",
    "shulman_ny_path = f'{basedir}/shulman_ny'\n",
    "gtc_file_path = f'{shulman_ny_path}/GP2_GCT_files'\n",
    "idat_file_path = f'{shulman_ny_path}/GP2_Shulman'\n",
    "key_file = f'{gtc_file_path}/Key File_FINAL_Shulman_and_NY_011421.txt'\n",
    "manifest_txt_path = f'{gtc_file_path}/FINALSS_after_rerun__Shulman_and_NY_011421.csv'\n",
    "bpm = f'{gtc_file_path}/NeuroBooster_20042459_A1.bpm'\n",
    "cluster_file = f'{gtc_file_path}/NBSCluster_file_n1393_011921.egt'\n",
    "\n",
    "#software paths\n",
    "GTCtoVCF = 'GTCtoVCF/gtc_to_vcf.py'\n",
    "iaap = '../executables/iaap-cli-linux-x64-1.1.0-sha.80d7e5b3d9c1fdfc2e99b472a90652fd3848bbc7/iaap-cli/iaap-cli'\n",
    "\n",
    "ref_fasta = 'ref_data/hg38_ref.fa'\n",
    "shulman_gtc_path = f'{basedir}/SHULMAN/gtc_files'\n",
    "shulman_idat_path = f'{basedir}/SHULMAN/idats'\n",
    "shulman_out = f'{out_genotypes}/SHULMAN'\n",
    "ny_gtc_path = f'{basedir}/NY/gtc_files'\n",
    "ny_idat_path = f'{basedir}/NY/idats'\n",
    "ny_out = f'{out_genotypes}/NY'"
   ]
  },
  {
   "cell_type": "code",
   "execution_count": null,
   "metadata": {},
   "outputs": [],
   "source": [
    "manifest = pd.read_csv(manifest_txt_path, header=10)"
   ]
  },
  {
   "cell_type": "code",
   "execution_count": null,
   "metadata": {},
   "outputs": [],
   "source": [
    "# create new directories to store split cohorts\n",
    "!mkdir {basedir}/SHULMAN\n",
    "!mkdir {basedir}/NY\n",
    "!mkdir {basedir}/SHULMAN/idats\n",
    "!mkdir {basedir}/NY/idats\n",
    "!mkdir {out_genotypes}\n",
    "!mkdir {out_genotypes}/SHULMAN\n",
    "!mkdir {out_genotypes}/SHULMAN/ped\n",
    "!mkdir {out_genotypes}/NY\n",
    "!mkdir {out_genotypes}/NY/ped\n",
    "!mkdir {shulman_out}/plink\n",
    "!mkdir {ny_out}/plink"
   ]
  },
  {
   "cell_type": "code",
   "execution_count": null,
   "metadata": {},
   "outputs": [],
   "source": [
    "# create filenaames and split manifest into respective cohorts\n",
    "manifest['filename'] = manifest['SentrixBarcode_A'].astype(str) + '_' + manifest['SentrixPosition_A']\n",
    "shulman = manifest.loc[manifest.Study == 'Shulman']\n",
    "ny = manifest.loc[manifest.Study == 'NY']"
   ]
  },
  {
   "cell_type": "code",
   "execution_count": null,
   "metadata": {},
   "outputs": [],
   "source": [
    "# create directory for each sentrix barcode A if they don't already exist-- \n",
    "def split_cohort_idats(manifest_df, name, idat_file_path):\n",
    "        \n",
    "    for code in manifest_df.SentrixBarcode_A.unique():\n",
    "        if os.path.exists(f'{basedir}/{name}/idats/{code}'):\n",
    "            print(f'{basedir}/{name}/idats/{code} already exists')\n",
    "        else:\n",
    "            os.mkdir(f'{basedir}/{name}/idats/{code}')\n",
    "\n",
    "    missing_idats = []\n",
    "\n",
    "    # split idats into respective cohorts and populated each sentrix barcode A directory\n",
    "    for i, filename in enumerate(manifest_df.filename):\n",
    "        sentrix_code = manifest_df.SentrixBarcode_A.iloc[i]\n",
    "        grn = f'{idat_file_path}/{sentrix_code}/{filename}_Grn.idat'\n",
    "        red = f'{idat_file_path}/{sentrix_code}/{filename}_Red.idat'\n",
    "\n",
    "        if os.path.isfile(grn):\n",
    "            shutil.copyfile(src=grn, dst=f'{basedir}/{name}/idats/{sentrix_code}/{filename}_Grn.idat')\n",
    "        else:\n",
    "            missing_idats.append(grn)\n",
    "            \n",
    "        if os.path.isfile(red):\n",
    "            shutil.copyfile(src=red, dst=f'{basedir}/{name}/idats/{sentrix_code}/{filename}_Red.idat')\n",
    "        else:\n",
    "            missing_idats.append(red)\n",
    "        \n",
    "\n",
    "    len(missing_idats)"
   ]
  },
  {
   "cell_type": "code",
   "execution_count": null,
   "metadata": {},
   "outputs": [],
   "source": [
    "split_cohort_idats(manifest_df=shulman, name='SHULMAN', idat_file_path=idat_file_path)\n",
    "split_cohort_idats(manifest_df=ny, name='NY', idat_file_path=idat_file_path)\n"
   ]
  },
  {
   "cell_type": "code",
   "execution_count": null,
   "metadata": {},
   "outputs": [],
   "source": [
    "# swarm command to run in parallel\n",
    "with open('shulman_idat_to_ped.swarm','w') as f:\n",
    "    \n",
    "    for code in shulman.SentrixBarcode_A.unique():\n",
    "        \n",
    "        shulman_idat_to_ped_cmd = f'\\\n",
    "{iaap} gencall \\\n",
    "{bpm} \\\n",
    "{cluster_file} \\\n",
    "{shulman_out}/ped/ \\\n",
    "-f {shulman_idat_path}/{code} \\\n",
    "-p \\\n",
    "-t 8'\n",
    "        \n",
    "        f.write(f'{shulman_idat_to_ped_cmd}\\n')\n",
    "f.close()"
   ]
  },
  {
   "cell_type": "code",
   "execution_count": null,
   "metadata": {},
   "outputs": [],
   "source": [
    "# !swarm -f shulman_idat_to_ped.swarm -g 32 -t 16 --time=10:00:00 --logdir swarm --gres=lscratch:20 --partition=norm"
   ]
  },
  {
   "cell_type": "code",
   "execution_count": null,
   "metadata": {},
   "outputs": [],
   "source": [
    "# copy map file to match name of each ped\n",
    "map = f'{shulman_out}/ped/NeuroBooster_20042459_A1.map'\n",
    "for filename in shulman.filename:\n",
    "    ped = f'{shulman_out}/ped/{filename}.ped'\n",
    "    out_map = f'{shulman_out}/ped/{filename}.map'\n",
    "    if os.path.isfile(ped):\n",
    "        shutil.copyfile(src=map, dst=out_map)\n",
    "    else:\n",
    "        print(f'{ped} does not exist!')\n",
    "        print(f'{out_map} creation cancelled')\n"
   ]
  },
  {
   "cell_type": "code",
   "execution_count": null,
   "metadata": {},
   "outputs": [],
   "source": [
    "for filename in shulman.filename:\n",
    "    ped = f'{shulman_out}/ped/{filename}'\n",
    "    make_bed_cmd = f'\\\n",
    "plink \\\n",
    "--file {ped} \\\n",
    "--make-bed \\\n",
    "--out {shulman_out}/plink/{filename}'\n",
    "\n",
    "    shell_do(make_bed_cmd)"
   ]
  },
  {
   "cell_type": "code",
   "execution_count": null,
   "metadata": {},
   "outputs": [],
   "source": [
    "# write plink merge command\n",
    "with open(\"shulman_merge_bed.list\", 'w') as f:\n",
    "    for filename in shulman.filename:\n",
    "        bed = f'{shulman_out}/plink/{filename}'\n",
    "        f.write(f'{bed}\\n')\n",
    "f.close()\n",
    "\n",
    "with open(\"shulman_merge.swarm\", 'w') as f:\n",
    "\n",
    "    plink_merge_cmd = f'\\\n",
    "plink \\\n",
    "--merge-list shulman_merge_bed.list \\\n",
    "--make-bed \\\n",
    "--out {shulman_out}/plink/shulman'\n",
    "    f.write(f\"{plink_merge_cmd}\")\n",
    "f.close()"
   ]
  },
  {
   "cell_type": "code",
   "execution_count": null,
   "metadata": {},
   "outputs": [],
   "source": [
    "!swarm -f shulman_merge.swarm -g 64 -t 32 --time=10:00:00 --logdir swarm --gres=lscratch:20 --partition=norm"
   ]
  },
  {
   "cell_type": "code",
   "execution_count": null,
   "metadata": {},
   "outputs": [],
   "source": [
    "# get basic statistics\n",
    "plink_miss_cmd = f'\\\n",
    "plink \\\n",
    "--bfile {shulman_out}/plink/shulman \\\n",
    "--missing \\\n",
    "--out {shulman_out}/plink/shulman'\n",
    "\n",
    "shell_do(plink_miss_cmd)"
   ]
  },
  {
   "cell_type": "code",
   "execution_count": null,
   "metadata": {},
   "outputs": [],
   "source": [
    "# get average call rate\n",
    "lmiss = pd.read_csv(f'{shulman_out}/plink/shulman.lmiss', sep='\\s+')\n",
    "imiss = pd.read_csv(f'{shulman_out}/plink/shulman.imiss', sep='\\s+')\n",
    "avg_call_rate = 100-lmiss.F_MISS.mean()\n",
    "avg_geno_rate = 100-imiss.F_MISS.mean()\n",
    "print(f'Average Call Rate: {avg_call_rate}')\n",
    "print(f'Average Genotyping Rate: {avg_geno_rate}')"
   ]
  },
  {
   "cell_type": "code",
   "execution_count": null,
   "metadata": {},
   "outputs": [],
   "source": [
    "\n",
    "\n",
    "\n",
    "    "
   ]
  }
 ]
}