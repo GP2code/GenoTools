{
 "metadata": {
  "orig_nbformat": 2,
  "kernelspec": {
   "name": "py3.7",
   "display_name": "python/3.7",
   "language": "python"
  }
 },
 "nbformat": 4,
 "nbformat_minor": 2,
 "cells": [
  {
   "cell_type": "code",
   "execution_count": 2,
   "metadata": {},
   "outputs": [],
   "source": [
    "import pandas as pd\n",
    "import os\n",
    "import shutil\n",
    "import numpy as np\n",
    "\n",
    "from QC.utils import shell_do"
   ]
  },
  {
   "cell_type": "code",
   "execution_count": 3,
   "metadata": {},
   "outputs": [],
   "source": [
    "# function definitions\n",
    "\n",
    "def make_gencall_cmds(idat_path, bpm_file, cluster_file, out_path, iaap=None):\n",
    "    \n",
    "    cmd = f'\\\n",
    "{iaap} gencall \\\n",
    "{bpm_path} \\\n",
    "{cluster_file} \\\n",
    "{out_path}/ped/ \\\n",
    "-f {idat_path}/{code} \\\n",
    "-p \\\n",
    "-t 8'"
   ]
  },
  {
   "cell_type": "code",
   "execution_count": 4,
   "metadata": {},
   "outputs": [],
   "source": [
    "basedir = '/data/CARD/PD/GP2/raw_genotypes'\n",
    "out_genotypes = '/data/CARD/PD/GP2/genotypes'\n",
    "shulman_ny_path = f'{basedir}/shulman_ny'\n",
    "sample_info_path = f'{shulman_ny_path}/sample_info'\n",
    "gtc_file_path = f'{shulman_ny_path}/GP2_GCT_files'\n",
    "raw_idat_file_path = f'{shulman_ny_path}/GP2_Shulman'\n",
    "ped_dir = f'{shulman_ny_path}/ped'\n",
    "plink_dir = f'{shulman_ny_path}/plink'\n",
    "swarm_scripts_dir = f'swarm_scripts'\n",
    "idat_dir = f'{shulman_ny_path}/idats'\n",
    "\n",
    "# create ped and plink directories for raw geno outputs if they don't exist\n",
    "os.makedirs(ped_dir, exist_ok=True)\n",
    "os.makedirs(plink_dir, exist_ok=True)\n",
    "os.makedirs(f'{plink_dir}/indiv_samples', exist_ok=True)\n",
    "os.makedirs(swarm_scripts_dir, exist_ok=True)\n",
    "os.makedirs(idat_dir, exist_ok=True)\n",
    "\n",
    "# files\n",
    "key_file = f'{sample_info_path}/sample_key.txt'\n",
    "manifest_txt_path = f'{sample_info_path}/sample_manifest.txt'\n",
    "bpm = f'{sample_info_path}/NeuroBooster_20042459_A1.bpm'\n",
    "cluster_file = f'{sample_info_path}/NBSCluster_file_n1393_011921.egt'\n",
    "\n",
    "# phenos\n",
    "bmc_pheno_file = f'{sample_info_path}/BCM_20210201_samples.csv'\n",
    "umd_pheno_file = f'{sample_info_path}/UMD_20210201_samples.csv'\n",
    "\n",
    "# executables\n",
    "iaap = 'executables/iaap-cli-linux-x64-1.1.0-sha.80d7e5b3d9c1fdfc2e99b472a90652fd3848bbc7/iaap-cli/iaap-cli'"
   ]
  },
  {
   "cell_type": "code",
   "execution_count": 43,
   "metadata": {},
   "outputs": [],
   "source": [
    "# some rearranging\n",
    "# !mkdir {shulman_ny_path}/sample_info\n",
    "# !cp {gtc_file_path}/Key\\ File_FINAL_Shulman_and_NY_011421.txt {sample_info_path}/sample_key.txt\n",
    "# !cp {gtc_file_path}/FINALSS_after_rerun__Shulman_and_NY_011421.csv {sample_info_path}/sample_manifest.txt\n",
    "# !cp {gtc_file_path}/NeuroBooster_20042459_A1.bpm {sample_info_path}/\n",
    "# !cp {gtc_file_path}/NBSCluster_file_n1393_011921.egt {sample_info_path}/\n",
    "\n"
   ]
  },
  {
   "cell_type": "code",
   "execution_count": 7,
   "metadata": {},
   "outputs": [],
   "source": [
    "# create updated ID and phenotype files for later\n",
    "manifest = pd.read_csv(manifest_txt_path, header=10)\n",
    "bmc_pheno = pd.read_csv(bmc_pheno_file)\n",
    "umd_pheno = pd.read_csv(umd_pheno_file)\n",
    "pheno = bmc_pheno.append(umd_pheno)\n",
    "\n",
    "pheno['Original_clinicalID'] = pheno['Original_clinicalID'].astype(str)\n",
    "manifest['Sample_ID'] = manifest['Sample_ID'].astype(str)\n",
    "manifest['filename'] = manifest['SentrixBarcode_A'].astype(str) + '_' + manifest['SentrixPosition_A']\n",
    "pheno_out = manifest.merge(pheno, how='left', left_on='Sample_ID', right_on='Original_clinicalID')\n",
    "pheno_out['IID'] = pheno_out.SentrixBarcode_A.astype(str) + '_' + pheno_out.SentrixPosition_A.astype(str)\n",
    "pheno_out['FID'] = 0\n",
    "pheno_out['FID_new'] = 0\n",
    "pheno_out['pheno'] = 0\n",
    "pheno_out.loc[pheno_out.Phenotype == 'PD', 'pheno'] = 2\n",
    "pheno_out.loc[pheno_out.Phenotype == 'Control', 'pheno'] = 1\n",
    "pheno_out.loc[pheno_out.Phenotype == np.nan, 'pheno'] = 0\n",
    "\n",
    "pheno_out[['FID','IID', 'FID_new', 'Sample_ID']].to_csv(f'{sample_info_path}/update_ids.txt', sep='\\t', header=False, index=False)\n",
    "pheno_out[['FID_new', 'Sample_ID', 'pheno']].to_csv(f'{sample_info_path}/update_pheno.txt', sep='\\t', header=False, index=False)"
   ]
  },
  {
   "cell_type": "code",
   "execution_count": 11,
   "metadata": {},
   "outputs": [
    {
     "output_type": "execute_result",
     "data": {
      "text/plain": [
       "0"
      ]
     },
     "metadata": {},
     "execution_count": 11
    }
   ],
   "source": [
    "# create a folder in idats for each plate in new idat_dir\n",
    "for code in manifest.SentrixBarcode_A.unique():\n",
    "    if os.path.exists(f'{idat_dir}/{code}'):\n",
    "        print(f'{idat_dir}/{code} already exists')\n",
    "    else:\n",
    "        os.mkdir(f'{idat_dir}/{code}')\n",
    "\n",
    "# copy idat intensity files to respective directories under idat_dir\n",
    "missing_idats = []\n",
    "\n",
    "for i, filename in enumerate(manifest.filename):\n",
    "    sentrix_code = manifest.SentrixBarcode_A.iloc[i]\n",
    "    grn = f'{raw_idat_file_path}/{sentrix_code}/{filename}_Grn.idat'\n",
    "    red = f'{raw_idat_file_path}/{sentrix_code}/{filename}_Red.idat'\n",
    "\n",
    "    if os.path.isfile(grn):\n",
    "        shutil.copyfile(src=grn, dst=f'{idat_dir}/{sentrix_code}/{filename}_Grn.idat')\n",
    "    else:\n",
    "        missing_idats.append(grn)\n",
    "\n",
    "    if os.path.isfile(red):\n",
    "        shutil.copyfile(src=red, dst=f'{idat_dir}/{sentrix_code}/{filename}_Red.idat')\n",
    "    else:\n",
    "        missing_idats.append(red)\n",
    "\n",
    "len(missing_idats)"
   ]
  },
  {
   "cell_type": "code",
   "execution_count": 44,
   "metadata": {},
   "outputs": [],
   "source": [
    "with open(f'{swarm_scripts_dir}/idat_to_ped.swarm', 'w') as f:\n",
    "    \n",
    "    for code in manifest.SentrixBarcode_A.unique():\n",
    "        \n",
    "        idat_to_ped_cmd = f'\\\n",
    "{iaap} gencall \\\n",
    "{bpm} \\\n",
    "{cluster_file} \\\n",
    "{ped_dir}/ \\\n",
    "-f {idat_dir}/{code} \\\n",
    "-p \\\n",
    "-t 8'\n",
    "        \n",
    "        f.write(f'{idat_to_ped_cmd}\\n')\n",
    "f.close()"
   ]
  },
  {
   "cell_type": "code",
   "execution_count": 45,
   "metadata": {
    "tags": []
   },
   "outputs": [
    {
     "output_type": "stream",
     "name": "stdout",
     "text": [
      "12454654\n"
     ]
    }
   ],
   "source": [
    "# !swarm -f {swarm_scripts_dir}/idat_to_ped.swarm -g 32 -t 16 --time=10:00:00 --logdir swarm --gres=lscratch:20 --partition=norm"
   ]
  },
  {
   "cell_type": "code",
   "execution_count": 46,
   "metadata": {},
   "outputs": [],
   "source": [
    "# copy map file to match name of each ped\n",
    "map = f'{ped_dir}/NeuroBooster_20042459_A1.map'\n",
    "for filename in manifest.filename:\n",
    "    ped = f'{ped_dir}/{filename}.ped'\n",
    "    out_map = f'{ped_dir}/{filename}.map'\n",
    "    if os.path.isfile(ped):\n",
    "        shutil.copyfile(src=map, dst=out_map)\n",
    "    else:\n",
    "        print(f'{ped} does not exist!')\n",
    "        print(f'{out_map} creation cancelled')\n"
   ]
  },
  {
   "cell_type": "code",
   "execution_count": 53,
   "metadata": {
    "tags": []
   },
   "outputs": [],
   "source": [
    "\n",
    "with open(f'{ped_dir}/make_bed.swarm', 'w') as f:\n",
    "    for filename in manifest.filename:\n",
    "        ped = f'{ped_dir}/{filename}'\n",
    "        make_bed_cmd = f'\\\n",
    "plink \\\n",
    "--file {ped} \\\n",
    "--make-bed \\\n",
    "--out {plink_dir}/indiv_samples/{filename}'\n",
    "\n",
    "        f.write(f'{make_bed_cmd}\\n')\n",
    "f.close()\n",
    "\n",
    "\n",
    "        # shell_do(make_bed_cmd)\n"
   ]
  },
  {
   "cell_type": "code",
   "execution_count": 54,
   "metadata": {
    "tags": []
   },
   "outputs": [
    {
     "output_type": "stream",
     "name": "stdout",
     "text": [
      "12455471\n"
     ]
    }
   ],
   "source": [
    "!swarm -f {ped_dir}/make_bed.swarm -g 8 -t 8 --time=10:00:00 --logdir swarm --gres=lscratch:20 --partition=norm"
   ]
  },
  {
   "cell_type": "code",
   "execution_count": 56,
   "metadata": {},
   "outputs": [],
   "source": [
    "# write plink merge command\n",
    "with open(f\"{plink_dir}/merge_bed.list\", 'w') as f:\n",
    "    for filename in manifest.filename:\n",
    "        bed = f'{plink_dir}/indiv_samples/{filename}'\n",
    "        f.write(f'{bed}\\n')\n",
    "f.close()\n",
    "\n",
    "with open(f\"{plink_dir}/merge.swarm\", 'w') as f:\n",
    "\n",
    "    plink_merge_cmd = f'\\\n",
    "plink \\\n",
    "--merge-list {plink_dir}/merge_bed.list \\\n",
    "--update-ids {sample_info_path}/update_ids.txt \\\n",
    "--make-bed \\\n",
    "--out {plink_dir}/indiv_samples/shulman_merge'\n",
    "    f.write(f\"{plink_merge_cmd}\")\n",
    "f.close()"
   ]
  },
  {
   "cell_type": "code",
   "execution_count": 58,
   "metadata": {},
   "outputs": [
    {
     "output_type": "stream",
     "name": "stdout",
     "text": [
      "12456657\n"
     ]
    }
   ],
   "source": [
    "!swarm -f {plink_dir}/merge.swarm -g 64 -t 32 --time=10:00:00 --logdir swarm --gres=lscratch:20 --partition=norm"
   ]
  },
  {
   "cell_type": "code",
   "execution_count": 59,
   "metadata": {},
   "outputs": [
    {
     "output_type": "stream",
     "name": "stdout",
     "text": [
      "PLINK v1.90b4.4 64-bit (21 May 2017)           www.cog-genomics.org/plink/1.9/\n",
      "(C) 2005-2017 Shaun Purcell, Christopher Chang   GNU General Public License v3\n",
      "Logging to /data/CARD/PD/GP2/raw_genotypes/shulman_ny/plink/shulman.log.\n",
      "Options in effect:\n",
      "  --bfile /data/CARD/PD/GP2/raw_genotypes/shulman_ny/plink/indiv_samples/shulman_merge\n",
      "  --make-bed\n",
      "  --out /data/CARD/PD/GP2/raw_genotypes/shulman_ny/plink/shulman\n",
      "  --pheno /data/CARD/PD/GP2/raw_genotypes/shulman_ny/sample_info/update_pheno.txt\n",
      "\n",
      "1547809 MB RAM detected; reserving 773904 MB for main workspace.\n",
      "2004347 variants loaded from .bim file.\n",
      "1393 people (765 males, 601 females, 27 ambiguous) loaded from .fam.\n",
      "Ambiguous sex IDs written to\n",
      "/data/CARD/PD/GP2/raw_genotypes/shulman_ny/plink/shulman.nosex .\n",
      "1285 phenotype values present after --pheno.\n",
      "Warning: Ignoring phenotypes of missing-sex samples.  If you don't want those\n",
      "phenotypes to be ignored, use the --allow-no-sex flag.\n",
      "Using 1 thread (no multithreaded calculations invoked).\n",
      "Before main variant filters, 1393 founders and 0 nonfounders present.\n",
      "Calculating allele frequencies... 10111213141516171819202122232425262728293031323334353637383940414243444546474849505152535455565758596061626364656667686970717273747576777879808182838485868788899091929394959697989 done.\n",
      "Warning: 13952 het. haploid genotypes present (see\n",
      "/data/CARD/PD/GP2/raw_genotypes/shulman_ny/plink/shulman.hh ); many commands\n",
      "treat these as missing.\n",
      "Warning: Nonmissing nonmale Y chromosome genotype(s) present; many commands\n",
      "treat these as missing.\n",
      "Total genotyping rate is 0.989111.\n",
      "2004347 variants and 1393 people pass filters and QC.\n",
      "Among remaining phenotypes, 941 are cases and 344 are controls.  (108\n",
      "phenotypes are missing.)\n",
      "--make-bed to /data/CARD/PD/GP2/raw_genotypes/shulman_ny/plink/shulman.bed +\n",
      "/data/CARD/PD/GP2/raw_genotypes/shulman_ny/plink/shulman.bim +\n",
      "/data/CARD/PD/GP2/raw_genotypes/shulman_ny/plink/shulman.fam ... 101112131415161718192021222324252627282930313233343536373839404142434445464748495051525354555657585960616263646566676869707172737475767778798081828384858687888990919293949596979899done.\n"
     ]
    }
   ],
   "source": [
    "!plink --bfile {plink_dir}/indiv_samples/shulman_merge --pheno {sample_info_path}/update_pheno.txt --make-bed --out {plink_dir}/shulman"
   ]
  },
  {
   "cell_type": "code",
   "execution_count": 3,
   "metadata": {},
   "outputs": [],
   "source": [
    "# call QC pipeline\n",
    "\n",
    "with open(f\"{plink_dir}/run_qc_pipeline.swarm\", 'w') as f:\n",
    "    \n",
    "    qc_pipeline_cmd = 'python3 run_qc_pipeline.py --geno /data/CARD/PD/GP2/raw_genotypes/shulman_ny/plink/shulman --ref /data/LNG/vitaled2/1kgenomes/1kg_ashkj_ref_panel_gp2_pruned --ref_labels /data/LNG/vitaled2/1kgenomes/ref_panel_ancestry.txt --out /data/CARD/PD/GP2/raw_genotypes/shulman_ny/plink/shulman'\n",
    "\n",
    "    f.write(f'{qc_pipeline_cmd}')\n",
    "f.close()\n",
    "\n",
    "\n",
    "\n"
   ]
  },
  {
   "cell_type": "code",
   "execution_count": 5,
   "metadata": {},
   "outputs": [
    {
     "output_type": "stream",
     "name": "stdout",
     "text": [
      "12630566\n"
     ]
    }
   ],
   "source": [
    "!swarm -f {plink_dir}/run_qc_pipeline.swarm -g 64 -t 64 --time=24:00:00 --logdir {plink_dir}/swarm --gres=lscratch:20 --module python/3.7,perl,GCTA,plink,flashpca,vcftools,bcftools --partition=norm"
   ]
  },
  {
   "cell_type": "code",
   "execution_count": 6,
   "metadata": {},
   "outputs": [
    {
     "output_type": "stream",
     "name": "stdout",
     "text": [
      "swarm -f /data/CARD/PD/GP2/raw_genotypes/shulman_ny/plink/run_qc_pipeline.swarm -g 64 -t 64 --time=24:00:00 --logdir /data/CARD/PD/GP2/raw_genotypes/shulman_ny/plink/swarm --gres=lscratch:20 --module python/3.7,perl,GCTA,plink,flashpca,vcftools,bcftools --partition=norm\n"
     ]
    }
   ],
   "source": [
    "print(f'swarm -f {plink_dir}/run_qc_pipeline.swarm -g 64 -t 64 --time=24:00:00 --logdir {plink_dir}/swarm --gres=lscratch:20 --module python/3.7,perl,GCTA,plink,flashpca,vcftools,bcftools --partition=norm')"
   ]
  },
  {
   "cell_type": "code",
   "execution_count": null,
   "metadata": {},
   "outputs": [],
   "source": [
    "# get basic statistics\n",
    "# plink_miss_cmd = f'\\\n",
    "# plink \\\n",
    "# --bfile {shulman_out}/plink/shulman \\\n",
    "# --missing \\\n",
    "# --out {shulman_out}/plink/shulman'\n",
    "\n",
    "# shell_do(plink_miss_cmd)"
   ]
  },
  {
   "cell_type": "code",
   "execution_count": null,
   "metadata": {},
   "outputs": [],
   "source": [
    "# get average call rate\n",
    "# lmiss = pd.read_csv(f'{shulman_out}/plink/shulman.lmiss', sep='\\s+')\n",
    "# imiss = pd.read_csv(f'{shulman_out}/plink/shulman.imiss', sep='\\s+')\n",
    "# avg_call_rate = 100-lmiss.F_MISS.mean()\n",
    "# avg_geno_rate = 100-imiss.F_MISS.mean()\n",
    "# print(f'Average Call Rate: {avg_call_rate}')\n",
    "# print(f'Average Genotyping Rate: {avg_geno_rate}')"
   ]
  },
  {
   "cell_type": "code",
   "execution_count": null,
   "metadata": {},
   "outputs": [],
   "source": []
  }
 ]
}