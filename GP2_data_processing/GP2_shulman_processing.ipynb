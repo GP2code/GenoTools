{
 "metadata": {
  "language_info": {
   "codemirror_mode": {
    "name": "ipython",
    "version": 3
   },
   "file_extension": ".py",
   "mimetype": "text/x-python",
   "name": "python",
   "nbconvert_exporter": "python",
   "pygments_lexer": "ipython3",
   "version": "3.8.5-final"
  },
  "orig_nbformat": 2,
  "kernelspec": {
   "name": "py3.7",
   "display_name": "python/3.7",
   "language": "python"
  }
 },
 "nbformat": 4,
 "nbformat_minor": 2,
 "cells": [
  {
   "cell_type": "code",
   "execution_count": 1,
   "metadata": {},
   "outputs": [],
   "source": [
    "import pandas as pd\n",
    "import os\n",
    "import shutil"
   ]
  },
  {
   "cell_type": "code",
   "execution_count": 2,
   "metadata": {},
   "outputs": [],
   "source": [
    "basedir = '/data/CARD/PD/GP2/raw_genotypes'\n",
    "out_genotypes = '/data/CARD/PD/GP2/genotypes'\n",
    "shulman_ny_path = f'{basedir}/shulman_ny'\n",
    "gtc_file_path = f'{shulman_ny_path}/GP2_GCT_files'\n",
    "idat_file_path = f'{shulman_ny_path}/GP2_Shulman'\n",
    "key_file = f'{gtc_file_path}/Key File_FINAL_Shulman_and_NY_011421.txt'\n",
    "manifest_txt_path = f'{gtc_file_path}/FINALSS_after_rerun__Shulman_and_NY_011421.csv'\n",
    "bpm = f'{gtc_file_path}/NeuroBooster_20042459_A1.bpm'\n",
    "cluster_file = f'{gtc_file_path}/NBSCluster_file_n1393_011921.egt'\n",
    "pheno_file = f'{gtc_file_path}/BCM_20210201_samples.csv'\n",
    "\n",
    "#software paths\n",
    "GTCtoVCF = 'GTCtoVCF/gtc_to_vcf.py'\n",
    "iaap = '../executables/iaap-cli-linux-x64-1.1.0-sha.80d7e5b3d9c1fdfc2e99b472a90652fd3848bbc7/iaap-cli/iaap-cli'\n",
    "\n",
    "ref_fasta = 'ref_data/hg38_ref.fa'\n",
    "shulman_gtc_path = f'{basedir}/SHULMAN/gtc_files'\n",
    "shulman_idat_path = f'{basedir}/SHULMAN/idats'\n",
    "shulman_out = f'{out_genotypes}/SHULMAN'\n",
    "ny_gtc_path = f'{basedir}/NY/gtc_files'\n",
    "ny_idat_path = f'{basedir}/NY/idats'\n",
    "ny_out = f'{out_genotypes}/NY'"
   ]
  },
  {
   "cell_type": "code",
   "execution_count": 3,
   "metadata": {},
   "outputs": [],
   "source": [
    "# create updated ID and phenotype files for later\n",
    "manifest = pd.read_csv(manifest_txt_path, header=10)\n",
    "pheno = pd.read_csv(pheno_file)\n",
    "pheno = pheno.astype({'Original_clinicalID': str})\n",
    "manifest = manifest.astype({'Sample_ID': str})\n",
    "pheno_out = manifest.merge(pheno, how='left', left_on='Sample_ID', right_on='Original_clinicalID')\n",
    "pheno_out['IID'] = pheno_out.SentrixBarcode_A.astype(str) + '_' + pheno_out.SentrixPosition_A.astype(str)\n",
    "pheno_out['FID'] = 0\n",
    "pheno_out['FID_new'] = 0\n",
    "pheno_out['pheno'] = 0\n",
    "pheno_out.loc[pheno_out.Phenotype == 'PD', 'pheno'] = 2\n",
    "pheno_out.loc[pheno_out.Phenotype == 'Control', 'pheno'] = 1\n",
    "shulman_pheno = pheno_out[pheno_out.Study=='Shulman']\n",
    "ny_pheno = pheno_out[pheno_out.Study=='NY']\n",
    "shulman_pheno[['FID','IID', 'FID_new', 'Sample_ID']].to_csv(f'{shulman_ny_path}/shulman_update_ids.txt', sep='\\t', header=False, index=False)\n",
    "shulman_pheno[['FID_new', 'Sample_ID', 'pheno']].to_csv(f'{shulman_ny_path}/shulman_update_pheno.txt', sep='\\t', header=False, index=False)\n",
    "ny_pheno[['FID','IID', 'FID_new', 'Sample_ID']].to_csv(f'{shulman_ny_path}/ny_update_ids.txt', sep='\\t', header=False, index=False)\n",
    "ny_pheno[['FID_new', 'Sample_ID', 'pheno']].to_csv(f'{shulman_ny_path}/ny_update_pheno.txt', sep='\\t', header=False, index=False)\n"
   ]
  },
  {
   "cell_type": "code",
   "execution_count": null,
   "metadata": {},
   "outputs": [],
   "source": [
    "# create new directories to store split cohorts\n",
    "!mkdir {basedir}/SHULMAN\n",
    "!mkdir {basedir}/NY\n",
    "!mkdir {basedir}/SHULMAN/idats\n",
    "!mkdir {basedir}/NY/idats\n",
    "!mkdir {out_genotypes}\n",
    "!mkdir {out_genotypes}/SHULMAN\n",
    "!mkdir {out_genotypes}/SHULMAN/ped\n",
    "!mkdir {out_genotypes}/NY\n",
    "!mkdir {out_genotypes}/NY/ped\n",
    "!mkdir {shulman_out}/plink\n",
    "!mkdir {shulman_out}/plink/indiv_samples\n",
    "!mkdir {ny_out}/plink"
   ]
  },
  {
   "cell_type": "code",
   "execution_count": 7,
   "metadata": {},
   "outputs": [],
   "source": [
    "shulman_pheno.to_csv(f'{out_genotypes}/SHULMAN/shulman_covariates.txt', sep='\\t', index=False, header=True)\n",
    "ny_pheno.to_csv(f'{out_genotypes}/NY/ny_covariates.txt', sep='\\t', index=False, header=True)"
   ]
  },
  {
   "cell_type": "code",
   "execution_count": 15,
   "metadata": {},
   "outputs": [],
   "source": [
    "# create filenaames and split manifest into respective cohorts\n",
    "manifest['filename'] = manifest['SentrixBarcode_A'].astype(str) + '_' + manifest['SentrixPosition_A']\n",
    "shulman = manifest.loc[manifest.Study == 'Shulman']\n",
    "ny = manifest.loc[manifest.Study == 'NY']"
   ]
  },
  {
   "cell_type": "code",
   "execution_count": null,
   "metadata": {},
   "outputs": [],
   "source": [
    "# create directory for each sentrix barcode A if they don't already exist-- \n",
    "def split_cohort_idats(manifest_df, name, idat_file_path):\n",
    "        \n",
    "    for code in manifest_df.SentrixBarcode_A.unique():\n",
    "        if os.path.exists(f'{basedir}/{name}/idats/{code}'):\n",
    "            print(f'{basedir}/{name}/idats/{code} already exists')\n",
    "        else:\n",
    "            os.mkdir(f'{basedir}/{name}/idats/{code}')\n",
    "\n",
    "    missing_idats = []\n",
    "\n",
    "    # split idats into respective cohorts and populated each sentrix barcode A directory\n",
    "    for i, filename in enumerate(manifest_df.filename):\n",
    "        sentrix_code = manifest_df.SentrixBarcode_A.iloc[i]\n",
    "        grn = f'{idat_file_path}/{sentrix_code}/{filename}_Grn.idat'\n",
    "        red = f'{idat_file_path}/{sentrix_code}/{filename}_Red.idat'\n",
    "\n",
    "        if os.path.isfile(grn):\n",
    "            shutil.copyfile(src=grn, dst=f'{basedir}/{name}/idats/{sentrix_code}/{filename}_Grn.idat')\n",
    "        else:\n",
    "            missing_idats.append(grn)\n",
    "            \n",
    "        if os.path.isfile(red):\n",
    "            shutil.copyfile(src=red, dst=f'{basedir}/{name}/idats/{sentrix_code}/{filename}_Red.idat')\n",
    "        else:\n",
    "            missing_idats.append(red)\n",
    "        \n",
    "\n",
    "    len(missing_idats)"
   ]
  },
  {
   "cell_type": "code",
   "execution_count": null,
   "metadata": {},
   "outputs": [],
   "source": [
    "split_cohort_idats(manifest_df=shulman, name='SHULMAN', idat_file_path=idat_file_path)\n",
    "split_cohort_idats(manifest_df=ny, name='NY', idat_file_path=idat_file_path)\n"
   ]
  },
  {
   "cell_type": "code",
   "execution_count": null,
   "metadata": {},
   "outputs": [],
   "source": [
    "# swarm command to run in parallel\n",
    "with open('shulman_idat_to_ped.swarm','w') as f:\n",
    "    \n",
    "    for code in shulman.SentrixBarcode_A.unique():\n",
    "        \n",
    "        shulman_idat_to_ped_cmd = f'\\\n",
    "{iaap} gencall \\\n",
    "{bpm} \\\n",
    "{cluster_file} \\\n",
    "{shulman_out}/ped/ \\\n",
    "-f {shulman_idat_path}/{code} \\\n",
    "-p \\\n",
    "-t 8'\n",
    "        \n",
    "        f.write(f'{shulman_idat_to_ped_cmd}\\n')\n",
    "f.close()"
   ]
  },
  {
   "cell_type": "code",
   "execution_count": null,
   "metadata": {},
   "outputs": [],
   "source": [
    "# !swarm -f shulman_idat_to_ped.swarm -g 32 -t 16 --time=10:00:00 --logdir swarm --gres=lscratch:20 --partition=norm"
   ]
  },
  {
   "cell_type": "code",
   "execution_count": null,
   "metadata": {},
   "outputs": [],
   "source": [
    "# copy map file to match name of each ped\n",
    "map = f'{shulman_out}/ped/NeuroBooster_20042459_A1.map'\n",
    "for filename in shulman.filename:\n",
    "    ped = f'{shulman_out}/ped/{filename}.ped'\n",
    "    out_map = f'{shulman_out}/ped/{filename}.map'\n",
    "    if os.path.isfile(ped):\n",
    "        shutil.copyfile(src=map, dst=out_map)\n",
    "    else:\n",
    "        print(f'{ped} does not exist!')\n",
    "        print(f'{out_map} creation cancelled')\n"
   ]
  },
  {
   "cell_type": "code",
   "execution_count": null,
   "metadata": {},
   "outputs": [],
   "source": [
    "for filename in shulman.filename:\n",
    "    ped = f'{shulman_out}/ped/{filename}'\n",
    "    make_bed_cmd = f'\\\n",
    "plink \\\n",
    "--file {ped} \\\n",
    "--make-bed \\\n",
    "--out {shulman_out}/plink/indiv_samples/{filename}'\n",
    "\n",
    "    shell_do(make_bed_cmd)"
   ]
  },
  {
   "cell_type": "code",
   "execution_count": 16,
   "metadata": {},
   "outputs": [],
   "source": [
    "# write plink merge command\n",
    "with open(\"shulman_merge_bed.list\", 'w') as f:\n",
    "    for filename in shulman.filename:\n",
    "        bed = f'{shulman_out}/plink/indiv_samples/{filename}'\n",
    "        f.write(f'{bed}\\n')\n",
    "f.close()\n",
    "\n",
    "with open(\"shulman_merge.swarm\", 'w') as f:\n",
    "\n",
    "    plink_merge_cmd = f'\\\n",
    "plink \\\n",
    "--merge-list shulman_merge_bed.list \\\n",
    "--update-ids {shulman_ny_path}/shulman_update_ids.txt \\\n",
    "--make-bed \\\n",
    "--out {shulman_out}/plink/shulman'\n",
    "    f.write(f\"{plink_merge_cmd}\")\n",
    "f.close()"
   ]
  },
  {
   "cell_type": "code",
   "execution_count": 20,
   "metadata": {},
   "outputs": [
    {
     "output_type": "stream",
     "name": "stdout",
     "text": [
      "PLINK v1.90b4.4 64-bit (21 May 2017)           www.cog-genomics.org/plink/1.9/\n",
      "(C) 2005-2017 Shaun Purcell, Christopher Chang   GNU General Public License v3\n",
      "Logging to /data/CARD/PD/GP2/genotypes/SHULMAN/plink/shulman.log.\n",
      "Options in effect:\n",
      "  --make-bed\n",
      "  --merge-list shulman_merge_bed.list\n",
      "  --out /data/CARD/PD/GP2/genotypes/SHULMAN/plink/shulman\n",
      "  --update-ids /data/CARD/PD/GP2/raw_genotypes/shulman_ny/shulman_update_ids.txt\n",
      "\n",
      "1031832 MB RAM detected; reserving 515916 MB for main workspace.\n",
      "Warning: Variants 'ilmnseq_rs9701872_ilmndup1' and 'ilmnseq_rs9701872' have the\n",
      "same position.\n",
      "Warning: Variants 'exm2268640' and 'JHU_1.762319' have the same position.\n",
      "Warning: Variants 'rs35660652' and 'JHU_1.821925' have the same position.\n",
      "108786 more same-position warnings: see log file.\n",
      "Performing single-pass merge (1288 people, 2004347 variants).\n",
      "Merged fileset written to\n",
      "/data/CARD/PD/GP2/genotypes/SHULMAN/plink/shulman-merge.bed +\n",
      "/data/CARD/PD/GP2/genotypes/SHULMAN/plink/shulman-merge.bim +\n",
      "/data/CARD/PD/GP2/genotypes/SHULMAN/plink/shulman-merge.fam .\n",
      "2004347 variants loaded from .bim file.\n",
      "1288 people (707 males, 558 females, 23 ambiguous) loaded from .fam.\n",
      "Ambiguous sex IDs written to\n",
      "/data/CARD/PD/GP2/genotypes/SHULMAN/plink/shulman.nosex .\n",
      "--update-ids: 1288 people updated.\n",
      "Using 1 thread (no multithreaded calculations invoked).\n",
      "Before main variant filters, 1288 founders and 0 nonfounders present.\n",
      "Calculating allele frequencies... 10111213141516171819202122232425262728293031323334353637383940414243444546474849505152535455565758596061626364656667686970717273747576777879808182838485868788899091929394959697989 done.\n",
      "Warning: 12792 het. haploid genotypes present (see\n",
      "/data/CARD/PD/GP2/genotypes/SHULMAN/plink/shulman.hh ); many commands treat\n",
      "these as missing.\n",
      "Warning: Nonmissing nonmale Y chromosome genotype(s) present; many commands\n",
      "treat these as missing.\n",
      "Total genotyping rate is 0.989444.\n",
      "2004347 variants and 1288 people pass filters and QC.\n",
      "Note: No phenotypes present.\n",
      "--make-bed to /data/CARD/PD/GP2/genotypes/SHULMAN/plink/shulman.bed +\n",
      "/data/CARD/PD/GP2/genotypes/SHULMAN/plink/shulman.bim +\n",
      "/data/CARD/PD/GP2/genotypes/SHULMAN/plink/shulman.fam ... 101112131415161718192021222324252627282930313233343536373839404142434445464748495051525354555657585960616263646566676869707172737475767778798081828384858687888990919293949596979899done.\n"
     ]
    }
   ],
   "source": [
    "# !swarm -f shulman_merge.swarm -g 64 -t 32 --time=10:00:00 --logdir swarm --gres=lscratch:20 --partition=norm\n",
    "!{plink_merge_cmd}"
   ]
  },
  {
   "cell_type": "code",
   "execution_count": 22,
   "metadata": {},
   "outputs": [
    {
     "output_type": "stream",
     "name": "stdout",
     "text": [
      "PLINK v1.90b4.4 64-bit (21 May 2017)           www.cog-genomics.org/plink/1.9/\n",
      "(C) 2005-2017 Shaun Purcell, Christopher Chang   GNU General Public License v3\n",
      "Logging to /data/CARD/PD/GP2/genotypes/SHULMAN/plink/shulman.log.\n",
      "Options in effect:\n",
      "  --bfile /data/CARD/PD/GP2/genotypes/SHULMAN/plink/shulman_merge\n",
      "  --make-bed\n",
      "  --out /data/CARD/PD/GP2/genotypes/SHULMAN/plink/shulman\n",
      "  --pheno /data/CARD/PD/GP2/raw_genotypes/shulman_ny/shulman_update_pheno.txt\n",
      "\n",
      "1031832 MB RAM detected; reserving 515916 MB for main workspace.\n",
      "2004347 variants loaded from .bim file.\n",
      "1288 people (707 males, 558 females, 23 ambiguous) loaded from .fam.\n",
      "Ambiguous sex IDs written to\n",
      "/data/CARD/PD/GP2/genotypes/SHULMAN/plink/shulman.nosex .\n",
      "809 phenotype values present after --pheno.\n",
      "Warning: Ignoring phenotypes of missing-sex samples.  If you don't want those\n",
      "phenotypes to be ignored, use the --allow-no-sex flag.\n",
      "Using 1 thread (no multithreaded calculations invoked).\n",
      "Before main variant filters, 1288 founders and 0 nonfounders present.\n",
      "Calculating allele frequencies... 10111213141516171819202122232425262728293031323334353637383940414243444546474849505152535455565758596061626364656667686970717273747576777879808182838485868788899091929394959697989 done.\n",
      "Warning: 12792 het. haploid genotypes present (see\n",
      "/data/CARD/PD/GP2/genotypes/SHULMAN/plink/shulman.hh ); many commands treat\n",
      "these as missing.\n",
      "Warning: Nonmissing nonmale Y chromosome genotype(s) present; many commands\n",
      "treat these as missing.\n",
      "Total genotyping rate is 0.989444.\n",
      "2004347 variants and 1288 people pass filters and QC.\n",
      "Among remaining phenotypes, 553 are cases and 256 are controls.  (479\n",
      "phenotypes are missing.)\n",
      "--make-bed to /data/CARD/PD/GP2/genotypes/SHULMAN/plink/shulman.bed +\n",
      "/data/CARD/PD/GP2/genotypes/SHULMAN/plink/shulman.bim +\n",
      "/data/CARD/PD/GP2/genotypes/SHULMAN/plink/shulman.fam ... 101112131415161718192021222324252627282930313233343536373839404142434445464748495051525354555657585960616263646566676869707172737475767778798081828384858687888990919293949596979899done.\n"
     ]
    }
   ],
   "source": [
    "!plink --bfile {shulman_out}/plink/shulman_merge --pheno {shulman_ny_path}/shulman_update_pheno.txt --make-bed --out {shulman_out}/plink/shulman"
   ]
  },
  {
   "cell_type": "code",
   "execution_count": null,
   "metadata": {},
   "outputs": [],
   "source": [
    "# get basic statistics\n",
    "plink_miss_cmd = f'\\\n",
    "plink \\\n",
    "--bfile {shulman_out}/plink/shulman \\\n",
    "--missing \\\n",
    "--out {shulman_out}/plink/shulman'\n",
    "\n",
    "shell_do(plink_miss_cmd)"
   ]
  },
  {
   "cell_type": "code",
   "execution_count": null,
   "metadata": {},
   "outputs": [],
   "source": [
    "# get average call rate\n",
    "lmiss = pd.read_csv(f'{shulman_out}/plink/shulman.lmiss', sep='\\s+')\n",
    "imiss = pd.read_csv(f'{shulman_out}/plink/shulman.imiss', sep='\\s+')\n",
    "avg_call_rate = 100-lmiss.F_MISS.mean()\n",
    "avg_geno_rate = 100-imiss.F_MISS.mean()\n",
    "print(f'Average Call Rate: {avg_call_rate}')\n",
    "print(f'Average Genotyping Rate: {avg_geno_rate}')"
   ]
  },
  {
   "cell_type": "code",
   "execution_count": 18,
   "metadata": {
    "tags": [
     "outputPrepend"
    ]
   },
   "outputs": [
    {
     "output_type": "stream",
     "name": "stdout",
     "text": [
      "0028_R07C01\n/data/CARD/PD/GP2/genotypes/SHULMAN/plink/indiv_samples/204697840028_R08C01\n/data/CARD/PD/GP2/genotypes/SHULMAN/plink/indiv_samples/204701860027_R01C01\n/data/CARD/PD/GP2/genotypes/SHULMAN/plink/indiv_samples/204701860027_R02C01\n/data/CARD/PD/GP2/genotypes/SHULMAN/plink/indiv_samples/204701860027_R03C01\n/data/CARD/PD/GP2/genotypes/SHULMAN/plink/indiv_samples/204701860027_R04C01\n/data/CARD/PD/GP2/genotypes/SHULMAN/plink/indiv_samples/204701860027_R05C01\n/data/CARD/PD/GP2/genotypes/SHULMAN/plink/indiv_samples/204701860027_R06C01\n/data/CARD/PD/GP2/genotypes/SHULMAN/plink/indiv_samples/204701860027_R07C01\n/data/CARD/PD/GP2/genotypes/SHULMAN/plink/indiv_samples/204701860027_R08C01\n/data/CARD/PD/GP2/genotypes/SHULMAN/plink/indiv_samples/204701870051_R01C01\n/data/CARD/PD/GP2/genotypes/SHULMAN/plink/indiv_samples/204701870051_R02C01\n/data/CARD/PD/GP2/genotypes/SHULMAN/plink/indiv_samples/204701870051_R03C01\n/data/CARD/PD/GP2/genotypes/SHULMAN/plink/indiv_samples/204701870051_R05C01\n/data/CARD/PD/GP2/genotypes/SHULMAN/plink/indiv_samples/204701870051_R06C01\n/data/CARD/PD/GP2/genotypes/SHULMAN/plink/indiv_samples/204701870051_R07C01\n/data/CARD/PD/GP2/genotypes/SHULMAN/plink/indiv_samples/204701870051_R08C01\n/data/CARD/PD/GP2/genotypes/SHULMAN/plink/indiv_samples/204701870092_R01C01\n/data/CARD/PD/GP2/genotypes/SHULMAN/plink/indiv_samples/204701870092_R02C01\n/data/CARD/PD/GP2/genotypes/SHULMAN/plink/indiv_samples/204701870092_R03C01\n/data/CARD/PD/GP2/genotypes/SHULMAN/plink/indiv_samples/204701870092_R04C01\n/data/CARD/PD/GP2/genotypes/SHULMAN/plink/indiv_samples/204701870092_R05C01\n/data/CARD/PD/GP2/genotypes/SHULMAN/plink/indiv_samples/204701870092_R06C01\n/data/CARD/PD/GP2/genotypes/SHULMAN/plink/indiv_samples/204701870092_R07C01\n/data/CARD/PD/GP2/genotypes/SHULMAN/plink/indiv_samples/204701870092_R08C01\n/data/CARD/PD/GP2/genotypes/SHULMAN/plink/indiv_samples/204701870034_R01C01\n/data/CARD/PD/GP2/genotypes/SHULMAN/plink/indiv_samples/204701870034_R02C01\n/data/CARD/PD/GP2/genotypes/SHULMAN/plink/indiv_samples/204701870034_R03C01\n/data/CARD/PD/GP2/genotypes/SHULMAN/plink/indiv_samples/204701870034_R04C01\n/data/CARD/PD/GP2/genotypes/SHULMAN/plink/indiv_samples/204701870034_R05C01\n/data/CARD/PD/GP2/genotypes/SHULMAN/plink/indiv_samples/204701870034_R06C01\n/data/CARD/PD/GP2/genotypes/SHULMAN/plink/indiv_samples/204701870034_R07C01\n/data/CARD/PD/GP2/genotypes/SHULMAN/plink/indiv_samples/204701870034_R08C01\n/data/CARD/PD/GP2/genotypes/SHULMAN/plink/indiv_samples/204701870021_R01C01\n/data/CARD/PD/GP2/genotypes/SHULMAN/plink/indiv_samples/204701870021_R02C01\n/data/CARD/PD/GP2/genotypes/SHULMAN/plink/indiv_samples/204701870021_R03C01\n/data/CARD/PD/GP2/genotypes/SHULMAN/plink/indiv_samples/204701870021_R04C01\n/data/CARD/PD/GP2/genotypes/SHULMAN/plink/indiv_samples/204701870021_R05C01\n/data/CARD/PD/GP2/genotypes/SHULMAN/plink/indiv_samples/204701870021_R06C01\n/data/CARD/PD/GP2/genotypes/SHULMAN/plink/indiv_samples/204701870021_R07C01\n/data/CARD/PD/GP2/genotypes/SHULMAN/plink/indiv_samples/204701870021_R08C01\n/data/CARD/PD/GP2/genotypes/SHULMAN/plink/indiv_samples/204701870080_R01C01\n/data/CARD/PD/GP2/genotypes/SHULMAN/plink/indiv_samples/204701870080_R02C01\n/data/CARD/PD/GP2/genotypes/SHULMAN/plink/indiv_samples/204701870080_R03C01\n/data/CARD/PD/GP2/genotypes/SHULMAN/plink/indiv_samples/204701870080_R04C01\n/data/CARD/PD/GP2/genotypes/SHULMAN/plink/indiv_samples/204701870080_R05C01\n/data/CARD/PD/GP2/genotypes/SHULMAN/plink/indiv_samples/204701870080_R06C01\n/data/CARD/PD/GP2/genotypes/SHULMAN/plink/indiv_samples/204701870080_R07C01\n/data/CARD/PD/GP2/genotypes/SHULMAN/plink/indiv_samples/204701870080_R08C01\n/data/CARD/PD/GP2/genotypes/SHULMAN/plink/indiv_samples/204701870104_R01C01\n/data/CARD/PD/GP2/genotypes/SHULMAN/plink/indiv_samples/204701870104_R02C01\n/data/CARD/PD/GP2/genotypes/SHULMAN/plink/indiv_samples/204701870104_R03C01\n/data/CARD/PD/GP2/genotypes/SHULMAN/plink/indiv_samples/204701870104_R04C01\n/data/CARD/PD/GP2/genotypes/SHULMAN/plink/indiv_samples/204701870104_R05C01\n/data/CARD/PD/GP2/genotypes/SHULMAN/plink/indiv_samples/204701870104_R06C01\n/data/CARD/PD/GP2/genotypes/SHULMAN/plink/indiv_samples/204701870104_R07C01\n/data/CARD/PD/GP2/genotypes/SHULMAN/plink/indiv_samples/204701860094_R02C01\n/data/CARD/PD/GP2/genotypes/SHULMAN/plink/indiv_samples/204701860094_R01C01\n/data/CARD/PD/GP2/genotypes/SHULMAN/plink/indiv_samples/204701870104_R08C01\n/data/CARD/PD/GP2/genotypes/SHULMAN/plink/indiv_samples/204701860094_R03C01\n/data/CARD/PD/GP2/genotypes/SHULMAN/plink/indiv_samples/204701860094_R04C01\n/data/CARD/PD/GP2/genotypes/SHULMAN/plink/indiv_samples/204701860094_R05C01\n/data/CARD/PD/GP2/genotypes/SHULMAN/plink/indiv_samples/204701860094_R06C01\n/data/CARD/PD/GP2/genotypes/SHULMAN/plink/indiv_samples/204701860094_R07C01\n/data/CARD/PD/GP2/genotypes/SHULMAN/plink/indiv_samples/204701860094_R08C01\n/data/CARD/PD/GP2/genotypes/SHULMAN/plink/indiv_samples/204701860011_R01C01\n/data/CARD/PD/GP2/genotypes/SHULMAN/plink/indiv_samples/204701860011_R02C01\n/data/CARD/PD/GP2/genotypes/SHULMAN/plink/indiv_samples/204701860011_R03C01\n/data/CARD/PD/GP2/genotypes/SHULMAN/plink/indiv_samples/204701860011_R04C01\n/data/CARD/PD/GP2/genotypes/SHULMAN/plink/indiv_samples/204701860011_R05C01\n/data/CARD/PD/GP2/genotypes/SHULMAN/plink/indiv_samples/204701860011_R06C01\n/data/CARD/PD/GP2/genotypes/SHULMAN/plink/indiv_samples/204701860011_R07C01\n/data/CARD/PD/GP2/genotypes/SHULMAN/plink/indiv_samples/204701860011_R08C01\n/data/CARD/PD/GP2/genotypes/SHULMAN/plink/indiv_samples/204701870081_R01C01\n/data/CARD/PD/GP2/genotypes/SHULMAN/plink/indiv_samples/204701870081_R02C01\n/data/CARD/PD/GP2/genotypes/SHULMAN/plink/indiv_samples/204701870081_R03C01\n/data/CARD/PD/GP2/genotypes/SHULMAN/plink/indiv_samples/204701870081_R04C01\n/data/CARD/PD/GP2/genotypes/SHULMAN/plink/indiv_samples/204701870081_R05C01\n/data/CARD/PD/GP2/genotypes/SHULMAN/plink/indiv_samples/204701870081_R06C01\n/data/CARD/PD/GP2/genotypes/SHULMAN/plink/indiv_samples/204701870081_R07C01\n/data/CARD/PD/GP2/genotypes/SHULMAN/plink/indiv_samples/204701870081_R08C01\n/data/CARD/PD/GP2/genotypes/SHULMAN/plink/indiv_samples/204701860072_R01C01\n/data/CARD/PD/GP2/genotypes/SHULMAN/plink/indiv_samples/204701860072_R02C01\n/data/CARD/PD/GP2/genotypes/SHULMAN/plink/indiv_samples/204701860072_R03C01\n/data/CARD/PD/GP2/genotypes/SHULMAN/plink/indiv_samples/204701860072_R04C01\n/data/CARD/PD/GP2/genotypes/SHULMAN/plink/indiv_samples/204701860072_R05C01\n/data/CARD/PD/GP2/genotypes/SHULMAN/plink/indiv_samples/204701860072_R06C01\n/data/CARD/PD/GP2/genotypes/SHULMAN/plink/indiv_samples/204701860072_R07C01\n/data/CARD/PD/GP2/genotypes/SHULMAN/plink/indiv_samples/204701860072_R08C01\n/data/CARD/PD/GP2/genotypes/SHULMAN/plink/indiv_samples/204701870097_R01C01\n/data/CARD/PD/GP2/genotypes/SHULMAN/plink/indiv_samples/204701870097_R02C01\n/data/CARD/PD/GP2/genotypes/SHULMAN/plink/indiv_samples/204701870097_R03C01\n/data/CARD/PD/GP2/genotypes/SHULMAN/plink/indiv_samples/204701870097_R04C01\n/data/CARD/PD/GP2/genotypes/SHULMAN/plink/indiv_samples/204701870097_R05C01\n/data/CARD/PD/GP2/genotypes/SHULMAN/plink/indiv_samples/204701870097_R06C01\n/data/CARD/PD/GP2/genotypes/SHULMAN/plink/indiv_samples/204701870097_R07C01\n/data/CARD/PD/GP2/genotypes/SHULMAN/plink/indiv_samples/204701870097_R08C01\n/data/CARD/PD/GP2/genotypes/SHULMAN/plink/indiv_samples/204701870111_R01C01\n/data/CARD/PD/GP2/genotypes/SHULMAN/plink/indiv_samples/204701870111_R02C01\n/data/CARD/PD/GP2/genotypes/SHULMAN/plink/indiv_samples/204701870111_R03C01\n/data/CARD/PD/GP2/genotypes/SHULMAN/plink/indiv_samples/204701870111_R04C01\n/data/CARD/PD/GP2/genotypes/SHULMAN/plink/indiv_samples/204701870111_R05C01\n/data/CARD/PD/GP2/genotypes/SHULMAN/plink/indiv_samples/204701870111_R06C01\n/data/CARD/PD/GP2/genotypes/SHULMAN/plink/indiv_samples/204701870111_R07C01\n/data/CARD/PD/GP2/genotypes/SHULMAN/plink/indiv_samples/204701870111_R08C01\n/data/CARD/PD/GP2/genotypes/SHULMAN/plink/indiv_samples/204701860119_R01C01\n/data/CARD/PD/GP2/genotypes/SHULMAN/plink/indiv_samples/204701860119_R02C01\n/data/CARD/PD/GP2/genotypes/SHULMAN/plink/indiv_samples/204701860119_R03C01\n/data/CARD/PD/GP2/genotypes/SHULMAN/plink/indiv_samples/204701860119_R04C01\n/data/CARD/PD/GP2/genotypes/SHULMAN/plink/indiv_samples/204701860119_R05C01\n/data/CARD/PD/GP2/genotypes/SHULMAN/plink/indiv_samples/204701860119_R06C01\n/data/CARD/PD/GP2/genotypes/SHULMAN/plink/indiv_samples/204701860119_R07C01\n/data/CARD/PD/GP2/genotypes/SHULMAN/plink/indiv_samples/204701860119_R08C01\n/data/CARD/PD/GP2/genotypes/SHULMAN/plink/indiv_samples/204701870027_R01C01\n/data/CARD/PD/GP2/genotypes/SHULMAN/plink/indiv_samples/204701870027_R02C01\n/data/CARD/PD/GP2/genotypes/SHULMAN/plink/indiv_samples/204701870027_R03C01\n/data/CARD/PD/GP2/genotypes/SHULMAN/plink/indiv_samples/204701870027_R04C01\n/data/CARD/PD/GP2/genotypes/SHULMAN/plink/indiv_samples/204701870027_R05C01\n/data/CARD/PD/GP2/genotypes/SHULMAN/plink/indiv_samples/204701870027_R06C01\n/data/CARD/PD/GP2/genotypes/SHULMAN/plink/indiv_samples/204701870027_R07C01\n/data/CARD/PD/GP2/genotypes/SHULMAN/plink/indiv_samples/204701870027_R08C01\n/data/CARD/PD/GP2/genotypes/SHULMAN/plink/indiv_samples/204697840017_R01C01\n/data/CARD/PD/GP2/genotypes/SHULMAN/plink/indiv_samples/204697840017_R02C01\n/data/CARD/PD/GP2/genotypes/SHULMAN/plink/indiv_samples/204697840017_R03C01\n/data/CARD/PD/GP2/genotypes/SHULMAN/plink/indiv_samples/204697840017_R04C01\n/data/CARD/PD/GP2/genotypes/SHULMAN/plink/indiv_samples/204697840017_R05C01\n/data/CARD/PD/GP2/genotypes/SHULMAN/plink/indiv_samples/204697840017_R06C01\n/data/CARD/PD/GP2/genotypes/SHULMAN/plink/indiv_samples/204697840017_R07C01\n/data/CARD/PD/GP2/genotypes/SHULMAN/plink/indiv_samples/204697840017_R08C01\n/data/CARD/PD/GP2/genotypes/SHULMAN/plink/indiv_samples/204701870088_R01C01\n/data/CARD/PD/GP2/genotypes/SHULMAN/plink/indiv_samples/204701870088_R02C01\n/data/CARD/PD/GP2/genotypes/SHULMAN/plink/indiv_samples/204701870088_R03C01\n/data/CARD/PD/GP2/genotypes/SHULMAN/plink/indiv_samples/204701870088_R04C01\n/data/CARD/PD/GP2/genotypes/SHULMAN/plink/indiv_samples/204701870088_R05C01\n/data/CARD/PD/GP2/genotypes/SHULMAN/plink/indiv_samples/204701870088_R06C01\n/data/CARD/PD/GP2/genotypes/SHULMAN/plink/indiv_samples/204701870088_R07C01\n/data/CARD/PD/GP2/genotypes/SHULMAN/plink/indiv_samples/204701870088_R08C01\n/data/CARD/PD/GP2/genotypes/SHULMAN/plink/indiv_samples/204701870118_R01C01\n/data/CARD/PD/GP2/genotypes/SHULMAN/plink/indiv_samples/204701870118_R02C01\n/data/CARD/PD/GP2/genotypes/SHULMAN/plink/indiv_samples/204701870118_R03C01\n/data/CARD/PD/GP2/genotypes/SHULMAN/plink/indiv_samples/204701870118_R04C01\n/data/CARD/PD/GP2/genotypes/SHULMAN/plink/indiv_samples/204701870118_R05C01\n/data/CARD/PD/GP2/genotypes/SHULMAN/plink/indiv_samples/204701870118_R06C01\n/data/CARD/PD/GP2/genotypes/SHULMAN/plink/indiv_samples/204701870118_R07C01\n/data/CARD/PD/GP2/genotypes/SHULMAN/plink/indiv_samples/204701870118_R08C01\n/data/CARD/PD/GP2/genotypes/SHULMAN/plink/indiv_samples/204701860019_R01C01\n/data/CARD/PD/GP2/genotypes/SHULMAN/plink/indiv_samples/204701860019_R02C01\n/data/CARD/PD/GP2/genotypes/SHULMAN/plink/indiv_samples/204701860019_R03C01\n/data/CARD/PD/GP2/genotypes/SHULMAN/plink/indiv_samples/204701860019_R04C01\n/data/CARD/PD/GP2/genotypes/SHULMAN/plink/indiv_samples/204701860019_R05C01\n/data/CARD/PD/GP2/genotypes/SHULMAN/plink/indiv_samples/204701860019_R06C01\n/data/CARD/PD/GP2/genotypes/SHULMAN/plink/indiv_samples/204701860019_R07C01\n/data/CARD/PD/GP2/genotypes/SHULMAN/plink/indiv_samples/204701860019_R08C01\n/data/CARD/PD/GP2/genotypes/SHULMAN/plink/indiv_samples/204701870054_R01C01\n/data/CARD/PD/GP2/genotypes/SHULMAN/plink/indiv_samples/204701870054_R02C01\n/data/CARD/PD/GP2/genotypes/SHULMAN/plink/indiv_samples/204701870054_R03C01\n/data/CARD/PD/GP2/genotypes/SHULMAN/plink/indiv_samples/204701870054_R04C01\n/data/CARD/PD/GP2/genotypes/SHULMAN/plink/indiv_samples/204701870054_R05C01\n/data/CARD/PD/GP2/genotypes/SHULMAN/plink/indiv_samples/204701870054_R06C01\n/data/CARD/PD/GP2/genotypes/SHULMAN/plink/indiv_samples/204701870054_R07C01\n/data/CARD/PD/GP2/genotypes/SHULMAN/plink/indiv_samples/204701870054_R08C01\n/data/CARD/PD/GP2/genotypes/SHULMAN/plink/indiv_samples/204701860083_R01C01\n/data/CARD/PD/GP2/genotypes/SHULMAN/plink/indiv_samples/204701860083_R02C01\n/data/CARD/PD/GP2/genotypes/SHULMAN/plink/indiv_samples/204701860083_R03C01\n/data/CARD/PD/GP2/genotypes/SHULMAN/plink/indiv_samples/204701860083_R04C01\n/data/CARD/PD/GP2/genotypes/SHULMAN/plink/indiv_samples/204701860083_R05C01\n/data/CARD/PD/GP2/genotypes/SHULMAN/plink/indiv_samples/204701860083_R06C01\n/data/CARD/PD/GP2/genotypes/SHULMAN/plink/indiv_samples/204701860083_R07C01\n/data/CARD/PD/GP2/genotypes/SHULMAN/plink/indiv_samples/204701860083_R08C01\n/data/CARD/PD/GP2/genotypes/SHULMAN/plink/indiv_samples/204701860073_R01C01\n/data/CARD/PD/GP2/genotypes/SHULMAN/plink/indiv_samples/204701860073_R02C01\n/data/CARD/PD/GP2/genotypes/SHULMAN/plink/indiv_samples/204701860073_R03C01\n/data/CARD/PD/GP2/genotypes/SHULMAN/plink/indiv_samples/204701860073_R04C01\n/data/CARD/PD/GP2/genotypes/SHULMAN/plink/indiv_samples/204701860073_R05C01\n/data/CARD/PD/GP2/genotypes/SHULMAN/plink/indiv_samples/204701860073_R06C01\n/data/CARD/PD/GP2/genotypes/SHULMAN/plink/indiv_samples/204701860073_R07C01\n/data/CARD/PD/GP2/genotypes/SHULMAN/plink/indiv_samples/204701860073_R08C01\n/data/CARD/PD/GP2/genotypes/SHULMAN/plink/indiv_samples/204701860102_R01C01\n/data/CARD/PD/GP2/genotypes/SHULMAN/plink/indiv_samples/204701860102_R02C01\n/data/CARD/PD/GP2/genotypes/SHULMAN/plink/indiv_samples/204701860102_R03C01\n/data/CARD/PD/GP2/genotypes/SHULMAN/plink/indiv_samples/204701860102_R04C01\n/data/CARD/PD/GP2/genotypes/SHULMAN/plink/indiv_samples/204701860102_R05C01\n/data/CARD/PD/GP2/genotypes/SHULMAN/plink/indiv_samples/204701860102_R06C01\n/data/CARD/PD/GP2/genotypes/SHULMAN/plink/indiv_samples/204701860102_R07C01\n/data/CARD/PD/GP2/genotypes/SHULMAN/plink/indiv_samples/204701860102_R08C01\n/data/CARD/PD/GP2/genotypes/SHULMAN/plink/indiv_samples/204701860014_R01C01\n/data/CARD/PD/GP2/genotypes/SHULMAN/plink/indiv_samples/204701860014_R02C01\n/data/CARD/PD/GP2/genotypes/SHULMAN/plink/indiv_samples/204701860014_R03C01\n/data/CARD/PD/GP2/genotypes/SHULMAN/plink/indiv_samples/204701860014_R04C01\n/data/CARD/PD/GP2/genotypes/SHULMAN/plink/indiv_samples/204701860014_R05C01\n/data/CARD/PD/GP2/genotypes/SHULMAN/plink/indiv_samples/204701860014_R06C01\n/data/CARD/PD/GP2/genotypes/SHULMAN/plink/indiv_samples/204701860014_R07C01\n/data/CARD/PD/GP2/genotypes/SHULMAN/plink/indiv_samples/204701860014_R08C01\n/data/CARD/PD/GP2/genotypes/SHULMAN/plink/indiv_samples/204701870112_R01C01\n/data/CARD/PD/GP2/genotypes/SHULMAN/plink/indiv_samples/204701870112_R02C01\n/data/CARD/PD/GP2/genotypes/SHULMAN/plink/indiv_samples/204701870112_R03C01\n/data/CARD/PD/GP2/genotypes/SHULMAN/plink/indiv_samples/204701870112_R04C01\n/data/CARD/PD/GP2/genotypes/SHULMAN/plink/indiv_samples/204701870112_R05C01\n/data/CARD/PD/GP2/genotypes/SHULMAN/plink/indiv_samples/204701870112_R06C01\n/data/CARD/PD/GP2/genotypes/SHULMAN/plink/indiv_samples/204701870112_R07C01\n/data/CARD/PD/GP2/genotypes/SHULMAN/plink/indiv_samples/204701870112_R08C01\n/data/CARD/PD/GP2/genotypes/SHULMAN/plink/indiv_samples/204701870036_R01C01\n/data/CARD/PD/GP2/genotypes/SHULMAN/plink/indiv_samples/204701870036_R02C01\n/data/CARD/PD/GP2/genotypes/SHULMAN/plink/indiv_samples/204701870036_R03C01\n/data/CARD/PD/GP2/genotypes/SHULMAN/plink/indiv_samples/204701870036_R04C01\n/data/CARD/PD/GP2/genotypes/SHULMAN/plink/indiv_samples/204701870036_R05C01\n/data/CARD/PD/GP2/genotypes/SHULMAN/plink/indiv_samples/204701870036_R06C01\n/data/CARD/PD/GP2/genotypes/SHULMAN/plink/indiv_samples/204701870036_R07C01\n/data/CARD/PD/GP2/genotypes/SHULMAN/plink/indiv_samples/204701870036_R08C01\n/data/CARD/PD/GP2/genotypes/SHULMAN/plink/indiv_samples/204701870029_R02C01\n/data/CARD/PD/GP2/genotypes/SHULMAN/plink/indiv_samples/204701870029_R03C01\n/data/CARD/PD/GP2/genotypes/SHULMAN/plink/indiv_samples/204701870029_R04C01\n/data/CARD/PD/GP2/genotypes/SHULMAN/plink/indiv_samples/204701870029_R05C01\n/data/CARD/PD/GP2/genotypes/SHULMAN/plink/indiv_samples/204701870029_R06C01\n/data/CARD/PD/GP2/genotypes/SHULMAN/plink/indiv_samples/204701870029_R07C01\n/data/CARD/PD/GP2/genotypes/SHULMAN/plink/indiv_samples/204701870029_R08C01\n/data/CARD/PD/GP2/genotypes/SHULMAN/plink/indiv_samples/204701860125_R01C01\n/data/CARD/PD/GP2/genotypes/SHULMAN/plink/indiv_samples/204701860125_R02C01\n/data/CARD/PD/GP2/genotypes/SHULMAN/plink/indiv_samples/204701860125_R03C01\n/data/CARD/PD/GP2/genotypes/SHULMAN/plink/indiv_samples/204701860125_R04C01\n/data/CARD/PD/GP2/genotypes/SHULMAN/plink/indiv_samples/204701860125_R05C01\n/data/CARD/PD/GP2/genotypes/SHULMAN/plink/indiv_samples/204701860125_R06C01\n/data/CARD/PD/GP2/genotypes/SHULMAN/plink/indiv_samples/204701860125_R07C01\n/data/CARD/PD/GP2/genotypes/SHULMAN/plink/indiv_samples/204701860125_R08C01\n/data/CARD/PD/GP2/genotypes/SHULMAN/plink/indiv_samples/204701860092_R01C01\n/data/CARD/PD/GP2/genotypes/SHULMAN/plink/indiv_samples/204701860092_R02C01\n/data/CARD/PD/GP2/genotypes/SHULMAN/plink/indiv_samples/204701860092_R03C01\n/data/CARD/PD/GP2/genotypes/SHULMAN/plink/indiv_samples/204701860092_R04C01\n/data/CARD/PD/GP2/genotypes/SHULMAN/plink/indiv_samples/204701860092_R05C01\n/data/CARD/PD/GP2/genotypes/SHULMAN/plink/indiv_samples/204701860092_R06C01\n/data/CARD/PD/GP2/genotypes/SHULMAN/plink/indiv_samples/204701860092_R07C01\n/data/CARD/PD/GP2/genotypes/SHULMAN/plink/indiv_samples/204701860092_R08C01\n/data/CARD/PD/GP2/genotypes/SHULMAN/plink/indiv_samples/204701860050_R01C01\n/data/CARD/PD/GP2/genotypes/SHULMAN/plink/indiv_samples/204701860050_R02C01\n/data/CARD/PD/GP2/genotypes/SHULMAN/plink/indiv_samples/204701860050_R03C01\n/data/CARD/PD/GP2/genotypes/SHULMAN/plink/indiv_samples/204701860050_R04C01\n/data/CARD/PD/GP2/genotypes/SHULMAN/plink/indiv_samples/204701860050_R05C01\n/data/CARD/PD/GP2/genotypes/SHULMAN/plink/indiv_samples/204701860050_R06C01\n/data/CARD/PD/GP2/genotypes/SHULMAN/plink/indiv_samples/204701860050_R07C01\n/data/CARD/PD/GP2/genotypes/SHULMAN/plink/indiv_samples/204701860050_R08C01\n/data/CARD/PD/GP2/genotypes/SHULMAN/plink/indiv_samples/204701870068_R01C01\n/data/CARD/PD/GP2/genotypes/SHULMAN/plink/indiv_samples/204701870068_R02C01\n/data/CARD/PD/GP2/genotypes/SHULMAN/plink/indiv_samples/204701870068_R03C01\n/data/CARD/PD/GP2/genotypes/SHULMAN/plink/indiv_samples/204701870068_R04C01\n/data/CARD/PD/GP2/genotypes/SHULMAN/plink/indiv_samples/204701870068_R05C01\n/data/CARD/PD/GP2/genotypes/SHULMAN/plink/indiv_samples/204701870068_R06C01\n/data/CARD/PD/GP2/genotypes/SHULMAN/plink/indiv_samples/204701870068_R07C01\n/data/CARD/PD/GP2/genotypes/SHULMAN/plink/indiv_samples/204701870068_R08C01\n/data/CARD/PD/GP2/genotypes/SHULMAN/plink/indiv_samples/204701870069_R01C01\n/data/CARD/PD/GP2/genotypes/SHULMAN/plink/indiv_samples/204701870069_R04C01\n/data/CARD/PD/GP2/genotypes/SHULMAN/plink/indiv_samples/204701870069_R05C01\n/data/CARD/PD/GP2/genotypes/SHULMAN/plink/indiv_samples/204701870069_R06C01\n/data/CARD/PD/GP2/genotypes/SHULMAN/plink/indiv_samples/204701870069_R08C01\n/data/CARD/PD/GP2/genotypes/SHULMAN/plink/indiv_samples/204701870014_R03C01\n/data/CARD/PD/GP2/genotypes/SHULMAN/plink/indiv_samples/204701870014_R04C01\n/data/CARD/PD/GP2/genotypes/SHULMAN/plink/indiv_samples/204701870014_R05C01\n/data/CARD/PD/GP2/genotypes/SHULMAN/plink/indiv_samples/204701870014_R06C01\n/data/CARD/PD/GP2/genotypes/SHULMAN/plink/indiv_samples/204701870014_R07C01\n/data/CARD/PD/GP2/genotypes/SHULMAN/plink/indiv_samples/204701870014_R08C01\n/data/CARD/PD/GP2/genotypes/SHULMAN/plink/indiv_samples/204701870114_R01C01\n/data/CARD/PD/GP2/genotypes/SHULMAN/plink/indiv_samples/204701870114_R02C01\n/data/CARD/PD/GP2/genotypes/SHULMAN/plink/indiv_samples/204701870114_R03C01\n/data/CARD/PD/GP2/genotypes/SHULMAN/plink/indiv_samples/204701870114_R04C01\n/data/CARD/PD/GP2/genotypes/SHULMAN/plink/indiv_samples/204701870114_R05C01\n"
     ]
    }
   ],
   "source": [
    "!cat shulman_merge_bed.list\n",
    "\n",
    "\n",
    "    "
   ]
  },
  {
   "cell_type": "code",
   "execution_count": 22,
   "metadata": {},
   "outputs": [],
   "source": [
    "f'{shulman_ny_path}/ny_update_ids.txt'"
   ]
  },
  {
   "cell_type": "code",
   "execution_count": 2,
   "metadata": {},
   "outputs": [
    {
     "output_type": "error",
     "ename": "NameError",
     "evalue": "name 'shulman_ny_path' is not defined",
     "traceback": [
      "\u001b[0;31m---------------------------------------------------------------------------\u001b[0m",
      "\u001b[0;31mNameError\u001b[0m                                 Traceback (most recent call last)",
      "\u001b[0;32m<ipython-input-2-b916f2a58f3e>\u001b[0m in \u001b[0;36m<module>\u001b[0;34m\u001b[0m\n\u001b[0;32m----> 1\u001b[0;31m \u001b[0mshulman_ny_path\u001b[0m\u001b[0;34m\u001b[0m\u001b[0;34m\u001b[0m\u001b[0m\n\u001b[0m",
      "\u001b[0;31mNameError\u001b[0m: name 'shulman_ny_path' is not defined"
     ]
    }
   ],
   "source": [
    "shulman_ny_path"
   ]
  },
  {
   "cell_type": "code",
   "execution_count": 24,
   "metadata": {},
   "outputs": [
    {
     "output_type": "execute_result",
     "data": {
      "text/plain": [
       "      FID                  IID\n",
       "0       0  204697840024_R01C01\n",
       "1       0  204697840024_R02C01\n",
       "2       0  204697840024_R03C01\n",
       "3       0  204697840024_R04C01\n",
       "4       0  204697840024_R05C01\n",
       "...   ...                  ...\n",
       "1388    0  204701870002_R05C01\n",
       "1389    0  204701870002_R06C01\n",
       "1390    0  204701870002_R07C01\n",
       "1391    0  204701870002_R08C01\n",
       "1392    0  204701870029_R01C01\n",
       "\n",
       "[1393 rows x 2 columns]"
      ],
      "text/html": "<div>\n<style scoped>\n    .dataframe tbody tr th:only-of-type {\n        vertical-align: middle;\n    }\n\n    .dataframe tbody tr th {\n        vertical-align: top;\n    }\n\n    .dataframe thead th {\n        text-align: right;\n    }\n</style>\n<table border=\"1\" class=\"dataframe\">\n  <thead>\n    <tr style=\"text-align: right;\">\n      <th></th>\n      <th>FID</th>\n      <th>IID</th>\n    </tr>\n  </thead>\n  <tbody>\n    <tr>\n      <th>0</th>\n      <td>0</td>\n      <td>204697840024_R01C01</td>\n    </tr>\n    <tr>\n      <th>1</th>\n      <td>0</td>\n      <td>204697840024_R02C01</td>\n    </tr>\n    <tr>\n      <th>2</th>\n      <td>0</td>\n      <td>204697840024_R03C01</td>\n    </tr>\n    <tr>\n      <th>3</th>\n      <td>0</td>\n      <td>204697840024_R04C01</td>\n    </tr>\n    <tr>\n      <th>4</th>\n      <td>0</td>\n      <td>204697840024_R05C01</td>\n    </tr>\n    <tr>\n      <th>...</th>\n      <td>...</td>\n      <td>...</td>\n    </tr>\n    <tr>\n      <th>1388</th>\n      <td>0</td>\n      <td>204701870002_R05C01</td>\n    </tr>\n    <tr>\n      <th>1389</th>\n      <td>0</td>\n      <td>204701870002_R06C01</td>\n    </tr>\n    <tr>\n      <th>1390</th>\n      <td>0</td>\n      <td>204701870002_R07C01</td>\n    </tr>\n    <tr>\n      <th>1391</th>\n      <td>0</td>\n      <td>204701870002_R08C01</td>\n    </tr>\n    <tr>\n      <th>1392</th>\n      <td>0</td>\n      <td>204701870029_R01C01</td>\n    </tr>\n  </tbody>\n</table>\n<p>1393 rows × 2 columns</p>\n</div>"
     },
     "metadata": {},
     "execution_count": 24
    }
   ],
   "source": [
    "pheno_out[['FID','IID']]"
   ]
  },
  {
   "cell_type": "code",
   "execution_count": 31,
   "metadata": {},
   "outputs": [
    {
     "output_type": "execute_result",
     "data": {
      "text/plain": [
       "'/data/CARD/PD/GP2/genotypes/SHULMAN/plink/shulman'"
      ]
     },
     "metadata": {},
     "execution_count": 31
    }
   ],
   "source": [
    "shulman"
   ]
  },
  {
   "cell_type": "code",
   "execution_count": null,
   "metadata": {},
   "outputs": [],
   "source": []
  }
 ]
}