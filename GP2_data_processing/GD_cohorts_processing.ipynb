{
 "cells": [
  {
   "cell_type": "code",
   "execution_count": 30,
   "id": "5ae6e922-d437-4626-99da-376675c032ee",
   "metadata": {},
   "outputs": [],
   "source": [
    "import pandas as pd\n",
    "import glob\n",
    "import numpy as np\n",
    "import os\n",
    "import shutil"
   ]
  },
  {
   "cell_type": "code",
   "execution_count": 53,
   "id": "00ece5d8-27f8-46c8-b578-aca5eeccaed2",
   "metadata": {},
   "outputs": [],
   "source": [
    "gd_path = '/data/CARD/PD/GP2/raw_genotypes/GD'\n",
    "idat_path = f'{gd_path}/idats'\n",
    "swarm_scripts_dir = f'{gd_path}/swarm_scripts'\n",
    "raw_plink_path = f'{gd_path}/plink'\n",
    "gd_qc_path = f'{gd_path}/QC'\n",
    "\n",
    "ilmn_files_path = '/data/CARD/PD/GP2/ilmn_files'\n",
    "bpm = f'{ilmn_files_path}/NeuroBooster_20042459_A1.bpm'\n",
    "egt = f'{ilmn_files_path}/NBSCluster_file_n1393_011921.egt'\n",
    "iaap = f'{ilmn_files_path}/iaap-cli/iaap-cli'\n",
    "\n",
    "clin_dir = '/data/CARD/PD/GP2/clinical'\n",
    "key_dir = '/data/CARD/PD/GP2/key_files'\n",
    "gd_key = f'{key_dir}/gd_key.csv'\n"
   ]
  },
  {
   "cell_type": "code",
   "execution_count": 46,
   "id": "fc3e727f-daa1-4dfb-82f7-36f63590b14e",
   "metadata": {},
   "outputs": [],
   "source": [
    "nhgri_clin = pd.read_csv(f'{clin_dir}/sample_sheet_nhgri.csv')\n",
    "ny_clin = pd.read_csv(f'{clin_dir}/sample_sheet_newyork.csv')\n",
    "key = pd.read_csv(gd_key)\n",
    "key['filename'] = key['SentrixBarcode_A'].astype(str) + '_' + key['SentrixPosition_A']\n",
    "\n",
    "key.loc[:,'FID'] = '0'\n",
    "\n",
    "key[['FID', 'filename', 'FID', 'Sample_ID']].to_csv(f'{gd_path}/update_ids.txt', sep='\\t', header=None, index=None)"
   ]
  },
  {
   "cell_type": "code",
   "execution_count": 36,
   "id": "53bc1667-3ce9-4ab9-8f31-4372e935fc07",
   "metadata": {},
   "outputs": [],
   "source": [
    "with open(f'{swarm_scripts_dir}/idat_to_ped.swarm', 'w') as f:\n",
    "    \n",
    "    for code in key.SentrixBarcode_A.unique():\n",
    "        \n",
    "        idat_to_ped_cmd = f'\\\n",
    "{iaap} gencall \\\n",
    "{bpm} \\\n",
    "{egt} \\\n",
    "{raw_plink_path}/ \\\n",
    "-f {idat_path}/{code} \\\n",
    "-p \\\n",
    "-t 8'\n",
    "        \n",
    "        f.write(f'{idat_to_ped_cmd}\\n')\n",
    "f.close()"
   ]
  },
  {
   "cell_type": "code",
   "execution_count": 38,
   "id": "1dd922fb-1468-4587-beaa-54c243d26df1",
   "metadata": {},
   "outputs": [
    {
     "name": "stdout",
     "output_type": "stream",
     "text": [
      "21031358\n"
     ]
    }
   ],
   "source": [
    "!swarm -f {swarm_scripts_dir}/idat_to_ped.swarm -g 32 -t 16 --time=10:00:00 --logdir {swarm_scripts_dir}/logs --gres=lscratch:20 --partition=norm"
   ]
  },
  {
   "cell_type": "code",
   "execution_count": 39,
   "id": "51449b2a-63ed-40f9-a951-77862eefeba3",
   "metadata": {},
   "outputs": [],
   "source": [
    "# copy map file to match name of each ped\n",
    "map_file = f'{raw_plink_path}/NeuroBooster_20042459_A1.map'\n",
    "for filename in key.filename:\n",
    "    ped = f'{raw_plink_path}/{filename}.ped'\n",
    "    out_map = f'{raw_plink_path}/{filename}.map'\n",
    "    if os.path.isfile(ped):\n",
    "        shutil.copyfile(src=map_file, dst=out_map)\n",
    "    else:\n",
    "        print(f'{ped} does not exist!')\n",
    "        print(f'{out_map} creation cancelled')"
   ]
  },
  {
   "cell_type": "code",
   "execution_count": 40,
   "id": "8566f706-3ed6-4076-b970-f36cb5ea0f2a",
   "metadata": {},
   "outputs": [],
   "source": [
    "with open(f'{swarm_scripts_dir}/make_bed.swarm', 'w') as f:\n",
    "    for filename in key.filename:\n",
    "        ped = f'{raw_plink_path}/{filename}'\n",
    "        make_bed_cmd = f'\\\n",
    "plink \\\n",
    "--file {ped} \\\n",
    "--make-bed \\\n",
    "--out {raw_plink_path}/{filename}'\n",
    "\n",
    "        f.write(f'{make_bed_cmd}\\n')\n",
    "f.close()"
   ]
  },
  {
   "cell_type": "code",
   "execution_count": 42,
   "id": "1efeeaa9-f778-48c2-aa5b-953666839c23",
   "metadata": {},
   "outputs": [
    {
     "name": "stdout",
     "output_type": "stream",
     "text": [
      "21031946\n"
     ]
    }
   ],
   "source": [
    "!swarm -f {swarm_scripts_dir}/make_bed.swarm -g 64 -t 32 --time=10:00:00 --logdir swarm --gres=lscratch:20 --partition=norm"
   ]
  },
  {
   "cell_type": "code",
   "execution_count": 55,
   "id": "5094a525-1d3b-4d6d-ab2a-1989ed58db0d",
   "metadata": {},
   "outputs": [],
   "source": [
    "# write plink merge command\n",
    "with open(f\"{raw_plink_path}/merge_bed.list\", 'w') as f:\n",
    "    for filename in key.filename:\n",
    "        bed = f'{raw_plink_path}/{filename}'\n",
    "        if os.path.isfile(f'{bed}.bed'):\n",
    "            f.write(f'{bed}\\n')\n",
    "        else:\n",
    "            print(f'{bed} does not exist!!!')\n",
    "f.close()\n",
    "\n",
    "with open(f\"{swarm_scripts_dir}/merge.swarm\", 'w') as f:\n",
    "\n",
    "    plink_merge_cmd = f'\\\n",
    "plink \\\n",
    "--merge-list {raw_plink_path}/merge_bed.list \\\n",
    "--update-ids {gd_path}/update_ids.txt \\\n",
    "--make-bed \\\n",
    "--out {gd_qc_path}/GD'\n",
    "    f.write(f\"{plink_merge_cmd}\")\n",
    "f.close()"
   ]
  },
  {
   "cell_type": "code",
   "execution_count": 56,
   "id": "25b4d665-cb84-4127-9070-46414e269d6c",
   "metadata": {},
   "outputs": [
    {
     "name": "stdout",
     "output_type": "stream",
     "text": [
      "21034777\n"
     ]
    }
   ],
   "source": [
    "!swarm -f {swarm_scripts_dir}/merge.swarm -g 64 -t 32 --time=10:00:00 --logdir swarm --gres=lscratch:20 --partition=norm"
   ]
  },
  {
   "cell_type": "code",
   "execution_count": null,
   "id": "a951b495-8318-42ee-8ab7-d71ec30a20ab",
   "metadata": {},
   "outputs": [],
   "source": []
  },
  {
   "cell_type": "code",
   "execution_count": 66,
   "id": "a2d47c9a-6c5e-4a05-851b-01d5b8b1a552",
   "metadata": {},
   "outputs": [],
   "source": [
    "geno_path = f'{gd_qc_path}/GD'\n",
    "ref_dir_path = '/data/LNG/vitaled2/1kgenomes'\n",
    "ref_panel = f'{ref_dir_path}/1kg_ashkj_ref_panel_gp2_pruned'\n",
    "ref_labels = f'{ref_dir_path}/ref_panel_ancestry.txt'\n",
    "out_path = '/data/CARD/PD/GP2/genotypes/GD/clean/GD'"
   ]
  },
  {
   "cell_type": "code",
   "execution_count": 67,
   "id": "2d24205e-ab19-480d-af4b-cf000774ea39",
   "metadata": {},
   "outputs": [
    {
     "name": "stdout",
     "output_type": "stream",
     "text": [
      "python3 run_gd_pipeline.py --geno /data/CARD/PD/GP2/raw_genotypes/GD/QC/GD --ref /data/LNG/vitaled2/1kgenomes/1kg_ashkj_ref_panel_gp2_pruned --ref_labels /data/LNG/vitaled2/1kgenomes/ref_panel_ancestry.txt --out /data/CARD/PD/GP2/genotypes/GD/clean/GD\n"
     ]
    }
   ],
   "source": [
    "with open(f'{swarm_scripts_dir}/run_qc_pipeline.swarm','w') as f:\n",
    "    run_pipeline = f'python3 run_gd_pipeline.py --geno {geno_path} --ref {ref_panel} --ref_labels {ref_labels} --out {out_path}'\n",
    "    f.write(f'{run_pipeline}\\n')\n",
    "f.close()\n",
    "!cat {swarm_scripts_dir}/run_qc_pipeline.swarm"
   ]
  },
  {
   "cell_type": "code",
   "execution_count": 68,
   "id": "e4813d88-57e2-49b3-acd5-e3ab47222249",
   "metadata": {},
   "outputs": [
    {
     "name": "stdout",
     "output_type": "stream",
     "text": [
      "21042872\n"
     ]
    }
   ],
   "source": [
    "!swarm -f {swarm_scripts_dir}/run_qc_pipeline.swarm -g 64 -t 32 --time=10:00:00 --logdir swarm --gres=lscratch:20 --partition=norm"
   ]
  },
  {
   "cell_type": "code",
   "execution_count": null,
   "id": "1fc1625a-0de0-4cd0-a9fa-0fe2013acd03",
   "metadata": {},
   "outputs": [],
   "source": []
  },
  {
   "cell_type": "code",
   "execution_count": null,
   "id": "31782f59-30eb-4602-add6-a7e28121b3a5",
   "metadata": {},
   "outputs": [],
   "source": []
  },
  {
   "cell_type": "code",
   "execution_count": null,
   "id": "0b942ece-8104-4468-b647-195db77214a5",
   "metadata": {},
   "outputs": [],
   "source": []
  },
  {
   "cell_type": "code",
   "execution_count": null,
   "id": "2fd284b5-d7c3-4f14-bc78-f0b264eff054",
   "metadata": {},
   "outputs": [],
   "source": []
  },
  {
   "cell_type": "code",
   "execution_count": null,
   "id": "74707ba4-6469-4eae-85e4-f18d7d187322",
   "metadata": {},
   "outputs": [],
   "source": []
  }
 ],
 "metadata": {
  "kernelspec": {
   "display_name": "python/3.7",
   "language": "python",
   "name": "py3.7"
  },
  "language_info": {
   "codemirror_mode": {
    "name": "ipython",
    "version": 3
   },
   "file_extension": ".py",
   "mimetype": "text/x-python",
   "name": "python",
   "nbconvert_exporter": "python",
   "pygments_lexer": "ipython3",
   "version": "3.7.5"
  }
 },
 "nbformat": 4,
 "nbformat_minor": 5
}
