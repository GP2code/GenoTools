{
 "cells": [
  {
   "cell_type": "code",
   "execution_count": null,
   "id": "7caa16e9-69fd-45d3-ba36-ce3ee96f726a",
   "metadata": {},
   "outputs": [],
   "source": [
    "import pandas as pd\n",
    "import os\n",
    "import shutil\n",
    "import numpy as np\n",
    "import glob\n",
    "import subprocess\n",
    "\n",
    "from QC.utils import shell_do\n",
    "import QC.config as config\n",
    "from QC.imputation import impute_data_prep"
   ]
  },
  {
   "cell_type": "code",
   "execution_count": null,
   "id": "7be1a4a1-13e6-4a64-afba-01b09b8a5d19",
   "metadata": {},
   "outputs": [],
   "source": [
    "basedir = '/data/CARD/PD/GP2/raw_genotypes'\n",
    "out_genotypes = '/data/CARD/PD/GP2/genotypes'\n",
    "cohort_path = f'{basedir}/coriell'\n",
    "sample_info_path = f'{cohort_path}/sample_info'\n",
    "ilmn_files_path = '/data/CARD/PD/GP2/ilmn_files'\n",
    "bpm = f'{ilmn_files_path}/NeuroBooster_20042459_A1.bpm'\n",
    "egt = f'{ilmn_files_path}/NBSCluster_file_n1393_011921.egt'\n",
    "key_file = f'{sample_info_path}/KEY_FILE_GP2_Coriell_P1_25_042621_B1.txt'\n",
    "pheno_file = f'{sample_info_path}/CORIELL_20210201_clinical.csv'\n",
    "\n",
    "ped_dir = f'{cohort_path}/ped'\n",
    "bed_dir = f'{cohort_path}/bed'\n",
    "swarm_scripts_dir = f'{cohort_path}/swarm_scripts'\n",
    "idat_dir = f'{cohort_path}/idats'\n",
    "raw_idat_file_path = f'{cohort_path}/idats/GP2_coriell_idats'\n",
    "\n",
    "# create ped and plink directories for raw geno outputs if they don't exist\n",
    "os.makedirs(ped_dir, exist_ok=True)\n",
    "os.makedirs(bed_dir, exist_ok=True)\n",
    "os.makedirs(f'{bed_dir}/indiv_samples', exist_ok=True)\n",
    "os.makedirs(swarm_scripts_dir, exist_ok=True)\n",
    "os.makedirs(idat_dir, exist_ok=True)\n",
    "\n",
    "iaap = f'{ilmn_files_path}/iaap-cli/iaap-cli'"
   ]
  },
  {
   "cell_type": "code",
   "execution_count": null,
   "id": "5b99d7ac-100c-48f1-b014-258c4c1de653",
   "metadata": {},
   "outputs": [],
   "source": [
    "pheno = pd.read_csv(pheno_file)\n",
    "key = pd.read_csv(key_file, sep='\\t')\n",
    "\n",
    "\n",
    "pheno['Original_clinicalID'] = pheno['Original_clinicalID'].astype(str)\n",
    "key['Sample_ID'] = key['Sample_ID'].astype(str)\n",
    "key['filename'] = key['SentrixBarcode_A'].astype(str) + '_' + key['SentrixPosition_A']\n",
    "pheno_out = key.merge(pheno, how='inner', left_on='Sample_ID', right_on='Original_clinicalID')\n",
    "pheno_out['IID'] = pheno_out.SentrixBarcode_A.astype(str) + '_' + pheno_out.SentrixPosition_A.astype(str)\n",
    "pheno_out['FID'] = 0\n",
    "pheno_out['FID_new'] = 0\n",
    "pheno_out['pheno'] = 0\n",
    "pheno_out.loc[pheno_out.Phenotype == 'PD', 'pheno'] = 2\n",
    "pheno_out.loc[pheno_out.Phenotype == 'Control', 'pheno'] = 1\n",
    "pheno_out.loc[pheno_out.Phenotype == np.nan, 'pheno'] = 0\n",
    "\n",
    "pheno_out[['FID','IID', 'FID_new', 'Sample_ID']].to_csv(f'{sample_info_path}/update_ids.txt', sep='\\t', header=False, index=False)\n",
    "pheno_out[['FID_new', 'Sample_ID', 'pheno']].to_csv(f'{sample_info_path}/update_pheno.txt', sep='\\t', header=False, index=False)"
   ]
  },
  {
   "cell_type": "code",
   "execution_count": null,
   "id": "12fe3419-780d-4e42-bdb7-bc96274daca1",
   "metadata": {},
   "outputs": [],
   "source": [
    "# create a folder in idats for each plate in new idat_dir\n",
    "for code in key.SentrixBarcode_A.unique():\n",
    "    os.makedirs(f'{idat_dir}/{code}', exist_ok=True)\n",
    "\n",
    "# copy idat intensity files to respective directories under idat_dir\n",
    "missing_idats = []\n",
    "\n",
    "for i, filename in enumerate(key.filename):\n",
    "    sentrix_code = key.SentrixBarcode_A.iloc[i]\n",
    "    grn = f'{raw_idat_file_path}/{filename}_Grn.idat'\n",
    "    red = f'{raw_idat_file_path}/{filename}_Red.idat'\n",
    "\n",
    "    if os.path.isfile(grn):\n",
    "        shutil.copyfile(src=grn, dst=f'{idat_dir}/{sentrix_code}/{filename}_Grn.idat')\n",
    "    else:\n",
    "        missing_idats.append(grn)\n",
    "\n",
    "    if os.path.isfile(red):\n",
    "        shutil.copyfile(src=red, dst=f'{idat_dir}/{sentrix_code}/{filename}_Red.idat')\n",
    "    else:\n",
    "        missing_idats.append(red)\n",
    "\n",
    "len(missing_idats)"
   ]
  },
  {
   "cell_type": "code",
   "execution_count": null,
   "id": "6e0a464c-2501-42d7-8a0d-61b6f2171a7c",
   "metadata": {},
   "outputs": [],
   "source": [
    "with open(f'{swarm_scripts_dir}/idat_to_ped.swarm', 'w') as f:\n",
    "    \n",
    "    for code in key.SentrixBarcode_A.unique():\n",
    "        \n",
    "        idat_to_ped_cmd = f'\\\n",
    "{iaap} gencall \\\n",
    "{bpm} \\\n",
    "{egt} \\\n",
    "{ped_dir}/ \\\n",
    "-f {idat_dir}/{code} \\\n",
    "-p \\\n",
    "-t 8'\n",
    "        \n",
    "        f.write(f'{idat_to_ped_cmd}\\n')\n",
    "f.close()\n"
   ]
  },
  {
   "cell_type": "code",
   "execution_count": null,
   "id": "8fac1a59-aca2-4933-879f-38b4ccb12b34",
   "metadata": {},
   "outputs": [],
   "source": [
    "!swarm -f {swarm_scripts_dir}/idat_to_ped.swarm -g 32 -t 16 --time=10:00:00 --logdir {swarm_scripts_dir}/logs --gres=lscratch:20 --partition=norm"
   ]
  },
  {
   "cell_type": "code",
   "execution_count": null,
   "id": "3a6fa706-dba5-4a34-aa64-7761ebeadf1d",
   "metadata": {},
   "outputs": [],
   "source": [
    "# copy map file to match name of each ped\n",
    "map_file = f'{ped_dir}/NeuroBooster_20042459_A1.map'\n",
    "for filename in key.filename:\n",
    "    ped = f'{ped_dir}/{filename}.ped'\n",
    "    out_map = f'{ped_dir}/{filename}.map'\n",
    "    if os.path.isfile(ped):\n",
    "        shutil.copyfile(src=map_file, dst=out_map)\n",
    "    else:\n",
    "        print(f'{ped} does not exist!')\n",
    "        print(f'{out_map} creation cancelled')"
   ]
  },
  {
   "cell_type": "code",
   "execution_count": null,
   "id": "bbf10e55-44e2-43c9-82b9-10ec7c0de9b3",
   "metadata": {},
   "outputs": [],
   "source": [
    "\n",
    "with open(f'{swarm_scripts_dir}/make_bed.swarm', 'w') as f:\n",
    "    for filename in key.filename:\n",
    "        ped = f'{ped_dir}/{filename}'\n",
    "        make_bed_cmd = f'\\\n",
    "plink \\\n",
    "--file {ped} \\\n",
    "--make-bed \\\n",
    "--out {bed_dir}/indiv_samples/{filename}'\n",
    "\n",
    "        f.write(f'{make_bed_cmd}\\n')\n",
    "f.close()\n"
   ]
  },
  {
   "cell_type": "code",
   "execution_count": null,
   "id": "fa5be5ce-2359-4af9-b24b-22353829b319",
   "metadata": {},
   "outputs": [],
   "source": [
    "!swarm -f {swarm_scripts_dir}/make_bed.swarm -g 64 -t 32 --time=10:00:00 --logdir swarm --gres=lscratch:20 --partition=norm"
   ]
  },
  {
   "cell_type": "code",
   "execution_count": null,
   "id": "f2bb6d75-b3c1-4e52-a110-1674825b6337",
   "metadata": {},
   "outputs": [],
   "source": [
    "# write plink merge command\n",
    "with open(f\"{bed_dir}/merge_bed.list\", 'w') as f:\n",
    "    for filename in key.filename:\n",
    "        bed = f'{bed_dir}/indiv_samples/{filename}'\n",
    "        f.write(f'{bed}\\n')\n",
    "f.close()\n",
    "\n",
    "with open(f\"{swarm_scripts_dir}/merge.swarm\", 'w') as f:\n",
    "\n",
    "    plink_merge_cmd = f'\\\n",
    "plink \\\n",
    "--merge-list {bed_dir}/merge_bed.list \\\n",
    "--update-ids {sample_info_path}/update_ids.txt \\\n",
    "--make-bed \\\n",
    "--out {bed_dir}/indiv_samples/coriell_merge'\n",
    "    f.write(f\"{plink_merge_cmd}\")\n",
    "f.close()"
   ]
  },
  {
   "cell_type": "code",
   "execution_count": null,
   "id": "e08141ba-563d-493a-b629-e444a753dfd8",
   "metadata": {},
   "outputs": [],
   "source": [
    "!swarm -f {swarm_scripts_dir}/merge.swarm -g 64 -t 32 --time=10:00:00 --logdir swarm --gres=lscratch:20 --partition=norm"
   ]
  },
  {
   "cell_type": "code",
   "execution_count": null,
   "id": "52a39c0c-e013-4c59-b28e-203c0fb052c8",
   "metadata": {},
   "outputs": [],
   "source": [
    "!plink --bfile {bed_dir}/indiv_samples/coriell_merge --pheno {sample_info_path}/update_pheno.txt --make-bed --out {bed_dir}/coriell"
   ]
  },
  {
   "cell_type": "code",
   "execution_count": null,
   "id": "f80a04ba-da1e-45b3-b50b-3d7a56a7ecc7",
   "metadata": {},
   "outputs": [],
   "source": [
    "# run QC pipeline\n",
    "geno_path = f'{basedir}/coriell/bed/coriell'\n",
    "out_dir = f'{out_genotypes}/coriell/clean'\n",
    "out_path = f'{out_dir}/coriell'\n",
    "os.makedirs(f'{out_dir}', exist_ok=True)\n",
    "ref_dir_path = '/data/LNG/vitaled2/1kgenomes'\n",
    "ref_panel = f'{ref_dir_path}/1kg_ashkj_ref_panel_gp2_pruned'\n",
    "ref_labels = f'{ref_dir_path}/ref_panel_ancestry.txt'\n",
    "\n",
    "\n",
    "with open(f'{swarm_scripts_dir}/run_qc_pipeline.swarm','w') as f:\n",
    "    run_pipeline = f'python3 ../run_qc_pipeline.py --geno {geno_path} --ref {ref_panel} --ref_labels {ref_labels} --out {out_path}'\n",
    "    f.write(f'{run_pipeline}\\n')\n",
    "f.close()\n",
    "!cat {swarm_scripts_dir}/run_qc_pipeline.swarm"
   ]
  },
  {
   "cell_type": "code",
   "execution_count": null,
   "id": "c70c4cda-34b5-4ffd-9cdb-903843280848",
   "metadata": {},
   "outputs": [],
   "source": [
    "# !swarm -f {swarm_scripts_dir}/run_qc_pipeline.swarm -g 64 -t 32 --time=10:00:00 --logdir swarm --gres=lscratch:20 --partition=norm"
   ]
  },
  {
   "cell_type": "code",
   "execution_count": null,
   "id": "54301a1e-acf1-4474-b320-f4bfbc3ea9d6",
   "metadata": {
    "tags": []
   },
   "outputs": [],
   "source": [
    "# run imputation\n",
    "\n",
    "# these files need to be in a different place eventually\n",
    "ref_panel='/data/vitaled2/GenoTools/ref/PASS.Variantsbravo-dbsnp-all.tab'\n",
    "check_bim_pl = '/data/vitaled2/GenoTools/ref/HRC-1000G-check-bim.pl'\n",
    "\n",
    "imputed_out_dir = f'{out_genotypes}/coriell/imputed' \n",
    "os.makedirs(imputed_out_dir, exist_ok=True)\n",
    "\n",
    "# jenky method for pulling cleaned genos with ancestry labels for imputation... should figure out how to do this better later\n",
    "impute_genos_list = [x.split('.')[0] for x in glob.glob(f'{out_dir}/*.bed')]\n",
    "\n",
    "impute_labels_list = [x.split('/')[-1].replace('.bed','').split('_')[-1] for x in impute_genos_list]\n",
    "\n",
    "with open(f'{swarm_scripts_dir}/run_imputation_pipeline.swarm','w') as f:\n",
    "    for geno, label in zip(impute_genos_list, impute_labels_list):\n",
    "\n",
    "        label_temp_outdir = f'{basedir}/coriell/bed/{label}'\n",
    "        label_temp = f'{label_temp_outdir}/{label}'\n",
    "        label_outdir = f'{imputed_out_dir}/{label}'\n",
    "        os.makedirs(f'{label_outdir}', exist_ok=True)\n",
    "        os.makedirs(f'{label_temp_outdir}', exist_ok=True)\n",
    "        impute_data = impute_data_prep(geno, label_temp, ref_panel, check_bim_pl)\n",
    "        run_pipeline = f'python3 ../run_imputation_pipeline.py --geno {label_temp} --token {config.api_key} --out {label_outdir}/'\n",
    "#         run_pipeline = f'python3 ../run_imputation_pipeline.py --geno {geno} --temp {label_temp} --token {config.api_key} --ref_panel {ref_panel} --check_bim_pl {check_bim_pl} --out {label_outdir}/'\n",
    "        f.write(f'{run_pipeline}\\n')\n",
    "        \n",
    "f.close()\n",
    "\n",
    "\n",
    "    \n",
    "# !cat {swarm_scripts_dir}/run_imputation_pipeline.swarm"
   ]
  },
  {
   "cell_type": "code",
   "execution_count": null,
   "id": "d36e6d99-be7b-4481-a928-5bc1d97ac45f",
   "metadata": {},
   "outputs": [],
   "source": [
    "!swarm -f {swarm_scripts_dir}/run_imputation_pipeline.swarm -g 20 -t 16 --time=80:00:00 --logdir swarm --gres=lscratch:20 --partition=norm"
   ]
  },
  {
   "cell_type": "code",
   "execution_count": null,
   "id": "8be260a2-0489-4195-8b50-60e36cdc3b96",
   "metadata": {
    "tags": []
   },
   "outputs": [],
   "source": [
    "ref_panel='/data/vitaled2/GenoTools/ref/PASS.Variantsbravo-dbsnp-all.tab'\n",
    "check_bim_pl = '/data/vitaled2/GenoTools/ref/HRC-1000G-check-bim.pl'\n",
    "imputed_out_dir = f'{out_genotypes}/coriell/imputed' \n",
    "rerun_geno = '/data/CARD/PD/GP2/genotypes/coriell/clean/coriell_AAC'\n",
    "rerun_label = 'AAC'\n",
    "\n",
    "with open(f'{swarm_scripts_dir}/rerun_imputation_pipeline.swarm','w') as f:\n",
    "\n",
    "    label_temp_outdir = f'{basedir}/coriell/bed/{rerun_label}'\n",
    "    label_temp = f'{label_temp_outdir}/{rerun_label}'\n",
    "    label_outdir = f'{imputed_out_dir}/{rerun_label}'\n",
    "    os.makedirs(f'{label_outdir}', exist_ok=True)\n",
    "    os.makedirs(f'{label_temp_outdir}', exist_ok=True)\n",
    "    impute_data = impute_data_prep(rerun_geno, label_temp, ref_panel, check_bim_pl)\n",
    "    run_pipeline = f'python3 ../run_imputation_pipeline.py --geno {label_temp} --token {config.api_key} --out {label_outdir}/'\n",
    "#         run_pipeline = f'python3 ../run_imputation_pipeline.py --geno {geno} --temp {label_temp} --token {config.api_key} --ref_panel {ref_panel} --check_bim_pl {check_bim_pl} --out {label_outdir}/'\n",
    "    f.write(f'{run_pipeline}\\n')\n",
    "        \n",
    "f.close()\n",
    "\n",
    "!cat {swarm_scripts_dir}/rerun_imputation_pipeline.swarm"
   ]
  },
  {
   "cell_type": "code",
   "execution_count": null,
   "id": "2217e9a5-951e-44d3-964a-24d7ec02bb30",
   "metadata": {},
   "outputs": [],
   "source": [
    "!swarm -f {swarm_scripts_dir}/rerun_imputation_pipeline.swarm -g 20 -t 16 --time=80:00:00 --logdir swarm --gres=lscratch:20 --partition=norm"
   ]
  },
  {
   "cell_type": "code",
   "execution_count": null,
   "id": "808adf72-05f4-47b5-8810-160eecce876d",
   "metadata": {},
   "outputs": [],
   "source": []
  },
  {
   "cell_type": "code",
   "execution_count": null,
   "id": "05bdb2b2-5ab1-4c46-bba6-c2125646e05c",
   "metadata": {},
   "outputs": [],
   "source": []
  },
  {
   "cell_type": "code",
   "execution_count": null,
   "id": "e4aeb078-313f-41a8-9b95-fc1718122b20",
   "metadata": {},
   "outputs": [],
   "source": []
  },
  {
   "cell_type": "code",
   "execution_count": null,
   "id": "4bac1dfe-87d9-47bf-bc3f-73b049b30e2d",
   "metadata": {},
   "outputs": [],
   "source": []
  },
  {
   "cell_type": "code",
   "execution_count": null,
   "id": "68c38965-544d-428a-bd87-58bd05913027",
   "metadata": {},
   "outputs": [],
   "source": []
  },
  {
   "cell_type": "code",
   "execution_count": null,
   "id": "8287d971-dea0-410b-aa3b-181170f47e8a",
   "metadata": {},
   "outputs": [],
   "source": [
    "# merge AAC with ref panel \n",
    "\n",
    "from QC.utils import merge_genos\n",
    "\n",
    "aac_geno = '/data/CARD/PD/GP2/raw_genotypes/coriell/plink/coriell_callrate_sex_ancestry_AAC_related_het_variant'\n",
    "out_dir = '/data/CARD/PD/GP2/genotypes/coriell/clean'\n",
    "ref_dir_path = '/data/LNG/vitaled2/1kgenomes'\n",
    "ref_panel = f'{ref_dir_path}/1kg_ashkj_ref_panel_gp2_pruned'\n",
    "\n",
    "merged_ref_geno = f'{aac_geno}_merged_ref'\n",
    "\n"
   ]
  },
  {
   "cell_type": "code",
   "execution_count": null,
   "id": "0dd64a79-699d-4055-af21-f75fa5ecbdac",
   "metadata": {},
   "outputs": [],
   "source": [
    "geno_ancestry_prune1 = f'{aac_geno}_ancestry_prune1'\n",
    "geno_ancestry_prune2 = f'{aac_geno}_ancestry_prune2'\n",
    "# geno_ancestry_prune3 = f'{geno_het}_ancestry_prune3'\n",
    "\n",
    "# prune geno_het for geno, maf, hwe, and palindromes\n",
    "bim = pd.read_csv(f'{aac_geno}.bim', sep='\\t', header=None)\n",
    "\n",
    "# find and drop palindromes in geno_het bim file\n",
    "bim.columns = ['chr', 'rsid', 'kb', 'pos', 'a1', 'a2']\n",
    "palindromes = bim.loc[((bim.a1 == 'A') & (bim.a2 == 'T')) | ((bim.a1 == 'T') & (bim.a2 == 'A')) | ((bim.a1 == 'C') & (bim.a2 == 'G')) | ((bim.a1 == 'G') & (bim.a2 == 'C'))]\n",
    "palindromes['rsid'].to_csv(f'{aac_geno}_palindromes.snplist', header=False, index=False, sep='\\t')\n",
    "\n",
    "plink_cmd1 = f'plink --bfile {aac_geno}\\\n",
    " --maf 0.05\\\n",
    " --geno 0.01\\\n",
    " --hwe 0.0001\\\n",
    " --autosome\\\n",
    " --allow-no-sex\\\n",
    " --exclude {aac_geno}_palindromes.snplist\\\n",
    " --make-bed\\\n",
    " --out {geno_ancestry_prune1}' \n",
    "\n",
    "#remove high-LD regions\n",
    "plink_cmd2 = f'plink --bfile {geno_ancestry_prune1}\\\n",
    " --exclude range {ref_dir_path}/hg19_exclusion_regions.txt\\\n",
    " --autosome\\\n",
    " --allow-no-sex\\\n",
    " --make-bed\\\n",
    " --out {geno_ancestry_prune2}'\n",
    "\n",
    "cmds = [plink_cmd1, plink_cmd2]\n",
    "\n",
    "for cmd in cmds:\n",
    "    shell_do(cmd)"
   ]
  },
  {
   "cell_type": "code",
   "execution_count": null,
   "id": "652419eb-6df6-43f0-bc55-6ecdff2251e9",
   "metadata": {},
   "outputs": [],
   "source": [
    "# now get common snps between pruned ref panel and pruned geno\n",
    "geno_pruned_bim = pd.read_csv(f'{geno_ancestry_prune2}.bim', sep='\\t', header=None)\n",
    "geno_pruned_bim.columns = ['chr', 'rsid', 'kb', 'pos', 'a1', 'a2']\n",
    "ref_bim = pd.read_csv(f'{ref_panel}.bim', sep='\\t', header=None)\n",
    "ref_bim.columns = ['chr', 'rsid', 'kb', 'pos', 'a1', 'a2']\n",
    "\n",
    "common_snps = ref_bim.merge(geno_pruned_bim, how='inner', on=['rsid'])\n",
    "\n",
    "common_snps['rsid'].to_csv(f'{out_dir}/aac_geno_ref_panel_common.snps', sep='\\t', header=False, index=False)"
   ]
  },
  {
   "cell_type": "code",
   "execution_count": null,
   "id": "6901bcea-71a8-4131-92c1-095dc723637f",
   "metadata": {},
   "outputs": [],
   "source": [
    "ref_panel_common_snps_geno_out = f'{out_dir}/aac_geno_ref_panel_common_snps'\n",
    "ref_panel_common_snps = f'{out_dir}/aac_geno_ref_panel_common.snps'\n",
    "\n",
    "ext_snps_cmd = f'plink --bfile {ref_panel} --extract {ref_panel_common_snps} --make-bed --out {ref_panel_common_snps_geno_out}'\n",
    "shell_do(ext_snps_cmd)"
   ]
  },
  {
   "cell_type": "code",
   "execution_count": null,
   "id": "362c4d4f-d05c-4eac-b7a9-6e9f589b5139",
   "metadata": {},
   "outputs": [],
   "source": [
    "# get reference alleles from ref_panel_common_snps\n",
    "ref_panel_common_snps_ref_alleles = f'{ref_panel_common_snps_geno_out}.ref_allele'\n",
    "ref_panel_common_snps_bim = pd.read_csv(f'{ref_panel_common_snps_geno_out}.bim', header=None, sep='\\t')\n",
    "ref_panel_common_snps_bim.columns = ['chr', 'rsid', 'kb', 'pos', 'a1', 'a2']\n",
    "ref_panel_common_snps_bim[['rsid','a1']].to_csv(ref_panel_common_snps_ref_alleles, sep='\\t', header=False, index=False)"
   ]
  },
  {
   "cell_type": "code",
   "execution_count": null,
   "id": "4a25b7f7-4351-429b-95f9-1eb665b0500c",
   "metadata": {},
   "outputs": [],
   "source": [
    "geno_common_snps = f'{geno_ancestry_prune2}_common_snps'\n",
    "\n",
    "ext_snps_cmd = f'plink --bfile {geno_ancestry_prune2} --extract {ref_panel_common_snps} --reference-allele {ref_panel_common_snps_ref_alleles} --make-bed --out {geno_common_snps}'\n",
    "shell_do(ext_snps_cmd)"
   ]
  },
  {
   "cell_type": "code",
   "execution_count": null,
   "id": "acc34d0b-9ca1-41d5-a9ec-6c8a5407577f",
   "metadata": {},
   "outputs": [],
   "source": [
    "merged_ref_geno = f'{geno_ancestry_prune2}_merged_ref'\n",
    "\n",
    "merge_genos(geno_common_snps, ref_panel_common_snps_geno_out, merged_ref_geno)"
   ]
  },
  {
   "cell_type": "code",
   "execution_count": null,
   "id": "044e9712-9d0b-428a-8da9-cc84b86d7b9a",
   "metadata": {},
   "outputs": [],
   "source": [
    "ancestry = pd.read_csv('/data/LNG/vitaled2/1kgenomes/ref_panel_ancestry.txt', sep='\\t', header=None, names=['FID','IID','label'])\n",
    "ref_fam = pd.read_csv(f'{ref_panel}.fam', sep=' ', header=None)\n",
    "ref_labeled = ref_fam.merge(ancestry, how='left', left_on=[0,1], right_on=['FID','IID'])"
   ]
  },
  {
   "cell_type": "code",
   "execution_count": null,
   "id": "7771a59c-2a56-481d-954e-0830fbfad381",
   "metadata": {},
   "outputs": [],
   "source": [
    "geno_common_snps_df = pd.read_csv(f'{geno_common_snps}.fam', header=None, sep='\\s+', usecols=[0,1], names=['FID','IID'])\n",
    "geno_common_snps_df.loc[:,'label'] = 'new'\n",
    "fs_labels = geno_common_snps_df.append(ref_labeled.loc[:,['FID','IID','label']])\n",
    "fs_labels.to_csv(f'{merged_ref_geno}.labels', sep='\\t', index=False)"
   ]
  },
  {
   "cell_type": "code",
   "execution_count": null,
   "id": "1257371b-52b0-4f9e-9ec1-96699d281ea0",
   "metadata": {},
   "outputs": [],
   "source": [
    "\n",
    "ancestry_labels = f'{merged_ref_geno}.labels'\n",
    "structure_out = f'{merged_ref_geno}_structure'\n",
    "# fam = pd.read_csv(f'{ref_panel_prune_final}.fam', sep=' ', header=None)\n",
    "structure = f'/data/vitaled2/ref_panel/fastStructure/structure.py'\n",
    "\n",
    "\n",
    "# run for k=1-8 and use chooseK.py to select best\n",
    "fs_swarm_script = f'{out_dir}/faststructure_choosek.swarm'\n",
    "with open(fs_swarm_script, 'w') as f:\n",
    "    k=8\n",
    "    fs_cmd = f'bash /data/vitaled2/GWAS/gwas/faststructure_setup_and_run.sh -i {merged_ref_geno} -o {structure_out} -f {structure} -k {k}'\n",
    "    f.write(f'{fs_cmd}\\n')\n",
    "f.close()"
   ]
  },
  {
   "cell_type": "code",
   "execution_count": null,
   "id": "a8624d45-e2b2-4df4-bab2-bbc33c31e78a",
   "metadata": {},
   "outputs": [],
   "source": [
    "shell_do(f'swarm -f {fs_swarm_script} -g 16 --time=10:00:00 -t 20 --logdir {ref_dir_path}/swarm --partition=norm')"
   ]
  },
  {
   "cell_type": "code",
   "execution_count": null,
   "id": "2faa0352-ac8b-48e8-9eda-90c55e12071b",
   "metadata": {},
   "outputs": [],
   "source": [
    "fam = pd.read_csv(f'{merged_ref_geno}.fam', sep=' ', header=None)\n",
    "pop = pd.read_csv(f'{merged_ref_geno}.labels', sep='\\t')\n",
    "q_df = pd.read_csv(f'{structure_out}.8.meanQ', header=None, sep='\\s+')\n",
    "q_df.columns = [f'pop{i}' for i in range(len(q_df.columns))]"
   ]
  },
  {
   "cell_type": "code",
   "execution_count": null,
   "id": "c5f1c58d-17c2-4530-aa0a-6675d76e83a3",
   "metadata": {},
   "outputs": [],
   "source": [
    "q_df['FID'], q_df['IID'] = fam[0], fam[1]\n",
    "q_pop_merged = q_df.merge(pop, left_on=['FID','IID'], right_on=['FID','IID'])"
   ]
  },
  {
   "cell_type": "code",
   "execution_count": null,
   "id": "7d092753-a588-4c4c-b709-4e08a8292b7f",
   "metadata": {},
   "outputs": [],
   "source": [
    "q_pop_merged.to_csv(f'{out_dir}/aac_samples_labeled_faststructure.txt', sep='\\t', header=True, index=False)"
   ]
  },
  {
   "cell_type": "code",
   "execution_count": null,
   "id": "081ed410-5bee-4d4d-928a-832e51ea6597",
   "metadata": {},
   "outputs": [],
   "source": [
    "f'{out_dir}/aac_samples_labeled_faststructure.txt'"
   ]
  },
  {
   "cell_type": "code",
   "execution_count": null,
   "id": "a60ff86c-58f8-4250-9600-3e81d32c9e83",
   "metadata": {},
   "outputs": [],
   "source": []
  },
  {
   "cell_type": "code",
   "execution_count": null,
   "id": "ee2f95d0-2073-457e-a66f-3dfeb47eae52",
   "metadata": {},
   "outputs": [],
   "source": []
  }
 ],
 "metadata": {
  "kernelspec": {
   "display_name": "python/3.7",
   "language": "python",
   "name": "py3.7"
  },
  "language_info": {
   "codemirror_mode": {
    "name": "ipython",
    "version": 3
   },
   "file_extension": ".py",
   "mimetype": "text/x-python",
   "name": "python",
   "nbconvert_exporter": "python",
   "pygments_lexer": "ipython3",
   "version": "3.7.5"
  }
 },
 "nbformat": 4,
 "nbformat_minor": 5
}
