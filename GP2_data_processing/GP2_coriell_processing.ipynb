{
 "cells": [
  {
   "cell_type": "code",
   "execution_count": 1,
   "id": "7caa16e9-69fd-45d3-ba36-ce3ee96f726a",
   "metadata": {},
   "outputs": [],
   "source": [
    "import pandas as pd\n",
    "import os\n",
    "import shutil\n",
    "import numpy as np\n",
    "\n",
    "from QC.utils import shell_do"
   ]
  },
  {
   "cell_type": "code",
   "execution_count": 47,
   "id": "7be1a4a1-13e6-4a64-afba-01b09b8a5d19",
   "metadata": {},
   "outputs": [],
   "source": [
    "basedir = '/data/CARD/PD/GP2/raw_genotypes'\n",
    "out_genotypes = '/data/CARD/PD/GP2/genotypes'\n",
    "cohort_path = f'{basedir}/coriell'\n",
    "sample_info_path = f'{cohort_path}/sample_info'\n",
    "ilmn_files_path = '/data/CARD/PD/GP2/ilmn_files/'\n",
    "bpm = f'{ilmn_files_path}/NeuroBooster_20042459_A1.bpm'\n",
    "egt = f'{ilmn_files_path}/NBSCluster_file_n1393_011921.egt'\n",
    "key_file = f'{sample_info_path}/KEY_FILE_GP2_Coriell_P1_25_042621_B1.txt'\n",
    "pheno_file = f'{sample_info_path}/CORIELL_20210201_clinical.csv'\n",
    "\n",
    "ped_dir = f'{cohort_path}/ped'\n",
    "plink_dir = f'{cohort_path}/plink'\n",
    "swarm_scripts_dir = f'{cohort_path}/swarm_scripts'\n",
    "idat_dir = f'{cohort_path}/idats'\n",
    "raw_idat_file_path = f'{cohort_path}/idats/GP2_coriell_idats'\n",
    "\n",
    "# create ped and plink directories for raw geno outputs if they don't exist\n",
    "os.makedirs(ped_dir, exist_ok=True)\n",
    "os.makedirs(plink_dir, exist_ok=True)\n",
    "os.makedirs(f'{plink_dir}/indiv_samples', exist_ok=True)\n",
    "os.makedirs(swarm_scripts_dir, exist_ok=True)\n",
    "os.makedirs(idat_dir, exist_ok=True)\n",
    "\n",
    "\n",
    "\n",
    "\n",
    "\n",
    "iaap = f'{ilmn_files_path}/iaap-cli/iaap-cli'"
   ]
  },
  {
   "cell_type": "code",
   "execution_count": 21,
   "id": "5b99d7ac-100c-48f1-b014-258c4c1de653",
   "metadata": {},
   "outputs": [],
   "source": [
    "pheno = pd.read_csv(pheno_file)\n",
    "key = pd.read_csv(key_file, sep='\\t')\n",
    "\n",
    "\n",
    "pheno['Original_clinicalID'] = pheno['Original_clinicalID'].astype(str)\n",
    "key['Sample_ID'] = key['Sample_ID'].astype(str)\n",
    "key['filename'] = key['SentrixBarcode_A'].astype(str) + '_' + key['SentrixPosition_A']\n",
    "pheno_out = key.merge(pheno, how='inner', left_on='Sample_ID', right_on='Original_clinicalID')\n",
    "pheno_out['IID'] = pheno_out.SentrixBarcode_A.astype(str) + '_' + pheno_out.SentrixPosition_A.astype(str)\n",
    "pheno_out['FID'] = 0\n",
    "pheno_out['FID_new'] = 0\n",
    "pheno_out['pheno'] = 0\n",
    "pheno_out.loc[pheno_out.Phenotype == 'PD', 'pheno'] = 2\n",
    "pheno_out.loc[pheno_out.Phenotype == 'Control', 'pheno'] = 1\n",
    "pheno_out.loc[pheno_out.Phenotype == np.nan, 'pheno'] = 0\n",
    "\n",
    "pheno_out[['FID','IID', 'FID_new', 'Sample_ID']].to_csv(f'{sample_info_path}/update_ids.txt', sep='\\t', header=False, index=False)\n",
    "pheno_out[['FID_new', 'Sample_ID', 'pheno']].to_csv(f'{sample_info_path}/update_pheno.txt', sep='\\t', header=False, index=False)"
   ]
  },
  {
   "cell_type": "code",
   "execution_count": 54,
   "id": "12fe3419-780d-4e42-bdb7-bc96274daca1",
   "metadata": {},
   "outputs": [
    {
     "data": {
      "text/plain": [
       "0"
      ]
     },
     "execution_count": 54,
     "metadata": {},
     "output_type": "execute_result"
    }
   ],
   "source": [
    "# create a folder in idats for each plate in new idat_dir\n",
    "for code in key.SentrixBarcode_A.unique():\n",
    "    os.makedirs(f'{idat_dir}/{code}', exist_ok=True)\n",
    "\n",
    "# copy idat intensity files to respective directories under idat_dir\n",
    "missing_idats = []\n",
    "\n",
    "for i, filename in enumerate(key.filename):\n",
    "    sentrix_code = key.SentrixBarcode_A.iloc[i]\n",
    "    grn = f'{raw_idat_file_path}/{filename}_Grn.idat'\n",
    "    red = f'{raw_idat_file_path}/{filename}_Red.idat'\n",
    "\n",
    "    if os.path.isfile(grn):\n",
    "        shutil.copyfile(src=grn, dst=f'{idat_dir}/{sentrix_code}/{filename}_Grn.idat')\n",
    "    else:\n",
    "        missing_idats.append(grn)\n",
    "\n",
    "    if os.path.isfile(red):\n",
    "        shutil.copyfile(src=red, dst=f'{idat_dir}/{sentrix_code}/{filename}_Red.idat')\n",
    "    else:\n",
    "        missing_idats.append(red)\n",
    "\n",
    "len(missing_idats)"
   ]
  },
  {
   "cell_type": "code",
   "execution_count": 55,
   "id": "6e0a464c-2501-42d7-8a0d-61b6f2171a7c",
   "metadata": {},
   "outputs": [],
   "source": [
    "with open(f'{swarm_scripts_dir}/idat_to_ped.swarm', 'w') as f:\n",
    "    \n",
    "    for code in key.SentrixBarcode_A.unique():\n",
    "        \n",
    "        idat_to_ped_cmd = f'\\\n",
    "{iaap} gencall \\\n",
    "{bpm} \\\n",
    "{egt} \\\n",
    "{ped_dir}/ \\\n",
    "-f {idat_dir}/{code} \\\n",
    "-p \\\n",
    "-t 8'\n",
    "        \n",
    "        f.write(f'{idat_to_ped_cmd}\\n')\n",
    "f.close()\n"
   ]
  },
  {
   "cell_type": "code",
   "execution_count": 57,
   "id": "8fac1a59-aca2-4933-879f-38b4ccb12b34",
   "metadata": {},
   "outputs": [
    {
     "name": "stdout",
     "output_type": "stream",
     "text": [
      "14628402\n"
     ]
    }
   ],
   "source": [
    "!swarm -f {swarm_scripts_dir}/idat_to_ped.swarm -g 32 -t 16 --time=10:00:00 --logdir {swarm_scripts_dir}/logs --gres=lscratch:20 --partition=norm"
   ]
  },
  {
   "cell_type": "code",
   "execution_count": 58,
   "id": "3a6fa706-dba5-4a34-aa64-7761ebeadf1d",
   "metadata": {},
   "outputs": [],
   "source": [
    "# copy map file to match name of each ped\n",
    "map_file = f'{ped_dir}/NeuroBooster_20042459_A1.map'\n",
    "for filename in key.filename:\n",
    "    ped = f'{ped_dir}/{filename}.ped'\n",
    "    out_map = f'{ped_dir}/{filename}.map'\n",
    "    if os.path.isfile(ped):\n",
    "        shutil.copyfile(src=map_file, dst=out_map)\n",
    "    else:\n",
    "        print(f'{ped} does not exist!')\n",
    "        print(f'{out_map} creation cancelled')"
   ]
  },
  {
   "cell_type": "code",
   "execution_count": 59,
   "id": "bbf10e55-44e2-43c9-82b9-10ec7c0de9b3",
   "metadata": {},
   "outputs": [],
   "source": [
    "\n",
    "with open(f'{swarm_scripts_dir}/make_bed.swarm', 'w') as f:\n",
    "    for filename in key.filename:\n",
    "        ped = f'{ped_dir}/{filename}'\n",
    "        make_bed_cmd = f'\\\n",
    "plink \\\n",
    "--file {ped} \\\n",
    "--make-bed \\\n",
    "--out {plink_dir}/indiv_samples/{filename}'\n",
    "\n",
    "        f.write(f'{make_bed_cmd}\\n')\n",
    "f.close()\n"
   ]
  },
  {
   "cell_type": "code",
   "execution_count": 60,
   "id": "fa5be5ce-2359-4af9-b24b-22353829b319",
   "metadata": {},
   "outputs": [
    {
     "name": "stdout",
     "output_type": "stream",
     "text": [
      "14634832\n"
     ]
    }
   ],
   "source": [
    "!swarm -f {swarm_scripts_dir}/make_bed.swarm -g 64 -t 32 --time=10:00:00 --logdir swarm --gres=lscratch:20 --partition=norm"
   ]
  },
  {
   "cell_type": "code",
   "execution_count": null,
   "id": "f2bb6d75-b3c1-4e52-a110-1674825b6337",
   "metadata": {},
   "outputs": [],
   "source": [
    "# write plink merge command\n",
    "with open(f\"{plink_dir}/merge_bed.list\", 'w') as f:\n",
    "    for filename in key.filename:\n",
    "        bed = f'{plink_dir}/indiv_samples/{filename}'\n",
    "        f.write(f'{bed}\\n')\n",
    "f.close()\n",
    "\n",
    "with open(f\"{swarm_scripts_dir}/merge.swarm\", 'w') as f:\n",
    "\n",
    "    plink_merge_cmd = f'\\\n",
    "plink \\\n",
    "--merge-list {plink_dir}/merge_bed.list \\\n",
    "--update-ids {sample_info_path}/update_ids.txt \\\n",
    "--make-bed \\\n",
    "--out {plink_dir}/indiv_samples/coriell_merge'\n",
    "    f.write(f\"{plink_merge_cmd}\")\n",
    "f.close()"
   ]
  },
  {
   "cell_type": "code",
   "execution_count": null,
   "id": "e08141ba-563d-493a-b629-e444a753dfd8",
   "metadata": {},
   "outputs": [],
   "source": [
    "!swarm -f {plink_dir}/merge.swarm -g 64 -t 32 --time=10:00:00 --logdir swarm --gres=lscratch:20 --partition=norm"
   ]
  },
  {
   "cell_type": "code",
   "execution_count": null,
   "id": "52a39c0c-e013-4c59-b28e-203c0fb052c8",
   "metadata": {},
   "outputs": [],
   "source": []
  }
 ],
 "metadata": {
  "kernelspec": {
   "display_name": "python/3.7",
   "language": "python",
   "name": "py3.7"
  },
  "language_info": {
   "codemirror_mode": {
    "name": "ipython",
    "version": 3
   },
   "file_extension": ".py",
   "mimetype": "text/x-python",
   "name": "python",
   "nbconvert_exporter": "python",
   "pygments_lexer": "ipython3",
   "version": "3.7.5"
  }
 },
 "nbformat": 4,
 "nbformat_minor": 5
}
