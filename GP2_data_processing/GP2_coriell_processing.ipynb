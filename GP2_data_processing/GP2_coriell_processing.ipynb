{
 "cells": [
  {
   "cell_type": "code",
   "execution_count": 1,
   "id": "7caa16e9-69fd-45d3-ba36-ce3ee96f726a",
   "metadata": {},
   "outputs": [],
   "source": [
    "import pandas as pd\n",
    "import os\n",
    "import shutil\n",
    "import numpy as np\n",
    "\n",
    "from QC.utils import shell_do"
   ]
  },
  {
   "cell_type": "code",
   "execution_count": 2,
   "id": "7be1a4a1-13e6-4a64-afba-01b09b8a5d19",
   "metadata": {},
   "outputs": [],
   "source": [
    "basedir = '/data/CARD/PD/GP2/raw_genotypes'\n",
    "out_genotypes = '/data/CARD/PD/GP2/genotypes'\n",
    "cohort_path = f'{basedir}/coriell'\n",
    "sample_info_path = f'{cohort_path}/sample_info'\n",
    "ilmn_files_path = '/data/CARD/PD/GP2/ilmn_files'\n",
    "bpm = f'{ilmn_files_path}/NeuroBooster_20042459_A1.bpm'\n",
    "egt = f'{ilmn_files_path}/NBSCluster_file_n1393_011921.egt'\n",
    "key_file = f'{sample_info_path}/KEY_FILE_GP2_Coriell_P1_25_042621_B1.txt'\n",
    "pheno_file = f'{sample_info_path}/CORIELL_20210201_clinical.csv'\n",
    "\n",
    "ped_dir = f'{cohort_path}/ped'\n",
    "plink_dir = f'{cohort_path}/plink'\n",
    "swarm_scripts_dir = f'{cohort_path}/swarm_scripts'\n",
    "idat_dir = f'{cohort_path}/idats'\n",
    "raw_idat_file_path = f'{cohort_path}/idats/GP2_coriell_idats'\n",
    "\n",
    "# create ped and plink directories for raw geno outputs if they don't exist\n",
    "os.makedirs(ped_dir, exist_ok=True)\n",
    "os.makedirs(plink_dir, exist_ok=True)\n",
    "os.makedirs(f'{plink_dir}/indiv_samples', exist_ok=True)\n",
    "os.makedirs(swarm_scripts_dir, exist_ok=True)\n",
    "os.makedirs(idat_dir, exist_ok=True)\n",
    "\n",
    "iaap = f'{ilmn_files_path}/iaap-cli/iaap-cli'"
   ]
  },
  {
   "cell_type": "code",
   "execution_count": 3,
   "id": "5b99d7ac-100c-48f1-b014-258c4c1de653",
   "metadata": {},
   "outputs": [],
   "source": [
    "pheno = pd.read_csv(pheno_file)\n",
    "key = pd.read_csv(key_file, sep='\\t')\n",
    "\n",
    "\n",
    "pheno['Original_clinicalID'] = pheno['Original_clinicalID'].astype(str)\n",
    "key['Sample_ID'] = key['Sample_ID'].astype(str)\n",
    "key['filename'] = key['SentrixBarcode_A'].astype(str) + '_' + key['SentrixPosition_A']\n",
    "pheno_out = key.merge(pheno, how='inner', left_on='Sample_ID', right_on='Original_clinicalID')\n",
    "pheno_out['IID'] = pheno_out.SentrixBarcode_A.astype(str) + '_' + pheno_out.SentrixPosition_A.astype(str)\n",
    "pheno_out['FID'] = 0\n",
    "pheno_out['FID_new'] = 0\n",
    "pheno_out['pheno'] = 0\n",
    "pheno_out.loc[pheno_out.Phenotype == 'PD', 'pheno'] = 2\n",
    "pheno_out.loc[pheno_out.Phenotype == 'Control', 'pheno'] = 1\n",
    "pheno_out.loc[pheno_out.Phenotype == np.nan, 'pheno'] = 0\n",
    "\n",
    "pheno_out[['FID','IID', 'FID_new', 'Sample_ID']].to_csv(f'{sample_info_path}/update_ids.txt', sep='\\t', header=False, index=False)\n",
    "pheno_out[['FID_new', 'Sample_ID', 'pheno']].to_csv(f'{sample_info_path}/update_pheno.txt', sep='\\t', header=False, index=False)"
   ]
  },
  {
   "cell_type": "code",
   "execution_count": 4,
   "id": "12fe3419-780d-4e42-bdb7-bc96274daca1",
   "metadata": {},
   "outputs": [
    {
     "ename": "KeyboardInterrupt",
     "evalue": "",
     "output_type": "error",
     "traceback": [
      "\u001b[0;31m---------------------------------------------------------------------------\u001b[0m",
      "\u001b[0;31mKeyboardInterrupt\u001b[0m                         Traceback (most recent call last)",
      "\u001b[0;32m<ipython-input-4-c3dfee3c36ac>\u001b[0m in \u001b[0;36m<module>\u001b[0;34m\u001b[0m\n\u001b[1;32m     17\u001b[0m \u001b[0;34m\u001b[0m\u001b[0m\n\u001b[1;32m     18\u001b[0m     \u001b[0;32mif\u001b[0m \u001b[0mos\u001b[0m\u001b[0;34m.\u001b[0m\u001b[0mpath\u001b[0m\u001b[0;34m.\u001b[0m\u001b[0misfile\u001b[0m\u001b[0;34m(\u001b[0m\u001b[0mred\u001b[0m\u001b[0;34m)\u001b[0m\u001b[0;34m:\u001b[0m\u001b[0;34m\u001b[0m\u001b[0;34m\u001b[0m\u001b[0m\n\u001b[0;32m---> 19\u001b[0;31m         \u001b[0mshutil\u001b[0m\u001b[0;34m.\u001b[0m\u001b[0mcopyfile\u001b[0m\u001b[0;34m(\u001b[0m\u001b[0msrc\u001b[0m\u001b[0;34m=\u001b[0m\u001b[0mred\u001b[0m\u001b[0;34m,\u001b[0m \u001b[0mdst\u001b[0m\u001b[0;34m=\u001b[0m\u001b[0;34mf'{idat_dir}/{sentrix_code}/{filename}_Red.idat'\u001b[0m\u001b[0;34m)\u001b[0m\u001b[0;34m\u001b[0m\u001b[0;34m\u001b[0m\u001b[0m\n\u001b[0m\u001b[1;32m     20\u001b[0m     \u001b[0;32melse\u001b[0m\u001b[0;34m:\u001b[0m\u001b[0;34m\u001b[0m\u001b[0;34m\u001b[0m\u001b[0m\n\u001b[1;32m     21\u001b[0m         \u001b[0mmissing_idats\u001b[0m\u001b[0;34m.\u001b[0m\u001b[0mappend\u001b[0m\u001b[0;34m(\u001b[0m\u001b[0mred\u001b[0m\u001b[0;34m)\u001b[0m\u001b[0;34m\u001b[0m\u001b[0;34m\u001b[0m\u001b[0m\n",
      "\u001b[0;32m/usr/local/Anaconda/envs/py3.7/lib/python3.7/shutil.py\u001b[0m in \u001b[0;36mcopyfile\u001b[0;34m(src, dst, follow_symlinks)\u001b[0m\n\u001b[1;32m    120\u001b[0m         \u001b[0;32mwith\u001b[0m \u001b[0mopen\u001b[0m\u001b[0;34m(\u001b[0m\u001b[0msrc\u001b[0m\u001b[0;34m,\u001b[0m \u001b[0;34m'rb'\u001b[0m\u001b[0;34m)\u001b[0m \u001b[0;32mas\u001b[0m \u001b[0mfsrc\u001b[0m\u001b[0;34m:\u001b[0m\u001b[0;34m\u001b[0m\u001b[0;34m\u001b[0m\u001b[0m\n\u001b[1;32m    121\u001b[0m             \u001b[0;32mwith\u001b[0m \u001b[0mopen\u001b[0m\u001b[0;34m(\u001b[0m\u001b[0mdst\u001b[0m\u001b[0;34m,\u001b[0m \u001b[0;34m'wb'\u001b[0m\u001b[0;34m)\u001b[0m \u001b[0;32mas\u001b[0m \u001b[0mfdst\u001b[0m\u001b[0;34m:\u001b[0m\u001b[0;34m\u001b[0m\u001b[0;34m\u001b[0m\u001b[0m\n\u001b[0;32m--> 122\u001b[0;31m                 \u001b[0mcopyfileobj\u001b[0m\u001b[0;34m(\u001b[0m\u001b[0mfsrc\u001b[0m\u001b[0;34m,\u001b[0m \u001b[0mfdst\u001b[0m\u001b[0;34m)\u001b[0m\u001b[0;34m\u001b[0m\u001b[0;34m\u001b[0m\u001b[0m\n\u001b[0m\u001b[1;32m    123\u001b[0m     \u001b[0;32mreturn\u001b[0m \u001b[0mdst\u001b[0m\u001b[0;34m\u001b[0m\u001b[0;34m\u001b[0m\u001b[0m\n\u001b[1;32m    124\u001b[0m \u001b[0;34m\u001b[0m\u001b[0m\n",
      "\u001b[0;32m/usr/local/Anaconda/envs/py3.7/lib/python3.7/shutil.py\u001b[0m in \u001b[0;36mcopyfileobj\u001b[0;34m(fsrc, fdst, length)\u001b[0m\n\u001b[1;32m     77\u001b[0m     \u001b[0;34m\"\"\"copy data from file-like object fsrc to file-like object fdst\"\"\"\u001b[0m\u001b[0;34m\u001b[0m\u001b[0;34m\u001b[0m\u001b[0m\n\u001b[1;32m     78\u001b[0m     \u001b[0;32mwhile\u001b[0m \u001b[0;36m1\u001b[0m\u001b[0;34m:\u001b[0m\u001b[0;34m\u001b[0m\u001b[0;34m\u001b[0m\u001b[0m\n\u001b[0;32m---> 79\u001b[0;31m         \u001b[0mbuf\u001b[0m \u001b[0;34m=\u001b[0m \u001b[0mfsrc\u001b[0m\u001b[0;34m.\u001b[0m\u001b[0mread\u001b[0m\u001b[0;34m(\u001b[0m\u001b[0mlength\u001b[0m\u001b[0;34m)\u001b[0m\u001b[0;34m\u001b[0m\u001b[0;34m\u001b[0m\u001b[0m\n\u001b[0m\u001b[1;32m     80\u001b[0m         \u001b[0;32mif\u001b[0m \u001b[0;32mnot\u001b[0m \u001b[0mbuf\u001b[0m\u001b[0;34m:\u001b[0m\u001b[0;34m\u001b[0m\u001b[0;34m\u001b[0m\u001b[0m\n\u001b[1;32m     81\u001b[0m             \u001b[0;32mbreak\u001b[0m\u001b[0;34m\u001b[0m\u001b[0;34m\u001b[0m\u001b[0m\n",
      "\u001b[0;31mKeyboardInterrupt\u001b[0m: "
     ]
    }
   ],
   "source": [
    "# create a folder in idats for each plate in new idat_dir\n",
    "for code in key.SentrixBarcode_A.unique():\n",
    "    os.makedirs(f'{idat_dir}/{code}', exist_ok=True)\n",
    "\n",
    "# copy idat intensity files to respective directories under idat_dir\n",
    "missing_idats = []\n",
    "\n",
    "for i, filename in enumerate(key.filename):\n",
    "    sentrix_code = key.SentrixBarcode_A.iloc[i]\n",
    "    grn = f'{raw_idat_file_path}/{filename}_Grn.idat'\n",
    "    red = f'{raw_idat_file_path}/{filename}_Red.idat'\n",
    "\n",
    "    if os.path.isfile(grn):\n",
    "        shutil.copyfile(src=grn, dst=f'{idat_dir}/{sentrix_code}/{filename}_Grn.idat')\n",
    "    else:\n",
    "        missing_idats.append(grn)\n",
    "\n",
    "    if os.path.isfile(red):\n",
    "        shutil.copyfile(src=red, dst=f'{idat_dir}/{sentrix_code}/{filename}_Red.idat')\n",
    "    else:\n",
    "        missing_idats.append(red)\n",
    "\n",
    "len(missing_idats)"
   ]
  },
  {
   "cell_type": "code",
   "execution_count": null,
   "id": "6e0a464c-2501-42d7-8a0d-61b6f2171a7c",
   "metadata": {},
   "outputs": [],
   "source": [
    "with open(f'{swarm_scripts_dir}/idat_to_ped.swarm', 'w') as f:\n",
    "    \n",
    "    for code in key.SentrixBarcode_A.unique():\n",
    "        \n",
    "        idat_to_ped_cmd = f'\\\n",
    "{iaap} gencall \\\n",
    "{bpm} \\\n",
    "{egt} \\\n",
    "{ped_dir}/ \\\n",
    "-f {idat_dir}/{code} \\\n",
    "-p \\\n",
    "-t 8'\n",
    "        \n",
    "        f.write(f'{idat_to_ped_cmd}\\n')\n",
    "f.close()\n"
   ]
  },
  {
   "cell_type": "code",
   "execution_count": null,
   "id": "8fac1a59-aca2-4933-879f-38b4ccb12b34",
   "metadata": {},
   "outputs": [],
   "source": [
    "!swarm -f {swarm_scripts_dir}/idat_to_ped.swarm -g 32 -t 16 --time=10:00:00 --logdir {swarm_scripts_dir}/logs --gres=lscratch:20 --partition=norm"
   ]
  },
  {
   "cell_type": "code",
   "execution_count": 58,
   "id": "3a6fa706-dba5-4a34-aa64-7761ebeadf1d",
   "metadata": {},
   "outputs": [],
   "source": [
    "# copy map file to match name of each ped\n",
    "map_file = f'{ped_dir}/NeuroBooster_20042459_A1.map'\n",
    "for filename in key.filename:\n",
    "    ped = f'{ped_dir}/{filename}.ped'\n",
    "    out_map = f'{ped_dir}/{filename}.map'\n",
    "    if os.path.isfile(ped):\n",
    "        shutil.copyfile(src=map_file, dst=out_map)\n",
    "    else:\n",
    "        print(f'{ped} does not exist!')\n",
    "        print(f'{out_map} creation cancelled')"
   ]
  },
  {
   "cell_type": "code",
   "execution_count": 59,
   "id": "bbf10e55-44e2-43c9-82b9-10ec7c0de9b3",
   "metadata": {},
   "outputs": [],
   "source": [
    "\n",
    "with open(f'{swarm_scripts_dir}/make_bed.swarm', 'w') as f:\n",
    "    for filename in key.filename:\n",
    "        ped = f'{ped_dir}/{filename}'\n",
    "        make_bed_cmd = f'\\\n",
    "plink \\\n",
    "--file {ped} \\\n",
    "--make-bed \\\n",
    "--out {plink_dir}/indiv_samples/{filename}'\n",
    "\n",
    "        f.write(f'{make_bed_cmd}\\n')\n",
    "f.close()\n"
   ]
  },
  {
   "cell_type": "code",
   "execution_count": 60,
   "id": "fa5be5ce-2359-4af9-b24b-22353829b319",
   "metadata": {},
   "outputs": [
    {
     "name": "stdout",
     "output_type": "stream",
     "text": [
      "14634832\n"
     ]
    }
   ],
   "source": [
    "!swarm -f {swarm_scripts_dir}/make_bed.swarm -g 64 -t 32 --time=10:00:00 --logdir swarm --gres=lscratch:20 --partition=norm"
   ]
  },
  {
   "cell_type": "code",
   "execution_count": 61,
   "id": "f2bb6d75-b3c1-4e52-a110-1674825b6337",
   "metadata": {},
   "outputs": [],
   "source": [
    "# write plink merge command\n",
    "with open(f\"{plink_dir}/merge_bed.list\", 'w') as f:\n",
    "    for filename in key.filename:\n",
    "        bed = f'{plink_dir}/indiv_samples/{filename}'\n",
    "        f.write(f'{bed}\\n')\n",
    "f.close()\n",
    "\n",
    "with open(f\"{swarm_scripts_dir}/merge.swarm\", 'w') as f:\n",
    "\n",
    "    plink_merge_cmd = f'\\\n",
    "plink \\\n",
    "--merge-list {plink_dir}/merge_bed.list \\\n",
    "--update-ids {sample_info_path}/update_ids.txt \\\n",
    "--make-bed \\\n",
    "--out {plink_dir}/indiv_samples/coriell_merge'\n",
    "    f.write(f\"{plink_merge_cmd}\")\n",
    "f.close()"
   ]
  },
  {
   "cell_type": "code",
   "execution_count": 63,
   "id": "e08141ba-563d-493a-b629-e444a753dfd8",
   "metadata": {},
   "outputs": [
    {
     "name": "stdout",
     "output_type": "stream",
     "text": [
      "14638754\n"
     ]
    }
   ],
   "source": [
    "!swarm -f {swarm_scripts_dir}/merge.swarm -g 64 -t 32 --time=10:00:00 --logdir swarm --gres=lscratch:20 --partition=norm"
   ]
  },
  {
   "cell_type": "code",
   "execution_count": 64,
   "id": "52a39c0c-e013-4c59-b28e-203c0fb052c8",
   "metadata": {},
   "outputs": [
    {
     "name": "stdout",
     "output_type": "stream",
     "text": [
      "PLINK v1.90b4.4 64-bit (21 May 2017)           www.cog-genomics.org/plink/1.9/\n",
      "(C) 2005-2017 Shaun Purcell, Christopher Chang   GNU General Public License v3\n",
      "Logging to /data/CARD/PD/GP2/raw_genotypes/coriell/plink/coriell.log.\n",
      "Options in effect:\n",
      "  --bfile /data/CARD/PD/GP2/raw_genotypes/coriell/plink/indiv_samples/coriell_merge\n",
      "  --make-bed\n",
      "  --out /data/CARD/PD/GP2/raw_genotypes/coriell/plink/coriell\n",
      "  --pheno /data/CARD/PD/GP2/raw_genotypes/coriell/sample_info/update_pheno.txt\n",
      "\n",
      "1547809 MB RAM detected; reserving 773904 MB for main workspace.\n",
      "2004347 variants loaded from .bim file.\n",
      "2304 people (1307 males, 941 females, 56 ambiguous) loaded from .fam.\n",
      "Ambiguous sex IDs written to\n",
      "/data/CARD/PD/GP2/raw_genotypes/coriell/plink/coriell.nosex .\n",
      "2304 phenotype values present after --pheno.\n",
      "Warning: Ignoring phenotypes of missing-sex samples.  If you don't want those\n",
      "phenotypes to be ignored, use the --allow-no-sex flag.\n",
      "Using 1 thread (no multithreaded calculations invoked).\n",
      "Before main variant filters, 2304 founders and 0 nonfounders present.\n",
      "Calculating allele frequencies... 10111213141516171819202122232425262728293031323334353637383940414243444546474849505152535455565758596061626364656667686970717273747576777879808182838485868788899091929394959697989 done.\n",
      "Warning: 36592 het. haploid genotypes present (see\n",
      "/data/CARD/PD/GP2/raw_genotypes/coriell/plink/coriell.hh ); many commands treat\n",
      "these as missing.\n",
      "Warning: Nonmissing nonmale Y chromosome genotype(s) present; many commands\n",
      "treat these as missing.\n",
      "Total genotyping rate is 0.988613.\n",
      "2004347 variants and 2304 people pass filters and QC.\n",
      "Among remaining phenotypes, 1470 are cases and 834 are controls.\n",
      "--make-bed to /data/CARD/PD/GP2/raw_genotypes/coriell/plink/coriell.bed +\n",
      "/data/CARD/PD/GP2/raw_genotypes/coriell/plink/coriell.bim +\n",
      "/data/CARD/PD/GP2/raw_genotypes/coriell/plink/coriell.fam ... 101112131415161718192021222324252627282930313233343536373839404142434445464748495051525354555657585960616263646566676869707172737475767778798081828384858687888990919293949596979899done.\n"
     ]
    }
   ],
   "source": [
    "!plink --bfile {plink_dir}/indiv_samples/coriell_merge --pheno {sample_info_path}/update_pheno.txt --make-bed --out {plink_dir}/coriell"
   ]
  },
  {
   "cell_type": "code",
   "execution_count": 8,
   "id": "f80a04ba-da1e-45b3-b50b-3d7a56a7ecc7",
   "metadata": {},
   "outputs": [
    {
     "name": "stdout",
     "output_type": "stream",
     "text": [
      "python3 ../run_qc_pipeline.py --geno /data/CARD/PD/GP2/raw_genotypes/coriell/plink/coriell --ref /data/LNG/vitaled2/1kgenomes/1kg_ashkj_ref_panel_gp2_pruned --ref_labels /data/LNG/vitaled2/1kgenomes/ref_panel_ancestry.txt --out /data/CARD/PD/GP2/genotypes/coriell/clean/coriell\n"
     ]
    }
   ],
   "source": [
    "# run QC pipeline\n",
    "geno_path = f'{basedir}/coriell/plink/coriell'\n",
    "out_path = f'{out_genotypes}/coriell/clean/coriell'\n",
    "os.makedirs(f'{out_genotypes}/coriell/clean/', exist_ok=True)\n",
    "ref_dir_path = '/data/LNG/vitaled2/1kgenomes'\n",
    "ref_panel = f'{ref_dir_path}/1kg_ashkj_ref_panel_gp2_pruned'\n",
    "ref_labels = f'{ref_dir_path}/ref_panel_ancestry.txt'\n",
    "\n",
    "\n",
    "with open(f'{swarm_scripts_dir}/run_qc_pipeline.swarm','w') as f:\n",
    "    run_pipeline = f'python3 ../run_qc_pipeline.py --geno {geno_path} --ref {ref_panel} --ref_labels {ref_labels} --out {out_path}'\n",
    "    f.write(f'{run_pipeline}\\n')\n",
    "f.close()\n",
    "!cat {swarm_scripts_dir}/run_qc_pipeline.swarm\n",
    "# shell_do(run_pipeline, log=True, return_log=True)\n",
    "# !python3 ../run_qc_pipeline.py --geno {geno_path} --ref {ref_panel} --ref_labels {ref_labels} --out {out_path}"
   ]
  },
  {
   "cell_type": "code",
   "execution_count": 9,
   "id": "c70c4cda-34b5-4ffd-9cdb-903843280848",
   "metadata": {},
   "outputs": [
    {
     "name": "stdout",
     "output_type": "stream",
     "text": [
      "16859681\n"
     ]
    }
   ],
   "source": [
    "!swarm -f {swarm_scripts_dir}/run_qc_pipeline.swarm -g 64 -t 32 --time=10:00:00 --logdir swarm --gres=lscratch:20 --partition=norm"
   ]
  },
  {
   "cell_type": "code",
   "execution_count": 7,
   "id": "54301a1e-acf1-4474-b320-f4bfbc3ea9d6",
   "metadata": {},
   "outputs": [
    {
     "name": "stdout",
     "output_type": "stream",
     "text": [
      "import: unable to open X server `' @ error/import.c/ImportImageCommand/369.\n",
      "import: unable to open X server `' @ error/import.c/ImportImageCommand/369.\n",
      "../run_qc_pipeline.py: line 5: from: command not found\n",
      "../run_qc_pipeline.py: line 6: from: command not found\n",
      "../run_qc_pipeline.py: line 7: from: command not found\n",
      "../run_qc_pipeline.py: line 10: syntax error near unexpected token `('\n",
      "../run_qc_pipeline.py: line 10: `parser = argparse.ArgumentParser(description='Arguments for Genotyping QC (data in Plink .bim/.bam/.fam format)')'\n"
     ]
    }
   ],
   "source": [
    "!cat swarm/swarm_16858135_0.e"
   ]
  },
  {
   "cell_type": "code",
   "execution_count": null,
   "id": "05bdb2b2-5ab1-4c46-bba6-c2125646e05c",
   "metadata": {},
   "outputs": [],
   "source": []
  },
  {
   "cell_type": "code",
   "execution_count": null,
   "id": "e4aeb078-313f-41a8-9b95-fc1718122b20",
   "metadata": {},
   "outputs": [],
   "source": []
  },
  {
   "cell_type": "code",
   "execution_count": 3,
   "id": "d56a22ec-5e33-42eb-b7fb-17415b5240d5",
   "metadata": {},
   "outputs": [],
   "source": [
    "# run QC pipeline step-by-step\n",
    "import pandas as pd\n",
    "import os\n",
    "import shutil\n",
    "import zipfile\n",
    "\n",
    "from QC.qc import callrate_prune, het_prune, sex_prune, related_prune, variant_prune, avg_miss_rates\n",
    "from Ancestry.ancestry import run_ancestry, split_cohort_ancestry\n",
    "from QC.utils import shell_do\n"
   ]
  },
  {
   "cell_type": "code",
   "execution_count": 4,
   "id": "5be5499b-fa3b-4808-aa4c-a28e9fdcfd45",
   "metadata": {},
   "outputs": [],
   "source": [
    "geno_path = f'{basedir}/coriell/plink/coriell'\n",
    "out_path = f'{out_genotypes}/coriell/clean/coriell'\n",
    "os.makedirs(f'{out_genotypes}/coriell/clean/', exist_ok=True)"
   ]
  },
  {
   "cell_type": "code",
   "execution_count": 5,
   "id": "9e54bc80-f685-409b-b1d6-299ceb91ff50",
   "metadata": {},
   "outputs": [
    {
     "name": "stderr",
     "output_type": "stream",
     "text": [
      "Executing: plink --bfile /data/CARD/PD/GP2/raw_genotypes/coriell/plink/coriell --missing --out /data/CARD/PD/GP2/raw_genotypes/coriell/plink/coriell_missing\n"
     ]
    },
    {
     "name": "stdout",
     "output_type": "stream",
     "text": [
      "Average Missing Call Rate (lmiss): 0.01138650122141718\n",
      "Average Missing Genotyping Rate (imiss): 0.011392406684027762\n",
      "\n",
      "RUNNING: callrate_prune\n",
      "\n"
     ]
    },
    {
     "name": "stderr",
     "output_type": "stream",
     "text": [
      "Executing: plink --bfile /data/CARD/PD/GP2/raw_genotypes/coriell/plink/coriell --mind 0.02 --make-bed --out /data/CARD/PD/GP2/raw_genotypes/coriell/plink/coriell_callrate\n"
     ]
    },
    {
     "name": "stdout",
     "output_type": "stream",
     "text": [
      "\n",
      "RUNNING: sex_prune\n",
      "\n"
     ]
    },
    {
     "name": "stderr",
     "output_type": "stream",
     "text": [
      "Executing: plink --bfile /data/CARD/PD/GP2/raw_genotypes/coriell/plink/coriell_callrate --check-sex 0.25 0.75 --maf 0.05 --out /data/CARD/PD/GP2/raw_genotypes/coriell/plink/coriell_callrate_sex_tmp1\n",
      "Executing: plink --bfile /data/CARD/PD/GP2/raw_genotypes/coriell/plink/coriell_callrate --chr 23 --from-bp 2699520 --to-bp 154931043 --maf 0.05 --geno 0.05 --hwe 1E-5 --check-sex 0.25 0.75 --out /data/CARD/PD/GP2/raw_genotypes/coriell/plink/coriell_callrate_sex_tmp2\n",
      "Executing: plink --bfile /data/CARD/PD/GP2/raw_genotypes/coriell/plink/coriell_callrate --remove /data/CARD/PD/GP2/raw_genotypes/coriell/plink/coriell_callrate_sex.fails --make-bed --out /data/CARD/PD/GP2/raw_genotypes/coriell/plink/coriell_callrate_sex\n"
     ]
    }
   ],
   "source": [
    "avg_miss = avg_miss_rates(geno_path, f'{geno_path}_missing')\n",
    "avg_miss\n",
    "\n",
    "callrate_out = f'{geno_path}_callrate'\n",
    "callrate = callrate_prune(geno_path, callrate_out)\n",
    "\n",
    "sex_out = f'{callrate_out}_sex'\n",
    "sex = sex_prune(callrate_out, sex_out)"
   ]
  },
  {
   "cell_type": "code",
   "execution_count": 6,
   "id": "e804d0fa-66df-4415-8393-9a6ec0644d80",
   "metadata": {},
   "outputs": [
    {
     "name": "stdout",
     "output_type": "stream",
     "text": [
      "\n",
      "RUNNING: predict_ancestry\n",
      "\n",
      "\n",
      "RUNNING: calculate_pcs\n",
      "\n"
     ]
    },
    {
     "name": "stderr",
     "output_type": "stream",
     "text": [
      "Executing: plink --bfile /data/LNG/vitaled2/1kgenomes/1kg_ashkj_ref_panel_gp2_pruned --extract /data/CARD/PD/GP2/raw_genotypes/coriell/plink/ref_common_snps.common_snps --make-bed --out /data/CARD/PD/GP2/raw_genotypes/coriell/plink/ref_common_snps\n",
      "Executing: flashpca --bfile /data/CARD/PD/GP2/raw_genotypes/coriell/plink/ref_common_snps -d 50 --outpc /data/CARD/PD/GP2/raw_genotypes/coriell/plink/ref_common_snps.pcs --outvec /data/CARD/PD/GP2/raw_genotypes/coriell/plink/ref_common_snps.vec --outval /data/CARD/PD/GP2/raw_genotypes/coriell/plink/ref_common_snps.val --outpve /data/CARD/PD/GP2/raw_genotypes/coriell/plink/ref_common_snps.pve --outload /data/CARD/PD/GP2/raw_genotypes/coriell/plink/ref_common_snps.loadings --outmeansd /data/CARD/PD/GP2/raw_genotypes/coriell/plink/ref_common_snps.meansd\n"
     ]
    },
    {
     "name": "stdout",
     "output_type": "stream",
     "text": [
      "\n",
      "\n",
      "Labeled Reference Ancestry Counts:\n",
      "AFR    504\n",
      "EAS    504\n",
      "SAS    489\n",
      "AJ     471\n",
      "EUR    404\n",
      "AMR    347\n",
      "AAC    157\n",
      "FIN     99\n",
      "Name: label, dtype: int64\n",
      "\n",
      "\n"
     ]
    },
    {
     "name": "stderr",
     "output_type": "stream",
     "text": [
      "Executing: plink --bfile /data/CARD/PD/GP2/raw_genotypes/coriell/plink/coriell_callrate_sex --extract /data/CARD/PD/GP2/raw_genotypes/coriell/plink/ref_common_snps.common_snps --reference-allele /data/CARD/PD/GP2/raw_genotypes/coriell/plink/ref_common_snps.ref_allele --make-bed --out /data/CARD/PD/GP2/raw_genotypes/coriell/plink/pcs_common_snps\n"
     ]
    },
    {
     "name": "stdout",
     "output_type": "stream",
     "text": [
      "/data/CARD/PD/GP2/raw_genotypes/coriell/plink/pcs_common_snps /data/CARD/PD/GP2/raw_genotypes/coriell/plink/ref_common_snps.meansd /data/CARD/PD/GP2/raw_genotypes/coriell/plink/ref_common_snps.loadings /data/CARD/PD/GP2/raw_genotypes/coriell/plink/pcs_common_snps.projections\n"
     ]
    },
    {
     "name": "stderr",
     "output_type": "stream",
     "text": [
      "Executing: flashpca --bfile /data/CARD/PD/GP2/raw_genotypes/coriell/plink/pcs_common_snps --project --inmeansd /data/CARD/PD/GP2/raw_genotypes/coriell/plink/ref_common_snps.meansd --inload /data/CARD/PD/GP2/raw_genotypes/coriell/plink/ref_common_snps.loadings --outproj /data/CARD/PD/GP2/raw_genotypes/coriell/plink/pcs_common_snps.projections -v\n"
     ]
    },
    {
     "name": "stdout",
     "output_type": "stream",
     "text": [
      "\n",
      "RUNNING: munge_pca_loadings\n",
      "\n",
      "\n",
      "RUNNING: train_umap_classifier\n",
      "\n",
      "Training Balanced Accuracy: 0.9655869259194596\n",
      "Best Parameters: {'svc__C': 0.01, 'umap__a': 1.0, 'umap__b': 0.25, 'umap__n_components': 15, 'umap__n_neighbors': 20}\n",
      "Balanced Accuracy on Test Set: 0.984873949579832\n",
      "\n",
      "predicted:\n",
      " EUR    1740\n",
      "AJ      262\n",
      "AAC      94\n",
      "AMR      91\n",
      "EAS      14\n",
      "SAS      14\n",
      "FIN       1\n",
      "Name: label, dtype: int64\n",
      "\n"
     ]
    }
   ],
   "source": [
    "ancestry_out = f'{sex_out}_ancestry'\n",
    "ref_dir_path = '/data/LNG/vitaled2/1kgenomes'\n",
    "ref_panel = f'{ref_dir_path}/1kg_ashkj_ref_panel_gp2_pruned'\n",
    "ref_labels = f'{ref_dir_path}/ref_panel_ancestry.txt'\n",
    "# ancestry = run_ancestry(geno_path=sex_out, out_path=ancestry_out, ref_panel=ref_panel, ref_labels=ref_labels)\n",
    "\n",
    "# rerunning with best params\n",
    "best_params = {'svc__C': [0.01], 'umap__a': [1.0], 'umap__b': [0.25], 'umap__n_components': [15], 'umap__n_neighbors': [20]}\n",
    "ancestry = run_ancestry(geno_path=sex_out, out_path=ancestry_out, ref_panel=ref_panel, ref_labels=ref_labels, train_param_grid=best_params)"
   ]
  },
  {
   "cell_type": "code",
   "execution_count": 7,
   "id": "f259f831-3ccd-4989-92b9-3eca613ff5d1",
   "metadata": {},
   "outputs": [
    {
     "name": "stderr",
     "output_type": "stream",
     "text": [
      "Executing: plink --bfile /data/CARD/PD/GP2/raw_genotypes/coriell/plink/coriell_callrate_sex --keep /data/CARD/PD/GP2/raw_genotypes/coriell/plink/coriell_callrate_sex_ancestry_AJ.samples --make-bed --out /data/CARD/PD/GP2/raw_genotypes/coriell/plink/coriell_callrate_sex_ancestry_AJ\n",
      "Executing: plink --bfile /data/CARD/PD/GP2/raw_genotypes/coriell/plink/coriell_callrate_sex --keep /data/CARD/PD/GP2/raw_genotypes/coriell/plink/coriell_callrate_sex_ancestry_EUR.samples --make-bed --out /data/CARD/PD/GP2/raw_genotypes/coriell/plink/coriell_callrate_sex_ancestry_EUR\n",
      "Executing: plink --bfile /data/CARD/PD/GP2/raw_genotypes/coriell/plink/coriell_callrate_sex --keep /data/CARD/PD/GP2/raw_genotypes/coriell/plink/coriell_callrate_sex_ancestry_EAS.samples --make-bed --out /data/CARD/PD/GP2/raw_genotypes/coriell/plink/coriell_callrate_sex_ancestry_EAS\n",
      "Executing: plink --bfile /data/CARD/PD/GP2/raw_genotypes/coriell/plink/coriell_callrate_sex --keep /data/CARD/PD/GP2/raw_genotypes/coriell/plink/coriell_callrate_sex_ancestry_AAC.samples --make-bed --out /data/CARD/PD/GP2/raw_genotypes/coriell/plink/coriell_callrate_sex_ancestry_AAC\n",
      "Executing: plink --bfile /data/CARD/PD/GP2/raw_genotypes/coriell/plink/coriell_callrate_sex --keep /data/CARD/PD/GP2/raw_genotypes/coriell/plink/coriell_callrate_sex_ancestry_AMR.samples --make-bed --out /data/CARD/PD/GP2/raw_genotypes/coriell/plink/coriell_callrate_sex_ancestry_AMR\n",
      "Executing: plink --bfile /data/CARD/PD/GP2/raw_genotypes/coriell/plink/coriell_callrate_sex --keep /data/CARD/PD/GP2/raw_genotypes/coriell/plink/coriell_callrate_sex_ancestry_SAS.samples --make-bed --out /data/CARD/PD/GP2/raw_genotypes/coriell/plink/coriell_callrate_sex_ancestry_SAS\n",
      "Executing: plink --bfile /data/CARD/PD/GP2/raw_genotypes/coriell/plink/coriell_callrate_sex --keep /data/CARD/PD/GP2/raw_genotypes/coriell/plink/coriell_callrate_sex_ancestry_FIN.samples --make-bed --out /data/CARD/PD/GP2/raw_genotypes/coriell/plink/coriell_callrate_sex_ancestry_FIN\n"
     ]
    }
   ],
   "source": [
    "pred_labels_path = ancestry['output']['predicted_labels']['labels_outpath']\n",
    "cohort_split = split_cohort_ancestry(geno_path=sex_out, labels_path=pred_labels_path, out_path=ancestry_out)"
   ]
  },
  {
   "cell_type": "code",
   "execution_count": 8,
   "id": "c36a5da7-6a7e-455a-aa08-f24caf92c771",
   "metadata": {},
   "outputs": [
    {
     "name": "stdout",
     "output_type": "stream",
     "text": [
      "\n",
      "RUNNING: related_prune\n",
      "\n"
     ]
    },
    {
     "name": "stderr",
     "output_type": "stream",
     "text": [
      "Executing: gcta --bfile /data/CARD/PD/GP2/raw_genotypes/coriell/plink/coriell_callrate_sex_ancestry_AJ --autosome --maf 0.05 --make-grm --out /data/CARD/PD/GP2/raw_genotypes/coriell/plink/coriell_callrate_sex_ancestry_AJ_related_total_grm_tmp\n",
      "Executing: gcta --grm /data/CARD/PD/GP2/raw_genotypes/coriell/plink/coriell_callrate_sex_ancestry_AJ_related_total_grm_tmp --grm-cutoff 0.125 --make-grm --out /data/CARD/PD/GP2/raw_genotypes/coriell/plink/coriell_callrate_sex_ancestry_AJ_related_unrelated_grm_tmp\n",
      "Executing: plink --bfile /data/CARD/PD/GP2/raw_genotypes/coriell/plink/coriell_callrate_sex_ancestry_AJ --keep /data/CARD/PD/GP2/raw_genotypes/coriell/plink/coriell_callrate_sex_ancestry_AJ_related_unrelated_grm_tmp.grm.id --make-bed --out /data/CARD/PD/GP2/raw_genotypes/coriell/plink/coriell_callrate_sex_ancestry_AJ_related\n",
      "Executing: gcta --grm /data/CARD/PD/GP2/raw_genotypes/coriell/plink/coriell_callrate_sex_ancestry_AJ_related_total_grm_tmp --grm-cutoff 0.95 --make-grm --out /data/CARD/PD/GP2/raw_genotypes/coriell/plink/coriell_callrate_sex_ancestry_AJ_related_duplicated_grm_tmp\n"
     ]
    },
    {
     "name": "stdout",
     "output_type": "stream",
     "text": [
      "\n",
      "RUNNING: het_prune\n",
      "\n"
     ]
    },
    {
     "name": "stderr",
     "output_type": "stream",
     "text": [
      "Executing: plink --bfile /data/CARD/PD/GP2/raw_genotypes/coriell/plink/coriell_callrate_sex_ancestry_AJ --geno 0.01 --maf 0.05 --indep-pairwise 50 5 0.5 --out /data/CARD/PD/GP2/raw_genotypes/coriell/plink/coriell_callrate_sex_ancestry_AJ_related_het_tmp\n",
      "Executing: plink --bfile /data/CARD/PD/GP2/raw_genotypes/coriell/plink/coriell_callrate_sex_ancestry_AJ --extract /data/CARD/PD/GP2/raw_genotypes/coriell/plink/coriell_callrate_sex_ancestry_AJ_related_het_tmp.prune.in --make-bed --out /data/CARD/PD/GP2/raw_genotypes/coriell/plink/coriell_callrate_sex_ancestry_AJ_related_het_tmp2\n",
      "Executing: plink --bfile /data/CARD/PD/GP2/raw_genotypes/coriell/plink/coriell_callrate_sex_ancestry_AJ_related_het_tmp2 --het --out /data/CARD/PD/GP2/raw_genotypes/coriell/plink/coriell_callrate_sex_ancestry_AJ_related_het_tmp3\n",
      "Executing: plink --bfile /data/CARD/PD/GP2/raw_genotypes/coriell/plink/coriell_callrate_sex_ancestry_AJ --remove /data/CARD/PD/GP2/raw_genotypes/coriell/plink/coriell_callrate_sex_ancestry_AJ_related_het.outliers --make-bed --out /data/CARD/PD/GP2/raw_genotypes/coriell/plink/coriell_callrate_sex_ancestry_AJ_related_het\n"
     ]
    },
    {
     "name": "stdout",
     "output_type": "stream",
     "text": [
      "\n",
      "RUNNING: variant_prune\n",
      "\n"
     ]
    },
    {
     "name": "stderr",
     "output_type": "stream",
     "text": [
      "Executing: plink --bfile /data/CARD/PD/GP2/raw_genotypes/coriell/plink/coriell_callrate_sex_ancestry_AJ_related_het --geno 0.05 --make-bed --out /data/CARD/PD/GP2/raw_genotypes/coriell/plink/coriell_callrate_sex_ancestry_AJ_related_het_variant_geno_tmp1\n",
      "Executing: plink --bfile /data/CARD/PD/GP2/raw_genotypes/coriell/plink/coriell_callrate_sex_ancestry_AJ_related_het_variant_geno_tmp1 --test-missing --out /data/CARD/PD/GP2/raw_genotypes/coriell/plink/coriell_callrate_sex_ancestry_AJ_related_het_variant_mis_tmp1\n",
      "Executing: plink --bfile /data/CARD/PD/GP2/raw_genotypes/coriell/plink/coriell_callrate_sex_ancestry_AJ_related_het_variant_geno_tmp1 --exclude /data/CARD/PD/GP2/raw_genotypes/coriell/plink/coriell_callrate_sex_ancestry_AJ_related_het_variant_mis_tmp1.exclude --make-bed --out /data/CARD/PD/GP2/raw_genotypes/coriell/plink/coriell_callrate_sex_ancestry_AJ_related_het_variant_mis_tmp2\n",
      "Executing: plink --bfile /data/CARD/PD/GP2/raw_genotypes/coriell/plink/coriell_callrate_sex_ancestry_AJ_related_het_variant_mis_tmp2 --test-mishap --out /data/CARD/PD/GP2/raw_genotypes/coriell/plink/coriell_callrate_sex_ancestry_AJ_related_het_variant_hap_tmp1\n",
      "Executing: plink --bfile /data/CARD/PD/GP2/raw_genotypes/coriell/plink/coriell_callrate_sex_ancestry_AJ_related_het_variant_mis_tmp2 --exclude /data/CARD/PD/GP2/raw_genotypes/coriell/plink/coriell_callrate_sex_ancestry_AJ_related_het_variant_hap_tmp1.exclude --make-bed --out /data/CARD/PD/GP2/raw_genotypes/coriell/plink/coriell_callrate_sex_ancestry_AJ_related_het_variant_hap_tmp2\n",
      "Executing: plink --bfile /data/CARD/PD/GP2/raw_genotypes/coriell/plink/coriell_callrate_sex_ancestry_AJ_related_het_variant_hap_tmp2 --filter-controls --hwe 1E-4 --write-snplist --out /data/CARD/PD/GP2/raw_genotypes/coriell/plink/coriell_callrate_sex_ancestry_AJ_related_het_variant_hwe_tmp1\n",
      "Executing: plink --bfile /data/CARD/PD/GP2/raw_genotypes/coriell/plink/coriell_callrate_sex_ancestry_AJ_related_het_variant_hap_tmp2 --extract /data/CARD/PD/GP2/raw_genotypes/coriell/plink/coriell_callrate_sex_ancestry_AJ_related_het_variant_hwe_tmp1.snplist --make-bed --out /data/CARD/PD/GP2/raw_genotypes/coriell/plink/coriell_callrate_sex_ancestry_AJ_related_het_variant\n"
     ]
    },
    {
     "name": "stdout",
     "output_type": "stream",
     "text": [
      "\n",
      "RUNNING: related_prune\n",
      "\n"
     ]
    },
    {
     "name": "stderr",
     "output_type": "stream",
     "text": [
      "Executing: gcta --bfile /data/CARD/PD/GP2/raw_genotypes/coriell/plink/coriell_callrate_sex_ancestry_EUR --autosome --maf 0.05 --make-grm --out /data/CARD/PD/GP2/raw_genotypes/coriell/plink/coriell_callrate_sex_ancestry_EUR_related_total_grm_tmp\n",
      "Executing: gcta --grm /data/CARD/PD/GP2/raw_genotypes/coriell/plink/coriell_callrate_sex_ancestry_EUR_related_total_grm_tmp --grm-cutoff 0.125 --make-grm --out /data/CARD/PD/GP2/raw_genotypes/coriell/plink/coriell_callrate_sex_ancestry_EUR_related_unrelated_grm_tmp\n",
      "Executing: plink --bfile /data/CARD/PD/GP2/raw_genotypes/coriell/plink/coriell_callrate_sex_ancestry_EUR --keep /data/CARD/PD/GP2/raw_genotypes/coriell/plink/coriell_callrate_sex_ancestry_EUR_related_unrelated_grm_tmp.grm.id --make-bed --out /data/CARD/PD/GP2/raw_genotypes/coriell/plink/coriell_callrate_sex_ancestry_EUR_related\n",
      "Executing: gcta --grm /data/CARD/PD/GP2/raw_genotypes/coriell/plink/coriell_callrate_sex_ancestry_EUR_related_total_grm_tmp --grm-cutoff 0.95 --make-grm --out /data/CARD/PD/GP2/raw_genotypes/coriell/plink/coriell_callrate_sex_ancestry_EUR_related_duplicated_grm_tmp\n",
      "Executing: plink --bfile /data/CARD/PD/GP2/raw_genotypes/coriell/plink/coriell_callrate_sex_ancestry_EUR --geno 0.01 --maf 0.05 --indep-pairwise 50 5 0.5 --out /data/CARD/PD/GP2/raw_genotypes/coriell/plink/coriell_callrate_sex_ancestry_EUR_related_het_tmp\n"
     ]
    },
    {
     "name": "stdout",
     "output_type": "stream",
     "text": [
      "\n",
      "RUNNING: het_prune\n",
      "\n"
     ]
    },
    {
     "name": "stderr",
     "output_type": "stream",
     "text": [
      "Executing: plink --bfile /data/CARD/PD/GP2/raw_genotypes/coriell/plink/coriell_callrate_sex_ancestry_EUR --extract /data/CARD/PD/GP2/raw_genotypes/coriell/plink/coriell_callrate_sex_ancestry_EUR_related_het_tmp.prune.in --make-bed --out /data/CARD/PD/GP2/raw_genotypes/coriell/plink/coriell_callrate_sex_ancestry_EUR_related_het_tmp2\n",
      "Executing: plink --bfile /data/CARD/PD/GP2/raw_genotypes/coriell/plink/coriell_callrate_sex_ancestry_EUR_related_het_tmp2 --het --out /data/CARD/PD/GP2/raw_genotypes/coriell/plink/coriell_callrate_sex_ancestry_EUR_related_het_tmp3\n",
      "Executing: plink --bfile /data/CARD/PD/GP2/raw_genotypes/coriell/plink/coriell_callrate_sex_ancestry_EUR --remove /data/CARD/PD/GP2/raw_genotypes/coriell/plink/coriell_callrate_sex_ancestry_EUR_related_het.outliers --make-bed --out /data/CARD/PD/GP2/raw_genotypes/coriell/plink/coriell_callrate_sex_ancestry_EUR_related_het\n"
     ]
    },
    {
     "name": "stdout",
     "output_type": "stream",
     "text": [
      "\n",
      "RUNNING: variant_prune\n",
      "\n"
     ]
    },
    {
     "name": "stderr",
     "output_type": "stream",
     "text": [
      "Executing: plink --bfile /data/CARD/PD/GP2/raw_genotypes/coriell/plink/coriell_callrate_sex_ancestry_EUR_related_het --geno 0.05 --make-bed --out /data/CARD/PD/GP2/raw_genotypes/coriell/plink/coriell_callrate_sex_ancestry_EUR_related_het_variant_geno_tmp1\n",
      "Executing: plink --bfile /data/CARD/PD/GP2/raw_genotypes/coriell/plink/coriell_callrate_sex_ancestry_EUR_related_het_variant_geno_tmp1 --test-missing --out /data/CARD/PD/GP2/raw_genotypes/coriell/plink/coriell_callrate_sex_ancestry_EUR_related_het_variant_mis_tmp1\n",
      "Executing: plink --bfile /data/CARD/PD/GP2/raw_genotypes/coriell/plink/coriell_callrate_sex_ancestry_EUR_related_het_variant_geno_tmp1 --exclude /data/CARD/PD/GP2/raw_genotypes/coriell/plink/coriell_callrate_sex_ancestry_EUR_related_het_variant_mis_tmp1.exclude --make-bed --out /data/CARD/PD/GP2/raw_genotypes/coriell/plink/coriell_callrate_sex_ancestry_EUR_related_het_variant_mis_tmp2\n",
      "Executing: plink --bfile /data/CARD/PD/GP2/raw_genotypes/coriell/plink/coriell_callrate_sex_ancestry_EUR_related_het_variant_mis_tmp2 --test-mishap --out /data/CARD/PD/GP2/raw_genotypes/coriell/plink/coriell_callrate_sex_ancestry_EUR_related_het_variant_hap_tmp1\n",
      "Executing: plink --bfile /data/CARD/PD/GP2/raw_genotypes/coriell/plink/coriell_callrate_sex_ancestry_EUR_related_het_variant_mis_tmp2 --exclude /data/CARD/PD/GP2/raw_genotypes/coriell/plink/coriell_callrate_sex_ancestry_EUR_related_het_variant_hap_tmp1.exclude --make-bed --out /data/CARD/PD/GP2/raw_genotypes/coriell/plink/coriell_callrate_sex_ancestry_EUR_related_het_variant_hap_tmp2\n",
      "Executing: plink --bfile /data/CARD/PD/GP2/raw_genotypes/coriell/plink/coriell_callrate_sex_ancestry_EUR_related_het_variant_hap_tmp2 --filter-controls --hwe 1E-4 --write-snplist --out /data/CARD/PD/GP2/raw_genotypes/coriell/plink/coriell_callrate_sex_ancestry_EUR_related_het_variant_hwe_tmp1\n",
      "Executing: plink --bfile /data/CARD/PD/GP2/raw_genotypes/coriell/plink/coriell_callrate_sex_ancestry_EUR_related_het_variant_hap_tmp2 --extract /data/CARD/PD/GP2/raw_genotypes/coriell/plink/coriell_callrate_sex_ancestry_EUR_related_het_variant_hwe_tmp1.snplist --make-bed --out /data/CARD/PD/GP2/raw_genotypes/coriell/plink/coriell_callrate_sex_ancestry_EUR_related_het_variant\n"
     ]
    },
    {
     "name": "stdout",
     "output_type": "stream",
     "text": [
      "\n",
      "RUNNING: related_prune\n",
      "\n"
     ]
    },
    {
     "name": "stderr",
     "output_type": "stream",
     "text": [
      "Executing: gcta --bfile /data/CARD/PD/GP2/raw_genotypes/coriell/plink/coriell_callrate_sex_ancestry_EAS --autosome --maf 0.05 --make-grm --out /data/CARD/PD/GP2/raw_genotypes/coriell/plink/coriell_callrate_sex_ancestry_EAS_related_total_grm_tmp\n",
      "Executing: gcta --grm /data/CARD/PD/GP2/raw_genotypes/coriell/plink/coriell_callrate_sex_ancestry_EAS_related_total_grm_tmp --grm-cutoff 0.125 --make-grm --out /data/CARD/PD/GP2/raw_genotypes/coriell/plink/coriell_callrate_sex_ancestry_EAS_related_unrelated_grm_tmp\n",
      "Executing: plink --bfile /data/CARD/PD/GP2/raw_genotypes/coriell/plink/coriell_callrate_sex_ancestry_EAS --keep /data/CARD/PD/GP2/raw_genotypes/coriell/plink/coriell_callrate_sex_ancestry_EAS_related_unrelated_grm_tmp.grm.id --make-bed --out /data/CARD/PD/GP2/raw_genotypes/coriell/plink/coriell_callrate_sex_ancestry_EAS_related\n",
      "Executing: gcta --grm /data/CARD/PD/GP2/raw_genotypes/coriell/plink/coriell_callrate_sex_ancestry_EAS_related_total_grm_tmp --grm-cutoff 0.95 --make-grm --out /data/CARD/PD/GP2/raw_genotypes/coriell/plink/coriell_callrate_sex_ancestry_EAS_related_duplicated_grm_tmp\n",
      "Executing: plink --bfile /data/CARD/PD/GP2/raw_genotypes/coriell/plink/coriell_callrate_sex_ancestry_EAS --geno 0.01 --maf 0.05 --indep-pairwise 50 5 0.5 --out /data/CARD/PD/GP2/raw_genotypes/coriell/plink/coriell_callrate_sex_ancestry_EAS_related_het_tmp\n"
     ]
    },
    {
     "name": "stdout",
     "output_type": "stream",
     "text": [
      "\n",
      "RUNNING: het_prune\n",
      "\n"
     ]
    },
    {
     "name": "stderr",
     "output_type": "stream",
     "text": [
      "Executing: plink --bfile /data/CARD/PD/GP2/raw_genotypes/coriell/plink/coriell_callrate_sex_ancestry_EAS --extract /data/CARD/PD/GP2/raw_genotypes/coriell/plink/coriell_callrate_sex_ancestry_EAS_related_het_tmp.prune.in --make-bed --out /data/CARD/PD/GP2/raw_genotypes/coriell/plink/coriell_callrate_sex_ancestry_EAS_related_het_tmp2\n",
      "Executing: plink --bfile /data/CARD/PD/GP2/raw_genotypes/coriell/plink/coriell_callrate_sex_ancestry_EAS_related_het_tmp2 --het --out /data/CARD/PD/GP2/raw_genotypes/coriell/plink/coriell_callrate_sex_ancestry_EAS_related_het_tmp3\n",
      "Executing: plink --bfile /data/CARD/PD/GP2/raw_genotypes/coriell/plink/coriell_callrate_sex_ancestry_EAS --remove /data/CARD/PD/GP2/raw_genotypes/coriell/plink/coriell_callrate_sex_ancestry_EAS_related_het.outliers --make-bed --out /data/CARD/PD/GP2/raw_genotypes/coriell/plink/coriell_callrate_sex_ancestry_EAS_related_het\n"
     ]
    },
    {
     "name": "stdout",
     "output_type": "stream",
     "text": [
      "\n",
      "RUNNING: variant_prune\n",
      "\n"
     ]
    },
    {
     "name": "stderr",
     "output_type": "stream",
     "text": [
      "Executing: plink --bfile /data/CARD/PD/GP2/raw_genotypes/coriell/plink/coriell_callrate_sex_ancestry_EAS_related_het --geno 0.05 --make-bed --out /data/CARD/PD/GP2/raw_genotypes/coriell/plink/coriell_callrate_sex_ancestry_EAS_related_het_variant_geno_tmp1\n",
      "Executing: plink --bfile /data/CARD/PD/GP2/raw_genotypes/coriell/plink/coriell_callrate_sex_ancestry_EAS_related_het_variant_geno_tmp1 --test-missing --out /data/CARD/PD/GP2/raw_genotypes/coriell/plink/coriell_callrate_sex_ancestry_EAS_related_het_variant_mis_tmp1\n",
      "Executing: plink --bfile /data/CARD/PD/GP2/raw_genotypes/coriell/plink/coriell_callrate_sex_ancestry_EAS_related_het_variant_geno_tmp1 --exclude /data/CARD/PD/GP2/raw_genotypes/coriell/plink/coriell_callrate_sex_ancestry_EAS_related_het_variant_mis_tmp1.exclude --make-bed --out /data/CARD/PD/GP2/raw_genotypes/coriell/plink/coriell_callrate_sex_ancestry_EAS_related_het_variant_mis_tmp2\n",
      "Executing: plink --bfile /data/CARD/PD/GP2/raw_genotypes/coriell/plink/coriell_callrate_sex_ancestry_EAS_related_het_variant_mis_tmp2 --test-mishap --out /data/CARD/PD/GP2/raw_genotypes/coriell/plink/coriell_callrate_sex_ancestry_EAS_related_het_variant_hap_tmp1\n",
      "Executing: plink --bfile /data/CARD/PD/GP2/raw_genotypes/coriell/plink/coriell_callrate_sex_ancestry_EAS_related_het_variant_mis_tmp2 --exclude /data/CARD/PD/GP2/raw_genotypes/coriell/plink/coriell_callrate_sex_ancestry_EAS_related_het_variant_hap_tmp1.exclude --make-bed --out /data/CARD/PD/GP2/raw_genotypes/coriell/plink/coriell_callrate_sex_ancestry_EAS_related_het_variant_hap_tmp2\n",
      "Executing: plink --bfile /data/CARD/PD/GP2/raw_genotypes/coriell/plink/coriell_callrate_sex_ancestry_EAS_related_het_variant_hap_tmp2 --filter-controls --hwe 1E-4 --write-snplist --out /data/CARD/PD/GP2/raw_genotypes/coriell/plink/coriell_callrate_sex_ancestry_EAS_related_het_variant_hwe_tmp1\n",
      "Executing: plink --bfile /data/CARD/PD/GP2/raw_genotypes/coriell/plink/coriell_callrate_sex_ancestry_EAS_related_het_variant_hap_tmp2 --extract /data/CARD/PD/GP2/raw_genotypes/coriell/plink/coriell_callrate_sex_ancestry_EAS_related_het_variant_hwe_tmp1.snplist --make-bed --out /data/CARD/PD/GP2/raw_genotypes/coriell/plink/coriell_callrate_sex_ancestry_EAS_related_het_variant\n"
     ]
    },
    {
     "name": "stdout",
     "output_type": "stream",
     "text": [
      "\n",
      "RUNNING: related_prune\n",
      "\n"
     ]
    },
    {
     "name": "stderr",
     "output_type": "stream",
     "text": [
      "Executing: gcta --bfile /data/CARD/PD/GP2/raw_genotypes/coriell/plink/coriell_callrate_sex_ancestry_AAC --autosome --maf 0.05 --make-grm --out /data/CARD/PD/GP2/raw_genotypes/coriell/plink/coriell_callrate_sex_ancestry_AAC_related_total_grm_tmp\n",
      "Executing: gcta --grm /data/CARD/PD/GP2/raw_genotypes/coriell/plink/coriell_callrate_sex_ancestry_AAC_related_total_grm_tmp --grm-cutoff 0.125 --make-grm --out /data/CARD/PD/GP2/raw_genotypes/coriell/plink/coriell_callrate_sex_ancestry_AAC_related_unrelated_grm_tmp\n",
      "Executing: plink --bfile /data/CARD/PD/GP2/raw_genotypes/coriell/plink/coriell_callrate_sex_ancestry_AAC --keep /data/CARD/PD/GP2/raw_genotypes/coriell/plink/coriell_callrate_sex_ancestry_AAC_related_unrelated_grm_tmp.grm.id --make-bed --out /data/CARD/PD/GP2/raw_genotypes/coriell/plink/coriell_callrate_sex_ancestry_AAC_related\n",
      "Executing: gcta --grm /data/CARD/PD/GP2/raw_genotypes/coriell/plink/coriell_callrate_sex_ancestry_AAC_related_total_grm_tmp --grm-cutoff 0.95 --make-grm --out /data/CARD/PD/GP2/raw_genotypes/coriell/plink/coriell_callrate_sex_ancestry_AAC_related_duplicated_grm_tmp\n",
      "Executing: plink --bfile /data/CARD/PD/GP2/raw_genotypes/coriell/plink/coriell_callrate_sex_ancestry_AAC --geno 0.01 --maf 0.05 --indep-pairwise 50 5 0.5 --out /data/CARD/PD/GP2/raw_genotypes/coriell/plink/coriell_callrate_sex_ancestry_AAC_related_het_tmp\n"
     ]
    },
    {
     "name": "stdout",
     "output_type": "stream",
     "text": [
      "\n",
      "RUNNING: het_prune\n",
      "\n"
     ]
    },
    {
     "name": "stderr",
     "output_type": "stream",
     "text": [
      "Executing: plink --bfile /data/CARD/PD/GP2/raw_genotypes/coriell/plink/coriell_callrate_sex_ancestry_AAC --extract /data/CARD/PD/GP2/raw_genotypes/coriell/plink/coriell_callrate_sex_ancestry_AAC_related_het_tmp.prune.in --make-bed --out /data/CARD/PD/GP2/raw_genotypes/coriell/plink/coriell_callrate_sex_ancestry_AAC_related_het_tmp2\n",
      "Executing: plink --bfile /data/CARD/PD/GP2/raw_genotypes/coriell/plink/coriell_callrate_sex_ancestry_AAC_related_het_tmp2 --het --out /data/CARD/PD/GP2/raw_genotypes/coriell/plink/coriell_callrate_sex_ancestry_AAC_related_het_tmp3\n",
      "Executing: plink --bfile /data/CARD/PD/GP2/raw_genotypes/coriell/plink/coriell_callrate_sex_ancestry_AAC --remove /data/CARD/PD/GP2/raw_genotypes/coriell/plink/coriell_callrate_sex_ancestry_AAC_related_het.outliers --make-bed --out /data/CARD/PD/GP2/raw_genotypes/coriell/plink/coriell_callrate_sex_ancestry_AAC_related_het\n"
     ]
    },
    {
     "name": "stdout",
     "output_type": "stream",
     "text": [
      "\n",
      "RUNNING: variant_prune\n",
      "\n"
     ]
    },
    {
     "name": "stderr",
     "output_type": "stream",
     "text": [
      "Executing: plink --bfile /data/CARD/PD/GP2/raw_genotypes/coriell/plink/coriell_callrate_sex_ancestry_AAC_related_het --geno 0.05 --make-bed --out /data/CARD/PD/GP2/raw_genotypes/coriell/plink/coriell_callrate_sex_ancestry_AAC_related_het_variant_geno_tmp1\n",
      "Executing: plink --bfile /data/CARD/PD/GP2/raw_genotypes/coriell/plink/coriell_callrate_sex_ancestry_AAC_related_het_variant_geno_tmp1 --test-missing --out /data/CARD/PD/GP2/raw_genotypes/coriell/plink/coriell_callrate_sex_ancestry_AAC_related_het_variant_mis_tmp1\n",
      "Executing: plink --bfile /data/CARD/PD/GP2/raw_genotypes/coriell/plink/coriell_callrate_sex_ancestry_AAC_related_het_variant_geno_tmp1 --exclude /data/CARD/PD/GP2/raw_genotypes/coriell/plink/coriell_callrate_sex_ancestry_AAC_related_het_variant_mis_tmp1.exclude --make-bed --out /data/CARD/PD/GP2/raw_genotypes/coriell/plink/coriell_callrate_sex_ancestry_AAC_related_het_variant_mis_tmp2\n",
      "Executing: plink --bfile /data/CARD/PD/GP2/raw_genotypes/coriell/plink/coriell_callrate_sex_ancestry_AAC_related_het_variant_mis_tmp2 --test-mishap --out /data/CARD/PD/GP2/raw_genotypes/coriell/plink/coriell_callrate_sex_ancestry_AAC_related_het_variant_hap_tmp1\n",
      "Executing: plink --bfile /data/CARD/PD/GP2/raw_genotypes/coriell/plink/coriell_callrate_sex_ancestry_AAC_related_het_variant_mis_tmp2 --exclude /data/CARD/PD/GP2/raw_genotypes/coriell/plink/coriell_callrate_sex_ancestry_AAC_related_het_variant_hap_tmp1.exclude --make-bed --out /data/CARD/PD/GP2/raw_genotypes/coriell/plink/coriell_callrate_sex_ancestry_AAC_related_het_variant_hap_tmp2\n",
      "Executing: plink --bfile /data/CARD/PD/GP2/raw_genotypes/coriell/plink/coriell_callrate_sex_ancestry_AAC_related_het_variant_hap_tmp2 --filter-controls --hwe 1E-4 --write-snplist --out /data/CARD/PD/GP2/raw_genotypes/coriell/plink/coriell_callrate_sex_ancestry_AAC_related_het_variant_hwe_tmp1\n",
      "Executing: plink --bfile /data/CARD/PD/GP2/raw_genotypes/coriell/plink/coriell_callrate_sex_ancestry_AAC_related_het_variant_hap_tmp2 --extract /data/CARD/PD/GP2/raw_genotypes/coriell/plink/coriell_callrate_sex_ancestry_AAC_related_het_variant_hwe_tmp1.snplist --make-bed --out /data/CARD/PD/GP2/raw_genotypes/coriell/plink/coriell_callrate_sex_ancestry_AAC_related_het_variant\n"
     ]
    },
    {
     "name": "stdout",
     "output_type": "stream",
     "text": [
      "\n",
      "RUNNING: related_prune\n",
      "\n"
     ]
    },
    {
     "name": "stderr",
     "output_type": "stream",
     "text": [
      "Executing: gcta --bfile /data/CARD/PD/GP2/raw_genotypes/coriell/plink/coriell_callrate_sex_ancestry_AMR --autosome --maf 0.05 --make-grm --out /data/CARD/PD/GP2/raw_genotypes/coriell/plink/coriell_callrate_sex_ancestry_AMR_related_total_grm_tmp\n",
      "Executing: gcta --grm /data/CARD/PD/GP2/raw_genotypes/coriell/plink/coriell_callrate_sex_ancestry_AMR_related_total_grm_tmp --grm-cutoff 0.125 --make-grm --out /data/CARD/PD/GP2/raw_genotypes/coriell/plink/coriell_callrate_sex_ancestry_AMR_related_unrelated_grm_tmp\n",
      "Executing: plink --bfile /data/CARD/PD/GP2/raw_genotypes/coriell/plink/coriell_callrate_sex_ancestry_AMR --keep /data/CARD/PD/GP2/raw_genotypes/coriell/plink/coriell_callrate_sex_ancestry_AMR_related_unrelated_grm_tmp.grm.id --make-bed --out /data/CARD/PD/GP2/raw_genotypes/coriell/plink/coriell_callrate_sex_ancestry_AMR_related\n",
      "Executing: gcta --grm /data/CARD/PD/GP2/raw_genotypes/coriell/plink/coriell_callrate_sex_ancestry_AMR_related_total_grm_tmp --grm-cutoff 0.95 --make-grm --out /data/CARD/PD/GP2/raw_genotypes/coriell/plink/coriell_callrate_sex_ancestry_AMR_related_duplicated_grm_tmp\n",
      "Executing: plink --bfile /data/CARD/PD/GP2/raw_genotypes/coriell/plink/coriell_callrate_sex_ancestry_AMR --geno 0.01 --maf 0.05 --indep-pairwise 50 5 0.5 --out /data/CARD/PD/GP2/raw_genotypes/coriell/plink/coriell_callrate_sex_ancestry_AMR_related_het_tmp\n"
     ]
    },
    {
     "name": "stdout",
     "output_type": "stream",
     "text": [
      "\n",
      "RUNNING: het_prune\n",
      "\n"
     ]
    },
    {
     "name": "stderr",
     "output_type": "stream",
     "text": [
      "Executing: plink --bfile /data/CARD/PD/GP2/raw_genotypes/coriell/plink/coriell_callrate_sex_ancestry_AMR --extract /data/CARD/PD/GP2/raw_genotypes/coriell/plink/coriell_callrate_sex_ancestry_AMR_related_het_tmp.prune.in --make-bed --out /data/CARD/PD/GP2/raw_genotypes/coriell/plink/coriell_callrate_sex_ancestry_AMR_related_het_tmp2\n",
      "Executing: plink --bfile /data/CARD/PD/GP2/raw_genotypes/coriell/plink/coriell_callrate_sex_ancestry_AMR_related_het_tmp2 --het --out /data/CARD/PD/GP2/raw_genotypes/coriell/plink/coriell_callrate_sex_ancestry_AMR_related_het_tmp3\n",
      "Executing: plink --bfile /data/CARD/PD/GP2/raw_genotypes/coriell/plink/coriell_callrate_sex_ancestry_AMR --remove /data/CARD/PD/GP2/raw_genotypes/coriell/plink/coriell_callrate_sex_ancestry_AMR_related_het.outliers --make-bed --out /data/CARD/PD/GP2/raw_genotypes/coriell/plink/coriell_callrate_sex_ancestry_AMR_related_het\n"
     ]
    },
    {
     "name": "stdout",
     "output_type": "stream",
     "text": [
      "\n",
      "RUNNING: variant_prune\n",
      "\n"
     ]
    },
    {
     "name": "stderr",
     "output_type": "stream",
     "text": [
      "Executing: plink --bfile /data/CARD/PD/GP2/raw_genotypes/coriell/plink/coriell_callrate_sex_ancestry_AMR_related_het --geno 0.05 --make-bed --out /data/CARD/PD/GP2/raw_genotypes/coriell/plink/coriell_callrate_sex_ancestry_AMR_related_het_variant_geno_tmp1\n",
      "Executing: plink --bfile /data/CARD/PD/GP2/raw_genotypes/coriell/plink/coriell_callrate_sex_ancestry_AMR_related_het_variant_geno_tmp1 --test-missing --out /data/CARD/PD/GP2/raw_genotypes/coriell/plink/coriell_callrate_sex_ancestry_AMR_related_het_variant_mis_tmp1\n",
      "Executing: plink --bfile /data/CARD/PD/GP2/raw_genotypes/coriell/plink/coriell_callrate_sex_ancestry_AMR_related_het_variant_geno_tmp1 --exclude /data/CARD/PD/GP2/raw_genotypes/coriell/plink/coriell_callrate_sex_ancestry_AMR_related_het_variant_mis_tmp1.exclude --make-bed --out /data/CARD/PD/GP2/raw_genotypes/coriell/plink/coriell_callrate_sex_ancestry_AMR_related_het_variant_mis_tmp2\n",
      "Executing: plink --bfile /data/CARD/PD/GP2/raw_genotypes/coriell/plink/coriell_callrate_sex_ancestry_AMR_related_het_variant_mis_tmp2 --test-mishap --out /data/CARD/PD/GP2/raw_genotypes/coriell/plink/coriell_callrate_sex_ancestry_AMR_related_het_variant_hap_tmp1\n",
      "Executing: plink --bfile /data/CARD/PD/GP2/raw_genotypes/coriell/plink/coriell_callrate_sex_ancestry_AMR_related_het_variant_mis_tmp2 --exclude /data/CARD/PD/GP2/raw_genotypes/coriell/plink/coriell_callrate_sex_ancestry_AMR_related_het_variant_hap_tmp1.exclude --make-bed --out /data/CARD/PD/GP2/raw_genotypes/coriell/plink/coriell_callrate_sex_ancestry_AMR_related_het_variant_hap_tmp2\n",
      "Executing: plink --bfile /data/CARD/PD/GP2/raw_genotypes/coriell/plink/coriell_callrate_sex_ancestry_AMR_related_het_variant_hap_tmp2 --filter-controls --hwe 1E-4 --write-snplist --out /data/CARD/PD/GP2/raw_genotypes/coriell/plink/coriell_callrate_sex_ancestry_AMR_related_het_variant_hwe_tmp1\n",
      "Executing: plink --bfile /data/CARD/PD/GP2/raw_genotypes/coriell/plink/coriell_callrate_sex_ancestry_AMR_related_het_variant_hap_tmp2 --extract /data/CARD/PD/GP2/raw_genotypes/coriell/plink/coriell_callrate_sex_ancestry_AMR_related_het_variant_hwe_tmp1.snplist --make-bed --out /data/CARD/PD/GP2/raw_genotypes/coriell/plink/coriell_callrate_sex_ancestry_AMR_related_het_variant\n"
     ]
    },
    {
     "name": "stdout",
     "output_type": "stream",
     "text": [
      "\n",
      "RUNNING: related_prune\n",
      "\n"
     ]
    },
    {
     "name": "stderr",
     "output_type": "stream",
     "text": [
      "Executing: gcta --bfile /data/CARD/PD/GP2/raw_genotypes/coriell/plink/coriell_callrate_sex_ancestry_SAS --autosome --maf 0.05 --make-grm --out /data/CARD/PD/GP2/raw_genotypes/coriell/plink/coriell_callrate_sex_ancestry_SAS_related_total_grm_tmp\n",
      "Executing: gcta --grm /data/CARD/PD/GP2/raw_genotypes/coriell/plink/coriell_callrate_sex_ancestry_SAS_related_total_grm_tmp --grm-cutoff 0.125 --make-grm --out /data/CARD/PD/GP2/raw_genotypes/coriell/plink/coriell_callrate_sex_ancestry_SAS_related_unrelated_grm_tmp\n",
      "Executing: plink --bfile /data/CARD/PD/GP2/raw_genotypes/coriell/plink/coriell_callrate_sex_ancestry_SAS --keep /data/CARD/PD/GP2/raw_genotypes/coriell/plink/coriell_callrate_sex_ancestry_SAS_related_unrelated_grm_tmp.grm.id --make-bed --out /data/CARD/PD/GP2/raw_genotypes/coriell/plink/coriell_callrate_sex_ancestry_SAS_related\n",
      "Executing: gcta --grm /data/CARD/PD/GP2/raw_genotypes/coriell/plink/coriell_callrate_sex_ancestry_SAS_related_total_grm_tmp --grm-cutoff 0.95 --make-grm --out /data/CARD/PD/GP2/raw_genotypes/coriell/plink/coriell_callrate_sex_ancestry_SAS_related_duplicated_grm_tmp\n",
      "Executing: plink --bfile /data/CARD/PD/GP2/raw_genotypes/coriell/plink/coriell_callrate_sex_ancestry_SAS --geno 0.01 --maf 0.05 --indep-pairwise 50 5 0.5 --out /data/CARD/PD/GP2/raw_genotypes/coriell/plink/coriell_callrate_sex_ancestry_SAS_related_het_tmp\n"
     ]
    },
    {
     "name": "stdout",
     "output_type": "stream",
     "text": [
      "\n",
      "RUNNING: het_prune\n",
      "\n"
     ]
    },
    {
     "name": "stderr",
     "output_type": "stream",
     "text": [
      "Executing: plink --bfile /data/CARD/PD/GP2/raw_genotypes/coriell/plink/coriell_callrate_sex_ancestry_SAS --extract /data/CARD/PD/GP2/raw_genotypes/coriell/plink/coriell_callrate_sex_ancestry_SAS_related_het_tmp.prune.in --make-bed --out /data/CARD/PD/GP2/raw_genotypes/coriell/plink/coriell_callrate_sex_ancestry_SAS_related_het_tmp2\n",
      "Executing: plink --bfile /data/CARD/PD/GP2/raw_genotypes/coriell/plink/coriell_callrate_sex_ancestry_SAS_related_het_tmp2 --het --out /data/CARD/PD/GP2/raw_genotypes/coriell/plink/coriell_callrate_sex_ancestry_SAS_related_het_tmp3\n",
      "Executing: plink --bfile /data/CARD/PD/GP2/raw_genotypes/coriell/plink/coriell_callrate_sex_ancestry_SAS --remove /data/CARD/PD/GP2/raw_genotypes/coriell/plink/coriell_callrate_sex_ancestry_SAS_related_het.outliers --make-bed --out /data/CARD/PD/GP2/raw_genotypes/coriell/plink/coriell_callrate_sex_ancestry_SAS_related_het\n"
     ]
    },
    {
     "name": "stdout",
     "output_type": "stream",
     "text": [
      "\n",
      "RUNNING: variant_prune\n",
      "\n"
     ]
    },
    {
     "name": "stderr",
     "output_type": "stream",
     "text": [
      "Executing: plink --bfile /data/CARD/PD/GP2/raw_genotypes/coriell/plink/coriell_callrate_sex_ancestry_SAS_related_het --geno 0.05 --make-bed --out /data/CARD/PD/GP2/raw_genotypes/coriell/plink/coriell_callrate_sex_ancestry_SAS_related_het_variant_geno_tmp1\n",
      "Executing: plink --bfile /data/CARD/PD/GP2/raw_genotypes/coriell/plink/coriell_callrate_sex_ancestry_SAS_related_het_variant_geno_tmp1 --test-missing --out /data/CARD/PD/GP2/raw_genotypes/coriell/plink/coriell_callrate_sex_ancestry_SAS_related_het_variant_mis_tmp1\n",
      "Executing: plink --bfile /data/CARD/PD/GP2/raw_genotypes/coriell/plink/coriell_callrate_sex_ancestry_SAS_related_het_variant_geno_tmp1 --exclude /data/CARD/PD/GP2/raw_genotypes/coriell/plink/coriell_callrate_sex_ancestry_SAS_related_het_variant_mis_tmp1.exclude --make-bed --out /data/CARD/PD/GP2/raw_genotypes/coriell/plink/coriell_callrate_sex_ancestry_SAS_related_het_variant_mis_tmp2\n",
      "Executing: plink --bfile /data/CARD/PD/GP2/raw_genotypes/coriell/plink/coriell_callrate_sex_ancestry_SAS_related_het_variant_mis_tmp2 --test-mishap --out /data/CARD/PD/GP2/raw_genotypes/coriell/plink/coriell_callrate_sex_ancestry_SAS_related_het_variant_hap_tmp1\n",
      "Executing: plink --bfile /data/CARD/PD/GP2/raw_genotypes/coriell/plink/coriell_callrate_sex_ancestry_SAS_related_het_variant_mis_tmp2 --exclude /data/CARD/PD/GP2/raw_genotypes/coriell/plink/coriell_callrate_sex_ancestry_SAS_related_het_variant_hap_tmp1.exclude --make-bed --out /data/CARD/PD/GP2/raw_genotypes/coriell/plink/coriell_callrate_sex_ancestry_SAS_related_het_variant_hap_tmp2\n",
      "Executing: plink --bfile /data/CARD/PD/GP2/raw_genotypes/coriell/plink/coriell_callrate_sex_ancestry_SAS_related_het_variant_hap_tmp2 --filter-controls --hwe 1E-4 --write-snplist --out /data/CARD/PD/GP2/raw_genotypes/coriell/plink/coriell_callrate_sex_ancestry_SAS_related_het_variant_hwe_tmp1\n",
      "Executing: plink --bfile /data/CARD/PD/GP2/raw_genotypes/coriell/plink/coriell_callrate_sex_ancestry_SAS_related_het_variant_hap_tmp2 --extract /data/CARD/PD/GP2/raw_genotypes/coriell/plink/coriell_callrate_sex_ancestry_SAS_related_het_variant_hwe_tmp1.snplist --make-bed --out /data/CARD/PD/GP2/raw_genotypes/coriell/plink/coriell_callrate_sex_ancestry_SAS_related_het_variant\n"
     ]
    },
    {
     "name": "stdout",
     "output_type": "stream",
     "text": [
      "\n",
      "RUNNING: related_prune\n",
      "\n"
     ]
    },
    {
     "name": "stderr",
     "output_type": "stream",
     "text": [
      "Executing: gcta --bfile /data/CARD/PD/GP2/raw_genotypes/coriell/plink/coriell_callrate_sex_ancestry_FIN --autosome --maf 0.05 --make-grm --out /data/CARD/PD/GP2/raw_genotypes/coriell/plink/coriell_callrate_sex_ancestry_FIN_related_total_grm_tmp\n",
      "Executing: gcta --grm /data/CARD/PD/GP2/raw_genotypes/coriell/plink/coriell_callrate_sex_ancestry_FIN_related_total_grm_tmp --grm-cutoff 0.125 --make-grm --out /data/CARD/PD/GP2/raw_genotypes/coriell/plink/coriell_callrate_sex_ancestry_FIN_related_unrelated_grm_tmp\n",
      "Executing: plink --bfile /data/CARD/PD/GP2/raw_genotypes/coriell/plink/coriell_callrate_sex_ancestry_FIN --keep /data/CARD/PD/GP2/raw_genotypes/coriell/plink/coriell_callrate_sex_ancestry_FIN_related_unrelated_grm_tmp.grm.id --make-bed --out /data/CARD/PD/GP2/raw_genotypes/coriell/plink/coriell_callrate_sex_ancestry_FIN_related\n",
      "Executing: gcta --grm /data/CARD/PD/GP2/raw_genotypes/coriell/plink/coriell_callrate_sex_ancestry_FIN_related_total_grm_tmp --grm-cutoff 0.95 --make-grm --out /data/CARD/PD/GP2/raw_genotypes/coriell/plink/coriell_callrate_sex_ancestry_FIN_related_duplicated_grm_tmp\n",
      "Executing: plink --bfile /data/CARD/PD/GP2/raw_genotypes/coriell/plink/coriell_callrate_sex_ancestry_FIN --geno 0.01 --maf 0.05 --indep-pairwise 50 5 0.5 --out /data/CARD/PD/GP2/raw_genotypes/coriell/plink/coriell_callrate_sex_ancestry_FIN_related_het_tmp\n"
     ]
    },
    {
     "name": "stdout",
     "output_type": "stream",
     "text": [
      "\n",
      "RUNNING: het_prune\n",
      "\n"
     ]
    },
    {
     "name": "stderr",
     "output_type": "stream",
     "text": [
      "Executing: plink --bfile /data/CARD/PD/GP2/raw_genotypes/coriell/plink/coriell_callrate_sex_ancestry_FIN --extract /data/CARD/PD/GP2/raw_genotypes/coriell/plink/coriell_callrate_sex_ancestry_FIN_related_het_tmp.prune.in --make-bed --out /data/CARD/PD/GP2/raw_genotypes/coriell/plink/coriell_callrate_sex_ancestry_FIN_related_het_tmp2\n",
      "Executing: plink --bfile /data/CARD/PD/GP2/raw_genotypes/coriell/plink/coriell_callrate_sex_ancestry_FIN_related_het_tmp2 --het --out /data/CARD/PD/GP2/raw_genotypes/coriell/plink/coriell_callrate_sex_ancestry_FIN_related_het_tmp3\n"
     ]
    },
    {
     "name": "stdout",
     "output_type": "stream",
     "text": [
      "Heterozygosity pruning failed!\n",
      "Check /data/CARD/PD/GP2/raw_genotypes/coriell/plink/coriell_callrate_sex_ancestry_FIN_related_het_tmp.log, /data/CARD/PD/GP2/raw_genotypes/coriell/plink/coriell_callrate_sex_ancestry_FIN_related_het_tmp2.log, or /data/CARD/PD/GP2/raw_genotypes/coriell/plink/coriell_callrate_sex_ancestry_FIN_related_het_tmp3.log for more information\n",
      "\n",
      "RUNNING: variant_prune\n",
      "\n"
     ]
    },
    {
     "name": "stderr",
     "output_type": "stream",
     "text": [
      "Executing: plink --bfile /data/CARD/PD/GP2/raw_genotypes/coriell/plink/coriell_callrate_sex_ancestry_FIN_related --geno 0.05 --make-bed --out /data/CARD/PD/GP2/raw_genotypes/coriell/plink/coriell_callrate_sex_ancestry_FIN_related_het_variant_geno_tmp1\n"
     ]
    },
    {
     "name": "stdout",
     "output_type": "stream",
     "text": [
      "\n",
      "Case/control pruning failed! May be missing Controls!\n",
      "Check number of Cases/Controls\n",
      "\n"
     ]
    }
   ],
   "source": [
    "het_dict = dict()\n",
    "related_dict = dict()\n",
    "variant_dict = dict()\n",
    "\n",
    "for geno, label in zip(cohort_split['paths'], cohort_split['labels']):\n",
    "\n",
    "    # related\n",
    "    related_out = f'{geno}_related'\n",
    "    related = related_prune(geno, related_out)\n",
    "    related_dict[label] = related\n",
    "    \n",
    "    # het\n",
    "    het_out = f'{related_out}_het'\n",
    "    het = het_prune(geno, het_out)\n",
    "    het_dict[label] = het\n",
    "    \n",
    "    # variant\n",
    "    variant_out = f'{het_out}_variant'\n",
    "    if het['pass']:\n",
    "        variant = variant_prune(het_out, variant_out)\n",
    "        variant_dict[label] = variant\n",
    "    else:\n",
    "        variant = variant_prune(related_out, variant_out)\n",
    "        variant_dict[label] = variant\n",
    "\n"
   ]
  },
  {
   "cell_type": "code",
   "execution_count": 9,
   "id": "608d2d2f-cca5-497e-8781-b6bbb8c4d717",
   "metadata": {},
   "outputs": [
    {
     "data": {
      "text/html": [
       "<div>\n",
       "<style scoped>\n",
       "    .dataframe tbody tr th:only-of-type {\n",
       "        vertical-align: middle;\n",
       "    }\n",
       "\n",
       "    .dataframe tbody tr th {\n",
       "        vertical-align: top;\n",
       "    }\n",
       "\n",
       "    .dataframe thead th {\n",
       "        text-align: right;\n",
       "    }\n",
       "</style>\n",
       "<table border=\"1\" class=\"dataframe\">\n",
       "  <thead>\n",
       "    <tr style=\"text-align: right;\">\n",
       "      <th></th>\n",
       "      <th>label</th>\n",
       "      <th>count</th>\n",
       "    </tr>\n",
       "  </thead>\n",
       "  <tbody>\n",
       "    <tr>\n",
       "      <th>0</th>\n",
       "      <td>EUR</td>\n",
       "      <td>1740</td>\n",
       "    </tr>\n",
       "    <tr>\n",
       "      <th>1</th>\n",
       "      <td>AJ</td>\n",
       "      <td>262</td>\n",
       "    </tr>\n",
       "    <tr>\n",
       "      <th>2</th>\n",
       "      <td>AAC</td>\n",
       "      <td>94</td>\n",
       "    </tr>\n",
       "    <tr>\n",
       "      <th>3</th>\n",
       "      <td>AMR</td>\n",
       "      <td>91</td>\n",
       "    </tr>\n",
       "    <tr>\n",
       "      <th>4</th>\n",
       "      <td>EAS</td>\n",
       "      <td>14</td>\n",
       "    </tr>\n",
       "    <tr>\n",
       "      <th>5</th>\n",
       "      <td>SAS</td>\n",
       "      <td>14</td>\n",
       "    </tr>\n",
       "    <tr>\n",
       "      <th>6</th>\n",
       "      <td>FIN</td>\n",
       "      <td>1</td>\n",
       "    </tr>\n",
       "  </tbody>\n",
       "</table>\n",
       "</div>"
      ],
      "text/plain": [
       "  label  count\n",
       "0   EUR   1740\n",
       "1    AJ    262\n",
       "2   AAC     94\n",
       "3   AMR     91\n",
       "4   EAS     14\n",
       "5   SAS     14\n",
       "6   FIN      1"
      ]
     },
     "execution_count": 9,
     "metadata": {},
     "output_type": "execute_result"
    }
   ],
   "source": [
    "ancestry_counts_df = pd.DataFrame(ancestry['metrics']['predicted_counts']).reset_index()\n",
    "ancestry_counts_df.columns = ['label', 'count']\n",
    "ancestry_counts_df"
   ]
  },
  {
   "cell_type": "code",
   "execution_count": 10,
   "id": "c7f6f791-9f22-46b5-9aa9-fd7b3d43a91c",
   "metadata": {},
   "outputs": [],
   "source": [
    "# build report\n",
    "steps = [callrate, sex]\n",
    "steps2 = [het_dict, related_dict, variant_dict]\n",
    "metrics_df = pd.DataFrame()\n",
    "\n",
    "for item in steps:\n",
    "    \n",
    "    step = item['step']\n",
    "    pf = item['pass']\n",
    "    level = 'sample'\n",
    "    ancestry_label = 'all'\n",
    "    \n",
    "    for metric, value in item['metrics'].items():\n",
    "        tmp_metrics_df = pd.DataFrame({'step':[step], 'pruned_count':[value], 'metric':[metric], 'ancestry':[ancestry_label], 'level':[level], 'pass': [pf]})\n",
    "        metrics_df = metrics_df.append(tmp_metrics_df)\n",
    "\n",
    "\n",
    "for item in steps2:\n",
    "    for ancestry_label, metrics in item.items():\n",
    "        \n",
    "        step = metrics['step']\n",
    "        pf = metrics['pass']\n",
    "        \n",
    "        if step in ['het_prune','related_prune']:\n",
    "            level = 'sample'\n",
    "        else:\n",
    "            level = 'variant'\n",
    "\n",
    "        for metric, value in metrics['metrics'].items():\n",
    "            tmp_metrics_df = pd.DataFrame({'step':[step], 'pruned_count':[value], 'metric':[metric], 'ancestry':[ancestry_label], 'level':[level], 'pass': [pf]})\n",
    "            metrics_df = metrics_df.append(tmp_metrics_df)\n",
    "\n",
    "metrics_df.reset_index(drop=True, inplace=True)\n",
    "\n"
   ]
  },
  {
   "cell_type": "code",
   "execution_count": 11,
   "id": "602d51a3-4e42-4078-a602-81264c28c797",
   "metadata": {},
   "outputs": [
    {
     "name": "stderr",
     "output_type": "stream",
     "text": [
      "/home/vitaled2/.local/lib/python3.7/site-packages/pandas/io/pytables.py:280: PerformanceWarning: \n",
      "your performance may suffer as PyTables will pickle object types that it cannot\n",
      "map directly to c-types [inferred_type->mixed-integer,key->axis0] [items->None]\n",
      "\n",
      "  f(store)\n",
      "/home/vitaled2/.local/lib/python3.7/site-packages/pandas/io/pytables.py:280: PerformanceWarning: \n",
      "your performance may suffer as PyTables will pickle object types that it cannot\n",
      "map directly to c-types [inferred_type->integer,key->block0_items] [items->None]\n",
      "\n",
      "  f(store)\n"
     ]
    }
   ],
   "source": [
    "# build output hdf\n",
    "metrics_outfile = f'{out_path}.QC.metrics.h5'\n",
    "\n",
    "le = ancestry['data']['label_encoder']\n",
    "confusion_matrix = ancestry['data']['confusion_matrix']\n",
    "conf_mat_df = pd.DataFrame(confusion_matrix)\n",
    "conf_mat_df.columns = le.inverse_transform([i for i in range(8)])\n",
    "conf_mat_df.index = le.inverse_transform([i for i in range(8)])\n",
    "\n",
    "ref_pcs = ancestry['data']['ref_pcs']\n",
    "projected_pcs = ancestry['data']['projected_pcs']\n",
    "total_umap = ancestry['data']['total_umap']\n",
    "ref_umap = ancestry['data']['ref_umap']\n",
    "new_samples_umap = ancestry['data']['new_samples_umap']\n",
    "pred_ancestry_labels = ancestry['data']['predict_data']['ids']\n",
    "\n",
    "metrics_df.to_hdf(metrics_outfile, key='QC', mode='w')\n",
    "ancestry_counts_df.to_hdf(metrics_outfile, key='ancestry_counts')\n",
    "pred_ancestry_labels.to_hdf(metrics_outfile, key='ancestry_labels')\n",
    "conf_mat_df.to_hdf(metrics_outfile, key='confusion_matrix', index=True)\n",
    "ref_pcs.to_hdf(metrics_outfile, key='ref_pcs')\n",
    "projected_pcs.to_hdf(metrics_outfile, key='projected_pcs')\n",
    "total_umap.to_hdf(metrics_outfile, key='total_umap')\n",
    "ref_umap.to_hdf(metrics_outfile, key='ref_umap')\n",
    "new_samples_umap.to_hdf(metrics_outfile, key='new_samples_umap')"
   ]
  },
  {
   "cell_type": "code",
   "execution_count": 29,
   "id": "a01a9ed0-f507-4b40-9a39-2a4ad29cb36b",
   "metadata": {},
   "outputs": [],
   "source": [
    "test_hdf = pd.read_hdf(metrics_outfile, key='ancestry_labels')"
   ]
  },
  {
   "cell_type": "code",
   "execution_count": 26,
   "id": "a4a76226-f706-4393-b7e7-ff47057c6c0d",
   "metadata": {},
   "outputs": [],
   "source": [
    "# move output to output dir\n",
    "for label, data in variant_dict.items():\n",
    "    if data['pass']:\n",
    "        for suffix in ['bed','bim','fam','hh','log']:\n",
    "            plink_file = f\"{data['output']['plink_out']}.{suffix}\"\n",
    "            plink_outfile = f'{out_path}_{label}.{suffix}'\n",
    "            shutil.copyfile(src=plink_file, dst=plink_outfile)"
   ]
  },
  {
   "cell_type": "code",
   "execution_count": 27,
   "id": "6926d791-96fa-4cc4-80aa-c6ed5ff5a1db",
   "metadata": {},
   "outputs": [
    {
     "data": {
      "text/plain": [
       "'/data/CARD/PD/GP2/genotypes/coriell/clean/coriell'"
      ]
     },
     "execution_count": 27,
     "metadata": {},
     "output_type": "execute_result"
    }
   ],
   "source": [
    "out_path"
   ]
  },
  {
   "cell_type": "code",
   "execution_count": null,
   "id": "4bac1dfe-87d9-47bf-bc3f-73b049b30e2d",
   "metadata": {},
   "outputs": [],
   "source": []
  },
  {
   "cell_type": "code",
   "execution_count": null,
   "id": "68c38965-544d-428a-bd87-58bd05913027",
   "metadata": {},
   "outputs": [],
   "source": []
  },
  {
   "cell_type": "code",
   "execution_count": 19,
   "id": "8287d971-dea0-410b-aa3b-181170f47e8a",
   "metadata": {},
   "outputs": [],
   "source": [
    "# merge AAC with ref panel \n",
    "\n",
    "from QC.utils import merge_genos\n",
    "\n",
    "aac_geno = '/data/CARD/PD/GP2/raw_genotypes/coriell/plink/coriell_callrate_sex_ancestry_AAC_related_het_variant'\n",
    "out_dir = '/data/CARD/PD/GP2/genotypes/coriell/clean'\n",
    "ref_dir_path = '/data/LNG/vitaled2/1kgenomes'\n",
    "ref_panel = f'{ref_dir_path}/1kg_ashkj_ref_panel_gp2_pruned'\n",
    "\n",
    "merged_ref_geno = f'{aac_geno}_merged_ref'\n",
    "\n"
   ]
  },
  {
   "cell_type": "code",
   "execution_count": 12,
   "id": "0dd64a79-699d-4055-af21-f75fa5ecbdac",
   "metadata": {},
   "outputs": [
    {
     "name": "stderr",
     "output_type": "stream",
     "text": [
      "Executing: plink --bfile /data/CARD/PD/GP2/raw_genotypes/coriell/plink/coriell_callrate_sex_ancestry_AAC_related_het_variant --maf 0.05 --geno 0.01 --hwe 0.0001 --autosome --allow-no-sex --exclude /data/CARD/PD/GP2/raw_genotypes/coriell/plink/coriell_callrate_sex_ancestry_AAC_related_het_variant_palindromes.snplist --make-bed --out /data/CARD/PD/GP2/raw_genotypes/coriell/plink/coriell_callrate_sex_ancestry_AAC_related_het_variant_ancestry_prune1\n",
      "Executing: plink --bfile /data/CARD/PD/GP2/raw_genotypes/coriell/plink/coriell_callrate_sex_ancestry_AAC_related_het_variant_ancestry_prune1 --exclude range /data/LNG/vitaled2/1kgenomes/hg19_exclusion_regions.txt --autosome --allow-no-sex --make-bed --out /data/CARD/PD/GP2/raw_genotypes/coriell/plink/coriell_callrate_sex_ancestry_AAC_related_het_variant_ancestry_prune2\n"
     ]
    }
   ],
   "source": [
    "geno_ancestry_prune1 = f'{aac_geno}_ancestry_prune1'\n",
    "geno_ancestry_prune2 = f'{aac_geno}_ancestry_prune2'\n",
    "# geno_ancestry_prune3 = f'{geno_het}_ancestry_prune3'\n",
    "\n",
    "# prune geno_het for geno, maf, hwe, and palindromes\n",
    "bim = pd.read_csv(f'{aac_geno}.bim', sep='\\t', header=None)\n",
    "\n",
    "# find and drop palindromes in geno_het bim file\n",
    "bim.columns = ['chr', 'rsid', 'kb', 'pos', 'a1', 'a2']\n",
    "palindromes = bim.loc[((bim.a1 == 'A') & (bim.a2 == 'T')) | ((bim.a1 == 'T') & (bim.a2 == 'A')) | ((bim.a1 == 'C') & (bim.a2 == 'G')) | ((bim.a1 == 'G') & (bim.a2 == 'C'))]\n",
    "palindromes['rsid'].to_csv(f'{aac_geno}_palindromes.snplist', header=False, index=False, sep='\\t')\n",
    "\n",
    "plink_cmd1 = f'plink --bfile {aac_geno}\\\n",
    " --maf 0.05\\\n",
    " --geno 0.01\\\n",
    " --hwe 0.0001\\\n",
    " --autosome\\\n",
    " --allow-no-sex\\\n",
    " --exclude {aac_geno}_palindromes.snplist\\\n",
    " --make-bed\\\n",
    " --out {geno_ancestry_prune1}' \n",
    "\n",
    "#remove high-LD regions\n",
    "plink_cmd2 = f'plink --bfile {geno_ancestry_prune1}\\\n",
    " --exclude range {ref_dir_path}/hg19_exclusion_regions.txt\\\n",
    " --autosome\\\n",
    " --allow-no-sex\\\n",
    " --make-bed\\\n",
    " --out {geno_ancestry_prune2}'\n",
    "\n",
    "cmds = [plink_cmd1, plink_cmd2]\n",
    "\n",
    "for cmd in cmds:\n",
    "    shell_do(cmd)"
   ]
  },
  {
   "cell_type": "code",
   "execution_count": 32,
   "id": "652419eb-6df6-43f0-bc55-6ecdff2251e9",
   "metadata": {},
   "outputs": [],
   "source": [
    "# now get common snps between pruned ref panel and pruned geno\n",
    "geno_pruned_bim = pd.read_csv(f'{geno_ancestry_prune2}.bim', sep='\\t', header=None)\n",
    "geno_pruned_bim.columns = ['chr', 'rsid', 'kb', 'pos', 'a1', 'a2']\n",
    "ref_bim = pd.read_csv(f'{ref_panel}.bim', sep='\\t', header=None)\n",
    "ref_bim.columns = ['chr', 'rsid', 'kb', 'pos', 'a1', 'a2']\n",
    "\n",
    "common_snps = ref_bim.merge(geno_pruned_bim, how='inner', on=['rsid'])\n",
    "\n",
    "common_snps['rsid'].to_csv(f'{out_dir}/aac_geno_ref_panel_common.snps', sep='\\t', header=False, index=False)"
   ]
  },
  {
   "cell_type": "code",
   "execution_count": 38,
   "id": "6901bcea-71a8-4131-92c1-095dc723637f",
   "metadata": {},
   "outputs": [
    {
     "name": "stderr",
     "output_type": "stream",
     "text": [
      "Executing: plink --bfile /data/LNG/vitaled2/1kgenomes/1kg_ashkj_ref_panel_gp2_pruned --extract /data/CARD/PD/GP2/genotypes/coriell/clean/aac_geno_ref_panel_common.snps --make-bed --out /data/CARD/PD/GP2/genotypes/coriell/clean/aac_geno_ref_panel_common_snps\n"
     ]
    }
   ],
   "source": [
    "ref_panel_common_snps_geno_out = f'{out_dir}/aac_geno_ref_panel_common_snps'\n",
    "ref_panel_common_snps = f'{out_dir}/aac_geno_ref_panel_common.snps'\n",
    "\n",
    "ext_snps_cmd = f'plink --bfile {ref_panel} --extract {ref_panel_common_snps} --make-bed --out {ref_panel_common_snps_geno_out}'\n",
    "shell_do(ext_snps_cmd)"
   ]
  },
  {
   "cell_type": "code",
   "execution_count": 40,
   "id": "362c4d4f-d05c-4eac-b7a9-6e9f589b5139",
   "metadata": {},
   "outputs": [],
   "source": [
    "# get reference alleles from ref_panel_common_snps\n",
    "ref_panel_common_snps_ref_alleles = f'{ref_panel_common_snps_geno_out}.ref_allele'\n",
    "ref_panel_common_snps_bim = pd.read_csv(f'{ref_panel_common_snps_geno_out}.bim', header=None, sep='\\t')\n",
    "ref_panel_common_snps_bim.columns = ['chr', 'rsid', 'kb', 'pos', 'a1', 'a2']\n",
    "ref_panel_common_snps_bim[['rsid','a1']].to_csv(ref_panel_common_snps_ref_alleles, sep='\\t', header=False, index=False)"
   ]
  },
  {
   "cell_type": "code",
   "execution_count": 42,
   "id": "4a25b7f7-4351-429b-95f9-1eb665b0500c",
   "metadata": {},
   "outputs": [
    {
     "name": "stderr",
     "output_type": "stream",
     "text": [
      "Executing: plink --bfile /data/CARD/PD/GP2/raw_genotypes/coriell/plink/coriell_callrate_sex_ancestry_AAC_related_het_variant_ancestry_prune2 --extract /data/CARD/PD/GP2/genotypes/coriell/clean/aac_geno_ref_panel_common.snps --reference-allele /data/CARD/PD/GP2/genotypes/coriell/clean/aac_geno_ref_panel_common_snps.ref_allele --make-bed --out /data/CARD/PD/GP2/raw_genotypes/coriell/plink/coriell_callrate_sex_ancestry_AAC_related_het_variant_ancestry_prune2_common_snps\n"
     ]
    }
   ],
   "source": [
    "geno_common_snps = f'{geno_ancestry_prune2}_common_snps'\n",
    "\n",
    "ext_snps_cmd = f'plink --bfile {geno_ancestry_prune2} --extract {ref_panel_common_snps} --reference-allele {ref_panel_common_snps_ref_alleles} --make-bed --out {geno_common_snps}'\n",
    "shell_do(ext_snps_cmd)"
   ]
  },
  {
   "cell_type": "code",
   "execution_count": 45,
   "id": "acc34d0b-9ca1-41d5-a9ec-6c8a5407577f",
   "metadata": {},
   "outputs": [
    {
     "name": "stderr",
     "output_type": "stream",
     "text": [
      "Executing: plink --bfile /data/CARD/PD/GP2/raw_genotypes/coriell/plink/coriell_callrate_sex_ancestry_AAC_related_het_variant_ancestry_prune2_common_snps --allow-no-sex --bmerge /data/CARD/PD/GP2/genotypes/coriell/clean/aac_geno_ref_panel_common_snps --out /data/CARD/PD/GP2/raw_genotypes/coriell/plink/coriell_callrate_sex_ancestry_AAC_related_het_variant_ancestry_prune2_merged_ref --make-bed\n",
      "Executing: plink --bfile /data/CARD/PD/GP2/raw_genotypes/coriell/plink/coriell_callrate_sex_ancestry_AAC_related_het_variant_ancestry_prune2_common_snps --allow-no-sex --flip /data/CARD/PD/GP2/raw_genotypes/coriell/plink/coriell_callrate_sex_ancestry_AAC_related_het_variant_ancestry_prune2_merged_ref-merge.missnp --make-bed --out /data/CARD/PD/GP2/raw_genotypes/coriell/plink/coriell_callrate_sex_ancestry_AAC_related_het_variant_ancestry_prune2_common_snps_flip\n",
      "Executing: plink --bfile /data/CARD/PD/GP2/raw_genotypes/coriell/plink/coriell_callrate_sex_ancestry_AAC_related_het_variant_ancestry_prune2_common_snps_flip --allow-no-sex --bmerge /data/CARD/PD/GP2/genotypes/coriell/clean/aac_geno_ref_panel_common_snps --out /data/CARD/PD/GP2/raw_genotypes/coriell/plink/coriell_callrate_sex_ancestry_AAC_related_het_variant_ancestry_prune2_merged_ref_flip --make-bed\n"
     ]
    }
   ],
   "source": [
    "merged_ref_geno = f'{geno_ancestry_prune2}_merged_ref'\n",
    "\n",
    "merge_genos(geno_common_snps, ref_panel_common_snps_geno_out, merged_ref_geno)"
   ]
  },
  {
   "cell_type": "code",
   "execution_count": 55,
   "id": "044e9712-9d0b-428a-8da9-cc84b86d7b9a",
   "metadata": {},
   "outputs": [],
   "source": [
    "ancestry = pd.read_csv('/data/LNG/vitaled2/1kgenomes/ref_panel_ancestry.txt', sep='\\t', header=None, names=['FID','IID','label'])\n",
    "ref_fam = pd.read_csv(f'{ref_panel}.fam', sep=' ', header=None)\n",
    "ref_labeled = ref_fam.merge(ancestry, how='left', left_on=[0,1], right_on=['FID','IID'])"
   ]
  },
  {
   "cell_type": "code",
   "execution_count": 76,
   "id": "7771a59c-2a56-481d-954e-0830fbfad381",
   "metadata": {},
   "outputs": [],
   "source": [
    "geno_common_snps_df = pd.read_csv(f'{geno_common_snps}.fam', header=None, sep='\\s+', usecols=[0,1], names=['FID','IID'])\n",
    "geno_common_snps_df.loc[:,'label'] = 'new'\n",
    "fs_labels = geno_common_snps_df.append(ref_labeled.loc[:,['FID','IID','label']])\n",
    "fs_labels.to_csv(f'{merged_ref_geno}.labels', sep='\\t', index=False)"
   ]
  },
  {
   "cell_type": "code",
   "execution_count": 77,
   "id": "1257371b-52b0-4f9e-9ec1-96699d281ea0",
   "metadata": {},
   "outputs": [],
   "source": [
    "\n",
    "ancestry_labels = f'{merged_ref_geno}.labels'\n",
    "structure_out = f'{merged_ref_geno}_structure'\n",
    "# fam = pd.read_csv(f'{ref_panel_prune_final}.fam', sep=' ', header=None)\n",
    "structure = f'/data/vitaled2/ref_panel/fastStructure/structure.py'\n",
    "\n",
    "\n",
    "# run for k=1-8 and use chooseK.py to select best\n",
    "fs_swarm_script = f'{out_dir}/faststructure_choosek.swarm'\n",
    "with open(fs_swarm_script, 'w') as f:\n",
    "    k=8\n",
    "    fs_cmd = f'bash /data/vitaled2/GWAS/gwas/faststructure_setup_and_run.sh -i {merged_ref_geno} -o {structure_out} -f {structure} -k {k}'\n",
    "    f.write(f'{fs_cmd}\\n')\n",
    "f.close()"
   ]
  },
  {
   "cell_type": "code",
   "execution_count": 79,
   "id": "a8624d45-e2b2-4df4-bab2-bbc33c31e78a",
   "metadata": {},
   "outputs": [
    {
     "name": "stderr",
     "output_type": "stream",
     "text": [
      "Executing: swarm -f /data/CARD/PD/GP2/genotypes/coriell/clean/faststructure_choosek.swarm -g 16 --time=10:00:00 -t 20 --logdir /data/LNG/vitaled2/1kgenomes/swarm --partition=norm\n"
     ]
    }
   ],
   "source": [
    "shell_do(f'swarm -f {fs_swarm_script} -g 16 --time=10:00:00 -t 20 --logdir {ref_dir_path}/swarm --partition=norm')"
   ]
  },
  {
   "cell_type": "code",
   "execution_count": 81,
   "id": "2faa0352-ac8b-48e8-9eda-90c55e12071b",
   "metadata": {},
   "outputs": [],
   "source": [
    "fam = pd.read_csv(f'{merged_ref_geno}.fam', sep=' ', header=None)\n",
    "pop = pd.read_csv(f'{merged_ref_geno}.labels', sep='\\t')\n",
    "q_df = pd.read_csv(f'{structure_out}.8.meanQ', header=None, sep='\\s+')\n",
    "q_df.columns = [f'pop{i}' for i in range(len(q_df.columns))]"
   ]
  },
  {
   "cell_type": "code",
   "execution_count": 87,
   "id": "c5f1c58d-17c2-4530-aa0a-6675d76e83a3",
   "metadata": {},
   "outputs": [],
   "source": [
    "q_df['FID'], q_df['IID'] = fam[0], fam[1]\n",
    "q_pop_merged = q_df.merge(pop, left_on=['FID','IID'], right_on=['FID','IID'])"
   ]
  },
  {
   "cell_type": "code",
   "execution_count": 91,
   "id": "7d092753-a588-4c4c-b709-4e08a8292b7f",
   "metadata": {},
   "outputs": [],
   "source": [
    "q_pop_merged.to_csv(f'{out_dir}/aac_samples_labeled_faststructure.txt', sep='\\t', header=True, index=False)"
   ]
  },
  {
   "cell_type": "code",
   "execution_count": 93,
   "id": "081ed410-5bee-4d4d-928a-832e51ea6597",
   "metadata": {},
   "outputs": [
    {
     "data": {
      "text/plain": [
       "'/data/CARD/PD/GP2/genotypes/coriell/clean/aac_samples_labeled_faststructure.txt'"
      ]
     },
     "execution_count": 93,
     "metadata": {},
     "output_type": "execute_result"
    }
   ],
   "source": [
    "f'{out_dir}/aac_samples_labeled_faststructure.txt'"
   ]
  },
  {
   "cell_type": "code",
   "execution_count": 97,
   "id": "a60ff86c-58f8-4250-9600-3e81d32c9e83",
   "metadata": {},
   "outputs": [
    {
     "data": {
      "text/plain": [
       "0.8523977872340425"
      ]
     },
     "execution_count": 97,
     "metadata": {},
     "output_type": "execute_result"
    }
   ],
   "source": []
  },
  {
   "cell_type": "code",
   "execution_count": null,
   "id": "ee2f95d0-2073-457e-a66f-3dfeb47eae52",
   "metadata": {},
   "outputs": [],
   "source": []
  }
 ],
 "metadata": {
  "kernelspec": {
   "display_name": "python/3.7",
   "language": "python",
   "name": "py3.7"
  },
  "language_info": {
   "codemirror_mode": {
    "name": "ipython",
    "version": 3
   },
   "file_extension": ".py",
   "mimetype": "text/x-python",
   "name": "python",
   "nbconvert_exporter": "python",
   "pygments_lexer": "ipython3",
   "version": "3.7.5"
  }
 },
 "nbformat": 4,
 "nbformat_minor": 5
}
