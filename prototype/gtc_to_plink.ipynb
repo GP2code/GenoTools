{
 "metadata": {
  "language_info": {
   "codemirror_mode": {
    "name": "ipython",
    "version": 3
   },
   "file_extension": ".py",
   "mimetype": "text/x-python",
   "name": "python",
   "nbconvert_exporter": "python",
   "pygments_lexer": "ipython3",
   "version": 3
  },
  "orig_nbformat": 2
 },
 "nbformat": 4,
 "nbformat_minor": 2,
 "cells": [
  {
   "cell_type": "code",
   "execution_count": null,
   "metadata": {},
   "outputs": [],
   "source": [
    "import pandas as pd\n",
    "import os\n",
    "import shutil"
   ]
  },
  {
   "cell_type": "code",
   "execution_count": null,
   "metadata": {},
   "outputs": [],
   "source": [
    "# clone ILMN GTCtoVCF github repo\n",
    "# !git clone https://github.com/Illumina/GTCtoVCF.git\n",
    "# get hg38 reference\n",
    "# !wget https://ftp.ncbi.nlm.nih.gov/genomes/all/GCF/000/001/405/GCF_000001405.26_GRCh38/GCF_000001405.26_GRCh38_genomic.fna.gz -P ref_data\n",
    "# !gunzip ref_data/GCF_000001405.26_GRCh38_genomic.fna.gz"
   ]
  },
  {
   "cell_type": "code",
   "execution_count": null,
   "metadata": {},
   "outputs": [],
   "source": [
    "basedir = '/data/CARD/PD/GP2/raw_genotypes'\n",
    "out_genotypes = '/data/CARD/PD/GP2/genotypes'\n",
    "shulman_ny_path = f'{basedir}/shulman_ny'\n",
    "gtc_file_path = f'{shulman_ny_path}/GP2_GCT_files'\n",
    "idat_file_path = f'{shulman_ny_path}/GP2_Shulman'\n",
    "key_file = f'{gtc_file_path}/Key File_FINAL_Shulman_and_NY_011421.txt'\n",
    "manifest_txt_path = f'{gtc_file_path}/FINALSS_after_rerun__Shulman_and_NY_011421.csv'\n",
    "bpm = f'{gtc_file_path}/NeuroBooster_20042459_A1.bpm'\n",
    "cluster_file = f'{gtc_file_path}/NBSCluster_file_n1393_011921.egt'\n",
    "\n",
    "#software paths\n",
    "GTCtoVCF = 'GTCtoVCF/gtc_to_vcf.py'\n",
    "iaap = 'iaap-cli-linux-x64-1.1.0-sha.80d7e5b3d9c1fdfc2e99b472a90652fd3848bbc7/iaap-cli/iaap-cli'\n",
    "\n",
    "ref_fasta = 'ref_data/hg38_ref.fa'\n",
    "shulman_gtc_path = f'{basedir}/SHULMAN/gtc_files'\n",
    "shulman_idat_path = f'{basedir}/SHULMAN/idats'\n",
    "shulman_out = f'{out_genotypes}/SHULMAN'\n",
    "ny_gtc_path = f'{basedir}/NY/gtc_files'\n",
    "ny_idat_path = f'{basedir}/NY/idats'\n",
    "ny_out = f'{out_genotypes}/NY'"
   ]
  },
  {
   "cell_type": "code",
   "execution_count": null,
   "metadata": {},
   "outputs": [],
   "source": [
    "manifest = pd.read_csv(manifest_txt_path, header=10)"
   ]
  },
  {
   "cell_type": "code",
   "execution_count": null,
   "metadata": {},
   "outputs": [],
   "source": [
    "# create new directories to store split cohorts\n",
    "!mkdir {basedir}/SHULMAN\n",
    "!mkdir {basedir}/NY\n",
    "!mkdir {basedir}/SHULMAN/gtc_files\n",
    "!mkdir {basedir}/NY/gtc_files\n",
    "!mkdir {basedir}/SHULMAN/idats\n",
    "!mkdir {basedir}/NY/idats\n",
    "!mkdir {out_genotypes}\n",
    "!mkdir {out_genotypes}/SHULMAN\n",
    "!mkdir {out_genotypes}/SHULMAN/vcfs\n",
    "!mkdir {out_genotypes}/SHULMAN/iaap_called_gtcs\n",
    "!mkdir {out_genotypes}/SHULMAN/ped\n",
    "!mkdir {out_genotypes}/NY\n",
    "!mkdir {out_genotypes}/NY/vcfs\n",
    "!mkdir {out_genotypes}/NY/iaap_called_gtcs\n",
    "!mkdir {out_genotypes}/NY/ped\n",
    "!mkdir {shulman_out}/plink\n",
    "!mkdir {ny_out}/plink"
   ]
  },
  {
   "cell_type": "code",
   "execution_count": null,
   "metadata": {},
   "outputs": [],
   "source": [
    "# create filenaames and split manifest into respective cohorts\n",
    "manifest['filename'] = manifest['SentrixBarcode_A'].astype(str) + '_' + manifest['SentrixPosition_A']\n",
    "shulman = manifest.loc[manifest.Study == 'Shulman']\n",
    "ny = manifest.loc[manifest.Study == 'NY']"
   ]
  },
  {
   "cell_type": "code",
   "execution_count": null,
   "metadata": {},
   "outputs": [],
   "source": [
    "# copy gtc files to respective directories\n",
    "for filename in shulman.filename:\n",
    "    shutil.copyfile(src=f'{gtc_file_path}/{filename}.gtc',dst=f'{basedir}/SHULMAN/gtc_files/{filename}.gtc')\n",
    "for filename in ny.filename:\n",
    "    shutil.copyfile(src=f'{gtc_file_path}/{filename}.gtc',dst=f'{basedir}/NY/gtc_files/{filename}.gtc')"
   ]
  },
  {
   "cell_type": "code",
   "execution_count": null,
   "metadata": {},
   "outputs": [],
   "source": [
    "# swarm command to run in parallel\n",
    "with open('shulman_gtc_to_vcf.swarm','w') as f:\n",
    "    \n",
    "    for filename in shulman.filename:\n",
    "        \n",
    "        shulman_gtc_to_vcf_cmd = f'\\\n",
    "python3 {GTCtoVCF} \\\n",
    "--gtc-paths {shulman_gtc_path}/{filename}.gtc \\\n",
    "--manifest-file {bpm} \\\n",
    "--genome-fasta-file {ref_fasta} \\\n",
    "--output-vcf-path {shulman_out}/vcfs/{filename}.vcf \\\n",
    "--skip-indels'\n",
    "        \n",
    "        f.write(f'{shulman_gtc_to_vcf_cmd}\\n')\n",
    "f.close()"
   ]
  },
  {
   "cell_type": "code",
   "execution_count": null,
   "metadata": {},
   "outputs": [],
   "source": [
    "# !swarm -f shulman_gtc_to_vcf.swarm -g 16 -t 16 --time=10:00:00 --logdir swarm --gres=lscratch:20 --partition=norm"
   ]
  },
  {
   "cell_type": "code",
   "execution_count": null,
   "metadata": {},
   "outputs": [],
   "source": [
    "# swarm command to run in parallel\n",
    "with open('ny_gtc_to_vcf.swarm','w') as f:\n",
    "    \n",
    "    for filename in ny.filename:\n",
    "        \n",
    "        ny_gtc_to_vcf_cmd = f'\\\n",
    "python3 {GTCtoVCF} \\\n",
    "--gtc-paths {ny_gtc_path}/{filename}.gtc \\\n",
    "--manifest-file {bpm} \\\n",
    "--genome-fasta-file {ref_fasta} \\\n",
    "--output-vcf-path {ny_out}/vcfs/{filename}.vcf \\\n",
    "--skip-indels'\n",
    "        \n",
    "        f.write(f'{ny_gtc_to_vcf_cmd}\\n')\n",
    "f.close()"
   ]
  },
  {
   "cell_type": "code",
   "execution_count": null,
   "metadata": {},
   "outputs": [],
   "source": [
    "# !swarm -f ny_gtc_to_vcf.swarm -g 16 -t 16 --time=10:00:00 --logdir swarm --gres=lscratch:20 --partition=norm"
   ]
  },
  {
   "cell_type": "code",
   "execution_count": null,
   "metadata": {},
   "outputs": [],
   "source": [
    "# use picard to merge vcfs\n",
    "# create vcf_list\n",
    "with open('vcf.list','w') as f:\n",
    "    \n",
    "    for filename in shulman.filename:\n",
    "        \n",
    "        f.write(f'{shulman_out}/vcfs/{filename}.vcf\\n')\n",
    "\n",
    "f.close()\n",
    "\n",
    "# write picard batch job\n",
    "with open('merge_vcfs.sh','w') as f:\n",
    "    f.write(f'#!/bin/bash\\n\\\n",
    "set -e\\n\\\n",
    "module load picard\\n\\\n",
    "java -Xmx4g -XX:ParallelGCThreads=16 -jar $PICARDJARPATH/picard.jar CombineGenotypingArrayVcfs I=vcf.list O={shulman_out}/vcfs/shulman_merged.vcf')\n",
    "f.close()"
   ]
  },
  {
   "cell_type": "code",
   "execution_count": null,
   "metadata": {},
   "outputs": [],
   "source": [
    "# !swarm -f shulman_vcf_to_bed.swarm -g 32 -t 16 --time=10:00:00 --logdir swarm --gres=lscratch:20 --module plink --partition=norm\n",
    "# !sbatch --cpus-per-task=32 merge_vcfs.sh"
   ]
  },
  {
   "cell_type": "code",
   "execution_count": null,
   "metadata": {},
   "outputs": [],
   "source": [
    "# # swarm command to run in parallel\n",
    "with open('shulman_idat_to_gtc.swarm','w') as f:\n",
    "    \n",
    "    for code in shulman.SentrixBarcode_A.unique():\n",
    "        \n",
    "        shulman_idat_to_gtc_cmd = f'\\\n",
    "{iaap} gencall \\\n",
    "{bpm} \\\n",
    "{cluster_file} \\\n",
    "{shulman_out}/iaap_called_gtcs/ \\\n",
    "-f {shulman_idat_path}/{code} \\\n",
    "-g \\\n",
    "-t 16'\n",
    "        \n",
    "        f.write(f'{shulman_idat_to_gtc_cmd}\\n')\n",
    "f.close()"
   ]
  }
 ]
}